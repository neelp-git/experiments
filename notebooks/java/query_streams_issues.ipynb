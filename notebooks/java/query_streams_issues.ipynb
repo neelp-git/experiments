{
 "cells": [
  {
   "cell_type": "markdown",
   "metadata": {
    "toc": true
   },
   "source": [
    "<h1>Table of Contents<span class=\"tocSkip\"></span></h1>\n",
    "<div class=\"toc\"><ul class=\"toc-item\"><li><span><a href=\"#Processing-Query-Results-as-a-Stream-of-Records\" data-toc-modified-id=\"Processing-Query-Results-as-a-Stream-of-Records-1\"><span class=\"toc-item-num\">1&nbsp;&nbsp;</span>Processing Query Results as a Stream of Records</a></span><ul class=\"toc-item\"><li><span><a href=\"#Introduction\" data-toc-modified-id=\"Introduction-1.1\"><span class=\"toc-item-num\">1.1&nbsp;&nbsp;</span>Introduction</a></span></li><li><span><a href=\"#Prerequisites\" data-toc-modified-id=\"Prerequisites-1.2\"><span class=\"toc-item-num\">1.2&nbsp;&nbsp;</span>Prerequisites</a></span></li><li><span><a href=\"#Setup\" data-toc-modified-id=\"Setup-1.3\"><span class=\"toc-item-num\">1.3&nbsp;&nbsp;</span>Setup</a></span><ul class=\"toc-item\"><li><span><a href=\"#Ensure-database-is-running\" data-toc-modified-id=\"Ensure-database-is-running-1.3.1\"><span class=\"toc-item-num\">1.3.1&nbsp;&nbsp;</span>Ensure database is running</a></span></li><li><span><a href=\"#Download-and-install-additional-components.\" data-toc-modified-id=\"Download-and-install-additional-components.-1.3.2\"><span class=\"toc-item-num\">1.3.2&nbsp;&nbsp;</span>Download and install additional components.</a></span></li><li><span><a href=\"#Initialize-Client\" data-toc-modified-id=\"Initialize-Client-1.3.3\"><span class=\"toc-item-num\">1.3.3&nbsp;&nbsp;</span>Initialize Client</a></span><ul class=\"toc-item\"><li><span><a href=\"#Initialize-event-loops-for-async-processing-mode\" data-toc-modified-id=\"Initialize-event-loops-for-async-processing-mode-1.3.3.1\"><span class=\"toc-item-num\">1.3.3.1&nbsp;&nbsp;</span>Initialize event loops for async processing mode</a></span></li><li><span><a href=\"#Initialize-client-with-event-loops\" data-toc-modified-id=\"Initialize-client-with-event-loops-1.3.3.2\"><span class=\"toc-item-num\">1.3.3.2&nbsp;&nbsp;</span>Initialize client with event loops</a></span></li></ul></li><li><span><a href=\"#Includes-and-Constants\" data-toc-modified-id=\"Includes-and-Constants-1.3.4\"><span class=\"toc-item-num\">1.3.4&nbsp;&nbsp;</span>Includes and Constants</a></span></li><li><span><a href=\"#Populate-Test-Data.\" data-toc-modified-id=\"Populate-Test-Data.-1.3.5\"><span class=\"toc-item-num\">1.3.5&nbsp;&nbsp;</span>Populate Test Data.</a></span></li><li><span><a href=\"#Create-Indexes\" data-toc-modified-id=\"Create-Indexes-1.3.6\"><span class=\"toc-item-num\">1.3.6&nbsp;&nbsp;</span>Create Indexes</a></span><ul class=\"toc-item\"><li><span><a href=\"#Create-Secondary-Index\" data-toc-modified-id=\"Create-Secondary-Index-1.3.6.1\"><span class=\"toc-item-num\">1.3.6.1&nbsp;&nbsp;</span>Create Secondary Index</a></span></li><li><span><a href=\"#Create-Set-Index\" data-toc-modified-id=\"Create-Set-Index-1.3.6.2\"><span class=\"toc-item-num\">1.3.6.2&nbsp;&nbsp;</span>Create Set Index</a></span></li></ul></li></ul></li><li><span><a href=\"#Define-Convenience-Functions\" data-toc-modified-id=\"Define-Convenience-Functions-1.4\"><span class=\"toc-item-num\">1.4&nbsp;&nbsp;</span>Define Convenience Functions</a></span></li></ul></li><li><span><a href=\"#Issue:-After-Key-Cursor-Does-Not-Behave-As-Expected-with-Sindex-Query\" data-toc-modified-id=\"Issue:-After-Key-Cursor-Does-Not-Behave-As-Expected-with-Sindex-Query-2\"><span class=\"toc-item-num\">2&nbsp;&nbsp;</span>Issue: After-Key Cursor Does Not Behave As Expected with Sindex Query</a></span><ul class=\"toc-item\"><li><span><a href=\"#After-key-with-Sindex-Query\" data-toc-modified-id=\"After-key-with-Sindex-Query-2.1\"><span class=\"toc-item-num\">2.1&nbsp;&nbsp;</span>After-key with Sindex Query</a></span></li><li><span><a href=\"#After-key-with-Set-Index-and-Primary-Index-Queries\" data-toc-modified-id=\"After-key-with-Set-Index-and-Primary-Index-Queries-2.2\"><span class=\"toc-item-num\">2.2&nbsp;&nbsp;</span>After-key with Set Index and Primary Index Queries</a></span></li></ul></li><li><span><a href=\"#Issue:-All-records-must-be-read-in-sync-mode-for-cursors-to-behave-correctly-for-the-next-retrieval.\" data-toc-modified-id=\"Issue:-All-records-must-be-read-in-sync-mode-for-cursors-to-behave-correctly-for-the-next-retrieval.-3\"><span class=\"toc-item-num\">3&nbsp;&nbsp;</span>Issue: All records must be read in sync mode for cursors to behave correctly for the next retrieval.</a></span></li><li><span><a href=\"#Issue:-Even-when-all-records-are-read-from-the-stream,-it-may-not-work-when-cursors-are-set-in-another-query.\" data-toc-modified-id=\"Issue:-Even-when-all-records-are-read-from-the-stream,-it-may-not-work-when-cursors-are-set-in-another-query.-4\"><span class=\"toc-item-num\">4&nbsp;&nbsp;</span>Issue: Even when all records are read from the stream, it may not work when cursors are set in another query.</a></span></li></ul></div>"
   ]
  },
  {
   "cell_type": "markdown",
   "metadata": {},
   "source": [
    "# Processing Query Results as a Stream of Records\n",
    "This tutorial shows processing of query results as a stream of records, and related capabilities. \n",
    "\n",
    "This notebook requires the Aerospike Database running locally with Java kernel and Aerospike Java Client. To create a Docker container that satisfies the requirements and holds a copy of Aerospike notebooks, visit the [Aerospike Notebooks Repo](https://github.com/aerospike-examples/interactive-notebooks)."
   ]
  },
  {
   "cell_type": "markdown",
   "metadata": {},
   "source": [
    "## Introduction\n",
    "The notebook shows how to:\n",
    "- process query results as a stream of records, \n",
    "- paginate over results,  \n",
    "- partition a query for parallelism, and\n",
    "- resume query execution at a later time.\n",
    "\n",
    "Please refer to the adjunct blog post [Working with Query Result Streams](https://developer.aerospike.com/blog/query_streams) for additional discussion."
   ]
  },
  {
   "cell_type": "markdown",
   "metadata": {},
   "source": [
    "## Prerequisites\n",
    "This tutorial assumes familiarity with the following topics:\n",
    "- [Hello World](hello_world.ipynb)"
   ]
  },
  {
   "cell_type": "markdown",
   "metadata": {},
   "source": [
    "## Setup"
   ]
  },
  {
   "cell_type": "markdown",
   "metadata": {},
   "source": [
    "### Ensure database is running\n",
    "This notebook requires that Aerospike database is running. "
   ]
  },
  {
   "cell_type": "code",
   "execution_count": 1,
   "metadata": {},
   "outputs": [],
   "source": [
    "import io.github.spencerpark.ijava.IJava;\n",
    "import io.github.spencerpark.jupyter.kernel.magic.common.Shell;\n",
    "IJava.getKernelInstance().getMagics().registerMagics(Shell.class);\n",
    "%sh asd"
   ]
  },
  {
   "cell_type": "markdown",
   "metadata": {},
   "source": [
    "### Download and install additional components.\n",
    "Install the Java client."
   ]
  },
  {
   "cell_type": "code",
   "execution_count": 2,
   "metadata": {},
   "outputs": [],
   "source": [
    "%%loadFromPOM\n",
    "<dependencies>\n",
    "  <dependency>\n",
    "    <groupId>com.aerospike</groupId>\n",
    "    <artifactId>aerospike-client</artifactId>\n",
    "    <version>6.1.0</version>\n",
    "  </dependency>\n",
    "</dependencies>"
   ]
  },
  {
   "cell_type": "markdown",
   "metadata": {},
   "source": [
    "### Initialize Client\n",
    "Initialize the client that can be used for both sync and async processing modes."
   ]
  },
  {
   "cell_type": "markdown",
   "metadata": {},
   "source": [
    "#### Initialize event loops for async processing mode\n",
    "We will use async processing using NIO event loops, but the other event loop types may also be used. The event loops initialization is needed only if asynchronous API calls are used."
   ]
  },
  {
   "cell_type": "code",
   "execution_count": 3,
   "metadata": {},
   "outputs": [
    {
     "name": "stdout",
     "output_type": "stream",
     "text": [
      "Throttles initialized for 2 loops with 50 concurrent operations per loop.\n"
     ]
    }
   ],
   "source": [
    "import java.util.concurrent.atomic.AtomicInteger;\n",
    "import com.aerospike.client.async.EventPolicy;\n",
    "import com.aerospike.client.async.EventLoops;\n",
    "import com.aerospike.client.async.EventLoop;\n",
    "import com.aerospike.client.async.Throttles;\n",
    "import com.aerospike.client.async.Monitor;\n",
    "import com.aerospike.client.async.NioEventLoops;\n",
    "import com.aerospike.client.listener.RecordSequenceListener;\n",
    "\n",
    "// initialize event loops \n",
    "final int NumLoops = 2;\n",
    "final int CommandsPerEventLoop = 50;\n",
    "final int DelayQueueSize = 50;\n",
    "\n",
    "EventPolicy eventPolicy = new EventPolicy();\n",
    "eventPolicy.maxCommandsInProcess = CommandsPerEventLoop;\n",
    "eventPolicy.maxCommandsInQueue = DelayQueueSize;\n",
    "EventLoops eventLoops = new NioEventLoops(eventPolicy, NumLoops);\n",
    "\n",
    "// initialize event loop throttles\n",
    "Throttles throttles = new Throttles(NumLoops, CommandsPerEventLoop);\n",
    "\n",
    "System.out.format(\"Throttles initialized for %s loops with %s concurrent operations per loop.\\n\", \n",
    "                    NumLoops, CommandsPerEventLoop);;\n"
   ]
  },
  {
   "cell_type": "markdown",
   "metadata": {},
   "source": [
    "#### Initialize client with event loops"
   ]
  },
  {
   "cell_type": "code",
   "execution_count": 4,
   "metadata": {},
   "outputs": [
    {
     "name": "stdout",
     "output_type": "stream",
     "text": [
      "Initialized the client and connected to the cluster.\n"
     ]
    }
   ],
   "source": [
    "import com.aerospike.client.AerospikeClient;\n",
    "import com.aerospike.client.Host;\n",
    "import com.aerospike.client.policy.ClientPolicy;\n",
    "\n",
    "ClientPolicy clientPolicy = new ClientPolicy();\n",
    "\n",
    "// needed only if async apis are used\n",
    "clientPolicy.eventLoops = eventLoops;\n",
    "int concurrentMax = CommandsPerEventLoop * NumLoops;\n",
    "if (clientPolicy.maxConnsPerNode < concurrentMax) {\n",
    "   clientPolicy.maxConnsPerNode = concurrentMax; \n",
    "}\n",
    "\n",
    "// initialize the client \n",
    "Host[] hosts = Host.parseHosts(\"localhost\", 3000); \n",
    "AerospikeClient client = new AerospikeClient(clientPolicy, hosts);\n",
    "\n",
    "System.out.println(\"Initialized the client and connected to the cluster.\");;"
   ]
  },
  {
   "cell_type": "markdown",
   "metadata": {},
   "source": [
    "### Includes and Constants"
   ]
  },
  {
   "cell_type": "code",
   "execution_count": 5,
   "metadata": {},
   "outputs": [],
   "source": [
    "import com.aerospike.client.AerospikeException;\n",
    "import com.aerospike.client.Bin;\n",
    "import com.aerospike.client.Key;\n",
    "import com.aerospike.client.policy.WritePolicy;\n",
    "import com.aerospike.client.query.Filter;\n",
    "import com.aerospike.client.query.PartitionFilter;\n",
    "import com.aerospike.client.query.PartitionStatus;\n",
    "import com.aerospike.client.query.RecordSet;\n",
    "import com.aerospike.client.query.Statement;\n",
    "import com.aerospike.client.Record;\n",
    "import com.aerospike.client.exp.Exp;\n",
    "import com.aerospike.client.policy.Policy;\n",
    "import com.aerospike.client.policy.QueryPolicy;\n",
    "import com.aerospike.client.query.IndexType;\n",
    "import com.aerospike.client.task.IndexTask;\n",
    "import com.aerospike.client.ResultCode;\n",
    "import com.aerospike.client.Operation;\n",
    "import com.aerospike.client.Value;\n",
    "\n",
    "final String Namespace = \"test\";\n",
    "final String SetIndexed = \"indexed\";\n",
    "final String SetUnindexed = \"unindexed\";\n",
    "final String KeyPrefix = \"id-\";\n",
    "final Integer NumRecords = 10000; \n"
   ]
  },
  {
   "cell_type": "markdown",
   "metadata": {},
   "source": [
    "### Populate Test Data.\n",
    "The test data consists of NumRecords records in each set, each with a user key \"id-\\<i\\>\", an integer bin \"bin1\" with value i, and another integer bin with value 10*i, where 1 \\<= i \\<= NumRecords. \n",
    "\n",
    "The set SetIndexed has a set index and an integer secondary index on \"bin1\". The set SetUnindexed has no set or secondary index, and is used to illustrate primary index query functionality."
   ]
  },
  {
   "cell_type": "code",
   "execution_count": 6,
   "metadata": {},
   "outputs": [
    {
     "name": "stdout",
     "output_type": "stream",
     "text": [
      "Test data populated.\n"
     ]
    }
   ],
   "source": [
    "// convenience function to truncate test data\n",
    "void truncateTestData() {\n",
    "    try {\n",
    "        client.truncate(null, Namespace, null, null);\n",
    "    }\n",
    "    catch (AerospikeException e) {\n",
    "        // ignore\n",
    "    }\n",
    "}\n",
    "\n",
    "// convenience function to initialize test data\n",
    "void initializeTestData() {\n",
    "    truncateTestData();\n",
    "    WritePolicy wPolicy = new WritePolicy(client.writePolicyDefault);\n",
    "    wPolicy.sendKey = true;\n",
    "    for (int i=0; i < NumRecords; i++) {\n",
    "        Bin bin1 = new Bin(\"bin1\", i+1);\n",
    "        Bin bin2 = new Bin(\"bin2\", 10*(i+1));\n",
    "        Key key1 = new Key(Namespace, SetIndexed, KeyPrefix+(i+1));\n",
    "        Key key2 = new Key(Namespace, SetUnindexed, KeyPrefix+(i+1));\n",
    "        try {\n",
    "            client.put(wPolicy, key1, bin1, bin2);\n",
    "            client.put(wPolicy, key2, bin1, bin2);\n",
    "        }\n",
    "        catch (AerospikeException e) {\n",
    "           System.out.format(\"%s\", e);\n",
    "        } \n",
    "    }\n",
    "}\n",
    "initializeTestData();\n",
    "System.out.println(\"Test data populated.\");;"
   ]
  },
  {
   "cell_type": "markdown",
   "metadata": {},
   "source": [
    "### Create Indexes\n",
    "The system defined primary index already exists for the namespace. We will create a secondary index and a set index on the set SetIndexed in order to show a secondary index and set index query (scan) capabilities using this set.\n",
    "\n",
    "The set SetUnindexed does not have a secondary or set index, which means a query (scan) of this set must use the primary index. We will use this set to show the primary index query (scan) capabilities."
   ]
  },
  {
   "cell_type": "markdown",
   "metadata": {},
   "source": [
    "#### Create Secondary Index"
   ]
  },
  {
   "cell_type": "code",
   "execution_count": 7,
   "metadata": {},
   "outputs": [
    {
     "name": "stdout",
     "output_type": "stream",
     "text": [
      "Created index idx_indexed_bin1_number on ns=test set=indexed bin=bin1."
     ]
    }
   ],
   "source": [
    "final String IndexName = \"idx_indexed_bin1_number\";\n",
    "\n",
    "try {\n",
    "    IndexTask task = client.createIndex(null, Namespace, SetIndexed, IndexName, \n",
    "                                        \"bin1\", IndexType.NUMERIC);\n",
    "    task.waitTillComplete();\n",
    "}\n",
    "catch (AerospikeException ae) {\n",
    "    if (ae.getResultCode() != ResultCode.INDEX_ALREADY_EXISTS) {\n",
    "        throw ae;\n",
    "    }\n",
    "}\n",
    "\n",
    "System.out.format(\"Created index %s on ns=%s set=%s bin=%s.\", \n",
    "                                    IndexName, Namespace, SetIndexed, \"bin1\");;"
   ]
  },
  {
   "cell_type": "markdown",
   "metadata": {},
   "source": [
    "#### Create Set Index"
   ]
  },
  {
   "cell_type": "code",
   "execution_count": 8,
   "metadata": {},
   "outputs": [
    {
     "name": "stdout",
     "output_type": "stream",
     "text": [
      "Set index created on set 'indexed'.\n"
     ]
    }
   ],
   "source": [
    "// Enable set index on the set 'indexed'.\n",
    "%sh asinfo -v \"set-config:context=namespace;id=test;set=indexed;enable-index=true\"\n",
    "System.out.println(\"Set index created on set 'indexed'.\");;"
   ]
  },
  {
   "cell_type": "markdown",
   "metadata": {},
   "source": [
    "## Define Convenience Functions\n",
    "Define convenience functions to process results, which simply involves printing them. "
   ]
  },
  {
   "cell_type": "code",
   "execution_count": 9,
   "metadata": {},
   "outputs": [],
   "source": [
    "// a convenience function to process a record which simply prints its user key and bins\n",
    "void processRecord(Key key, Record rec) {\n",
    "    System.out.format(\"Record key: %s, bins: %s\\n\", key.userKey, rec.bins);             \n",
    "}\n",
    "\n",
    "// a convenience function to process results \n",
    "void processResults(RecordSet rs) {\n",
    "    int recs = 0;\n",
    "    try {\n",
    "        while (rs.next()) {\n",
    "            recs++;\n",
    "            Key key = rs.getKey();\n",
    "            Record rec = rs.getRecord();\n",
    "            processRecord(key, rec);\n",
    "        }\n",
    "    }\n",
    "    finally {\n",
    "        rs.close();\n",
    "    }  \n",
    "}"
   ]
  },
  {
   "cell_type": "markdown",
   "metadata": {},
   "source": [
    "# Issue: After-Key Cursor Does Not Behave As Expected with Sindex Query\n",
    "A secondary index query results include the cursor record `after(key)`, which they should not. A set and primary index queries return partition records after the record (as expected).\n",
    "\n",
    "Below, the after-key cursor is set in sindex, set index, and primary index queries. \n",
    "\n",
    "Each query should retrieve results in that one partition **after** the key. Note, however, that the sindex query results include the record with the key. This is a bug.\n"
   ]
  },
  {
   "cell_type": "markdown",
   "metadata": {},
   "source": [
    "## After-key with Sindex Query\n",
    "Note the \"after-key\" record with key=\"id-260\" IS returned in the results. "
   ]
  },
  {
   "cell_type": "code",
   "execution_count": 10,
   "metadata": {},
   "outputs": [
    {
     "name": "stdout",
     "output_type": "stream",
     "text": [
      "Sindex query results after key id-260: \n",
      "Record key: id-260, bins: {bin1=260, bin2=2600}\n",
      "Record key: id-2176, bins: {bin1=2176, bin2=21760}\n",
      "Record key: id-2426, bins: {bin1=2426, bin2=24260}\n",
      "Record key: id-4124, bins: {bin1=4124, bin2=41240}\n"
     ]
    }
   ],
   "source": [
    "// set the cursor after a record  \n",
    "QueryPolicy qPolicy = new QueryPolicy();\n",
    "// query statement defines contents of query results\n",
    "Statement stmt = new Statement();\n",
    "stmt.setNamespace(Namespace);\n",
    "stmt.setSetName(SetIndexed);\n",
    "stmt.setMaxRecords(10);\n",
    "\n",
    "System.out.format(\"Sindex query results after key id-260: \\n\");\n",
    "stmt.setFilter(Filter.range(\"bin1\", 1, 10000)); // entire range; range filter uses the secondary index on bin1\n",
    "Key key = new Key(Namespace, SetIndexed, \"id-260\"); \n",
    "PartitionFilter pFilter = PartitionFilter.after(key);\n",
    "RecordSet rs = client.queryPartitions(qPolicy, stmt, pFilter);\n",
    "// process record stream\n",
    "processResults(rs);"
   ]
  },
  {
   "cell_type": "markdown",
   "metadata": {},
   "source": [
    "## After-key with Set Index and Primary Index Queries\n",
    "Note the \"after-key\" record with key=\"id-2176\" or key=\"id-6208\" is NOT returned in the results. "
   ]
  },
  {
   "cell_type": "code",
   "execution_count": 11,
   "metadata": {},
   "outputs": [
    {
     "name": "stdout",
     "output_type": "stream",
     "text": [
      "Set index query results after key id-2176: \n",
      "Record key: id-260, bins: {bin1=260, bin2=2600}\n",
      "Record key: id-4124, bins: {bin1=4124, bin2=41240}\n",
      "Record key: id-2426, bins: {bin1=2426, bin2=24260}\n",
      "\n",
      "Primary index query results after key id-3522: \n",
      "Record key: id-2741, bins: {bin1=2741, bin2=27410}\n",
      "Record key: id-209, bins: {bin1=209, bin2=2090}\n",
      "Record key: id-5820, bins: {bin1=5820, bin2=58200}\n"
     ]
    }
   ],
   "source": [
    "// set index scan\n",
    "QueryPolicy qPolicy = new QueryPolicy();\n",
    "// query statement defines contents of query results\n",
    "Statement stmt = new Statement();\n",
    "stmt.setNamespace(Namespace);\n",
    "stmt.setSetName(SetIndexed);\n",
    "stmt.setMaxRecords(10);\n",
    "\n",
    "System.out.format(\"Set index query results after key id-2176: \\n\");\n",
    "stmt.setFilter(null);   // no filter specified, uses set index\n",
    "Key key = new Key(Namespace, SetIndexed, \"id-2176\"); \n",
    "PartitionFilter pFilter = PartitionFilter.after(key);\n",
    "RecordSet rs = client.queryPartitions(qPolicy, stmt, pFilter);\n",
    "// process record stream\n",
    "processResults(rs);\n",
    "\n",
    "// primary index scan\n",
    "QueryPolicy qPolicy = new QueryPolicy();\n",
    "// query statement defines contents of query results\n",
    "Statement stmt = new Statement();\n",
    "stmt.setNamespace(Namespace);\n",
    "stmt.setSetName(SetUnindexed);  // no set index defined\n",
    "stmt.setMaxRecords(100);\n",
    "\n",
    "System.out.format(\"\\nPrimary index query results after key id-3522: \\n\");\n",
    "stmt.setFilter(null);   // no filter specified, uses primary index\n",
    "Key key = new Key(Namespace, SetUnindexed, \"id-3522\"); \n",
    "PartitionFilter pFilter = PartitionFilter.after(key);\n",
    "RecordSet rs = client.queryPartitions(qPolicy, stmt, pFilter);\n",
    "// process record stream\n",
    "processResults(rs);\n"
   ]
  },
  {
   "cell_type": "markdown",
   "metadata": {},
   "source": [
    "# Issue: All records must be read in sync mode for cursors to behave correctly for the next retrieval. "
   ]
  },
  {
   "cell_type": "code",
   "execution_count": 14,
   "metadata": {},
   "outputs": [],
   "source": [
    "// count results instead of printing\n",
    "void countResults(RecordSet rs, int max) {\n",
    "    int recs = 0;\n",
    "    try {\n",
    "        while ((max == 0 || recs < max) && rs.next()) {\n",
    "            recs++;\n",
    "            Key key = rs.getKey();\n",
    "            Record rec = rs.getRecord();\n",
    "        }\n",
    "    }\n",
    "    finally {\n",
    "        rs.close();\n",
    "    }  \n",
    "    System.out.format(\"Read %d records\\n\", recs);\n",
    "}"
   ]
  },
  {
   "cell_type": "code",
   "execution_count": 15,
   "metadata": {},
   "outputs": [
    {
     "name": "stdout",
     "output_type": "stream",
     "text": [
      "Iteration 1 \n",
      "Read 1000 records\n",
      "Read 7000 records\n",
      "Iteration 2 \n",
      "Read 2000 records\n",
      "Read 7000 records\n",
      "Iteration 3 \n",
      "Read 3000 records\n",
      "Read 6993 records\n",
      "Iteration 4 \n",
      "Read 4000 records\n",
      "Read 5976 records\n",
      "Iteration 5 \n",
      "Read 5000 records\n",
      "Read 4989 records\n",
      "Iteration 6 \n",
      "Read 6000 records\n",
      "Read 3955 records\n",
      "Iteration 7 \n",
      "Read 7000 records\n",
      "Read 3001 records\n"
     ]
    }
   ],
   "source": [
    "int MAX_RECORDS = 7000;\n",
    "int CHUNK_SIZE = 1000;\n",
    "Statement stmt = new Statement();\n",
    "stmt.setNamespace(Namespace);\n",
    "stmt.setSetName(SetIndexed);\n",
    "stmt.setMaxRecords(MAX_RECORDS);\n",
    "QueryPolicy qPolicy = new QueryPolicy();\n",
    "\n",
    "stmt.setFilter(Filter.range(\"bin1\", 1, 10000));\n",
    "PartitionFilter pFilter = PartitionFilter.all();\n",
    "\n",
    "for (int i=1; i<=MAX_RECORDS/CHUNK_SIZE; i++) {\n",
    "    System.out.format(\"Iteration %d \\n\", i);\n",
    "    pFilter.setPartitions(null);\n",
    "    RecordSet rs = client.queryPartitions(qPolicy, stmt, pFilter);\n",
    "    countResults(rs, i*CHUNK_SIZE);\n",
    "\n",
    "    rs = client.queryPartitions(qPolicy, stmt, pFilter);\n",
    "    countResults(rs, 10000);\n",
    "}"
   ]
  },
  {
   "cell_type": "markdown",
   "metadata": {},
   "source": [
    "# Issue: Even when all records are read from the stream, it may not work when cursors are set in another query.\n",
    "A query is partially processed using one query instance, and resumed using another, identical query instance. Getting cursors from one query and setting in another doesn't seem to work."
   ]
  },
  {
   "cell_type": "code",
   "execution_count": 27,
   "metadata": {},
   "outputs": [
    {
     "name": "stdout",
     "output_type": "stream",
     "text": [
      "Iteration 1 \n",
      "Read 6000 records\n",
      "Error com.aerospike.client.AerospikeException$InvalidNode: Error -3,1: No nodes were assigned \n",
      "Iteration 2 \n",
      "Read 6000 records\n",
      "Read 4000 records\n",
      "Iteration 3 \n",
      "Read 6000 records\n",
      "Error com.aerospike.client.AerospikeException$InvalidNode: Error -3,1: No nodes were assigned \n",
      "Iteration 4 \n",
      "Read 6000 records\n",
      "Error com.aerospike.client.AerospikeException$InvalidNode: Error -3,1: No nodes were assigned \n",
      "Iteration 5 \n",
      "Read 6000 records\n",
      "Error com.aerospike.client.AerospikeException$InvalidNode: Error -3,1: No nodes were assigned \n",
      "Iteration 6 \n",
      "Read 6000 records\n",
      "Error com.aerospike.client.AerospikeException$InvalidNode: Error -3,1: No nodes were assigned \n",
      "Iteration 7 \n",
      "Read 6000 records\n",
      "Error com.aerospike.client.AerospikeException$InvalidNode: Error -3,1: No nodes were assigned \n",
      "Iteration 8 \n",
      "Read 6000 records\n",
      "Error com.aerospike.client.AerospikeException$InvalidNode: Error -3,1: No nodes were assigned \n",
      "Iteration 9 \n",
      "Read 6000 records\n",
      "Error com.aerospike.client.AerospikeException$InvalidNode: Error -3,1: No nodes were assigned \n",
      "Iteration 10 \n",
      "Read 6000 records\n",
      "Error com.aerospike.client.AerospikeException$InvalidNode: Error -3,1: No nodes were assigned \n"
     ]
    }
   ],
   "source": [
    "import org.apache.commons.lang3.SerializationUtils;\n",
    "\n",
    "for (int i=1; i<=10; i++) {\n",
    "    System.out.format(\"Iteration %d \\n\", i);\n",
    "\n",
    "    QueryPolicy qPolicy = new QueryPolicy();\n",
    "    Statement stmt = new Statement();\n",
    "    stmt.setNamespace(Namespace);\n",
    "    stmt.setSetName(SetIndexed);\n",
    "    stmt.setFilter(Filter.range(\"bin1\", 1, 10000));\n",
    "    stmt.setMaxRecords(6000);\n",
    "    PartitionFilter pFilter = PartitionFilter.all();\n",
    "    pFilter.setPartitions(null);\n",
    "    RecordSet rs = client.queryPartitions(qPolicy, stmt, pFilter);\n",
    "    //PartitionStatus[] cursors = pFilter.getPartitions();\n",
    "    countResults(rs, 6000);\n",
    "    PartitionStatus[] cursors = pFilter.getPartitions();\n",
    "\n",
    "    // resume the same query from a different query instance\n",
    "    QueryPolicy qPolicy2 = new QueryPolicy();\n",
    "    Statement stmt2 = new Statement();\n",
    "    stmt2.setNamespace(Namespace);\n",
    "    stmt2.setSetName(SetIndexed);\n",
    "    stmt2.setFilter(Filter.range(\"bin1\", 1, 10000));\n",
    "    stmt2.setMaxRecords(6000);\n",
    "    PartitionFilter pFilter2 = PartitionFilter.all();\n",
    "    pFilter2.setPartitions(cursors);\n",
    "    try {\n",
    "        RecordSet rs2 = client.queryPartitions(qPolicy2, stmt2, pFilter2);\n",
    "        countResults(rs2, 10000);\n",
    "    }\n",
    "    catch (AerospikeException ae) {\n",
    "        System.out.format(\"Error %s \\n\", ae);\n",
    "    }\n",
    "\n",
    "}"
   ]
  }
 ],
 "metadata": {
  "kernelspec": {
   "display_name": "Java",
   "language": "java",
   "name": "java"
  },
  "language_info": {
   "codemirror_mode": "java",
   "file_extension": ".jshell",
   "mimetype": "text/x-java-source",
   "name": "Java",
   "pygments_lexer": "java",
   "version": "11.0.8+10-LTS"
  },
  "toc": {
   "base_numbering": 1,
   "nav_menu": {},
   "number_sections": true,
   "sideBar": true,
   "skip_h1_title": false,
   "title_cell": "Table of Contents",
   "title_sidebar": "Contents",
   "toc_cell": true,
   "toc_position": {},
   "toc_section_display": true,
   "toc_window_display": false
  }
 },
 "nbformat": 4,
 "nbformat_minor": 4
}
