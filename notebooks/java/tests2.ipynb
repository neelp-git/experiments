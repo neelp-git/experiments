{
 "cells": [
  {
   "cell_type": "markdown",
   "id": "declared-vertex",
   "metadata": {},
   "source": [
    "# Using Nested CDTs with CTX"
   ]
  },
  {
   "cell_type": "code",
   "execution_count": 2,
   "id": "effective-camera",
   "metadata": {},
   "outputs": [],
   "source": [
    "import io.github.spencerpark.ijava.IJava;\n",
    "import io.github.spencerpark.jupyter.kernel.magic.common.Shell;\n",
    "\n",
    "IJava.getKernelInstance().getMagics().registerMagics(Shell.class);"
   ]
  },
  {
   "cell_type": "code",
   "execution_count": 3,
   "id": "radical-fairy",
   "metadata": {},
   "outputs": [],
   "source": [
    "%%loadFromPOM\n",
    "<dependencies>\n",
    "  <dependency>\n",
    "    <groupId>com.aerospike</groupId>\n",
    "    <artifactId>aerospike-client</artifactId>\n",
    "    <version>5.0.0</version>\n",
    "  </dependency>\n",
    "</dependencies>"
   ]
  },
  {
   "cell_type": "code",
   "execution_count": 4,
   "id": "united-position",
   "metadata": {},
   "outputs": [
    {
     "name": "stdout",
     "output_type": "stream",
     "text": [
      "Initialized the client and connected to the cluster.\n"
     ]
    }
   ],
   "source": [
    "import com.aerospike.client.AerospikeClient;\n",
    "\n",
    "AerospikeClient client = new AerospikeClient(\"localhost\", 3000);\n",
    "System.out.println(\"Initialized the client and connected to the cluster.\");"
   ]
  },
  {
   "cell_type": "code",
   "execution_count": 91,
   "id": "regulated-tablet",
   "metadata": {},
   "outputs": [
    {
     "name": "stdout",
     "output_type": "stream",
     "text": [
      "(gen:20),(exp:388627832),(bins:(mapBin:{1=[1], 2=[1, 2], 3=[1, 2, 3], 4=[1, 2, 3, 4]}))\n"
     ]
    }
   ],
   "source": [
    "import com.aerospike.client.Key;\n",
    "import com.aerospike.client.Bin;\n",
    "import com.aerospike.client.policy.ClientPolicy;\n",
    "import com.aerospike.client.Record;\n",
    "import com.aerospike.client.Operation;\n",
    "import com.aerospike.client.Value;\n",
    "import com.aerospike.client.cdt.ListOperation;\n",
    "import com.aerospike.client.cdt.ListPolicy;\n",
    "import com.aerospike.client.cdt.ListOrder;\n",
    "import com.aerospike.client.cdt.ListWriteFlags;\n",
    "import com.aerospike.client.cdt.MapOperation;\n",
    "import com.aerospike.client.cdt.MapPolicy;\n",
    "import com.aerospike.client.cdt.MapOrder;\n",
    "import com.aerospike.client.cdt.MapWriteFlags;\n",
    "import com.aerospike.client.Value.IntegerValue;\n",
    "\n",
    "import java.util.ArrayList;\n",
    "import java.util.Arrays;\n",
    "import java.util.HashMap;\n",
    "import java.util.List;\n",
    "import java.util.Map;\n",
    "\n",
    "\n",
    "ArrayList<Value> list1 = new ArrayList<Value>(Arrays.asList(Value.get(1)));\n",
    "\n",
    "ArrayList<Value> list2 = new ArrayList<Value>(Arrays.asList(Value.get(1), Value.get(2)));\n",
    "\n",
    "ArrayList<Value> list3 = new ArrayList<Value>(Arrays.asList(Value.get(1), Value.get(2), Value.get(3)));\n",
    "\n",
    "ArrayList<Value> list4 = new ArrayList<Value>(Arrays.asList(Value.get(1), Value.get(2), Value.get(3), Value.get(4)));\n",
    "\n",
    "// Create Map of String->List\n",
    "\n",
    "HashMap <Value, Value> mapBinVal = new HashMap <Value, Value>();\n",
    "mapBinVal.put(Value.get(\"1\"), Value.get(list1));\n",
    "mapBinVal.put(Value.get(\"2\"), Value.get(list2));\n",
    "mapBinVal.put(Value.get(\"3\"), Value.get(list3));\n",
    "mapBinVal.put(Value.get(\"4\"), Value.get(list4));\n",
    "\n",
    "\n",
    "// Put data in Aerospike, get the data, and print it\n",
    "\n",
    "//MapPolicy mapPolicy = new MapPolicy(MapOrder.KEY_ORDERED, MapWriteFlags.DEFAULT);\n",
    "\n",
    "Bin bin1 = new Bin(\"mapBin\", mapBinVal);\n",
    "\n",
    "Key key = new Key(\"test\", \"test\", \"test\");\n",
    "\n",
    "Record record = client.operate(null, key,\n",
    "    Operation.put(bin1),\n",
    "    Operation.get()\n",
    "    //MapOperation.putItems(null, \"mapBin\", mapBinVal)\n",
    "    );\n",
    "\n",
    "System.out.println(record );"
   ]
  },
  {
   "cell_type": "code",
   "execution_count": 92,
   "id": "funded-surge",
   "metadata": {},
   "outputs": [
    {
     "name": "stdout",
     "output_type": "stream",
     "text": [
      "(gen:20),(exp:388627832),(bins:(mapBin:1))\n"
     ]
    }
   ],
   "source": [
    "import com.aerospike.client.cdt.CTX;\n",
    "import com.aerospike.client.cdt.MapReturnType;\n",
    "\n",
    "record = client.operate(null, key, \n",
    "    ListOperation.getByIndex(\"mapBin\", 0, MapReturnType.VALUE, CTX.mapKey(Value.get(\"4\")))\n",
    "    );\n",
    "\n",
    "System.out.println(record);\n"
   ]
  },
  {
   "cell_type": "code",
   "execution_count": 95,
   "id": "killing-distributor",
   "metadata": {},
   "outputs": [
    {
     "name": "stdout",
     "output_type": "stream",
     "text": [
      "(gen:22),(exp:388627875),(bins:(mapBin:{0=[1, 2, 3, 1, 2, 3], 1=[1, 0, 0], 2=[1, 2], 3=[1, 2, 3], 4=[1, 2, 3, 4, 1, 2, 3, 1, 2, 3], 6=[0]}))\n"
     ]
    }
   ],
   "source": [
    "record = client.operate(null, key, \n",
    "    ListOperation.appendItems(\"mapBin\", list3, CTX.mapKeyCreate(Value.get(\"4\"), MapOrder.UNORDERED)),\n",
    "    ListOperation.appendItems(\"mapBin\", list3, CTX.mapKeyCreate(Value.get(\"0\"), MapOrder.UNORDERED)),\n",
    "    ListOperation.append(\"mapBin\", Value.get(0), CTX.mapKeyCreate(Value.get(\"1\"), MapOrder.UNORDERED)),\n",
    "    ListOperation.append(\"mapBin\", Value.get(0), CTX.mapKeyCreate(Value.get(\"6\"), MapOrder.UNORDERED))\n",
    "\n",
    "    );\n",
    "\n",
    "Record record = client.operate(null, key,\n",
    "    Operation.get()\n",
    "    );\n",
    "\n",
    "System.out.println(record );\n"
   ]
  },
  {
   "cell_type": "code",
   "execution_count": null,
   "id": "micro-jenny",
   "metadata": {},
   "outputs": [],
   "source": []
  },
  {
   "cell_type": "code",
   "execution_count": null,
   "id": "involved-newspaper",
   "metadata": {},
   "outputs": [],
   "source": []
  }
 ],
 "metadata": {
  "kernelspec": {
   "display_name": "Java",
   "language": "java",
   "name": "java"
  },
  "language_info": {
   "codemirror_mode": "java",
   "file_extension": ".jshell",
   "mimetype": "text/x-java-source",
   "name": "Java",
   "pygments_lexer": "java",
   "version": "11.0.8+10-LTS"
  },
  "toc": {
   "base_numbering": 1,
   "nav_menu": {},
   "number_sections": true,
   "sideBar": true,
   "skip_h1_title": false,
   "title_cell": "Table of Contents",
   "title_sidebar": "Contents",
   "toc_cell": false,
   "toc_position": {},
   "toc_section_display": true,
   "toc_window_display": false
  }
 },
 "nbformat": 4,
 "nbformat_minor": 5
}
