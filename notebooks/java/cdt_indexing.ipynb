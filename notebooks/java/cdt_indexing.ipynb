{
 "cells": [
  {
   "cell_type": "markdown",
   "metadata": {
    "toc": true
   },
   "source": [
    "<h1>Table of Contents<span class=\"tocSkip\"></span></h1>\n",
    "<div class=\"toc\"><ul class=\"toc-item\"><li><span><a href=\"#CDT-Indexing-in-Aerospike\" data-toc-modified-id=\"CDT-Indexing-in-Aerospike-1\"><span class=\"toc-item-num\">1&nbsp;&nbsp;</span>CDT Indexing in Aerospike</a></span><ul class=\"toc-item\"><li><span><a href=\"#Introduction\" data-toc-modified-id=\"Introduction-1.1\"><span class=\"toc-item-num\">1.1&nbsp;&nbsp;</span>Introduction</a></span></li><li><span><a href=\"#Prerequisites\" data-toc-modified-id=\"Prerequisites-1.2\"><span class=\"toc-item-num\">1.2&nbsp;&nbsp;</span>Prerequisites</a></span></li><li><span><a href=\"#Setup\" data-toc-modified-id=\"Setup-1.3\"><span class=\"toc-item-num\">1.3&nbsp;&nbsp;</span>Setup</a></span><ul class=\"toc-item\"><li><span><a href=\"#Ensure-database-is-running\" data-toc-modified-id=\"Ensure-database-is-running-1.3.1\"><span class=\"toc-item-num\">1.3.1&nbsp;&nbsp;</span>Ensure database is running</a></span></li><li><span><a href=\"#Download-and-install-additional-components.\" data-toc-modified-id=\"Download-and-install-additional-components.-1.3.2\"><span class=\"toc-item-num\">1.3.2&nbsp;&nbsp;</span>Download and install additional components.</a></span></li><li><span><a href=\"#Initialize-Client\" data-toc-modified-id=\"Initialize-Client-1.3.3\"><span class=\"toc-item-num\">1.3.3&nbsp;&nbsp;</span>Initialize Client</a></span></li><li><span><a href=\"#Import-Modules\" data-toc-modified-id=\"Import-Modules-1.3.4\"><span class=\"toc-item-num\">1.3.4&nbsp;&nbsp;</span>Import Modules</a></span></li><li><span><a href=\"#Define-Constants-and-Helper-Functions\" data-toc-modified-id=\"Define-Constants-and-Helper-Functions-1.3.5\"><span class=\"toc-item-num\">1.3.5&nbsp;&nbsp;</span>Define Constants and Helper Functions</a></span></li><li><span><a href=\"#Open-a-Terminal-Tab\" data-toc-modified-id=\"Open-a-Terminal-Tab-1.3.6\"><span class=\"toc-item-num\">1.3.6&nbsp;&nbsp;</span>Open a Terminal Tab</a></span></li></ul></li></ul></li><li><span><a href=\"#CDT-Test-Data\" data-toc-modified-id=\"CDT-Test-Data-2\"><span class=\"toc-item-num\">2&nbsp;&nbsp;</span>CDT Test Data</a></span><ul class=\"toc-item\"><li><span><a href=\"#Populate-Test-Data\" data-toc-modified-id=\"Populate-Test-Data-2.1\"><span class=\"toc-item-num\">2.1&nbsp;&nbsp;</span>Populate Test Data</a></span></li><li><span><a href=\"#Examine-Test-Data\" data-toc-modified-id=\"Examine-Test-Data-2.2\"><span class=\"toc-item-num\">2.2&nbsp;&nbsp;</span>Examine Test Data</a></span></li></ul></li><li><span><a href=\"#Non-Collection-Indexes\" data-toc-modified-id=\"Non-Collection-Indexes-3\"><span class=\"toc-item-num\">3&nbsp;&nbsp;</span>Non-Collection Indexes</a></span><ul class=\"toc-item\"><li><span><a href=\"#Equality-queries\" data-toc-modified-id=\"Equality-queries-3.1\"><span class=\"toc-item-num\">3.1&nbsp;&nbsp;</span>Equality queries</a></span><ul class=\"toc-item\"><li><span><a href=\"#Records-with-a-specific-value-at-index-X-of-a-List-or-Map\" data-toc-modified-id=\"Records-with-a-specific-value-at-index-X-of-a-List-or-Map-3.1.1\"><span class=\"toc-item-num\">3.1.1&nbsp;&nbsp;</span>Records with a specific value at index X of a List or Map</a></span><ul class=\"toc-item\"><li><span><a href=\"#The-top-level-List-in-list_bin-has-3-at-position-2-(0-indexed)\" data-toc-modified-id=\"The-top-level-List-in-list_bin-has-3-at-position-2-(0-indexed)-3.1.1.1\"><span class=\"toc-item-num\">3.1.1.1&nbsp;&nbsp;</span>The top level List in list_bin has 3 at position 2 (0-indexed)</a></span></li><li><span><a href=\"#The-top-level-Map-in-map_bin-has-5-at-position-2\" data-toc-modified-id=\"The-top-level-Map-in-map_bin-has-5-at-position-2-3.1.1.2\"><span class=\"toc-item-num\">3.1.1.2&nbsp;&nbsp;</span>The top level Map in map_bin has 5 at position 2</a></span></li></ul></li><li><span><a href=\"#Records-with-a-specific-value-at-rank-X--of-a-List-or-Map\" data-toc-modified-id=\"Records-with-a-specific-value-at-rank-X--of-a-List-or-Map-3.1.2\"><span class=\"toc-item-num\">3.1.2&nbsp;&nbsp;</span>Records with a specific value at rank X  of a List or Map</a></span><ul class=\"toc-item\"><li><span><a href=\"#The-nested-List-in-list_bin-has-35-in-rank--1-(highest-value)\" data-toc-modified-id=\"The-nested-List-in-list_bin-has-35-in-rank--1-(highest-value)-3.1.2.1\"><span class=\"toc-item-num\">3.1.2.1&nbsp;&nbsp;</span>The nested List in list_bin has 35 in rank -1 (highest value)</a></span></li><li><span><a href=\"#The-nested-&quot;subobj&quot;-Map-in-map_bin-has-901-in-rank-0-(lowest-value)\" data-toc-modified-id=\"The-nested-&quot;subobj&quot;-Map-in-map_bin-has-901-in-rank-0-(lowest-value)-3.1.2.2\"><span class=\"toc-item-num\">3.1.2.2&nbsp;&nbsp;</span>The nested \"subobj\" Map in map_bin has 901 in rank 0 (lowest value)</a></span></li></ul></li><li><span><a href=\"#Records-with-a-specific-value-at-key-X-of-a-Map\" data-toc-modified-id=\"Records-with-a-specific-value-at-key-X-of-a-Map-3.1.3\"><span class=\"toc-item-num\">3.1.3&nbsp;&nbsp;</span>Records with a specific value at key X of a Map</a></span><ul class=\"toc-item\"><li><span><a href=\"#The-top-level-Map-in-map_bin-has-8-at-key-&quot;oid&quot;\" data-toc-modified-id=\"The-top-level-Map-in-map_bin-has-8-at-key-&quot;oid&quot;-3.1.3.1\"><span class=\"toc-item-num\">3.1.3.1&nbsp;&nbsp;</span>The top level Map in map_bin has 8 at key \"oid\"</a></span></li><li><span><a href=\"#The-nested-&quot;obj&quot;-Map-in-map_bin-has-&quot;s42&quot;-at-key-&quot;attr2&quot;\" data-toc-modified-id=\"The-nested-&quot;obj&quot;-Map-in-map_bin-has-&quot;s42&quot;-at-key-&quot;attr2&quot;-3.1.3.2\"><span class=\"toc-item-num\">3.1.3.2&nbsp;&nbsp;</span>The nested \"obj\" Map in map_bin has \"s42\" at key \"attr2\"</a></span></li></ul></li></ul></li><li><span><a href=\"#Range-Queries\" data-toc-modified-id=\"Range-Queries-3.2\"><span class=\"toc-item-num\">3.2&nbsp;&nbsp;</span>Range Queries</a></span><ul class=\"toc-item\"><li><span><a href=\"#Records-with-value-in-a-specific-range-at-index-X-of-a-List-or-Map\" data-toc-modified-id=\"Records-with-value-in-a-specific-range-at-index-X-of-a-List-or-Map-3.2.1\"><span class=\"toc-item-num\">3.2.1&nbsp;&nbsp;</span>Records with value in a specific range at index X of a List or Map</a></span><ul class=\"toc-item\"><li><span><a href=\"#The-top-level-List-in-list_bin-is-in-range-3-5-at-position-2-(0-indexed)\" data-toc-modified-id=\"The-top-level-List-in-list_bin-is-in-range-3-5-at-position-2-(0-indexed)-3.2.1.1\"><span class=\"toc-item-num\">3.2.1.1&nbsp;&nbsp;</span>The top level List in list_bin is in range 3-5 at position 2 (0-indexed)</a></span></li><li><span><a href=\"#The-top-level-Map-in-map_bin-is-in-range-5-7-at-position-2\" data-toc-modified-id=\"The-top-level-Map-in-map_bin-is-in-range-5-7-at-position-2-3.2.1.2\"><span class=\"toc-item-num\">3.2.1.2&nbsp;&nbsp;</span>The top level Map in map_bin is in range 5-7 at position 2</a></span></li></ul></li><li><span><a href=\"#Records-with-value-in-a-specific-range-at-rank-X-of-a-List-or-Map\" data-toc-modified-id=\"Records-with-value-in-a-specific-range-at-rank-X-of-a-List-or-Map-3.2.2\"><span class=\"toc-item-num\">3.2.2&nbsp;&nbsp;</span>Records with value in a specific range at rank X of a List or Map</a></span><ul class=\"toc-item\"><li><span><a href=\"#The-nested-&quot;subobj&quot;-Map-in-map_bin-is-in-range-500-800-at-rank-0-(lowest-value)\" data-toc-modified-id=\"The-nested-&quot;subobj&quot;-Map-in-map_bin-is-in-range-500-800-at-rank-0-(lowest-value)-3.2.2.1\"><span class=\"toc-item-num\">3.2.2.1&nbsp;&nbsp;</span>The nested \"subobj\" Map in map_bin is in range 500-800 at rank 0 (lowest value)</a></span></li></ul></li><li><span><a href=\"#Records-with-value-in-a-specific-range-at-key-X-of-a-Map\" data-toc-modified-id=\"Records-with-value-in-a-specific-range-at-key-X-of-a-Map-3.2.3\"><span class=\"toc-item-num\">3.2.3&nbsp;&nbsp;</span>Records with value in a specific range at key X of a Map</a></span><ul class=\"toc-item\"><li><span><a href=\"#The-top-level-Map-in-map_bin-has-a-value-in-range-4-6-at-key-&quot;oid&quot;\" data-toc-modified-id=\"The-top-level-Map-in-map_bin-has-a-value-in-range-4-6-at-key-&quot;oid&quot;-3.2.3.1\"><span class=\"toc-item-num\">3.2.3.1&nbsp;&nbsp;</span>The top level Map in map_bin has a value in range 4-6 at key \"oid\"</a></span></li></ul></li></ul></li></ul></li><li><span><a href=\"#Collection-Indexes\" data-toc-modified-id=\"Collection-Indexes-4\"><span class=\"toc-item-num\">4&nbsp;&nbsp;</span>Collection Indexes</a></span><ul class=\"toc-item\"><li><span><a href=\"#Equality-Queries\" data-toc-modified-id=\"Equality-Queries-4.1\"><span class=\"toc-item-num\">4.1&nbsp;&nbsp;</span>Equality Queries</a></span><ul class=\"toc-item\"><li><span><a href=\"#Records-with-a-List-or-Map-containing-a-specific-value.\" data-toc-modified-id=\"Records-with-a-List-or-Map-containing-a-specific-value.-4.1.1\"><span class=\"toc-item-num\">4.1.1&nbsp;&nbsp;</span>Records with a List or Map containing a specific value.</a></span><ul class=\"toc-item\"><li><span><a href=\"#The-nested-List-in-map_bin-contains-&quot;s91&quot;.\" data-toc-modified-id=\"The-nested-List-in-map_bin-contains-&quot;s91&quot;.-4.1.1.1\"><span class=\"toc-item-num\">4.1.1.1&nbsp;&nbsp;</span>The nested List in map_bin contains \"s91\".</a></span></li><li><span><a href=\"#The-top-level-Map-in-map_bin-contains-a-key-5.\" data-toc-modified-id=\"The-top-level-Map-in-map_bin-contains-a-key-5.-4.1.1.2\"><span class=\"toc-item-num\">4.1.1.2&nbsp;&nbsp;</span>The top level Map in map_bin contains a key 5.</a></span></li><li><span><a href=\"#The-nested-&quot;obj&quot;-Map-in-map_bin-contains-a-value-&quot;s12&quot;.\" data-toc-modified-id=\"The-nested-&quot;obj&quot;-Map-in-map_bin-contains-a-value-&quot;s12&quot;.-4.1.1.3\"><span class=\"toc-item-num\">4.1.1.3&nbsp;&nbsp;</span>The nested \"obj\" Map in map_bin contains a value \"s12\".</a></span></li></ul></li></ul></li><li><span><a href=\"#Range-Queries\" data-toc-modified-id=\"Range-Queries-4.2\"><span class=\"toc-item-num\">4.2&nbsp;&nbsp;</span>Range Queries</a></span><ul class=\"toc-item\"><li><span><a href=\"#Records-with-a-List-or-Map-containing-an-integer-in-a-given-range.\" data-toc-modified-id=\"Records-with-a-List-or-Map-containing-an-integer-in-a-given-range.-4.2.1\"><span class=\"toc-item-num\">4.2.1&nbsp;&nbsp;</span>Records with a List or Map containing an integer in a given range.</a></span><ul class=\"toc-item\"><li><span><a href=\"#The-nested-list-in-list_bin-has-a-value-in-range-85-93.\" data-toc-modified-id=\"The-nested-list-in-list_bin-has-a-value-in-range-85-93.-4.2.1.1\"><span class=\"toc-item-num\">4.2.1.1&nbsp;&nbsp;</span>The nested list in list_bin has a value in range 85-93.</a></span></li><li><span><a href=\"#The-top-level-Map-in-map_bin-has-a-key-in-range-5-7.\" data-toc-modified-id=\"The-top-level-Map-in-map_bin-has-a-key-in-range-5-7.-4.2.1.2\"><span class=\"toc-item-num\">4.2.1.2&nbsp;&nbsp;</span>The top level Map in map_bin has a key in range 5-7.</a></span></li><li><span><a href=\"#The-nested-Map-&quot;subobj&quot;-in-map_bin-has-a-value-in-range-300-500.\" data-toc-modified-id=\"The-nested-Map-&quot;subobj&quot;-in-map_bin-has-a-value-in-range-300-500.-4.2.1.3\"><span class=\"toc-item-num\">4.2.1.3&nbsp;&nbsp;</span>The nested Map \"subobj\" in map_bin has a value in range 300-500.</a></span></li></ul></li></ul></li></ul></li><li><span><a href=\"#Indexing-JSON-Documents\" data-toc-modified-id=\"Indexing-JSON-Documents-5\"><span class=\"toc-item-num\">5&nbsp;&nbsp;</span>Indexing JSON Documents</a></span><ul class=\"toc-item\"><li><span><a href=\"#Initialize-Document-Client\" data-toc-modified-id=\"Initialize-Document-Client-5.1\"><span class=\"toc-item-num\">5.1&nbsp;&nbsp;</span>Initialize Document Client</a></span></li><li><span><a href=\"#Example-1:-Nobel-Prizes-JSON-Dataset\" data-toc-modified-id=\"Example-1:-Nobel-Prizes-JSON-Dataset-5.2\"><span class=\"toc-item-num\">5.2&nbsp;&nbsp;</span>Example 1: Nobel Prizes JSON Dataset</a></span><ul class=\"toc-item\"><li><span><a href=\"#Read-JSON-File-and-Populate-Database\" data-toc-modified-id=\"Read-JSON-File-and-Populate-Database-5.2.1\"><span class=\"toc-item-num\">5.2.1&nbsp;&nbsp;</span>Read JSON File and Populate Database</a></span></li><li><span><a href=\"#Read-JSON-File-and-Populate-Database\" data-toc-modified-id=\"Read-JSON-File-and-Populate-Database-5.2.2\"><span class=\"toc-item-num\">5.2.2&nbsp;&nbsp;</span>Read JSON File and Populate Database</a></span></li><li><span><a href=\"#Execute-Query-with-Index\" data-toc-modified-id=\"Execute-Query-with-Index-5.2.3\"><span class=\"toc-item-num\">5.2.3&nbsp;&nbsp;</span>Execute Query with Index</a></span><ul class=\"toc-item\"><li><span><a href=\"#Find-nobel-prizes-in-a-given-year.\" data-toc-modified-id=\"Find-nobel-prizes-in-a-given-year.-5.2.3.1\"><span class=\"toc-item-num\">5.2.3.1&nbsp;&nbsp;</span>Find nobel prizes in a given year.</a></span></li><li><span><a href=\"#Find-nobel-prizes-in-a-given-category.\" data-toc-modified-id=\"Find-nobel-prizes-in-a-given-category.-5.2.3.2\"><span class=\"toc-item-num\">5.2.3.2&nbsp;&nbsp;</span>Find nobel prizes in a given category.</a></span></li></ul></li></ul></li><li><span><a href=\"#Example-2:-Space-Companies-JSON-Dataset\" data-toc-modified-id=\"Example-2:-Space-Companies-JSON-Dataset-5.3\"><span class=\"toc-item-num\">5.3&nbsp;&nbsp;</span>Example 2: Space Companies JSON Dataset</a></span><ul class=\"toc-item\"><li><span><a href=\"#Read-JSON-File-and-Populate-Database\" data-toc-modified-id=\"Read-JSON-File-and-Populate-Database-5.3.1\"><span class=\"toc-item-num\">5.3.1&nbsp;&nbsp;</span>Read JSON File and Populate Database</a></span></li><li><span><a href=\"#Execute-Query-with-Index\" data-toc-modified-id=\"Execute-Query-with-Index-5.3.2\"><span class=\"toc-item-num\">5.3.2&nbsp;&nbsp;</span>Execute Query with Index</a></span><ul class=\"toc-item\"><li><span><a href=\"#Find-companies-by-number-of-job-postings.\" data-toc-modified-id=\"Find-companies-by-number-of-job-postings.-5.3.2.1\"><span class=\"toc-item-num\">5.3.2.1&nbsp;&nbsp;</span>Find companies by number of job postings.</a></span></li></ul></li></ul></li></ul></li><li><span><a href=\"#Clean-up\" data-toc-modified-id=\"Clean-up-6\"><span class=\"toc-item-num\">6&nbsp;&nbsp;</span>Clean up</a></span></li><li><span><a href=\"#Takeaways\" data-toc-modified-id=\"Takeaways-7\"><span class=\"toc-item-num\">7&nbsp;&nbsp;</span>Takeaways</a></span></li><li><span><a href=\"#Further-Exploration-and-Resources\" data-toc-modified-id=\"Further-Exploration-and-Resources-8\"><span class=\"toc-item-num\">8&nbsp;&nbsp;</span>Further Exploration and Resources</a></span><ul class=\"toc-item\"><li><span><a href=\"#Next-steps\" data-toc-modified-id=\"Next-steps-8.1\"><span class=\"toc-item-num\">8.1&nbsp;&nbsp;</span>Next steps</a></span></li></ul></li></ul></div>"
   ]
  },
  {
   "cell_type": "markdown",
   "metadata": {},
   "source": [
    "# CDT Indexing in Aerospike\n",
    "This tutorial describes CDT indexing and query capabilities in Aerospike.\n",
    "\n",
    "This notebook requires the Aerospike Database running locally with Java kernel and Aerospike Java Client. To create a Docker container that satisfies the requirements and holds a copy of Aerospike notebooks, visit the [Aerospike Notebooks Repo](https://github.com/aerospike-examples/interactive-notebooks)."
   ]
  },
  {
   "cell_type": "markdown",
   "metadata": {},
   "source": [
    "## Introduction\n",
    "In this notebook, we will describe the CDT indexing and query capabilities in Aerospike. \n",
    "\n",
    "\n",
    "The specific topics covered in this notebook include:\n",
    "- New CDT indexing functionality\n",
    "- Code examples\n",
    "    - JSON documents\n",
    "    - Non-collection elements\n",
    "    - Collection elements"
   ]
  },
  {
   "cell_type": "markdown",
   "metadata": {},
   "source": [
    "## Prerequisites\n",
    "This tutorial assumes familiarity with the following topics:\n",
    "- [Hello World](hello_world.ipynb)"
   ]
  },
  {
   "cell_type": "markdown",
   "metadata": {},
   "source": [
    "## Setup"
   ]
  },
  {
   "cell_type": "markdown",
   "metadata": {},
   "source": [
    "### Ensure database is running\n",
    "This notebook requires that Aerospike database is running. "
   ]
  },
  {
   "cell_type": "code",
   "execution_count": 1,
   "metadata": {
    "ExecuteTime": {
     "end_time": "2020-12-29T20:48:49.065421Z",
     "start_time": "2020-12-29T20:48:49.060897Z"
    }
   },
   "outputs": [],
   "source": [
    "import io.github.spencerpark.ijava.IJava;\n",
    "import io.github.spencerpark.jupyter.kernel.magic.common.Shell;\n",
    "IJava.getKernelInstance().getMagics().registerMagics(Shell.class);\n",
    "%sh asd"
   ]
  },
  {
   "cell_type": "markdown",
   "metadata": {},
   "source": [
    "### Download and install additional components.\n",
    "Install the Java client version 6.1.0 or above that supports the new CDT indexing capabilities."
   ]
  },
  {
   "cell_type": "code",
   "execution_count": 2,
   "metadata": {
    "ExecuteTime": {
     "end_time": "2020-12-29T20:48:50.084636Z",
     "start_time": "2020-12-29T20:48:50.080629Z"
    }
   },
   "outputs": [],
   "source": [
    "%%loadFromPOM\n",
    "<dependencies>\n",
    "  <dependency>\n",
    "    <groupId>com.aerospike</groupId>\n",
    "    <artifactId>aerospike-client</artifactId>\n",
    "    <version>6.1.0</version>\n",
    "  </dependency>\n",
    "  <dependency>\n",
    "  <groupId>com.aerospike</groupId>\n",
    "  <artifactId>aerospike-document-api</artifactId>\n",
    "  <version>1.1.3</version>\n",
    " </dependency>\n",
    " <dependency>     \n",
    "    <groupId>org.apache.commons</groupId>\n",
    "     <artifactId>commons-io</artifactId>\n",
    "     <version>1.3.2</version>\n",
    " </dependency>\n",
    "</dependencies>"
   ]
  },
  {
   "cell_type": "markdown",
   "metadata": {},
   "source": [
    "### Initialize Client\n",
    "Initialize the client. "
   ]
  },
  {
   "cell_type": "code",
   "execution_count": 3,
   "metadata": {},
   "outputs": [
    {
     "name": "stdout",
     "output_type": "stream",
     "text": [
      "Initialized the client and connected to the cluster.\n"
     ]
    }
   ],
   "source": [
    "import com.aerospike.client.AerospikeClient;\n",
    "\n",
    "AerospikeClient client = new AerospikeClient(\"localhost\", 3000);\n",
    "System.out.println(\"Initialized the client and connected to the cluster.\");;"
   ]
  },
  {
   "cell_type": "markdown",
   "metadata": {},
   "source": [
    "### Import Modules"
   ]
  },
  {
   "cell_type": "code",
   "execution_count": 4,
   "metadata": {},
   "outputs": [],
   "source": [
    "// import all needed modules\n",
    "import java.util.ArrayList;\n",
    "import java.util.Arrays;\n",
    "import java.util.HashMap;\n",
    "import java.util.List;\n",
    "import java.util.Map;\n",
    "\n",
    "import com.aerospike.client.AerospikeException;\n",
    "import com.aerospike.client.Key;\n",
    "import com.aerospike.client.Bin;\n",
    "import com.aerospike.client.policy.WritePolicy;\n",
    "import com.aerospike.client.policy.ClientPolicy;\n",
    "import com.aerospike.client.Record;\n",
    "import com.aerospike.client.Operation;\n",
    "import com.aerospike.client.Value;\n",
    "import com.aerospike.client.Value.ListValue;\n",
    "import com.aerospike.client.Value.MapValue;\n",
    "import com.aerospike.client.cdt.ListOperation;\n",
    "import com.aerospike.client.cdt.ListPolicy;\n",
    "import com.aerospike.client.cdt.ListOrder;\n",
    "import com.aerospike.client.cdt.ListWriteFlags;\n",
    "import com.aerospike.client.cdt.MapOperation;\n",
    "import com.aerospike.client.cdt.MapPolicy;\n",
    "import com.aerospike.client.cdt.MapOrder;\n",
    "import com.aerospike.client.cdt.MapWriteFlags;\n",
    "import com.aerospike.client.query.Statement;\n",
    "import com.aerospike.client.query.Filter;\n",
    "import com.aerospike.client.query.RecordSet;\n",
    "import com.aerospike.client.Record;\n",
    "import com.aerospike.client.policy.QueryPolicy;\n",
    "import com.aerospike.client.exp.Exp;\n",
    "import com.aerospike.client.query.IndexType;\n",
    "import com.aerospike.client.query.IndexCollectionType;\n",
    "import com.aerospike.client.task.IndexTask;\n",
    "import com.aerospike.client.AerospikeException;\n",
    "import com.aerospike.client.ResultCode;\n",
    "import com.aerospike.client.cdt.CTX;"
   ]
  },
  {
   "cell_type": "markdown",
   "metadata": {},
   "source": [
    "### Define Constants and Helper Functions\n",
    "Define constants for the namespaces `test`,  set `cdt-indexing`, and helper functions `createIndex`, `dropIndex`, `executeQueryAndPrintResults`, and `truncateTestData`."
   ]
  },
  {
   "cell_type": "code",
   "execution_count": 5,
   "metadata": {},
   "outputs": [],
   "source": [
    "String Namespace = \"test\";\n",
    "String Set = \"cdt-indexing\";\n",
    "\n",
    "// convenience function to create an index - essentially a pass-through to the client API\n",
    "void createIndex(String idxName, String binName, IndexType idxType, \n",
    "                 IndexCollectionType colType, CTX... ctx) {\n",
    "    try {\n",
    "            IndexTask task = client.createIndex(null,\n",
    "                                       Namespace,\n",
    "                                       Set,\n",
    "                                       idxName,\n",
    "                                       binName,\n",
    "                                       idxType,\n",
    "                                       colType,\n",
    "                                       ctx);\n",
    "            task.waitTillComplete(1000, 0);\n",
    "        }\n",
    "        catch (AerospikeException ae) {\n",
    "            if (ae.getResultCode() != ResultCode.INDEX_ALREADY_EXISTS) {\n",
    "                throw ae;\n",
    "            }\n",
    "        } \n",
    "        System.out.format(\"Created index %s on ns=%s set=%s bin=%s.\\n\", \n",
    "                                    idxName, Namespace, Set, binName);\n",
    "}\n",
    "\n",
    "// convenience function to drop an index - essentially a pass-through to the client API\n",
    "void dropIndex(String idxName) {\n",
    "    try {\n",
    "        IndexTask task = client.dropIndex(null, Namespace, Set, idxName);\n",
    "    }\n",
    "    catch (AerospikeException ae) {\n",
    "        if (ae.getResultCode() != ResultCode.INDEX_NOTFOUND) {\n",
    "            throw ae;\n",
    "        }\n",
    "    } \n",
    "    System.out.format(\"Dropped index %s.\\n\", idxName);\n",
    "}\n",
    "\n",
    "// convenience function to execute a query using the input filter and print the results\n",
    "void executeQueryAndPrintResults(Filter filter, String binName) {\n",
    "    Statement stmt = new Statement();\n",
    "    stmt.setNamespace(Namespace);\n",
    "    stmt.setSetName(Set);\n",
    "    stmt.setFilter(filter);\n",
    "    stmt.setBinNames(binName);\n",
    "    RecordSet rs = client.query(null, stmt);\n",
    "    while (rs.next()) {\n",
    "        Key key = rs.getKey();\n",
    "        Record record = rs.getRecord();\n",
    "        System.out.format(\"key=%s bins=%s\\n\", key.userKey, record.bins);\n",
    "    }\n",
    "    //System.out.println();\n",
    "    rs.close();\n",
    "}\n",
    "\n",
    "// convenience function to truncate test data\n",
    "void truncateTestData() {\n",
    "    try {\n",
    "        client.truncate(null, Namespace, null, null);\n",
    "    }\n",
    "    catch (AerospikeException e) {\n",
    "        // ignore\n",
    "    }\n",
    "}"
   ]
  },
  {
   "cell_type": "markdown",
   "metadata": {},
   "source": [
    "### Open a Terminal Tab\n",
    "You can execute shell commands including Aerospike tools like aql to examine data in the terminal tab. Open a terminal tab by selecting File->Open from the notebook menu, and then New->Terminal."
   ]
  },
  {
   "cell_type": "markdown",
   "metadata": {},
   "source": [
    "# CDT Test Data\n",
    "We will illustrate how to create indexes on CDTs and issues queries using two CDTs - a nested List and a nested Map that are populated in 10 records each. \n",
    "\n",
    "1. A nested List in records with user_key (id) 1-10. The list is held in bin list_bin and has the following numeric, string, and List elements.\n",
    "    - Numeric elements: user_key to user_key+4. \n",
    "        - For example, for user_key=1: 1, 2, 3, 4, 5.\n",
    "    - String elements: \"s\"+user_key to \"s\"+(user_key+4). \n",
    "        - For example, for user_key=1: \"s1\", \"s2\", \"s3\", \"s4\", \"s5\"\n",
    "    - Nested List element: holds numeric elements 10*user_key+1 to 10*user_key+5. \n",
    "        - For example, for user_key=1: [11, 12, 13, 44, 15].\n",
    "    \n",
    "    So, the value in list_bin for the record with user_key=1 looks like: \n",
    "    \n",
    "    `[ 1, 2, 3, 4, 5, s1\", \"s2\", \"s3\", \"s4\", \"s5\", [ 11, 12, 13, 44, 15 ] ]`.\n",
    "    \n",
    "    \n",
    "2. A nested Map in records with user_key (id) 101-110. The map is held in bin map_bin and has the following numeric, string, and List elements. Below, we have used i with a shorthand for i=user_key-100.\n",
    "    - \"oid\": i. \n",
    "        - For example, for i=1: 1.\n",
    "    - \"obj\": a nested map with the following key-value pairs: {\"attr1\": 10*i+1, \"attr2\": \"s\"+10*i+2, \"subobj\": {\"attr3\": 100*i+1, \"attr4\": 100*i+2}}. \n",
    "        - For example, for i=1: {\"attr1\": 11, \"attr2\": \"s12\", \"subobj\": {\"attr3\": 101, \"attr4\": 102}}.\n",
    "    - i: [\"s\"+i, \"s\"+i+1]. \n",
    "        - For example, for i=1: the key-value pair is 1: [\"s1\", \"s2\"].\n",
    "    \n",
    "    So, the value in map_bin for the record with user_key=101 looks like:\n",
    "    \n",
    "    `\n",
    "    {\n",
    "        \"oid\": 1, \n",
    "        \"obj\": {\"attr1\": 11, \"attr2\": \"s12\", \"subobj\": {\"attr3\": 101, \"attr4\": 102}}, \n",
    "        1: [\"s1\", \"s2\"]\n",
    "    } `"
   ]
  },
  {
   "cell_type": "markdown",
   "metadata": {},
   "source": [
    "## Populate Test Data\n",
    "Execute the cell below to populate the test data described above."
   ]
  },
  {
   "cell_type": "code",
   "execution_count": 6,
   "metadata": {},
   "outputs": [],
   "source": [
    "final String ListBin = \"list_bin\";\n",
    "final String MapBin = \"map_bin\";\n",
    "WritePolicy wpolicy = new WritePolicy();\n",
    "wpolicy.sendKey = true;\n",
    "\n",
    "// create the list_bin with \n",
    "//   [i..i+4, \"s\"+i..\"s\"+4, [10*i+1..10*i+5]]\n",
    "\n",
    "for (int user_key = 1; user_key <= 10; user_key++) {\n",
    "    Key key = new Key(Namespace, Set, user_key);\n",
    "\n",
    "    // append integer and string elements\n",
    "    ArrayList<Value> list_val = new ArrayList<Value>();\n",
    "    for (int n = user_key; n < user_key+5; n++) {\n",
    "        list_val.add(Value.get(n));\n",
    "        list_val.add(Value.get(\"s\"+Integer.toString(n)));\n",
    "    }\n",
    "\n",
    "    // append the nested list element\n",
    "    ArrayList<Integer> list_int = new ArrayList<Integer>();\n",
    "    for (int n=user_key*10+1; n < user_key*10+6; n++) {\n",
    "        list_int.add(n);\n",
    "    }\n",
    "    ListValue list_int_val = new ListValue(list_int);\n",
    "\n",
    "    // create the list bin\n",
    "    Record record = client.operate(wpolicy, key,\n",
    "                                    ListOperation.clear(ListBin), \n",
    "                                    ListOperation.appendItems(ListBin, list_val), \n",
    "                                    ListOperation.append(ListBin, list_int_val));\n",
    "}\n",
    "\n",
    "// create map bin with \n",
    "//    \"oid\": i,\n",
    "//    \"obj\": {\"attr1\": 10*i+1, \"attr2\": \"s\"+10*+i+2, \"subobj\": {\"attr3\": 100*1+1, \"attr4\": 100*1+2}}, \n",
    "//    i: [\"s\"+i, \"s\"+i+1]\n",
    "\n",
    "for (int user_key = 101; user_key <= 110; user_key++) {\n",
    "    Integer i = user_key - 100;\n",
    "    \n",
    "    Key key = new Key(Namespace, Set, user_key);\n",
    "    \n",
    "    // construct obj map value\n",
    "    HashMap <String, Value> obj = new HashMap <String, Value>();\n",
    "    obj.put(\"attr1\", Value.get(10*i+1));    \n",
    "    obj.put(\"attr2\", Value.get(\"s\"+Integer.toString(10*i+2)));   \n",
    "    HashMap <String, Integer> subobj = new HashMap <String, Integer>();\n",
    "    subobj.put(\"attr3\", 100*i+1);    \n",
    "    subobj.put(\"attr4\", 100*i+2);    \n",
    "    obj.put(\"subobj\", new MapValue(subobj));   \n",
    "\n",
    "    // construct arr list value\n",
    "    ArrayList<String> arr = new ArrayList<String>();\n",
    "    arr.add(\"s\"+Integer.toString(i*10+1));\n",
    "    arr.add(\"s\"+Integer.toString(i*10+2));\n",
    "    \n",
    "    // create the map in map_bin\n",
    "    MapPolicy mPolicy = new MapPolicy(MapOrder.UNORDERED, MapWriteFlags.DEFAULT);\n",
    "    Record record = client.operate(wpolicy, key,\n",
    "                                MapOperation.clear(MapBin), \n",
    "                                MapOperation.put(mPolicy, MapBin, \n",
    "                                            Value.get(\"oid\"), Value.get(i)),\n",
    "                                MapOperation.put(mPolicy, MapBin, \n",
    "                                            Value.get(\"obj\"), new MapValue(obj)),\n",
    "                                MapOperation.put(mPolicy, MapBin, \n",
    "                                            Value.get(i), new ListValue(arr))\n",
    "                                ); \n",
    "}"
   ]
  },
  {
   "cell_type": "markdown",
   "metadata": {},
   "source": [
    "## Examine Test Data\n",
    "View the test data by executing the following commands in a Jupyter terminal tab.\n",
    "\n",
    "`\n",
    "aql -c \"select list_bin from test.cdt-indexing\"\n",
    "`\n",
    "\n",
    "`\n",
    "aql -c \"select map_bin from test.cdt-indexing\"\n",
    "`"
   ]
  },
  {
   "cell_type": "markdown",
   "metadata": {},
   "source": [
    "# Non-Collection Indexes\n",
    "We will illustrate how indexes on non-collection elements are created and used. We will start with results in mind, and then create the appropriate index, issue a query using the index, and show the results."
   ]
  },
  {
   "cell_type": "markdown",
   "metadata": {},
   "source": [
    "## Equality queries\n",
    "Get records with a specific integer or string value at a specific index, rank, or key position of a List or a Map."
   ]
  },
  {
   "cell_type": "markdown",
   "metadata": {},
   "source": [
    "### Records with a specific value at index X of a List or Map\n",
    "#### The top level List in list_bin has 3 at position 2 (0-indexed)"
   ]
  },
  {
   "cell_type": "code",
   "execution_count": 7,
   "metadata": {},
   "outputs": [
    {
     "name": "stdout",
     "output_type": "stream",
     "text": [
      "Created index idx_list_bin_top_pos_2_num on ns=test set=cdt-indexing bin=list_bin.\n",
      "Records with the value 3 at position 2 of the top List in list_bin:\n"
     ]
    },
    {
     "ename": "CompilationException",
     "evalue": "",
     "output_type": "error",
     "traceback": [
      "\u001b[1m\u001b[30m|   \u001b[1m\u001b[30m\u001b[0m\u001b[1m\u001b[30m\u001b[41mexecuteQueryAndPrintResults\u001b[0m\u001b[1m\u001b[30m(client, filter, ListBin);\u001b[0m",
      "\u001b[1m\u001b[31mmethod executeQueryAndPrintResults in class  cannot be applied to given types;\u001b[0m",
      "\u001b[1m\u001b[31m  required: com.aerospike.client.query.Filter,java.lang.String\u001b[0m",
      "\u001b[1m\u001b[31m  found: com.aerospike.client.AerospikeClient,com.aerospike.client.query.Filter,java.lang.String\u001b[0m",
      "\u001b[1m\u001b[31m  reason: actual and formal argument lists differ in length\u001b[0m",
      ""
     ]
    }
   ],
   "source": [
    "// Create an index for element at position 2 of the top List in list_bin. \n",
    "// idx_list_bin_top_pos_2_num\n",
    "createIndex(\"idx_list_bin_top_pos_2_num\", ListBin, IndexType.NUMERIC, IndexCollectionType.DEFAULT, \n",
    "            CTX.listIndex(2));\n",
    "\n",
    "// issue the query and print results\n",
    "System.out.println(\"Records with the value 3 at position 2 of the top List in list_bin:\");\n",
    "Filter filter = Filter.equal(ListBin, 3, CTX.listIndex(2));\n",
    "executeQueryAndPrintResults(client, filter, ListBin);"
   ]
  },
  {
   "cell_type": "markdown",
   "metadata": {},
   "source": [
    "#### The top level Map in map_bin has 5 at position 2 "
   ]
  },
  {
   "cell_type": "code",
   "execution_count": 8,
   "metadata": {},
   "outputs": [
    {
     "name": "stdout",
     "output_type": "stream",
     "text": [
      "Created index idx_map_bin_top_pos_2_num on ns=test set=cdt-indexing bin=map_bin.\n",
      "Records with the value 7 at position 2 of the top Map in map_bin:\n"
     ]
    },
    {
     "ename": "CompilationException",
     "evalue": "",
     "output_type": "error",
     "traceback": [
      "\u001b[1m\u001b[30m|   \u001b[1m\u001b[30m\u001b[0m\u001b[1m\u001b[30m\u001b[41mexecuteQueryAndPrintResults\u001b[0m\u001b[1m\u001b[30m(client, filter, MapBin);\u001b[0m",
      "\u001b[1m\u001b[31mmethod executeQueryAndPrintResults in class  cannot be applied to given types;\u001b[0m",
      "\u001b[1m\u001b[31m  required: com.aerospike.client.query.Filter,java.lang.String\u001b[0m",
      "\u001b[1m\u001b[31m  found: com.aerospike.client.AerospikeClient,com.aerospike.client.query.Filter,java.lang.String\u001b[0m",
      "\u001b[1m\u001b[31m  reason: actual and formal argument lists differ in length\u001b[0m",
      ""
     ]
    }
   ],
   "source": [
    "// Create an index for element at position 2 of the top Map in map_bin. Note, in the key ordered sequence, \n",
    "//   \"oid\" element is in position 2 after the numeric key and \"obj\".\n",
    "// idx_map_bin_top_pos_2_num\n",
    "createIndex(\"idx_map_bin_top_pos_2_num\", MapBin, IndexType.NUMERIC, IndexCollectionType.DEFAULT, \n",
    "            CTX.mapIndex(2));\n",
    "\n",
    "// issue the query and print results\n",
    "System.out.println(\"Records with the value 7 at position 2 of the top Map in map_bin:\");\n",
    "Filter filter = Filter.equal(MapBin, 7, CTX.mapIndex(2));\n",
    "executeQueryAndPrintResults(client, filter, MapBin);"
   ]
  },
  {
   "cell_type": "markdown",
   "metadata": {},
   "source": [
    "### Records with a specific value at rank X  of a List or Map \n",
    "#### The nested List in list_bin has 35 in rank -1 (highest value)\n"
   ]
  },
  {
   "cell_type": "code",
   "execution_count": 9,
   "metadata": {},
   "outputs": [
    {
     "name": "stdout",
     "output_type": "stream",
     "text": [
      "Created index idx_list_bin_nested_rnk_-1_num on ns=test set=cdt-indexing bin=list_bin.\n",
      "Records with the value 35 in rank -1 (highest value) in the nested List in list_bin:\n",
      "key=3 bins={list_bin=[3, s3, 4, s4, 5, s5, 6, s6, 7, s7, [31, 32, 33, 34, 35]]}\n"
     ]
    }
   ],
   "source": [
    "// Create an index for element at rank -1 of the nested List in list_bin. Note the nested List is at the \n",
    "//   last poistion (index -1) in the top List.\n",
    "// idx_list_bin_nested_rnk_-1_num\n",
    "createIndex(\"idx_list_bin_nested_rnk_-1_num\", ListBin, IndexType.NUMERIC, IndexCollectionType.DEFAULT, \n",
    "            CTX.listIndex(-1), CTX.listRank(-1));\n",
    "\n",
    "// issue the query and print results\n",
    "System.out.println(\"Records with the value 35 in rank -1 (highest value) in the nested List in list_bin:\");\n",
    "Filter filter = Filter.equal(ListBin, 35, CTX.listIndex(-1), CTX.listRank(-1));\n",
    "executeQueryAndPrintResults(filter, ListBin);"
   ]
  },
  {
   "cell_type": "markdown",
   "metadata": {},
   "source": [
    "#### The nested \"subobj\" Map in map_bin has 901 in rank 0 (lowest value)"
   ]
  },
  {
   "cell_type": "code",
   "execution_count": 10,
   "metadata": {},
   "outputs": [
    {
     "name": "stdout",
     "output_type": "stream",
     "text": [
      "Created index idx_map_bin_subobj_rnk_0_num on ns=test set=cdt-indexing bin=map_bin.\n",
      "Records with the value 901 in rank 0 (lowest value) in the nested \"subobj\" Map in map_bin:\n",
      "key=109 bins={map_bin={9=[s91, s92], obj={attr2=s92, attr1=91, subobj={attr4=902, attr3=901}}, oid=9}}\n"
     ]
    }
   ],
   "source": [
    "// Create an index for element at rank 0 (lowest value) in the nested \"subobj\" Map in map_bin. \n",
    "// idx_map_bin_subobj_rnk_0_num\n",
    "createIndex(\"idx_map_bin_subobj_rnk_0_num\", MapBin, IndexType.NUMERIC, IndexCollectionType.DEFAULT, \n",
    "            CTX.mapKey(Value.get(\"obj\")), CTX.mapKey(Value.get(\"subobj\")), CTX.mapRank(0));\n",
    "\n",
    "// issue the query and print results\n",
    "System.out.println(\"Records with the value 901 in rank 0 (lowest value) in the nested \\\"subobj\\\" Map in map_bin:\");\n",
    "Filter filter = Filter.equal(MapBin, 901, \n",
    "            CTX.mapKey(Value.get(\"obj\")), CTX.mapKey(Value.get(\"subobj\")), CTX.mapRank(0));\n",
    "executeQueryAndPrintResults(filter, MapBin);"
   ]
  },
  {
   "cell_type": "markdown",
   "metadata": {},
   "source": [
    "### Records with a specific value at key X of a Map\n",
    "#### The top level Map in map_bin has 8 at key \"oid\""
   ]
  },
  {
   "cell_type": "code",
   "execution_count": 11,
   "metadata": {},
   "outputs": [
    {
     "name": "stdout",
     "output_type": "stream",
     "text": [
      "Created index idx_map_bin_top_key_oid_num on ns=test set=cdt-indexing bin=map_bin.\n",
      "Records with the value 8 at key \"oid\" in the top level Map in map_bin:\n",
      "key=108 bins={map_bin={8=[s81, s82], obj={attr2=s82, attr1=81, subobj={attr4=802, attr3=801}}, oid=8}}\n"
     ]
    }
   ],
   "source": [
    "// Create an index for element with key \"oid\" in the top level Map in map_bin. \n",
    "// idx_map_bin_top_key_oid_num\n",
    "createIndex(\"idx_map_bin_top_key_oid_num\", MapBin, IndexType.NUMERIC, IndexCollectionType.DEFAULT, \n",
    "            CTX.mapKey(Value.get(\"oid\")));\n",
    "\n",
    "// issue the query and print results\n",
    "System.out.println(\"Records with the value 8 at key \\\"oid\\\" in the top level Map in map_bin:\");\n",
    "Filter filter = Filter.equal(MapBin, 8, \n",
    "            CTX.mapKey(Value.get(\"oid\")));\n",
    "executeQueryAndPrintResults(filter, MapBin);"
   ]
  },
  {
   "cell_type": "markdown",
   "metadata": {},
   "source": [
    "#### The nested \"obj\" Map in map_bin has \"s42\" at key \"attr2\""
   ]
  },
  {
   "cell_type": "code",
   "execution_count": 12,
   "metadata": {},
   "outputs": [
    {
     "name": "stdout",
     "output_type": "stream",
     "text": [
      "Created index idx_map_bin_obj_key_attr2_str on ns=test set=cdt-indexing bin=map_bin.\n",
      "Records with the value \"s42\" at key \"attr2\" in the nested \"obj\" Map in map_bin:\n",
      "key=104 bins={map_bin={4=[s41, s42], obj={attr2=s42, attr1=41, subobj={attr4=402, attr3=401}}, oid=4}}\n"
     ]
    }
   ],
   "source": [
    "// Create an index for element with key \"attr2\" in the nested \"obj\" Map in map_bin. \n",
    "// idx_map_bin_obj_key_attr2_str\n",
    "createIndex(\"idx_map_bin_obj_key_attr2_str\", MapBin, IndexType.STRING, IndexCollectionType.DEFAULT, \n",
    "            CTX.mapKey(Value.get(\"obj\")), CTX.mapKey(Value.get(\"attr2\")));\n",
    "\n",
    "// issue the query and print results\n",
    "System.out.println(\"Records with the value \\\"s42\\\" at key \\\"attr2\\\" in the nested \\\"obj\\\" Map in map_bin:\");\n",
    "Filter filter = Filter.equal(MapBin, \"s42\", \n",
    "            CTX.mapKey(Value.get(\"obj\")), CTX.mapKey(Value.get(\"attr2\")));\n",
    "executeQueryAndPrintResults(filter, MapBin);"
   ]
  },
  {
   "cell_type": "markdown",
   "metadata": {},
   "source": [
    "## Range Queries\n",
    "Get records having an integer value within a range at a specific index, rank, or key position of a List or a Map. Range queries are supported on integer values only.\n",
    "\n",
    "We will use the indexes defined above for the range queries too."
   ]
  },
  {
   "cell_type": "markdown",
   "metadata": {},
   "source": [
    "### Records with value in a specific range at index X of a List or Map\n",
    "#### The top level List in list_bin is in range 3-5 at position 2 (0-indexed)"
   ]
  },
  {
   "cell_type": "code",
   "execution_count": 13,
   "metadata": {},
   "outputs": [
    {
     "name": "stdout",
     "output_type": "stream",
     "text": [
      "Records with value in range 3-5 at position 2 in the top level List in list_bin:\n",
      "key=4 bins={list_bin=[4, s4, 5, s5, 6, s6, 7, s7, 8, s8, [41, 42, 43, 44, 45]]}\n",
      "key=3 bins={list_bin=[3, s3, 4, s4, 5, s5, 6, s6, 7, s7, [31, 32, 33, 34, 35]]}\n",
      "key=2 bins={list_bin=[2, s2, 3, s3, 4, s4, 5, s5, 6, s6, [21, 22, 23, 24, 25]]}\n"
     ]
    }
   ],
   "source": [
    "// issue the query and print results\n",
    "System.out.println(\"Records with value in range 3-5 at position 2 in the top level List in list_bin:\");\n",
    "Filter filter = Filter.range(ListBin, 3, 5, CTX.listIndex(2));\n",
    "executeQueryAndPrintResults(filter, ListBin);"
   ]
  },
  {
   "cell_type": "markdown",
   "metadata": {},
   "source": [
    "#### The top level Map in map_bin is in range 5-7 at position 2"
   ]
  },
  {
   "cell_type": "code",
   "execution_count": 14,
   "metadata": {},
   "outputs": [
    {
     "name": "stdout",
     "output_type": "stream",
     "text": [
      "Records with value in range 5-7 at position 2 of the top Map in map_bin:\n",
      "key=107 bins={map_bin={obj={attr2=s72, attr1=71, subobj={attr4=702, attr3=701}}, oid=7, 7=[s71, s72]}}\n",
      "key=106 bins={map_bin={obj={attr2=s62, attr1=61, subobj={attr4=602, attr3=601}}, 6=[s61, s62], oid=6}}\n",
      "key=105 bins={map_bin={5=[s51, s52], obj={attr2=s52, attr1=51, subobj={attr4=502, attr3=501}}, oid=5}}\n"
     ]
    }
   ],
   "source": [
    "// issue the query and print results\n",
    "System.out.println(\"Records with value in range 5-7 at position 2 of the top Map in map_bin:\");\n",
    "Filter filter = Filter.range(MapBin, 5, 7, CTX.mapIndex(2));\n",
    "executeQueryAndPrintResults(filter, MapBin);"
   ]
  },
  {
   "cell_type": "markdown",
   "metadata": {},
   "source": [
    "### Records with value in a specific range at rank X of a List or Map\n",
    "- The nested List in list_bin is in range 20-50 at rank -1 (highest value)"
   ]
  },
  {
   "cell_type": "code",
   "execution_count": 15,
   "metadata": {},
   "outputs": [
    {
     "name": "stdout",
     "output_type": "stream",
     "text": [
      "Records with value in range 20-50 in rank -1 (highest value) in the nested List in list_bin:\n",
      "key=3 bins={list_bin=[3, s3, 4, s4, 5, s5, 6, s6, 7, s7, [31, 32, 33, 34, 35]]}\n",
      "key=4 bins={list_bin=[4, s4, 5, s5, 6, s6, 7, s7, 8, s8, [41, 42, 43, 44, 45]]}\n",
      "key=2 bins={list_bin=[2, s2, 3, s3, 4, s4, 5, s5, 6, s6, [21, 22, 23, 24, 25]]}\n"
     ]
    }
   ],
   "source": [
    "// issue the query and print results\n",
    "System.out.println(\"Records with value in range 20-50 in rank -1 (highest value) in the nested List in list_bin:\");\n",
    "Filter filter = Filter.range(ListBin, 20, 50, CTX.listIndex(-1), CTX.listRank(-1));\n",
    "executeQueryAndPrintResults(filter, ListBin);"
   ]
  },
  {
   "cell_type": "markdown",
   "metadata": {},
   "source": [
    "#### The nested \"subobj\" Map in map_bin is in range 500-800 at rank 0 (lowest value)"
   ]
  },
  {
   "cell_type": "code",
   "execution_count": 16,
   "metadata": {},
   "outputs": [
    {
     "name": "stdout",
     "output_type": "stream",
     "text": [
      "Records with value in range 500-800 in rank 0 (lowest value) in the nested \"subobj\" Map in map_bin:\n",
      "key=105 bins={map_bin={5=[s51, s52], obj={attr2=s52, attr1=51, subobj={attr4=502, attr3=501}}, oid=5}}\n",
      "key=107 bins={map_bin={obj={attr2=s72, attr1=71, subobj={attr4=702, attr3=701}}, oid=7, 7=[s71, s72]}}\n",
      "key=106 bins={map_bin={obj={attr2=s62, attr1=61, subobj={attr4=602, attr3=601}}, 6=[s61, s62], oid=6}}\n"
     ]
    }
   ],
   "source": [
    "// issue the query and print results\n",
    "System.out.println(\"Records with value in range 500-800 in rank 0 (lowest value) in the nested \\\"subobj\\\" Map in map_bin:\");\n",
    "Filter filter = Filter.range(MapBin, 500, 800,\n",
    "            CTX.mapKey(Value.get(\"obj\")), CTX.mapKey(Value.get(\"subobj\")), CTX.mapRank(0));\n",
    "executeQueryAndPrintResults(filter, MapBin);"
   ]
  },
  {
   "cell_type": "markdown",
   "metadata": {},
   "source": [
    "### Records with value in a specific range at key X of a Map\n",
    "#### The top level Map in map_bin has a value in range 4-6 at key \"oid\""
   ]
  },
  {
   "cell_type": "code",
   "execution_count": 17,
   "metadata": {},
   "outputs": [
    {
     "name": "stdout",
     "output_type": "stream",
     "text": [
      "Records with value in range 4-6 at key \"oid\" in the top level Map in map_bin:\n",
      "key=105 bins={map_bin={5=[s51, s52], obj={attr2=s52, attr1=51, subobj={attr4=502, attr3=501}}, oid=5}}\n",
      "key=104 bins={map_bin={4=[s41, s42], obj={attr2=s42, attr1=41, subobj={attr4=402, attr3=401}}, oid=4}}\n",
      "key=106 bins={map_bin={obj={attr2=s62, attr1=61, subobj={attr4=602, attr3=601}}, 6=[s61, s62], oid=6}}\n"
     ]
    }
   ],
   "source": [
    "// issue the query and print results\n",
    "System.out.println(\"Records with value in range 4-6 at key \\\"oid\\\" in the top level Map in map_bin:\");\n",
    "Filter filter = Filter.range(MapBin, 4, 6, CTX.mapKey(Value.get(\"oid\")));\n",
    "executeQueryAndPrintResults(filter, MapBin);"
   ]
  },
  {
   "cell_type": "markdown",
   "metadata": {},
   "source": [
    "# Collection Indexes\n",
    "Collection indexes are defined on List and Map elements with the collection type LIST (list values in the List), MAPKEYS (key values in the Map), or MAPVALUES (values in the Map). The indexes can be used for equality queries on integr and string elements, as well as range queries on integer elements. We will illustrate these variations below."
   ]
  },
  {
   "cell_type": "markdown",
   "metadata": {},
   "source": [
    "## Equality Queries\n",
    "Get records with a specific integer or string value in a List or Map."
   ]
  },
  {
   "cell_type": "markdown",
   "metadata": {},
   "source": [
    "### Records with a List or Map containing a specific value.\n",
    "#### The nested List in map_bin contains \"s91\". "
   ]
  },
  {
   "cell_type": "code",
   "execution_count": 18,
   "metadata": {},
   "outputs": [
    {
     "name": "stdout",
     "output_type": "stream",
     "text": [
      "Created index idx_map_bin_i_list_str on ns=test set=cdt-indexing bin=map_bin.\n",
      "Records with the value \"s91\" in the nested list \"arr\" in map_bin:\n",
      "key=109 bins={map_bin={9=[s91, s92], obj={attr2=s92, attr1=91, subobj={attr4=902, attr3=901}}, oid=9}}\n"
     ]
    }
   ],
   "source": [
    "// Create an index for the nested List in map_bin. Note, in key-ordered sequence, the numeric key is the first one.\n",
    "// idx_map_bin_i_list_str\n",
    "createIndex(\"idx_map_bin_i_list_str\", MapBin, IndexType.STRING, IndexCollectionType.LIST, \n",
    "            CTX.mapIndex(0));\n",
    "\n",
    "// issue the query and print results\n",
    "System.out.println(\"Records with the value \\\"s91\\\" in the nested list \\\"arr\\\" in map_bin:\");\n",
    "Filter filter = Filter.contains(MapBin, IndexCollectionType.LIST, \"s91\", CTX.mapIndex(0));\n",
    "executeQueryAndPrintResults(filter, MapBin);"
   ]
  },
  {
   "cell_type": "markdown",
   "metadata": {},
   "source": [
    "#### The top level Map in map_bin contains a key 5."
   ]
  },
  {
   "cell_type": "code",
   "execution_count": 19,
   "metadata": {},
   "outputs": [
    {
     "name": "stdout",
     "output_type": "stream",
     "text": [
      "Created index idx_map_bin_top_mapkeys_num on ns=test set=cdt-indexing bin=map_bin.\n",
      "Records with key 5 in the top level Map in map_bin:\n",
      "key=105 bins={map_bin={5=[s51, s52], obj={attr2=s52, attr1=51, subobj={attr4=502, attr3=501}}, oid=5}}\n"
     ]
    }
   ],
   "source": [
    "// Create an index for keys in top level Map in map_bin. \n",
    "// idx_map_bin_top_mapkeys_num\n",
    "createIndex(\"idx_map_bin_top_mapkeys_num\", MapBin, IndexType.NUMERIC, IndexCollectionType.MAPKEYS);\n",
    "\n",
    "// issue the query and print results\n",
    "System.out.println(\"Records with key 5 in the top level Map in map_bin:\");\n",
    "Filter filter = Filter.contains(MapBin, IndexCollectionType.MAPKEYS, 5);\n",
    "executeQueryAndPrintResults(filter, MapBin);"
   ]
  },
  {
   "cell_type": "markdown",
   "metadata": {},
   "source": [
    "#### The nested \"obj\" Map in map_bin contains a value \"s12\". "
   ]
  },
  {
   "cell_type": "code",
   "execution_count": 20,
   "metadata": {},
   "outputs": [
    {
     "name": "stdout",
     "output_type": "stream",
     "text": [
      "Created index idx_map_bin_obj_mapvals_str on ns=test set=cdt-indexing bin=map_bin.\n",
      "Records with the value \"s12\" in the nested Map \"obj\" in map_bin:\n",
      "key=101 bins={map_bin={1=[s11, s12], obj={attr2=s12, attr1=11, subobj={attr4=102, attr3=101}}, oid=1}}\n"
     ]
    }
   ],
   "source": [
    "// Create an index for values in nested Map \"obj\" in map_bin. \n",
    "// idx_map_bin_obj_mapvals_str\n",
    "createIndex(\"idx_map_bin_obj_mapvals_str\", MapBin, IndexType.STRING, IndexCollectionType.MAPVALUES, \n",
    "            CTX.mapKey(Value.get(\"obj\")));\n",
    "\n",
    "// issue the query and print results\n",
    "System.out.println(\"Records with the value \\\"s12\\\" in the nested Map \\\"obj\\\" in map_bin:\");\n",
    "Filter filter = Filter.contains(MapBin, IndexCollectionType.MAPVALUES, \"s12\", CTX.mapKey(Value.get(\"obj\")));\n",
    "executeQueryAndPrintResults(filter, MapBin);"
   ]
  },
  {
   "cell_type": "markdown",
   "metadata": {},
   "source": [
    "## Range Queries\n",
    "Get records with a range of integer values in a List or Map."
   ]
  },
  {
   "cell_type": "markdown",
   "metadata": {},
   "source": [
    "### Records with a List or Map containing an integer in a given range.\n",
    "#### The nested list in list_bin has a value in range 85-93."
   ]
  },
  {
   "cell_type": "code",
   "execution_count": 21,
   "metadata": {},
   "outputs": [
    {
     "name": "stdout",
     "output_type": "stream",
     "text": [
      "Created index idx_list_bin_nested_list_num on ns=test set=cdt-indexing bin=list_bin.\n",
      "Records with value in range 85-93 in the nested list in list_bin:\n",
      "key=8 bins={list_bin=[8, s8, 9, s9, 10, s10, 11, s11, 12, s12, [81, 82, 83, 84, 85]]}\n",
      "key=9 bins={list_bin=[9, s9, 10, s10, 11, s11, 12, s12, 13, s13, [91, 92, 93, 94, 95]]}\n"
     ]
    }
   ],
   "source": [
    "// Create an index for the nested List in map_bin. Note, the nested list is the last element.\n",
    "// idx_list_bin_nested_list_num\n",
    "createIndex(\"idx_list_bin_nested_list_num\", ListBin, IndexType.NUMERIC, IndexCollectionType.LIST, \n",
    "            CTX.listIndex(-1));\n",
    "\n",
    "// issue the query and print results\n",
    "System.out.println(\"Records with value in range 85-93 in the nested list in list_bin:\");\n",
    "Filter filter = Filter.range(ListBin, IndexCollectionType.LIST, 85, 93, CTX.listIndex(-1));\n",
    "executeQueryAndPrintResults(filter, ListBin);"
   ]
  },
  {
   "cell_type": "markdown",
   "metadata": {},
   "source": [
    "#### The top level Map in map_bin has a key in range 5-7."
   ]
  },
  {
   "cell_type": "code",
   "execution_count": 22,
   "metadata": {},
   "outputs": [
    {
     "name": "stdout",
     "output_type": "stream",
     "text": [
      "Records with key in range 5-7 in the top level Map in map_bin:\n",
      "key=106 bins={map_bin={obj={attr2=s62, attr1=61, subobj={attr4=602, attr3=601}}, 6=[s61, s62], oid=6}}\n",
      "key=105 bins={map_bin={5=[s51, s52], obj={attr2=s52, attr1=51, subobj={attr4=502, attr3=501}}, oid=5}}\n",
      "key=107 bins={map_bin={obj={attr2=s72, attr1=71, subobj={attr4=702, attr3=701}}, oid=7, 7=[s71, s72]}}\n"
     ]
    }
   ],
   "source": [
    "// use the index created earlier\n",
    "// issue the query and print results\n",
    "System.out.println(\"Records with key in range 5-7 in the top level Map in map_bin:\");\n",
    "Filter filter = Filter.range(MapBin, IndexCollectionType.MAPKEYS, 5, 7);\n",
    "executeQueryAndPrintResults(filter, MapBin);"
   ]
  },
  {
   "cell_type": "markdown",
   "metadata": {},
   "source": [
    "#### The nested Map \"subobj\" in map_bin has a value in range 300-500."
   ]
  },
  {
   "cell_type": "code",
   "execution_count": 23,
   "metadata": {},
   "outputs": [
    {
     "name": "stdout",
     "output_type": "stream",
     "text": [
      "Created index idx_map_bin_subobj_mapvals_num on ns=test set=cdt-indexing bin=map_bin.\n",
      "Records with value in range 300-500 in the nested Map \"subobj\" in map_bin:\n",
      "key=103 bins={map_bin={obj={attr2=s32, attr1=31, subobj={attr4=302, attr3=301}}, oid=3, 3=[s31, s32]}}\n",
      "key=104 bins={map_bin={4=[s41, s42], obj={attr2=s42, attr1=41, subobj={attr4=402, attr3=401}}, oid=4}}\n"
     ]
    }
   ],
   "source": [
    "// Create an index for values in nested Map \"subobj\" in map_bin. \n",
    "// idx_map_bin_subobj_mapvals_num\n",
    "createIndex(\"idx_map_bin_subobj_mapvals_num\", MapBin, IndexType.NUMERIC, IndexCollectionType.MAPVALUES, \n",
    "            CTX.mapKey(Value.get(\"obj\")), CTX.mapKey(Value.get(\"subobj\")));\n",
    "\n",
    "// issue the query and print results\n",
    "System.out.println(\"Records with value in range 300-500 in the nested Map \\\"subobj\\\" in map_bin:\");\n",
    "Filter filter = Filter.range(MapBin, IndexCollectionType.MAPVALUES, 300, 500, \n",
    "            CTX.mapKey(Value.get(\"obj\")), CTX.mapKey(Value.get(\"subobj\")));\n",
    "executeQueryAndPrintResults(filter, MapBin);"
   ]
  },
  {
   "cell_type": "markdown",
   "metadata": {},
   "source": [
    "# Indexing JSON Documents\n",
    "We will illustrate how JSON documents can be indexed and accessed using CDT indexing."
   ]
  },
  {
   "cell_type": "markdown",
   "metadata": {},
   "source": [
    "## Initialize Document Client"
   ]
  },
  {
   "cell_type": "code",
   "execution_count": 24,
   "metadata": {},
   "outputs": [
    {
     "name": "stdout",
     "output_type": "stream",
     "text": [
      "Initialized document client from the Aerospike client.\n"
     ]
    }
   ],
   "source": [
    "// Import modules\n",
    "import org.apache.commons.io.FileUtils;\n",
    "import com.fasterxml.jackson.databind.JsonNode;\n",
    "import com.aerospike.documentapi.*;\n",
    "\n",
    "// Initialize Document client from Aerospike client\n",
    "try {\n",
    "    client.close();\n",
    "}\n",
    "catch (Exception ae) {\n",
    "    //ignore\n",
    "}\n",
    "ClientPolicy cPolicy = new ClientPolicy();\n",
    "cPolicy.writePolicyDefault.sendKey = true;\n",
    "AerospikeClient client = new AerospikeClient(cPolicy, \"localhost\", 3000);\n",
    "AerospikeDocumentClient documentClient = new AerospikeDocumentClient(client);\n",
    "System.out.println(\"Initialized document client from the Aerospike client.\");;"
   ]
  },
  {
   "cell_type": "code",
   "execution_count": 25,
   "metadata": {},
   "outputs": [],
   "source": [
    "String Namespace = \"test\";\n",
    "String Set = \"cdt-indexing\";\n",
    "\n",
    "// convenience function to create an index - essentially a pass-through to the client API\n",
    "void createIndex(String idxName, String binName, IndexType idxType, \n",
    "                 IndexCollectionType colType, CTX... ctx) {\n",
    "    try {\n",
    "            IndexTask task = client.createIndex(null,\n",
    "                                       Namespace,\n",
    "                                       Set,\n",
    "                                       idxName,\n",
    "                                       binName,\n",
    "                                       idxType,\n",
    "                                       colType,\n",
    "                                       ctx);\n",
    "            task.waitTillComplete(1000, 0);\n",
    "        }\n",
    "        catch (AerospikeException ae) {\n",
    "            if (ae.getResultCode() != ResultCode.INDEX_ALREADY_EXISTS) {\n",
    "                throw ae;\n",
    "            }\n",
    "        } \n",
    "        System.out.format(\"Created index %s on ns=%s set=%s bin=%s.\\n\", \n",
    "                                    idxName, Namespace, Set, binName);\n",
    "}\n",
    "\n",
    "// convenience function to drop an index - essentially a pass-through to the client API\n",
    "void dropIndex(String idxName) {\n",
    "    try {\n",
    "        IndexTask task = client.dropIndex(null, Namespace, Set, idxName);\n",
    "    }\n",
    "    catch (AerospikeException ae) {\n",
    "        if (ae.getResultCode() != ResultCode.INDEX_NOTFOUND) {\n",
    "            throw ae;\n",
    "        }\n",
    "    } \n",
    "    System.out.format(\"Dropped index %s.\\n\", idxName);\n",
    "}\n",
    "\n",
    "// convenience function to execute a query using the input filter and print the results\n",
    "void executeQueryAndPrintResults(Filter filter, String binName) {\n",
    "    Statement stmt = new Statement();\n",
    "    stmt.setNamespace(Namespace);\n",
    "    stmt.setSetName(Set);\n",
    "    stmt.setFilter(filter);\n",
    "    stmt.setBinNames(binName);\n",
    "    RecordSet rs = client.query(null, stmt);\n",
    "    while (rs.next()) {\n",
    "        Key key = rs.getKey();\n",
    "        Record record = rs.getRecord();\n",
    "        System.out.format(\"key=%s bins=%s\\n\", key.userKey, record.bins);\n",
    "    }\n",
    "    //System.out.println();\n",
    "    rs.close();\n",
    "}\n",
    "\n",
    "// convenience function to truncate test data\n",
    "void truncateTestData() {\n",
    "    try {\n",
    "        client.truncate(null, Namespace, null, null);\n",
    "    }\n",
    "    catch (AerospikeException e) {\n",
    "        // ignore\n",
    "    }\n",
    "}"
   ]
  },
  {
   "cell_type": "markdown",
   "metadata": {},
   "source": [
    "## Example 1: Nobel Prizes JSON Dataset"
   ]
  },
  {
   "cell_type": "markdown",
   "metadata": {},
   "source": [
    "### Read JSON File and Populate Database\n",
    "We will load JSON documents from the file \"nobel_prizes.json\", and store each prize entry in the database in a separate record with user_key starting at 1000 in bin \"json_bin\"."
   ]
  },
  {
   "cell_type": "markdown",
   "metadata": {},
   "source": [
    "### Read JSON File and Populate Database"
   ]
  },
  {
   "cell_type": "code",
   "execution_count": 26,
   "metadata": {},
   "outputs": [
    {
     "name": "stdout",
     "output_type": "stream",
     "text": [
      "Read JSON doc from: /home/jovyan/notebooks/java/nobel_prizes.json\n",
      "Example company schema: \n",
      "{\n",
      "  \"year\" : \"2021\",\n",
      "  \"category\" : \"chemistry\",\n",
      "  \"laureates\" : [ {\n",
      "    \"id\" : \"1002\",\n",
      "    \"firstname\" : \"Benjamin\",\n",
      "    \"surname\" : \"List\",\n",
      "    \"motivation\" : \"\\\"for the development of asymmetric organocatalysis\\\"\",\n",
      "    \"share\" : \"2\"\n",
      "  }, {\n",
      "    \"id\" : \"1003\",\n",
      "    \"firstname\" : \"David\",\n",
      "    \"surname\" : \"MacMillan\",\n",
      "    \"motivation\" : \"\\\"for the development of asymmetric organocatalysis\\\"\",\n",
      "    \"share\" : \"2\"\n",
      "  } ]\n",
      "} \n",
      "\n",
      "Stored 658 JSON documents in database \n"
     ]
    }
   ],
   "source": [
    "String JsonFilePath = \"/home/jovyan/notebooks/java/nobel_prizes.json\";\n",
    "String JsonBin = \"json_bin\";\n",
    "Integer UserKeyOffset = 1000;\n",
    "\n",
    "// Read the json document into a string.\n",
    "String jsonString = FileUtils.readFileToString(new File(JsonFilePath));\n",
    "System.out.format(\"Read JSON doc from: %s\\n\", JsonFilePath);;\n",
    "\n",
    "// Convert JSON string to a JsonNode\n",
    "JsonNode rootNode = JsonConverters.convertStringToJsonNode(jsonString);\n",
    "JsonNode prizesNode = rootNode.path(\"prizes\");\n",
    "\n",
    "Integer prizeIndex = 0;\n",
    "for (JsonNode prizeNode : prizesNode) {\n",
    "    if (prizeIndex == 0) {\n",
    "        System.out.format(\"Example company schema: \\n%s \\n\\n\", prizeNode.toPrettyString());\n",
    "    }\n",
    "    // Add the companies in JSON in separate records\n",
    "    //Key jsonDocKey = new Key(Namespace, Set, UserKeyOffset+prizeIndex+1); \n",
    "    Key jsonDocKey = new Key(\"test\", \"cdt-indexing\", UserKeyOffset+prizeIndex+1); \n",
    "    documentClient.put(jsonDocKey, JsonBin, prizeNode);   \n",
    "    prizeIndex++;\n",
    "}\n",
    "System.out.format(\"Stored %d JSON documents in database \\n\", prizeIndex);;"
   ]
  },
  {
   "cell_type": "markdown",
   "metadata": {},
   "source": [
    "### Execute Query with Index"
   ]
  },
  {
   "cell_type": "markdown",
   "metadata": {},
   "source": [
    "#### Find nobel prizes in a given year."
   ]
  },
  {
   "cell_type": "code",
   "execution_count": 27,
   "metadata": {},
   "outputs": [
    {
     "name": "stdout",
     "output_type": "stream",
     "text": [
      "Created index idx_json_bin_year_str on ns=test set=cdt-indexing bin=json_bin.\n",
      "Nobel prizes in year 1969:\n",
      "key=1317 bins={json_bin={category=physics, year=1969, laureates=[{firstname=Murray, share=1, id=90, surname=Gell-Mann, motivation=\"for his contributions and discoveries concerning the classification of elementary particles and their interactions\"}]}}\n",
      "key=1314 bins={json_bin={category=economics, year=1969, laureates=[{firstname=Ragnar, share=2, id=677, surname=Frisch, motivation=\"for having developed and applied dynamic models for the analysis of economic processes\"}, {firstname=Jan, share=2, id=678, surname=Tinbergen, motivation=\"for having developed and applied dynamic models for the analysis of economic processes\"}]}}\n",
      "key=1313 bins={json_bin={category=chemistry, year=1969, laureates=[{firstname=Derek, share=2, id=237, surname=Barton, motivation=\"for their contributions to the development of the concept of conformation and its application in chemistry\"}, {firstname=Odd, share=2, id=238, surname=Hassel, motivation=\"for their contributions to the development of the concept of conformation and its application in chemistry\"}]}}\n",
      "key=1315 bins={json_bin={category=literature, year=1969, laureates=[{firstname=Samuel, share=1, id=643, surname=Beckett, motivation=\"for his writing, which - in new forms for the novel and drama - in the destitution of modern man acquires its elevation\"}]}}\n",
      "key=1318 bins={json_bin={category=medicine, year=1969, laureates=[{firstname=Max, share=3, id=391, surname=Delbrück, motivation=\"for their discoveries concerning the replication mechanism and the genetic structure of viruses\"}, {firstname=Alfred D., share=3, id=392, surname=Hershey, motivation=\"for their discoveries concerning the replication mechanism and the genetic structure of viruses\"}, {firstname=Salvador E., share=3, id=393, surname=Luria, motivation=\"for their discoveries concerning the replication mechanism and the genetic structure of viruses\"}]}}\n",
      "key=1316 bins={json_bin={category=peace, year=1969, laureates=[{share=1, firstname=International Labour Organization, id=527, motivation=\"for creating international legislation insuring certain norms for working conditions in every country\"}]}}\n"
     ]
    }
   ],
   "source": [
    "// Create an index on the year field.\n",
    "// idx_json_bin_year_str\n",
    "createIndex(\"idx_json_bin_year_str\", JsonBin, IndexType.STRING, IndexCollectionType.DEFAULT, \n",
    "            CTX.mapKey(Value.get(\"year\")));\n",
    "\n",
    "// Find nobel prizes in year 1969.\n",
    "System.out.println(\"Nobel prizes in year 1969:\");\n",
    "Filter filter = Filter.equal(JsonBin, \"1969\", CTX.mapKey(Value.get(\"year\")));\n",
    "executeQueryAndPrintResults(filter, JsonBin);"
   ]
  },
  {
   "cell_type": "markdown",
   "metadata": {},
   "source": [
    "#### Find nobel prizes in a given category."
   ]
  },
  {
   "cell_type": "code",
   "execution_count": 28,
   "metadata": {},
   "outputs": [
    {
     "name": "stdout",
     "output_type": "stream",
     "text": [
      "Created index idx_json_bin_category_str on ns=test set=cdt-indexing bin=json_bin.\n",
      "Nobel peace prizes:\n",
      "key=1046 bins={json_bin={category=peace, year=2014, laureates=[{firstname=Kailash, share=2, id=913, surname=Satyarthi, motivation=\"for their struggle against the suppression of children and young people and for the right of all children to education\"}, {firstname=Malala, share=2, id=914, surname=Yousafzai, motivation=\"for their struggle against the suppression of children and young people and for the right of all children to education\"}]}}\n",
      "key=1541 bins={json_bin={category=peace, year=1924, overallMotivation=\"No Nobel Prize was awarded this year. The prize money was allocated to the Special Fund of this prize section.\"}}\n",
      "key=1070 bins={json_bin={category=peace, year=2010, laureates=[{firstname=Xiaobo, share=1, id=855, surname=Liu, motivation=\"for his long and non-violent struggle for fundamental human rights in China\"}]}}\n",
      "key=1106 bins={json_bin={category=peace, year=2004, laureates=[{firstname=Wangari, share=1, id=783, surname=Maathai, motivation=\"for her contribution to sustainable development, democracy and peace\"}]}}\n",
      "key=1016 bins={json_bin={category=peace, year=2019, laureates=[{firstname=Abiy, share=1, id=981, surname=Ahmed Ali, motivation=\"for his efforts to achieve peace and international cooperation, and in particular for his decisive initiative to resolve the border conflict with neighbouring Eritrea\"}]}}\n",
      "key=1238 bins={json_bin={category=peace, year=1982, laureates=[{firstname=Alva, share=2, id=543, surname=Myrdal, motivation=\"for their work for disarmament and nuclear and weapon-free zones\"}, {firstname=Alfonso, share=2, id=544, surname=García Robles, motivation=\"for their work for disarmament and nuclear and weapon-free zones\"}]}}\n",
      "key=1526 bins={json_bin={category=peace, year=1927, laureates=[{firstname=Ferdinand, share=2, id=492, surname=Buisson, motivation=\"for their contribution to the emergence in France and Germany of a public opinion which favours peaceful international cooperation\"}, {firstname=Ludwig, share=2, id=493, surname=Quidde, motivation=\"for their contribution to the emergence in France and Germany of a public opinion which favours peaceful international cooperation\"}]}}\n",
      "key=1208 bins={json_bin={category=peace, year=1987, laureates=[{firstname=Oscar, share=1, id=549, surname=Arias Sánchez, motivation=\"for his work for lasting peace in Central America\"}]}}\n",
      "key=1511 bins={json_bin={category=peace, year=1930, laureates=[{firstname=Nathan, share=1, id=495, surname=Söderblom, motivation=\"for promoting Christian unity and helping create 'that new attitude of mind which is necessary if peace between nations is to become reality'\"}]}}\n",
      "key=1148 bins={json_bin={category=peace, year=1997, laureates=[{share=2, firstname=International Campaign to Ban Landmines, id=564, motivation=\"for their work for the banning and clearing of anti-personnel mines\"}, {firstname=Jody, share=2, id=565, surname=Williams, motivation=\"for their work for the banning and clearing of anti-personnel mines\"}]}}\n",
      "key=1356 bins={json_bin={category=peace, year=1961, laureates=[{firstname=Dag, share=1, id=520, surname=Hammarskjöld, motivation=\"for developing the UN into an effective and constructive international organization, capable of giving life to the principles and aims expressed in the UN Charter\"}]}}\n",
      "key=1004 bins={json_bin={category=peace, year=2021, laureates=[{firstname=Maria, share=2, id=1005, surname=Ressa, motivation=\"for their efforts to safeguard freedom of expression, which is a precondition for democracy and lasting peace\"}, {firstname=Dmitry, share=2, id=1006, surname=Muratov, motivation=\"for their efforts to safeguard freedom of expression, which is a precondition for democracy and lasting peace\"}]}}\n",
      "key=1611 bins={json_bin={category=peace, year=1910, laureates=[{share=1, firstname=Permanent International Peace Bureau, id=477, motivation=\"for acting as a link between the peace societies of the various countries, and helping them to organize the world rallies of the international peace movement\"}]}}\n",
      "key=1381 bins={json_bin={category=peace, year=1956, overallMotivation=\"No Nobel Prize was awarded this year. The prize money was with 1/3 allocated to the Main Fund and with 2/3 to the Special Fund of this prize section.\"}}\n",
      "key=1286 bins={json_bin={category=peace, year=1974, laureates=[{firstname=Seán, share=2, id=532, surname=MacBride, motivation=\"for his efforts to secure and develop human rights throughout the world\"}, {firstname=Eisaku, share=2, id=533, surname=Sato, motivation=\"for his contribution to stabilize conditions in the Pacific rim area and for signing the Nuclear Non-Proliferation Treaty\"}]}}\n",
      "key=1142 bins={json_bin={category=peace, year=1998, laureates=[{firstname=John, share=2, id=566, surname=Hume, motivation=\"for their efforts to find a peaceful solution to the conflict in Northern Ireland\"}, {firstname=David, share=2, id=567, surname=Trimble, motivation=\"for their efforts to find a peaceful solution to the conflict in Northern Ireland\"}]}}\n",
      "key=1441 bins={json_bin={category=peace, year=1944, laureates=[{share=1, firstname=International Committee of the Red Cross, id=482, motivation=\"for the great work it has performed during the war on behalf of humanity\"}]}}\n",
      "key=1516 bins={json_bin={category=peace, year=1929, laureates=[{firstname=Frank B., share=1, id=494, surname=Kellogg, motivation=\"for his crucial role in bringing about the Briand-Kellogg Pact\"}]}}\n",
      "key=1094 bins={json_bin={category=peace, year=2006, laureates=[{firstname=Muhammad, share=2, id=809, surname=Yunus, motivation=\"for their efforts to create economic and social development from below\"}, {share=2, firstname=Grameen Bank, id=810, motivation=\"for their efforts to create economic and social development from below\"}]}}\n",
      "key=1596 bins={json_bin={category=peace, year=1913, laureates=[{firstname=Henri, share=1, id=481, surname=La Fontaine, motivation=\"for his unparalleled contribution to the organization of peaceful internationalism\"}]}}\n",
      "key=1491 bins={json_bin={category=peace, year=1934, laureates=[{firstname=Arthur, share=1, id=499, surname=Henderson, motivation=\"for his untiring struggle and his courageous efforts as Chairman of the League of Nations Disarmament Conference 1931-34\"}]}}\n",
      "key=1256 bins={json_bin={category=peace, year=1979, laureates=[{firstname=Anjezë Gonxhe, share=1, id=540, surname=Bojaxhiu, motivation=\"for her work for bringing help to suffering humanity\"}]}}\n",
      "key=1040 bins={json_bin={category=peace, year=2015, laureates=[{share=1, firstname=National Dialogue Quartet, id=925, motivation=\"for its decisive contribution to the building of a pluralistic democracy in Tunisia in the wake of the Jasmine Revolution of 2011\"}]}}\n",
      "key=1406 bins={json_bin={category=peace, year=1951, laureates=[{firstname=Léon, share=1, id=512, surname=Jouhaux, motivation=\"for having devoted his life to the fight against war through the promotion of social justice and brotherhood among men and nations\"}]}}\n",
      "key=1184 bins={json_bin={category=peace, year=1991, laureates=[{firstname=Aung San Suu Kyi, share=1, id=553, motivation=\"for her non-violent struggle for democracy and human rights\"}]}}\n",
      "key=1571 bins={json_bin={category=peace, year=1918, overallMotivation=\"No Nobel Prize was awarded this year. The prize money was allocated to the Special Fund of this prize section.\"}}\n",
      "key=1202 bins={json_bin={category=peace, year=1988, laureates=[{share=1, firstname=United Nations Peacekeeping Forces, id=550, motivation=\"for preventing armed clashes and creating conditions for negotiations\"}]}}\n",
      "key=1416 bins={json_bin={category=peace, year=1949, laureates=[{firstname=John, share=1, id=510, surname=Boyd Orr, motivation=\"for his lifelong effort to conquer hunger and want, thereby helping to remove a major cause of military conflict and war\"}]}}\n",
      "key=1486 bins={json_bin={category=peace, year=1935, laureates=[{firstname=Carl, share=1, id=500, surname=von Ossietzky, motivation=\"for his burning love for freedom of thought and expression and his valuable contribution to the cause of peace\"}]}}\n",
      "key=1536 bins={json_bin={category=peace, year=1925, laureates=[{firstname=Sir Austen, share=2, id=488, surname=Chamberlain, motivation=\"for his crucial role in bringing about the Locarno Treaty\"}, {firstname=Charles G., share=2, id=489, surname=Dawes, motivation=\"for his crucial role in bringing about the Dawes Plan\"}]}}\n",
      "key=1521 bins={json_bin={category=peace, year=1928, overallMotivation=\"No Nobel Prize was awarded this year. The prize money was allocated to the Special Fund of this prize section.\"}}\n",
      "key=1268 bins={json_bin={category=peace, year=1977, laureates=[{share=1, firstname=Amnesty International, id=537, motivation=\"for worldwide respect for human rights\"}]}}\n",
      "key=1626 bins={json_bin={category=peace, year=1907, laureates=[{firstname=Ernesto Teodoro, share=2, id=471, surname=Moneta, motivation=\"for his work in the press and in peace meetings, both public and private, for an understanding between France and Italy\"}, {firstname=Louis, share=2, id=472, surname=Renault, motivation=\"for his decisive influence upon the conduct and outcome of the Hague and Geneva Conferences\"}]}}\n",
      "key=1346 bins={json_bin={category=peace, year=1963, laureates=[{share=2, firstname=International Committee of the Red Cross, id=482, motivation=\"for promoting the principles of the Geneva Convention and cooperation with the UN\"}, {share=2, firstname=League of Red Cross Societies, id=523, motivation=\"for promoting the principles of the Geneva Convention and cooperation with the UN\"}]}}\n",
      "key=1446 bins={json_bin={category=peace, year=1943, overallMotivation=\"No Nobel Prize was awarded this year. The prize money was with 1/3 allocated to the Main Fund and with 2/3 to the Special Fund of this prize section.\"}}\n",
      "key=1136 bins={json_bin={category=peace, year=1999, laureates=[{share=1, firstname=Doctors Without Borders, id=568, motivation=\"in recognition of the organisation's pioneering humanitarian work on several continents\"}]}}\n",
      "key=1576 bins={json_bin={category=peace, year=1917, laureates=[{share=1, firstname=International Committee of the Red Cross, id=482, motivation=\"for the efforts to take care of wounded soldiers and prisoners of war and their families\"}]}}\n",
      "key=1501 bins={json_bin={category=peace, year=1932, overallMotivation=\"No Nobel Prize was awarded this year. The prize money was allocated to the Special Fund of this prize section.\"}}\n",
      "key=1481 bins={json_bin={category=peace, year=1936, laureates=[{firstname=Carlos, share=1, id=501, surname=Saavedra Lamas, motivation=\"for his role as father of the Argentine Antiwar Pact of 1933, which he also used as a means to mediate peace between Paraguay and Bolivia in 1935\"}]}}\n",
      "key=1118 bins={json_bin={category=peace, year=2002, laureates=[{firstname=Jimmy, share=1, id=762, surname=Carter, motivation=\"for his decades of untiring effort to find peaceful solutions to international conflicts, to advance democracy and human rights, and to promote economic and social development\"}]}}\n",
      "key=1064 bins={json_bin={category=peace, year=2011, laureates=[{firstname=Ellen, share=3, id=869, surname=Johnson Sirleaf, motivation=\"for their non-violent struggle for the safety of women and for women's rights to full participation in peace-building work\"}, {firstname=Leymah, share=3, id=870, surname=Gbowee, motivation=\"for their non-violent struggle for the safety of women and for women's rights to full participation in peace-building work\"}, {firstname=Tawakkol, share=3, id=871, surname=Karman, motivation=\"for their non-violent struggle for the safety of women and for women's rights to full participation in peace-building work\"}]}}\n",
      "key=1082 bins={json_bin={category=peace, year=2008, laureates=[{firstname=Martti, share=1, id=833, surname=Ahtisaari, motivation=\"for his important efforts, on several continents and over more than three decades, to resolve international conflicts\"}]}}\n",
      "key=1214 bins={json_bin={category=peace, year=1986, laureates=[{firstname=Elie, share=1, id=548, surname=Wiesel, motivation=\"for being a messenger to mankind: his message is one of peace, atonement and dignity\"}]}}\n",
      "key=1058 bins={json_bin={category=peace, year=2012, laureates=[{share=1, firstname=European Union, id=881, motivation=\"for over six decades contributed to the advancement of peace and reconciliation, democracy and human rights in Europe\"}]}}\n",
      "key=1022 bins={json_bin={category=peace, year=2018, laureates=[{firstname=Denis, share=2, id=966, surname=Mukwege, motivation=\"for their efforts to end the use of sexual violence as a weapon of war and armed conflict\"}, {firstname=Nadia, share=2, id=967, surname=Murad, motivation=\"for their efforts to end the use of sexual violence as a weapon of war and armed conflict\"}]}}\n",
      "key=1581 bins={json_bin={category=peace, year=1916, overallMotivation=\"No Nobel Prize was awarded this year. The prize money was allocated to the Special Fund of this prize section.\"}}\n",
      "key=1566 bins={json_bin={category=peace, year=1919, laureates=[{firstname=Woodrow, share=1, id=483, surname=Wilson, motivation=\"for his role as founder of the League of Nations\"}]}}\n",
      "key=1361 bins={json_bin={category=peace, year=1960, laureates=[{firstname=Albert, share=1, id=519, surname=Lutuli, motivation=\"for his non-violent struggle against apartheid\"}]}}\n",
      "key=1591 bins={json_bin={category=peace, year=1914, overallMotivation=\"No Nobel Prize was awarded this year. The prize money was allocated to the Special Fund of this prize section.\"}}\n",
      "key=1646 bins={json_bin={category=peace, year=1903, laureates=[{firstname=Randal, share=1, id=466, surname=Cremer, motivation=\"for his longstanding and devoted effort in favour of the ideas of peace and arbitration\"}]}}\n",
      "key=1034 bins={json_bin={category=peace, year=2016, laureates=[{firstname=Juan Manuel, share=1, id=934, surname=Santos, motivation=\"for his resolute efforts to bring the country's more than 50-year-long civil war to an end\"}]}}\n",
      "key=1426 bins={json_bin={category=peace, year=1947, laureates=[{share=2, firstname=Friends Service Council, id=508, motivation=\"for their pioneering work in the international peace movement and compassionate effort to relieve human suffering, thereby promoting the fraternity between nations\"}, {share=2, firstname=American Friends Service Committee, id=509, motivation=\"for their pioneering work in the international peace movement and compassionate effort to relieve human suffering, thereby promoting the fraternity between nations\"}]}}\n",
      "key=1471 bins={json_bin={category=peace, year=1938, laureates=[{share=1, firstname=Nansen International Office for Refugees, id=503, motivation=\"for having carried on the work of Fridtjof Nansen to the benefit of refugees across Europe\"}]}}\n",
      "key=1606 bins={json_bin={category=peace, year=1911, laureates=[{firstname=Tobias, share=2, id=478, surname=Asser, motivation=\"for his role as co-founder of the Institut de droit international, initiator of the Conferences on International Private Law (Conférences de Droit international privé) at the Hague, and pioneer in the field of international legal relations\"}, {firstname=Alfred, share=2, id=479, surname=Fried, motivation=\"for his effort to expose and fight what he considers to be the main cause of war, namely, the anarchy in international relations\"}]}}\n",
      "key=1130 bins={json_bin={category=peace, year=2000, laureates=[{firstname=Kim, share=1, id=725, surname=Dae-jung, motivation=\"for his work for democracy and human rights in South Korea and in East Asia in general, and for peace and reconciliation with North Korea in particular\"}]}}\n",
      "key=1506 bins={json_bin={category=peace, year=1931, laureates=[{firstname=Jane, share=2, id=496, surname=Addams, motivation=\"for their assiduous effort to revive the ideal of peace and to rekindle the spirit of peace in their own nation and in the whole of mankind\"}, {firstname=Nicholas Murray, share=2, id=497, surname=Butler, motivation=\"for their assiduous effort to revive the ideal of peace and to rekindle the spirit of peace in their own nation and in the whole of mankind\"}]}}\n",
      "key=1546 bins={json_bin={category=peace, year=1923, overallMotivation=\"No Nobel Prize was awarded this year. The prize money was allocated to the Special Fund of this prize section.\"}}\n",
      "key=1431 bins={json_bin={category=peace, year=1946, laureates=[{firstname=Emily Greene, share=2, id=506, surname=Balch, motivation=\"for her lifelong work for the cause of peace\"}, {firstname=John R., share=2, id=507, surname=Mott, motivation=\"for his contribution to the creation of a peace-promoting religious brotherhood across national boundaries\"}]}}\n",
      "key=1391 bins={json_bin={category=peace, year=1954, laureates=[{share=1, firstname=Office of the United Nations High Commissioner for Refugees, id=515, motivation=\"for its efforts to heal the wounds of war by providing help and protection to refugees all over the world\"}]}}\n",
      "key=1250 bins={json_bin={category=peace, year=1980, laureates=[{firstname=Adolfo, share=1, id=541, surname=Pérez Esquivel, motivation=\"for being a source of inspiration to repressed people, especially in Latin America\"}]}}\n",
      "key=1292 bins={json_bin={category=peace, year=1973, laureates=[{firstname=Henry, share=2, id=530, surname=Kissinger, motivation=\"for jointly having negotiated a cease fire in Vietnam in 1973\"}, {firstname=Le Duc Tho, share=2, id=531, motivation=\"for jointly having negotiated a cease fire in Vietnam in 1973\"}]}}\n",
      "key=1190 bins={json_bin={category=peace, year=1990, laureates=[{firstname=Mikhail, share=1, id=552, surname=Gorbachev, motivation=\"for the leading role he played in the radical changes in East-West relations\"}]}}\n",
      "key=1561 bins={json_bin={category=peace, year=1920, laureates=[{firstname=Léon, share=1, id=484, surname=Bourgeois, motivation=\"for his longstanding contribution to the cause of peace and justice and his prominent role in the establishment of the League of Nations\"}]}}\n",
      "key=1401 bins={json_bin={category=peace, year=1952, laureates=[{firstname=Albert, share=1, id=513, surname=Schweitzer, motivation=\"for his altruism, reverence for life, and tireless humanitarian work which has helped making the idea of brotherhood between men and nations a living one\"}]}}\n",
      "key=1386 bins={json_bin={category=peace, year=1955, overallMotivation=\"No Nobel Prize was awarded this year. The prize money was allocated to the Special Fund of this prize section.\"}}\n",
      "key=1052 bins={json_bin={category=peace, year=2013, laureates=[{share=1, firstname=Organisation for the Prohibition of Chemical Weapons, id=893, motivation=\"for its extensive efforts to eliminate chemical weapons\"}]}}\n",
      "key=1088 bins={json_bin={category=peace, year=2007, laureates=[{share=2, firstname=Intergovernmental Panel on Climate Change, id=818, motivation=\"for their efforts to build up and disseminate greater knowledge about man-made climate change, and to lay the foundations for the measures that are needed to counteract such change\"}, {firstname=Al, share=2, id=819, surname=Gore, motivation=\"for their efforts to build up and disseminate greater knowledge about man-made climate change, and to lay the foundations for the measures that are needed to counteract such change\"}]}}\n",
      "key=1421 bins={json_bin={category=peace, year=1948, overallMotivation=\"No Nobel Prize was awarded this year. The prize money was with 1/3 allocated to the Main Fund and with 2/3 to the Special Fund of this prize section.\"}}\n",
      "key=1396 bins={json_bin={category=peace, year=1953, laureates=[{firstname=George C., share=1, id=514, surname=Marshall, motivation=\"for proposing and supervising the plan for the economic recovery of Europe\"}]}}\n",
      "key=1616 bins={json_bin={category=peace, year=1909, laureates=[{firstname=Auguste, share=2, id=475, surname=Beernaert, motivation=\"for their prominent position in the international movement for peace and arbitration\"}, {firstname=Paul Henri, share=2, id=476, surname=d'Estournelles de Constant, motivation=\"for their prominent position in the international movement for peace and arbitration\"}]}}\n",
      "key=1631 bins={json_bin={category=peace, year=1906, laureates=[{firstname=Theodore, share=1, id=470, surname=Roosevelt, motivation=\"for his role in bringing to an end the bloody war recently waged between two of the world's great powers, Japan and Russia\"}]}}\n",
      "key=1651 bins={json_bin={category=peace, year=1902, laureates=[{firstname=Élie, share=2, id=464, surname=Ducommun, motivation=\"for his untiring and skilful directorship of the Bern Peace Bureau\"}, {firstname=Albert, share=2, id=465, surname=Gobat, motivation=\"for his eminently practical administration of the Inter-Parliamentary Union\"}]}}\n",
      "key=1366 bins={json_bin={category=peace, year=1959, laureates=[{firstname=Philip, share=1, id=518, surname=Noel-Baker, motivation=\"for his longstanding contribution to the cause of disarmament and peace\"}]}}\n",
      "key=1076 bins={json_bin={category=peace, year=2009, laureates=[{firstname=Barack, share=1, id=845, surname=Obama, motivation=\"for his extraordinary efforts to strengthen international diplomacy and cooperation between peoples\"}]}}\n",
      "key=1112 bins={json_bin={category=peace, year=2003, laureates=[{firstname=Shirin, share=1, id=773, surname=Ebadi, motivation=\"for her efforts for democracy and human rights. She has focused especially on the struggle for the rights of women and children\"}]}}\n",
      "key=1641 bins={json_bin={category=peace, year=1904, laureates=[{share=1, firstname=Institute of International Law, id=467, motivation=\"for its striving in public law to develop peaceful ties between nations and to make the laws of war more humane\"}]}}\n",
      "key=1310 bins={json_bin={category=peace, year=1970, laureates=[{firstname=Norman, share=1, id=528, surname=Borlaug, motivation=\"for having given a well-founded hope - the green revolution\"}]}}\n",
      "key=1376 bins={json_bin={category=peace, year=1957, laureates=[{firstname=Lester Bowles, share=1, id=516, surname=Pearson, motivation=\"for his crucial contribution to the deployment of a United Nations Emergency Force in the wake of the Suez Crisis\"}]}}\n",
      "key=1351 bins={json_bin={category=peace, year=1962, laureates=[{firstname=Linus, share=1, id=217, surname=Pauling, motivation=\"for his fight against the nuclear arms race between East and West\"}]}}\n",
      "key=1456 bins={json_bin={category=peace, year=1941, overallMotivation=\"No Nobel Prize was awarded this year. The prize money was with 1/3 allocated to the Main Fund and with 2/3 to the Special Fund of this prize section.\"}}\n",
      "key=1601 bins={json_bin={category=peace, year=1912, laureates=[{firstname=Elihu, share=1, id=480, surname=Root, motivation=\"for bringing about better understanding between the countries of North and South America and initiating important arbitration agreements between the United States and other countries\"}]}}\n",
      "key=1154 bins={json_bin={category=peace, year=1996, laureates=[{firstname=Carlos Filipe Ximenes, share=2, id=562, surname=Belo, motivation=\"for their work towards a just and peaceful solution to the conflict in East Timor\"}, {firstname=José, share=2, id=563, surname=Ramos-Horta, motivation=\"for their work towards a just and peaceful solution to the conflict in East Timor\"}]}}\n",
      "key=1244 bins={json_bin={category=peace, year=1981, laureates=[{share=1, firstname=Office of the United Nations High Commissioner for Refugees, id=515, motivation=\"for promoting the fundamental rights of refugees\"}]}}\n",
      "key=1466 bins={json_bin={category=peace, year=1939, overallMotivation=\"No Nobel Prize was awarded this year. The prize money was with 1/3 allocated to the Main Fund and with 2/3 to the Special Fund of this prize section.\"}}\n",
      "key=1100 bins={json_bin={category=peace, year=2005, laureates=[{share=2, firstname=International Atomic Energy Agency, id=797, motivation=\"for their efforts to prevent nuclear energy from being used for military purposes and to ensure that nuclear energy for peaceful purposes is used in the safest possible way\"}, {firstname=Mohamed, share=2, id=798, surname=ElBaradei, motivation=\"for their efforts to prevent nuclear energy from being used for military purposes and to ensure that nuclear energy for peaceful purposes is used in the safest possible way\"}]}}\n",
      "key=1586 bins={json_bin={category=peace, year=1915, overallMotivation=\"No Nobel Prize was awarded this year. The prize money was allocated to the Special Fund of this prize section.\"}}\n",
      "key=1556 bins={json_bin={category=peace, year=1921, laureates=[{firstname=Hjalmar, share=2, id=485, surname=Branting, motivation=\"for their lifelong contributions to the cause of peace and organized internationalism\"}, {firstname=Christian, share=2, id=486, surname=Lange, motivation=\"for their lifelong contributions to the cause of peace and organized internationalism\"}]}}\n",
      "key=1010 bins={json_bin={category=peace, year=2020, laureates=[{share=1, firstname=World Food Programme, id=994, motivation=\"for its efforts to combat hunger, for its contribution to bettering conditions for peace in conflict-affected areas and for acting as a driving force in efforts to prevent the use of hunger as a weapon of war and conflict\"}]}}\n",
      "key=1226 bins={json_bin={category=peace, year=1984, laureates=[{firstname=Desmond, share=1, id=546, surname=Tutu, motivation=\"for his role as a unifying leader figure in the non-violent campaign to resolve the problem of apartheid in South Africa\"}]}}\n",
      "key=1172 bins={json_bin={category=peace, year=1993, laureates=[{firstname=Nelson, share=2, id=555, surname=Mandela, motivation=\"for their work for the peaceful termination of the apartheid regime, and for laying the foundations for a new democratic South Africa\"}, {firstname=F.W., share=2, id=556, surname=de Klerk, motivation=\"for their work for the peaceful termination of the apartheid regime, and for laying the foundations for a new democratic South Africa\"}]}}\n",
      "key=1232 bins={json_bin={category=peace, year=1983, laureates=[{firstname=Lech, share=1, id=545, surname=Walesa, motivation=\"for non-violent struggle for free trade unions and human rights in Poland\"}]}}\n",
      "key=1451 bins={json_bin={category=peace, year=1942, overallMotivation=\"No Nobel Prize was awarded this year. The prize money was with 1/3 allocated to the Main Fund and with 2/3 to the Special Fund of this prize section.\"}}\n",
      "key=1196 bins={json_bin={category=peace, year=1989, laureates=[{firstname=Lhamo, share=1, id=551, surname=Thondup, motivation=\"for advocating peaceful solutions based upon tolerance and mutual respect in order to preserve the historical and cultural heritage of his people\"}]}}\n",
      "key=1298 bins={json_bin={category=peace, year=1972, overallMotivation=\"No Nobel Prize was awarded this year. The prize money for 1972 was allocated to the Main Fund.\"}}\n",
      "key=1436 bins={json_bin={category=peace, year=1945, laureates=[{firstname=Cordell, share=1, id=505, surname=Hull, motivation=\"for his indefatigable work for international understanding and his pivotal role in establishing the United Nations\"}]}}\n",
      "key=1178 bins={json_bin={category=peace, year=1992, laureates=[{firstname=Rigoberta, share=1, id=554, surname=Menchú Tum, motivation=\"for her struggle for social justice and ethno-cultural reconciliation based on respect for the rights of indigenous peoples\"}]}}\n",
      "key=1371 bins={json_bin={category=peace, year=1958, laureates=[{firstname=Georges, share=1, id=517, surname=Pire, motivation=\"for his efforts to help refugees to leave their camps and return to a life of freedom and dignity\"}]}}\n",
      "key=1621 bins={json_bin={category=peace, year=1908, laureates=[{firstname=Klas Pontus, share=2, id=473, surname=Arnoldson, motivation=\"for their long time work for the cause of peace as politicians, peace society leaders, orators and authors\"}, {firstname=Fredrik, share=2, id=474, surname=Bajer, motivation=\"for their long time work for the cause of peace as politicians, peace society leaders, orators and authors\"}]}}\n",
      "key=1636 bins={json_bin={category=peace, year=1905, laureates=[{firstname=Bertha, share=1, id=468, surname=von Suttner, motivation=\"for her audacity to oppose the horrors of war\"}]}}\n",
      "key=1280 bins={json_bin={category=peace, year=1975, laureates=[{firstname=Andrei, share=1, id=534, surname=Sakharov, motivation=\"for his struggle for human rights in the Soviet Union, for disarmament and cooperation between all nations\"}]}}\n",
      "key=1321 bins={json_bin={category=peace, year=1968, laureates=[{firstname=René, share=1, id=526, surname=Cassin, motivation=\"for his struggle to ensure the rights of man as stipulated in the UN Declaration\"}]}}\n",
      "key=1411 bins={json_bin={category=peace, year=1950, laureates=[{firstname=Ralph, share=1, id=511, surname=Bunche, motivation=\"for his work as mediator in Palestine in 1948-1949\"}]}}\n",
      "key=1220 bins={json_bin={category=peace, year=1985, laureates=[{share=1, firstname=International Physicians for the Prevention of Nuclear War, id=547, motivation=\"for spreading authoritative information and by creating awareness of the catastrophic consequences of nuclear war\"}]}}\n",
      "key=1304 bins={json_bin={category=peace, year=1971, laureates=[{firstname=Willy, share=1, id=529, surname=Brandt, motivation=\"for paving the way for a meaningful dialogue between East and West\"}]}}\n",
      "key=1461 bins={json_bin={category=peace, year=1940, overallMotivation=\"No Nobel Prize was awarded this year. The prize money was with 1/3 allocated to the Main Fund and with 2/3 to the Special Fund of this prize section.\"}}\n",
      "key=1160 bins={json_bin={category=peace, year=1995, laureates=[{firstname=Joseph, share=2, id=560, surname=Rotblat, motivation=\"for their efforts to diminish the part played by nuclear arms in international politics and, in the longer run, to eliminate such arms\"}, {share=2, firstname=Pugwash Conferences on Science and World Affairs, id=561, motivation=\"for their efforts to diminish the part played by nuclear arms in international politics and, in the longer run, to eliminate such arms\"}]}}\n",
      "key=1531 bins={json_bin={category=peace, year=1926, laureates=[{firstname=Aristide, share=2, id=490, surname=Briand, motivation=\"for their crucial role in bringing about the Locarno Treaty\"}, {firstname=Gustav, share=2, id=491, surname=Stresemann, motivation=\"for their crucial role in bringing about the Locarno Treaty\"}]}}\n",
      "key=1262 bins={json_bin={category=peace, year=1978, laureates=[{firstname=Anwar, share=2, id=538, surname=al-Sadat, motivation=\"for jointly having negotiated peace between Egypt and Israel in 1978\"}, {firstname=Menachem, share=2, id=539, surname=Begin, motivation=\"for jointly having negotiated peace between Egypt and Israel in 1978\"}]}}\n",
      "key=1028 bins={json_bin={category=peace, year=2017, laureates=[{share=1, firstname=International Campaign to Abolish Nuclear Weapons, id=948, motivation=\"for its work to draw attention to the catastrophic humanitarian consequences of any use of nuclear weapons and for its ground-breaking efforts to achieve a treaty-based prohibition of such weapons\"}]}}\n",
      "key=1316 bins={json_bin={category=peace, year=1969, laureates=[{share=1, firstname=International Labour Organization, id=527, motivation=\"for creating international legislation insuring certain norms for working conditions in every country\"}]}}\n",
      "key=1336 bins={json_bin={category=peace, year=1965, laureates=[{share=1, firstname=United Nations Children's Fund, id=525, motivation=\"for its effort to enhance solidarity between nations and reduce the difference between rich and poor states\"}]}}\n",
      "key=1274 bins={json_bin={category=peace, year=1976, laureates=[{firstname=Betty, share=2, id=535, surname=Williams, motivation=\"for the courageous efforts in founding a movement to put an end to the violent conflict in Northern Ireland\"}, {firstname=Mairead, share=2, id=536, surname=Corrigan, motivation=\"for the courageous efforts in founding a movement to put an end to the violent conflict in Northern Ireland\"}]}}\n",
      "key=1341 bins={json_bin={category=peace, year=1964, laureates=[{firstname=Martin Luther, share=1, id=524, surname=King Jr., motivation=\"for his non-violent struggle for civil rights for the Afro-American population\"}]}}\n",
      "key=1496 bins={json_bin={category=peace, year=1933, laureates=[{firstname=Sir Norman, share=1, id=498, surname=Angell, motivation=\"for having exposed by his pen the illusion of war and presented a convincing plea for international cooperation and peace\"}]}}\n",
      "key=1326 bins={json_bin={category=peace, year=1967, overallMotivation=\"No Nobel Prize was awarded this year. The prize money was with 1/3 allocated to the Main Fund and with 2/3 to the Special Fund of this prize section.\"}}\n",
      "key=1124 bins={json_bin={category=peace, year=2001, laureates=[{share=2, firstname=United Nations, id=748, motivation=\"for their work for a better organized and more peaceful world\"}, {firstname=Kofi, share=2, id=749, surname=Annan, motivation=\"for their work for a better organized and more peaceful world\"}]}}\n",
      "key=1656 bins={json_bin={category=peace, year=1901, laureates=[{firstname=Henry, share=2, id=462, surname=Dunant, motivation=\"for his humanitarian efforts to help wounded soldiers and create international understanding\"}, {firstname=Frédéric, share=2, id=463, surname=Passy, motivation=\"for his lifelong work for international peace conferences, diplomacy and arbitration\"}]}}\n",
      "key=1331 bins={json_bin={category=peace, year=1966, overallMotivation=\"No Nobel Prize was awarded this year. The prize money was allocated to the Special Fund of this prize section.\"}}\n",
      "key=1166 bins={json_bin={category=peace, year=1994, laureates=[{firstname=Yasser, share=3, id=557, surname=Arafat, motivation=\"for their efforts to create peace in the Middle East\"}, {firstname=Shimon, share=3, id=558, surname=Peres, motivation=\"for their efforts to create peace in the Middle East\"}, {firstname=Yitzhak, share=3, id=559, surname=Rabin, motivation=\"for their efforts to create peace in the Middle East\"}]}}\n",
      "key=1551 bins={json_bin={category=peace, year=1922, laureates=[{firstname=Fridtjof, share=1, id=487, surname=Nansen, motivation=\"for his leading role in the repatriation of prisoners of war, in international relief work and as the League of Nations' High Commissioner for refugees\"}]}}\n",
      "key=1476 bins={json_bin={category=peace, year=1937, laureates=[{firstname=Robert, share=1, id=502, surname=Cecil, motivation=\"for his tireless effort in support of the League of Nations, disarmament and peace\"}]}}\n"
     ]
    }
   ],
   "source": [
    "// Create an index on the category field.\n",
    "// idx_json_bin_category_str\n",
    "createIndex(\"idx_json_bin_category_str\", JsonBin, IndexType.STRING, IndexCollectionType.DEFAULT, \n",
    "            CTX.mapKey(Value.get(\"category\")));\n",
    "\n",
    "// Find nobel prizes for peace.\n",
    "System.out.println(\"Nobel peace prizes:\");\n",
    "Filter filter = Filter.equal(JsonBin, \"peace\", CTX.mapKey(Value.get(\"category\")));\n",
    "executeQueryAndPrintResults(filter, JsonBin);"
   ]
  },
  {
   "cell_type": "markdown",
   "metadata": {},
   "source": [
    "## Example 2: Space Companies JSON Dataset"
   ]
  },
  {
   "cell_type": "markdown",
   "metadata": {},
   "source": [
    "### Read JSON File and Populate Database\n",
    "We will load JSON documents from the file \"space_companies.json\", and store each prize entry in the database in a separate record with user_key starting at 2000 in bin \"json_bin\"."
   ]
  },
  {
   "cell_type": "code",
   "execution_count": 29,
   "metadata": {},
   "outputs": [
    {
     "name": "stdout",
     "output_type": "stream",
     "text": [
      "Read JSON doc: /home/jovyan/notebooks/java/space_companies.json\n",
      "Example company schema: \n",
      "{\n",
      "  \"_id\" : \"58d163cd6ed7bb3c6ee62e63\",\n",
      "  \"company\" : {\n",
      "    \"_id\" : \"58d164516ed7bb3c6ee62e64\",\n",
      "    \"about\" : \"Telespazio VEGA UK is a dynamic and experienced consulting, technology and engineering services business based in Luton, UK. Following our merger into the Telespazio Group in 2011 we now have access to a vast array of world leading facilities and services, which we provide both within the UK and to our export markets. With a strong history in the European space arena starting in 1978, we have rich relationships across the space industry, with staff working closely with the European Space Agency (ESA) on programs and projects for over 35 years. \",\n",
      "    \"backgroundImage\" : \"https://www.spaceindividuals.com/var/www/images/8907e7e06a094fe31098d167567fa1dc.jpg\",\n",
      "    \"companyLocation\" : \"Capability Green, Luton LU1 3LU, UK\",\n",
      "    \"companyName\" : \"Telespazio VEGA UK\",\n",
      "    \"createdAt\" : \"2017-06-05T00:00:00.000Z\",\n",
      "    \"culture\" : \"As an organisation that aspires to excellence, Telespazio VEGA recognises the need to appreciate our people for their achievements. Without the skills, dedication and enthusiasm of our people, we would not be where we are today. Telespazio VEGA continually strives to create a rewarding environment, offer ample opportunity for personal and professional development and support our people in balancing work and life.\\nTo ensure that we remain relevant and of value to our clients, Telespazio VEGA has created an environment that encourages and rewards innovation and entrepreneurial spirit. This, offered with the financial stability afforded us as part of the Finmeccanica group of companies, means that valid business ideas are given the appropriate backing and support to enable them to succeed.\\nWe also recognise that each individual has their own aspirations for personal development. Therefore, we offer a range of career options that enable consultants to enhance individual niche capabilities, embrace the challenge of business development, and take on the responsibility of a management role. These opportunities are made available through a structured career development programme which enables our people to look closely at themselves, where they are today, and where they see themselves in the future. We recognise and support all these ambitions and look to retain a rich mix of skills and capabilities that will continue to support our clients’ evolving business requirements.\\n\\nContinuous Learning\\nAs a business, Telespazio VEGA places great emphasis on allowing our people to learn and develop, both personally and professionally. We share ideas with colleagues and clients, challenge each other and learn through our involvement with a variety of projects.\\nTelespazio VEGA provides ample opportunity for more formal training. We encourage our people to undertake professional qualifications, and support those who undertake study which relates to their work\\n\",\n",
      "    \"email\" : \"careers@telespazio.com\",\n",
      "    \"galleryImages\" : [ \"https://spaceindividuals.com/var/www/images/4feb7c40b8b3d5a3ea83b600d6731b94.jpg\", \"https://spaceindividuals.com/var/www/images/ab664d6614614b4b771c3fe99e55383b.jpg\", \"https://spaceindividuals.com/var/www/images/d3ab90c334abfe301c93b14b1ff0f2d4.jpg\" ],\n",
      "    \"isPublished\" : true,\n",
      "    \"kindOfEmployeeLookFor\" : null,\n",
      "    \"logoURL\" : \"https://spaceindividuals.com/var/www/images/ca6d9b5d356a2186fb9144b6bb34ab03.png\",\n",
      "    \"mission\" : null,\n",
      "    \"paymentType\" : \"enterprise\",\n",
      "    \"phone\" : \"+44 (0)1582 399000\",\n",
      "    \"sizeCompany\" : \"100-250 employees\",\n",
      "    \"specialities\" : \"We now serve a wide range of public and private commercial markets globally by providing efficient, skilled support, the most up to date space data and services, and fundamentally, understanding and integrating the needs of our customers.\\n\\nWe have developed and harnessed our knowledge and expertise to deliver unique complex solutions for:\\nGEO Information, Satellite Systems and Applications &amp; Satellite Communications.\\nWe offer robust and reliable ground segment systems for satellite missions and utilise space assets to develop downstream applications across a wide variety of sectors. \\nWe provide world leading scientific services on earth observation and space science missions.\\nOur valued and experienced knowledgeable experts deliver consulting and engineering support to space missions worldwide.\",\n",
      "    \"testimonials\" : null,\n",
      "    \"updatedAt\" : \"2021-01-20T09:45:41.731Z\",\n",
      "    \"weOfferChallenges\" : null,\n",
      "    \"weOfferKindOfChallenges\" : \"Telespazio VEGA’s culture is defined by our people, and drives the value we deliver through the relationships we have with our stakeholders.\\n\\nOur culture is distinct and discernible, mirroring the multi-national, multi-disciplinary environment in which we work. It is based on a practical engineering ethos that thrives on challenge, and engenders a rigorous, analytical, results-oriented approach to problem solving. We are open and honest, say what we believe, and challenge that which we do not.\\n\\nAt Telespazio VEGA, our culture is also based on a pursuit of excellence and thought leadership – not only in our understanding of the technologies with which we work and the market domains in which they are applied, but also in the quality of the ideas, methodologies, services and solutions we deliver.\\n\\nWe share with our clients an unparalleled enthusiasm for Space and its application in society. Therefore, we are able to empathise strongly, and invest this understanding and commitment into long-term relationships with our clients and stakeholders.\\n\",\n",
      "    \"weOfferKindOfTrainings\" : null,\n",
      "    \"weOfferTrainings\" : null,\n",
      "    \"webSite\" : \"http://telespazio-vega.com\"\n",
      "  },\n",
      "  \"createdAt\" : \"2017-06-05T00:00:00.000Z\",\n",
      "  \"email\" : \"careers@telespazio.com\",\n",
      "  \"jobs\" : null,\n",
      "  \"numberOfJobs\" : 0,\n",
      "  \"updatedAt\" : \"2021-01-20T09:47:36.694Z\"\n",
      "} \n",
      "\n",
      "Stored 154 JSON documents in database \n"
     ]
    }
   ],
   "source": [
    "String JsonFilePath = \"/home/jovyan/notebooks/java/space_companies.json\";\n",
    "String JsonBin = \"json_bin\";\n",
    "Integer UserKeyOffset = 2000;\n",
    "\n",
    "// Read the json document into a string.\n",
    "String jsonString = FileUtils.readFileToString(new File(JsonFilePath));\n",
    "System.out.format(\"Read JSON doc: %s\\n\", JsonFilePath);;\n",
    "\n",
    "// Convert JSON string to a JsonNode\n",
    "JsonNode rootNode = JsonConverters.convertStringToJsonNode(jsonString);\n",
    "\n",
    "JsonNode companiesNode = rootNode.path(\"companies\");\n",
    "\n",
    "Integer companyIndex = 0;\n",
    "for (JsonNode companyNode : companiesNode) {\n",
    "    if (companyIndex == 1) {\n",
    "        System.out.format(\"Example company schema: \\n%s \\n\\n\", companyNode.toPrettyString());\n",
    "    }\n",
    "    // Add the companies in JSON in separate records\n",
    "    Key jsonDocKey = new Key(Namespace, Set, UserKeyOffset+companyIndex+1); \n",
    "    documentClient.put(jsonDocKey, JsonBin, companyNode);   \n",
    "    companyIndex++;\n",
    "}\n",
    "System.out.format(\"Stored %d JSON documents in database \\n\", companyIndex);;"
   ]
  },
  {
   "cell_type": "markdown",
   "metadata": {},
   "source": [
    "### Execute Query with Index "
   ]
  },
  {
   "cell_type": "markdown",
   "metadata": {},
   "source": [
    "#### Find companies by number of job postings."
   ]
  },
  {
   "cell_type": "code",
   "execution_count": 30,
   "metadata": {},
   "outputs": [
    {
     "name": "stdout",
     "output_type": "stream",
     "text": [
      "Created index idx_json_bin_number_of_jobs_num on ns=test set=cdt-indexing bin=json_bin.\n",
      "Companies with numberOfJobs greater than 10:\n",
      "key=2071 bins={json_bin={createdAt=2018-03-07T14:02:08.000Z, jobs=null, numberOfJobs=16, company={backgroundImage=https://spaceindividuals.com/var/www/images/093fb01f43d429801105c6fc0b224d40.jpg, companyName=Terma Group, about=At Terma our people make the difference. We employ talented, dedicated people to deliver integration and engineering solutions that help meet aerospace, defense, and security challenges. We are continually looking for highly qualified candidates to join in contributing to our outstanding team. If you're looking for a career where your expertise can make a difference, look to Terma., paymentType=enterprise, webSite=https://www.terma.com, createdAt=2017-09-14T11:52:51.608Z, jobDisclaimer=Privacy Notice\n",
      "By submitting your job application you confirm that you have read, understood and accepted this Privacy Notice, including Terma’s Privacy Policy as referenced below; and are providing your consent to Terma’s storage and processing of your personal data accordingly.\n",
      "\n",
      "This Privacy Notice covers any personal data you submit to Terma for the recruiting process, including e.g.:\n",
      "•\tYour name, contact details and application status\n",
      "•\tInformation included in your CV or cover letter, such as job history, academic background, skills and competencies, personal interests, languages spoken, and your photo\n",
      "•\tJob preferences and type of employment sought\n",
      "•\tNames and contact details for references\n",
      "\n",
      "Please visit our Privacy Policy at www.terma.com. Here you will find additional information about our compliance with GDPR, how we use and protect your data, as well as information about your rights pursuant to GDPR. You will also find information who to contact at Terma in case you want to exercise these rights., sizeCompany=1000+employees, weOfferTrainings=null, weOfferKindOfTrainings=null, youTubeLink=null, email=recruitment.de@terma.com, specialities=The high-tech and innovative Terma Group develops products and systems for defense, non-defense and security applications, including command and control systems, radar systems, self-protection systems for aircraft and vessels, space technology, and aerostructures for the aircraft industry. \n",
      "  \n",
      "Terma A/S is headquartered at Aarhus, Denmark. Internationally, Terma has subsidiaries and operations in The Netherlands, Germany, United Kingdom, United Arab Emirates, India, Singapore and the U.S.\n",
      "\n",
      "The worldwide space market is developing positively, and our product development over the last years has placed Terma in a comfortable position for a number of new opportunities in Europe, the U.S., and in the Far East. This applies to electronics and software solutions as well as space engineering services.\n",
      "\n",
      "Space activities in The Netherlands include in-house turnkey system integration and development, specializing in spacecraft test, simulation, and in-orbit management systems together with the provisioning of highly specialized engineering consultants to ESA’s European Space Research and Technology Centre (ESTEC) in Noordwijk, The Netherlands.\n",
      "\n",
      "Terma GmbH, the German subsidiary, focuses on support and services. For the spacecraft prime contractors, Terma GmbH supplies key components for the facilities they use for validating their mission critical spacecraft flight software. Within ESA, we have provided the ExoMars, BepiColombo, and Solar Orbiter Mission Control Systems and the ExoMars Operational Simulator. \n",
      "In the financial year 2016-2017, Terma secured new framework contracts with the European Space Operations Centre (ESOC), covering both systems and services. We have an increased presence in the European Organisation for the Exploitation of Meteorological Satellites (EUMETSAT), providing services including IT Support Services., updatedAt=2017-09-14T11:52:51.608Z, isPublished=true, weOfferKindOfChallenges=Employment in Terma is either the start or the continuation of a career within a unique domain. Our strengths are dedicated professionalism, willingness to learn and improve, and strong relations between colleagues and customers worldwide. Unique solutions require talents. We make an effort to create an optimal environment for individual development through specific training as well as good leadership.\n",
      "\n",
      "As a new employee, your immediate superior welcomes you with an intensive introduction program as well as a personal mentor. A good start is crucial for a long relationship. \n",
      "\n",
      "Apprentices are our guarantee to secure a highly competent next generation in Terma. At Terma, you will meet high professional knowledge and great willingness to share it., companyLocation=Darmstadt, Germany, logoURL=https://spaceindividuals.com/var/www/images/d0bbd244d55c7cdd23fb5f88b2e23228.jpg, testimonials=[], mission=null, phone=+49 6151 86005-0, culture=At Terma, we consider skilled employees, enthusiasm and job satisfaction as the very foundation of our success and as a prerequisite for the development of the “best-in-class” solutions that Terma provides. We lead the way in applying new technology, offering a wide range of growth opportunities for each individual and emphasizing mutual respect across the board in our workplace.\n",
      "\n",
      "Terma offers you a pleasant working environment, where you will be able to take on challenging tasks and responsibilities in a highly professional company.\n",
      "\n",
      "Great opportunities for training and personal development | Challenges in advanced technical environment | International and cosmopolitan working atmosphere | An employment contract with an attractive package with extra-legal benefits | Highly competitive salary, _id=590a25f07cd117274a0ae682, kindOfEmployeeLookFor=null, weOfferChallenges=null, galleryImages=[https://spaceindividuals.com/var/www/images/108cff44eaef8f62e47ba801f39cb990.jpg, https://spaceindividuals.com/var/www/images/3f357d9b47a0d847baa3370af40ef389.jpg, https://spaceindividuals.com/var/www/images/749728f120b56e0147db94911be306b7.jpg, https://spaceindividuals.com/var/www/images/87ffa0484e56b3caef69c4c12e76d4dd.jpg, https://spaceindividuals.com/var/www/images/3d007d901b129e42092d637d9445c9c1.jpg, https://spaceindividuals.com/var/www/images/603e2c40097e65500724a76559e46856.jpg, https://spaceindividuals.com/var/www/images/40b9458060e0d2c7874bf72fccf4243a.jpg, https://spaceindividuals.com/var/www/images/27bc979844e2ab508d8b0392bc23424f.jpg]}, _id=590a258c7cd117274a0ae681, email=recruitment.de@terma.com, updatedAt=2021-01-27T13:24:59.183Z}}\n",
      "key=2070 bins={json_bin={createdAt=2018-03-29T14:00:04.000Z, jobs=null, numberOfJobs=62, company={backgroundImage=https://spaceindividuals.com/var/www/images/02873814215a7b781e0f5f10e726926b.jpg, companyName=CERN, about=Imagine taking part in the largest scientific experiment in the world. CERN needs more than physicists, engineers and technicians – if you’re a student or a graduate just starting your career, or are an experienced professional - whatever your field of expertise, CERN could be your next opportunity. CERN, Take Part!\n",
      "\n",
      "CERN is a truly unique organisation. A genuine collaboration between countries, universities and scientists, driven not by profit margins, but by a commitment to create and share knowledge.\n",
      "People here are part of immense scientific discoveries, answering some of life’s most complex questions and pushing the boundaries of understanding. Experts from every field come here to share in this ambition and the nature of this collaborative, international community creates a genuine atmosphere of trust. People are free to work creatively and to trust in, and rely on, their colleagues across the organisation.\n",
      "\n",
      "History’s being made here – and the excitement is tangible, inspiring, overwhelming at times. It is the only place in the world that you can do this work in this way., paymentType=enterprise, webSite=http://careers.cern, createdAt=2018-03-29T14:00:04.000Z, sizeCompany=1000+employees, weOfferTrainings=null, weOfferKindOfTrainings=null, youTubeLink=https://www.youtube.com/watch?v=hnuzbEDCa_8, email=recruitment.service@cern.ch, specialities=At CERN, the European Organization for Nuclear Research, physicists and engineers are probing the fundamental structure of the universe. They use the world's largest and most complex scientific instruments to study the basic constituents of matter – the fundamental particles. The particles are made to collide together at close to the speed of light. The process gives the physicists clues about how the particles interact, and provides insights into the fundamental laws of nature. \n",
      "\n",
      "The instruments used at CERN are purpose-built particle accelerators and detectors. Accelerators boost beams of particles to high energies before the beams are made to collide with each other or with stationary targets. Detectors observe and record the results of these collisions. Founded in 1954, the CERN laboratory sits astride the Franco-Swiss border near Geneva. It was one of Europe's first joint ventures and now has 23 member states and seven associate member states., updatedAt=2018-03-29T14:00:04.000Z, isPublished=true, weOfferKindOfChallenges=CERN’s values are integrity, commitment, professionalism, creativity and diversity. You can join CERN as a student, as a graduate, as a professional and this opens up a whole new world, in which you will work at the cutting edge of technology, in a diverse and rich environment alongside multiple nationalities and cultures, within multidisciplinary teams. People here enjoy living a truly cosmopolitan life, in the heart of Europe. \n",
      "\n",
      "The environment offers a myriad of leisure activities with excellent benefits, great remuneration and the freedom to work flexibly, it’s not just the work and atmosphere that makes people enjoy their jobs, it’s the tangible elements that they receive too., companyLocation=Geneva, Switzerland, logoURL=/profile-pic/1568054963919.jpg, testimonials=[{content=CERN is incredibly diverse and it seems that whatever knowledge you have in any field, there will be some way to apply it here. CERN has opportunities in every technical field (and many administrative fields) and at all levels. It wasn't until I attended the Open Days that I became aware that my skills were in demand at CERN. Whatever your discipline - software, electrical, electronic, mechanical - there is a project here that needs you. The Fellowship Programme is a great way in as your specific skills and experience will be matched to a CERN project which needs them. Take part!, person=Michael, position=Computing Engineer at CERN}, {content=CERN is a multicultural and international organization like nowhere else, one of the most interesting parts about CERN is the unlimited possibilities. There are requirements and unique use-cases in fields you will find nowhere in the world. Take part and participate in projects which involve challenging cutting-edge technology and hands-on experiments., person=Kitti-Lai, position=Technical Student at CERN}], mission=null, phone=null, culture=The career progression will depend on whether you join CERN as a student, graduate or professional. As a student or graduate you will be working on projects with ample opportunity to acquire new skills, technical and general, alongside experts in their field and with access to technology and equipment like nowhere else on earth. \n",
      "\n",
      "Professionals will join the Organization typically for a 5 year, limited duration contract (with a possibility of extension to 8 years), and Career progression at CERN within a job will be based on performance and expertise, as well as the level of functions and responsibilities., _id=59df2910947f49c77101e479, kindOfEmployeeLookFor=null, weOfferChallenges=null, galleryImages=[https://spaceindividuals.com/var/www/images/68f43c2183c25db5f163171d8703e69a.jpg, https://spaceindividuals.com/var/www/images/7fb25df235b205550200d156014e45f1.jpg, https://spaceindividuals.com/var/www/images/e3f2a72febeb1444a532d6bc25b77723.jpg]}, _id=59df28ff947f49c77101e477, email=recruitment.service@cern.ch, updatedAt=2021-01-27T09:28:02.836Z}}\n",
      "key=2013 bins={json_bin={createdAt=2018-03-04T14:00:04.000Z, jobs=null, numberOfJobs=11, company={backgroundImage=https://spaceindividuals.com/var/www/images/971f13def35f0b21e379fd1555b3e10d.jpg, isPublished=true, companyName=AKKA Technologies, about=As a consulting and engineering Group and European leader in the mobility segment, AKKA Technologies operates in 20 countries through 21 centers of excellence. Our goal is to offer you the best in service and expertise.\n",
      "\n",
      "Driven by innovation and a passion for technologies, AKKA Technologies combines an entrepreneurial spirit with a visionary strategy. Our strength is that we understand the challenges our clients face. We assist them throughout the product development process, no matter how complex their visions are. Our remarkable positioning with our in-house research center AKKA Research and our unique Franco-German axis qualifies us to be a leader on the global market.\n",
      "\n",
      "For over 25 years, AKKA Technologies has supported its space clients with a global offer that encompasses the entire space sector through a multi-skilled expertise within a single company. This space engineering services can be offered through technical assistance or work packages, thanks to our European network of local agencies., weOfferKindOfChallenges=There are the core values of our group. Guided by a strong commitment to innovation, the Group combines the entrepreneurial spirit with a consistent and visionary strategy backed up against partnerships that further reinforce its diversity and exceptional capacity in engineering world of tomorrow.\n",
      "\n",
      "We believe in the power of innovation and constant interconnection between multiple sectors and the broad expertise of our team. We always strive to excellence. This is what sets us apart and defines us. Our people make us different as multisectorial specialist and creative enthusiast.\n",
      "\n",
      "Our story began 33 years ago and today we are 14,500 sharing a common adventure. This success is due to the tremendous work of women and men who make up our Group., companyLocation=Riesstraße 14, 80992 München, Germany, logoURL=/profile-pic/1605616530495.png, paymentType=enterprise, webSite=https://www.akka-technologies.com, createdAt=2017-06-13T12:50:54.749Z, testimonials=[{content=We embrace diversity, not only because it is the right thing to do for our employees, but because it is also good for business. Diversity is why we can assist our clients, and it strengthens our reputation as a first class employer. Individual differences create a dynamic workplace at AKKA Technologies., person=Maurice RICCI, position=Chairman of the board and group CEO}], mission=null, sizeCompany=1000+employees, phone=+49 89 4805808 - 0, weOfferTrainings=null, culture=When joining AKKA Technologies, you will immerse in a culture of innovation and loyalty and share our passion for technologies. We’ll provide you with all the necessary tools and training needed to boost your skills and become a true professional. The Group will also help you challenging the status quo so that you can use your creativity to develop your innovative spirit.\n",
      "\n",
      "Whether you are a student, a recent graduate or a seasoned professional specialized in engineering, research or sales, you will find what you are looking for: a wide range of career opportunities is waiting for you at AKKA Technologies.\n",
      "\n",
      "Whether you are a student, a recent graduate or a seasoned professional specialized in engineering, research or sales, you will find what you are looking for: a wide range of career opportunities is waiting for you at AKKA Technologies., weOfferKindOfTrainings=null, _id=593fe02e9839ef0a13b6b92e, kindOfEmployeeLookFor=null, email=kontakt@akka.eu, specialities=As a leading engineering and consulting service provider in the mobility sector, AKKA Technologies supports well-known manufacturers and their suppliers throughout the complete product development process - from conception to series-production readiness. Whether particular or overall projects, components or turnkey solutions: our clients trust in our complete consulting, engineering and project expertise.\n",
      "\n",
      "Multifunctional, challenging and interdisciplinary projects perfectly define our work in the main industrial sectors (automotive, aeronautics, and railway).\n",
      "\n",
      "A selection:\n",
      "Body structures for various material concepts, including lightweight   construction\n",
      "Robot-based aircraft inspection and maintenance\n",
      "Aerodynamics studies for planes, open-rotor concepts and flying wing\n",
      "Development of rail track security system\n",
      "Alternative charging concepts for user-friendly e-mobility\n",
      "\n",
      "Besides our wide expertise in the mobility sector, we are one of the preferred service providers for Space, Defense, Healthcare and Energy sectors.\n",
      "\n",
      "Aeronautics and Space:\n",
      "We offer our clients technology consulting as well as product and process engineering services covering the entire value chain. As such, we are single source, providing complete solutions for product development, production planning and qualification. Relaying on Aeroconseil expertise and certification knowledge combining the automotive manufacturing engineering expertise from MBtech, we accompany the players of the Aeronautic sector in Germany in all their main challenges and stakes.\n",
      "\n",
      "Our clients value the automotive roots of the BU Germany, in particular when it comes to transferring successful structures and processes from the automotive field to the aerospace sector.\n",
      "\n",
      "For over 30 years, AKKA Technologies has developed its global aeronautical offer: from manufacturer design offices to operators, including OEMs, airline owners and lessors. This tailored support at every stage of projects can be provided in the form of Technical Assistance or Work Packages and thanks to our international footprint, transnational project is our USP.\n",
      " \n",
      "Our added value in this area:\n",
      "In-house R&D Center to promote innovation and technology transfer\n",
      "Proven experience with key aeronautical worldwide actors: manufacturers, OEMs (systems & equipment, airframes, engines), and air transport (MRO, lessors and airlines). Aeronautical expertise covering the entire life cycle of the aircraft, since its design to operation and eventual conversion. Competence Centers all around the world to ensure a local presence and commitment to our clients in our centers of excellence. Air Transport Specialist with expertise to support the manufacturer’s client support. Approvals Part 21 J & G (DOA and POA), Part M (G & I) and Part 145 issued by EASA. Leader in certification support: Certification Together International Conference, DO254 User Group. Consulting services for the sustainable optimization of your entire value chain and management processes., weOfferChallenges=null, galleryImages=[https://spaceindividuals.com/var/www/images/0eac3c433b9ccd015f5bfe2dcb3ca947.jpg, https://spaceindividuals.com/var/www/images/13b018ca039b6d9886cdb358e3b0d5e9.jpg, https://spaceindividuals.com/var/www/images/2fa7bd74ccf3f9acac1477bde49cef43.jpg, https://spaceindividuals.com/var/www/images/9127a8c4962d5e8e2c3fbc860884c07a.jpg], updatedAt=2017-06-13T12:50:54.749Z}, _id=593fdfae9839ef0a13b6b92d, email=kontakt@akka.eu, updatedAt=2021-01-27T14:04:41.487Z}}\n",
      "key=2107 bins={json_bin={createdAt=2018-11-21T15:48:41.941Z, jobs=null, numberOfJobs=95, company={backgroundImage=/profile-pic/1574021440639.jpg, isPublished=true, companyName=European Space Agency - ESA, about=The European Space Agency (ESA) is Europe’s gateway to space. Its mission is to shape the development of Europe’s space capability and ensure that investment in space continues to deliver benefits to the citizens of Europe and the world. ESA is an international organisation with 22 Member States. By coordinating the financial and intellectual resources of its members, it can undertake programmes and activities far beyond the scope of any single European country. ESA's headquarters are in Paris which is where policies and programmes are decided. ESA also has sites in a number of European countries, each of which has different responsibilities: <br /><ul><li>EAC, the European Astronauts Centre in Cologne, Germany</li><li>ESAC, the European Space Astronomy Centre, in Villanueva de la Canada, Madrid</li><li>ESOC, the European Space Operations Centre in Darmstadt, Germany</li><li>ESRIN, the ESA centre for Earth Observation, in Frascati, near Rome, Italy</li><li>ESTEC, the European Space Research and Technology Centre, Noordwijk</li><li>ECSAT, the European Centre for Space Applications and Telecommunications, Harwell, Oxfordshire, United Kingdom</li><li>ESA Redu Centre, Belgium. ESA also has liaison offices in Belgium, USA and Russia, a launch base in French Guiana and ground/tracking stations in various parts of the world</li></ul>, weOfferKindOfChallenges=The people who work at ESA are key to its success. The diverse nationalities, genders, cultural backgrounds, disciplines and generations here each bring their own special contribution to the Agency’s most valuable asset: our people. \n",
      "\n",
      "ESA is a family friendly environment offering flexible working arrangements and multiple benefits to its employees for greater work-life balance. \n",
      ", companyLocation=France, logoURL=/profile-pic/1568050646610.png, paymentType=enterprise, webSite=http://www.esa.int, createdAt=2018-11-21T15:54:14.949Z, testimonials=[], jobDisclaimer=, sizeCompany=1000+employees, _id=5bf57fa64739c05820a92eef, youTubeLink=https://www.youtube.com/watch?v=ixUAjZsLO3g, specialities=ESA’s job is to draw up the European space programme and carry it through. ESA's programmes are designed to find out more about Earth, its immediate space environment, our Solar System and the Universe, as well as to develop satellite-based technologies and services, and to promote European industries. ESA also works closely with space organisations outside Europe., galleryImages=[https://spaceindividuals.com/var/www/images/96660e87daff579c4e750c771aec703a.jpg, https://spaceindividuals.com/var/www/images/365f70bf4cc79d786d315321025b18ac.jpg, /profile-pic/1573980955757.jpg, /profile-pic/1573980958497.jpg, /profile-pic/1573980962865.jpg, /profile-pic/1573980966699.jpg, /profile-pic/1573980970268.jpg, /profile-pic/1573980973066.jpg], updatedAt=2018-11-21T15:54:14.949Z}, _id=5bf57e594739c05820a92eee, email=ZINEB.ELOMRI@ESA.INT, updatedAt=2021-01-25T09:34:07.372Z}}\n",
      "key=2083 bins={json_bin={createdAt=2018-03-04T15:01:08.000Z, jobs=null, numberOfJobs=52, company={backgroundImage=https://spaceindividuals.com/var/www/images/98181cdb3d430d1e90c695e44caeea90.jpg, isPublished=true, companyName=Serco Europe, about=The Serco Group is a FTSE 250 corporation with over 60,000 staff in 30 countries. Our strategy is to be a superb provider of public services, by being the best managed business in our sector. We are a focused business to government (B2G) business, specialising across five sectors: Defence, Justice & Immigration, Transport, Health and Citizen Services. , weOfferKindOfChallenges=Serco is a specialist at delivering vital services on behalf of European, National and Local Governments.\n",
      "\n",
      "Serco Europe employs a large workforce in Belgium, Luxembourg, France, Switzerland, Germany, Holland, Spain, Italy and the UK.\n",
      "\n",
      "Our European operations have ca. 2,000 employees delivering critical services to public institutions such as the European Commission, EUMETSAT or the European Space Agency – where we are the largest on-site service provider with ca. 300 staff., companyLocation=Germany, Netherlands, Spain, UK, Belgium (present in over 30 countries around the world), logoURL=https://spaceindividuals.com/var/www/images/e5c88b064a2ba52ce31d78b40b67830e.png, paymentType=enterprise, webSite=https://www.serco.eu, createdAt=2018-03-04T15:01:08.000Z, testimonials=[], mission=null, sizeCompany=1000+employees, phone=+49 (0) 6151 812780, weOfferTrainings=null, culture=At Serco, we believe we hire the very best people and we want to reap the rewards of this investment by enabling you to continue to grow and develop.   We encourage you to get the maximum learning from your job by placing you in a high performing team, providing clear objectives and creating a culture of collaboration, innovation, support and challenge.\n",
      "\n",
      "We encourage the highest standards of performance, and recognise that to help you achieve this, you’ll need resources and support to grow and develop your capabilities and experiences. To this end, we commit to helping you to develop your personal, professional, business and leadership skills so that you can achieve your highest goals. , weOfferKindOfTrainings=null, _id=58f78c125a0782e629c7b622, kindOfEmployeeLookFor=null, email=space.careers@serco.com, specialities=Serco’s space heritage over the last 40 years has placed us in the Space News Top 50 Space Industry Manufacturing and Services Companies. Our European operations have ca. 2,000 employees delivering critical services to public institutions such as the European Commission, EUMETSAT or the European Space Agency – where we are the largest on-site service provider with ca. 300 staff., weOfferChallenges=null, galleryImages=[https://spaceindividuals.com/var/www/images/f8c5b111cb14a980f32359131fef8782.jpg, https://spaceindividuals.com/var/www/images/f69cccd4d9bbc61930a1f20ec81dd140.jpg, https://spaceindividuals.com/var/www/images/571a4ac7fce531e636692e84e2221752.jpg], updatedAt=2018-03-04T15:01:08.000Z}, _id=58f78ba25a0782e629c7b621, email=tatiana.thiessen@serco.com, updatedAt=2020-11-30T09:49:19.914Z}}\n",
      "key=2084 bins={json_bin={createdAt=2018-04-01T14:00:04.000Z, jobs=null, numberOfJobs=30, company={backgroundImage=https://spaceindividuals.com/var/www/images/81e0f8e35dbab0242b8729f795986047.jpg, isPublished=true, companyName=RHEA Group, about=25 years of experience in the professional engineering service market. RHEA Group opens the world to the engineering services of tomorrow. RHEA Group’s background and roots are within space, and it has grown and expanded to other fields, including concurrent design, cloud computing, and security and crisis management.\n",
      "\n",
      "RHEA Group employs scientist and engineers worldwide. The company has supported more than 100 spacecraft, covering space missions such as Rosetta, Mars Express, Copernicus, and Galileo with the Manufacturing and Operations Information System (MOIS). Top clients include the European Space Agency, Canadian Government, EUMETSAT, the European Commission, EBU, CERN, NATO, Belspo.\n",
      "\n",
      "Headquartered in Belgium, RHEA Group also operates in Canada, Czech Republic, Italy, France, Germany, Spain, Switzerland, The Netherlands and the United Kingdom., weOfferKindOfChallenges=Our core values are driven by our commitment to our clients and professionals, our uncompromising effort to maintain integrity and the highest quality in our work, and our ability to foster collaboration among our diverse and global team.\n",
      "\n",
      "Commitment:\n",
      "We are committed to our clients, engineers, scientists, and professionals. Our commitment derives from our drive to build strong and long-term relationships with our clients in order to deliver smart bespoke products and services based on our strong scientific and technical foundations.\n",
      "\n",
      "Integrity:\n",
      "We ensure the highest protection to our clients by representing our company honestly and by following strict confidentiality and security standards. Integrity is one of our main motivations.\n",
      "\n",
      "Quality:\n",
      "We guarantee the highest regard to quality in our work. Our scientists and engineers are experienced professionals with demonstrated technical excellence who are able to tackle our industry’s challenges head on.\n",
      "\n",
      "Team Spirit:\n",
      "Our diverse and global team, representing more than 20 nationalities, works across 10 countries through a spirit of collaboration and respect., companyLocation=Wavre, Belgium, logoURL=https://spaceindividuals.com/var/www/images/394e139931d9c030f328b884414ab560.jpg, paymentType=enterprise, webSite=http://www.rheagroup.com, createdAt=2018-04-01T14:00:04.000Z, testimonials=[{content=RHEA Group's team is a sparking cocktail of passion, knowledge, and dedication that is infectious to anyone that joins. The expertise and professionalism that is provided to our clients is exceptional and continues to drive the success and growth of this company., person=Nicola Mann, position=RHEA Group's Director, Service Delivery}, {content=Our staff is closely engaged with the real needs of our customers and consistently produces outstanding results, which becomes a significant factor in RHEA Group's success., person=Peter Dubock, position=RHEA Group’s Strategic Advisor}, {content=The trust given to RHEA Group employees by upper management is truly prompted by their dedication and team spirit., person=Manfred Warhaut, position=RHEA Group’s Strategic Advisor}], mission=null, sizeCompany=250-500 employees, phone=+32 10 48 72 50, weOfferTrainings=null, culture=, weOfferKindOfTrainings=null, _id=58d96639de9c102b036040f8, kindOfEmployeeLookFor=null, youTubeLink=, email=info@rheagroup.com, specialities=RHEA Group provides the engineering experts and scientists needed for the most demanding and complex engineering missions. We perform a thorough recruitment process to ensure that the best-qualified candidates are part of our team of experts. As a specialized niche company in the sector, we offer our employees the possibility to grow within a powerful framework of the most interesting projects that are contributing to the area of space development and engineering.\n",
      "\n",
      "We deliver the smart solution to advance complex engineering projects in the following areas of expertise:\n",
      "\n",
      "* Space engineering\n",
      "* Science\n",
      "* Astronomy\n",
      "* Security and crisis management\n",
      "* IT, software development and architecture, weOfferChallenges=null, galleryImages=[https://spaceindividuals.com/var/www/images/bfd3e20e976b7ded3807368622182bbb.jpg, https://spaceindividuals.com/var/www/images/a5c0173f881ac9d77cc9a228356bf878.jpg, https://spaceindividuals.com/var/www/images/ee63d5c18b2771b7c55594fcd16ce5fc.jpg]}, _id=58d965bfde9c102b036040f7, email=temp@rheagroup.com, updatedAt=2021-01-27T10:16:40.854Z}}\n",
      "key=2051 bins={json_bin={createdAt=2018-04-17T13:04:35.890Z, jobs=null, numberOfJobs=26, company={backgroundImage=https://spaceindividuals.com/var/www/images/604d16af11bf4f83e8db7aa57a10c3d0.jpg, isPublished=true, companyName=OHB-System AG, about=3,2,1, lift off...\n",
      "\n",
      "At OHB System AG, you will be part of one of the most successful European space companies. Some 2,800 committed people work on technological projects of the future within the OHB Group in Germany, France, Italy, Belgium, Sweden and Luxembourg. We are on an expansionary course and always interested in further well-qualified staff for our two strong facilities in Bremen and Oberpfaffenhofen.\n",
      "\n",
      "At OHB you will find an efficient corporate structure with flat hierarchies and short decision-making routes, giving you the scope for enhancing your personal and professional development. By working in international multi-discipline project teams, you will enjoy a high degree of scope for creativity, independence and self-initiative. You will be able to tap your creative potential in various technologically advanced projects.\n",
      "\n",
      "We look forward to benefiting from your ideas, commitment, stamina, flexibility, team spirit and dedication. We invite you to send us your application today and to join us in working on some of the most revolutionary space projects of our times., weOfferKindOfChallenges=- A dynamic and motivated international team\n",
      "- High degree of scope for creativity, independence and self-initiative\n",
      "- Flat hierarchies and a huge grade of flexibility\n",
      "- Attractive benefits such as flexible work time, sport activities, companyLocation=Bremen, Germany & Oberpfaffenhofen, Germany, logoURL=https://spaceindividuals.com/var/www/images/695c0c230cb29c72596e50ef7c56bbb2.png, paymentType=enterprise, webSite=https://www.ohb-system.de/, createdAt=2018-04-17T13:04:35.890Z, testimonials=[], sizeCompany=1000+employees, phone=null, culture=null, _id=5ad5f0fa9a451a20f65c5a19, youTubeLink=https://www.youtube.com/watch?v=OqAJJBR06Lo, email=info@ohb.de, specialities=OHB System AG is one of the Top 3 European space companies and a member of the listed technology group OHB SE. About 2,800 employees work on some of the most important aviation and space programs of our times in Germany and other EU-countries. These include low-orbiting and geostationary satellites for earth observation, navigation, telecommunications, science and space exploration. OHB System AG designs satellites and systems for human space flight, aerial reconnaissance and process control systems at its two strong locations in Bremen and Oberpfaffenhofen. We owe our success to our employees and their passion for innovation, their commitment and their initiative. , galleryImages=[https://spaceindividuals.com/var/www/images/dadfffbf992ee3b6e907e7f4991810e2.jpg, https://spaceindividuals.com/var/www/images/7051ba7ea55637cb119b402bd9932695.jpg, https://spaceindividuals.com/var/www/images/aa0bdab9a2bc70845f17b7422aa000c4.jpg, https://spaceindividuals.com/var/www/images/a9ad2cabe3959a1d09e9424c1777f318.jpg, https://spaceindividuals.com/var/www/images/c51a3b002ab88b8fd6a3046f3f115882.jpg, https://spaceindividuals.com/var/www/images/9ee37df813b129d86c2612e6fee39e2f.jpg], updatedAt=2018-04-17T13:04:35.890Z}, _id=5ad5f0e39a451a20f65c5a18, email=career@ohb.de, updatedAt=2020-12-22T17:10:11.754Z}}\n"
     ]
    }
   ],
   "source": [
    "// Create an index on the numberOfJobs field.\n",
    "// idx_json_bin_number_of_jobs_num\n",
    "createIndex(\"idx_json_bin_number_of_jobs_num\", JsonBin, IndexType.NUMERIC, IndexCollectionType.DEFAULT, \n",
    "            CTX.mapKey(Value.get(\"numberOfJobs\")));\n",
    "\n",
    "// Find companies with more than 10 job postings.\n",
    "System.out.println(\"Companies with numberOfJobs greater than 10:\");\n",
    "Filter filter = Filter.range(JsonBin, 11, 100, CTX.mapKey(Value.get(\"numberOfJobs\")));\n",
    "executeQueryAndPrintResults(filter, JsonBin);"
   ]
  },
  {
   "cell_type": "markdown",
   "metadata": {},
   "source": [
    "# Clean up\n",
    "Remove tutorial data and close connection."
   ]
  },
  {
   "cell_type": "code",
   "execution_count": 31,
   "metadata": {
    "ExecuteTime": {
     "end_time": "2020-12-29T20:49:19.972650Z",
     "start_time": "2020-12-29T20:49:19.967344Z"
    }
   },
   "outputs": [
    {
     "name": "stdout",
     "output_type": "stream",
     "text": [
      "Removed tutorial data and closed server connection.\n"
     ]
    }
   ],
   "source": [
    "client.truncate(null, Namespace, null, null);\n",
    "client.close();\n",
    "System.out.println(\"Removed tutorial data and closed server connection.\");"
   ]
  },
  {
   "cell_type": "markdown",
   "metadata": {},
   "source": [
    "# Takeaways\n",
    "The tutorial illustrated with many examples the secondary index functionality with CDTs that is available in Aerospike Database 6.1.0.0+. The CDT indexing is important for faster queries on JSON documents and other complex objects stored as CDTs."
   ]
  },
  {
   "cell_type": "markdown",
   "metadata": {},
   "source": [
    "# Further Exploration and Resources\n",
    "Here are some links for further exploration\n",
    "\n",
    "Resources\n",
    "- [Query JSON Documents Faster (and More) with CDT Indexing](https://developer.aerospike.com/blog/query-json-documents-faster-with-cdt-indexing)\n",
    "- [Aerospike Developer Hub](https://developer.aerospike.com)\n"
   ]
  },
  {
   "cell_type": "markdown",
   "metadata": {},
   "source": [
    "## Next steps\n",
    "\n",
    "Visit [Aerospike notebooks repo](https://github.com/aerospike-examples/interactive-notebooks) to run additional Aerospike notebooks. To run a different notebook, download the notebook from the repo to your local machine, and then click on File->Open, and select Upload."
   ]
  }
 ],
 "metadata": {
  "kernelspec": {
   "display_name": "Java",
   "language": "java",
   "name": "java"
  },
  "language_info": {
   "codemirror_mode": "java",
   "file_extension": ".jshell",
   "mimetype": "text/x-java-source",
   "name": "Java",
   "pygments_lexer": "java",
   "version": "11.0.8+10-LTS"
  },
  "toc": {
   "base_numbering": 1,
   "nav_menu": {},
   "number_sections": true,
   "sideBar": true,
   "skip_h1_title": false,
   "title_cell": "Table of Contents",
   "title_sidebar": "Contents",
   "toc_cell": true,
   "toc_position": {},
   "toc_section_display": true,
   "toc_window_display": false
  }
 },
 "nbformat": 4,
 "nbformat_minor": 4
}
