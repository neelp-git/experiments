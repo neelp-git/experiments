{
 "cells": [
  {
   "cell_type": "markdown",
   "metadata": {
    "toc": true
   },
   "source": [
    "<h1>Table of Contents<span class=\"tocSkip\"></span></h1>\n",
    "<div class=\"toc\"><ul class=\"toc-item\"><li><span><a href=\"#Forum-Activity-Report\" data-toc-modified-id=\"Forum-Activity-Report-1\"><span class=\"toc-item-num\">1&nbsp;&nbsp;</span>Forum Activity Report</a></span></li><li><span><a href=\"#Specify-Report-Duration\" data-toc-modified-id=\"Specify-Report-Duration-2\"><span class=\"toc-item-num\">2&nbsp;&nbsp;</span>Specify Report Duration</a></span></li><li><span><a href=\"#Get-Forum-Activity-Data\" data-toc-modified-id=\"Get-Forum-Activity-Data-3\"><span class=\"toc-item-num\">3&nbsp;&nbsp;</span>Get Forum Activity Data</a></span></li><li><span><a href=\"#Capture-Markdown-Report\" data-toc-modified-id=\"Capture-Markdown-Report-4\"><span class=\"toc-item-num\">4&nbsp;&nbsp;</span>Capture Markdown Report</a></span></li><li><span><a href=\"#Place-Activity-Report-in-Markdown-Cell\" data-toc-modified-id=\"Place-Activity-Report-in-Markdown-Cell-5\"><span class=\"toc-item-num\">5&nbsp;&nbsp;</span>Place Activity Report in Markdown Cell</a></span></li></ul></div>"
   ]
  },
  {
   "cell_type": "markdown",
   "metadata": {},
   "source": [
    "# Forum Activity Report\n",
    "The notebook generates a report of posts in specific categories for the duration specified.\n",
    "\n",
    "Enter the begin and end dates in the top cell, execute all the remaining cells, and paste the output of the last cell in a markdown cell (or in the Standup google doc) to see the output. \n",
    "\n",
    "Caution: There are still some bugs or unhandled cases. So use the output and validate against the Latest page in the discussion forum. Modify or remove entries as appropriate."
   ]
  },
  {
   "cell_type": "markdown",
   "metadata": {},
   "source": [
    "# Specify Report Duration\n",
    "Set the from_date and to_date in the cell below. The MAX_PAST_PAGES specifies maximum paginations in the recent posts (the Discourse API does not take an explicit date range)."
   ]
  },
  {
   "cell_type": "code",
   "execution_count": 31,
   "metadata": {},
   "outputs": [],
   "source": [
    "### SET FROM AND TO DATE ##########\n",
    "from_date = '2022-03-01'\n",
    "to_date = '2022-04-01'\n",
    "###################################\n",
    "## INCREASE IT IF DURATION RANGES BEYOND THE RECENT 2 MONTHS\n",
    "MAX_PAST_PAGES = 10"
   ]
  },
  {
   "cell_type": "markdown",
   "metadata": {},
   "source": [
    "# Get Forum Activity Data\n",
    "Obtain the data by making API requests from the forum server."
   ]
  },
  {
   "cell_type": "code",
   "execution_count": 32,
   "metadata": {},
   "outputs": [
    {
     "name": "stdout",
     "output_type": "stream",
     "text": [
      "Processing from_date: 2022-03-01, to_date: 2022-04-01\n",
      "curr_page: 0, curr-page-min-date: 2022-03-11\n",
      "curr_page: 1, curr-page-min-date: 2022-02-14\n",
      "Done.\n"
     ]
    }
   ],
   "source": [
    "import requests\n",
    "import json\n",
    "import pprint\n",
    "from requests.exceptions import HTTPError\n",
    "\n",
    "print('Processing from_date: {}, to_date: {}'.format(from_date, to_date))\n",
    "\n",
    "URL_PREFIX = 'https://discuss.aerospike.com/t/'\n",
    "release_posts = []\n",
    "kb_posts = []\n",
    "announce_posts = []\n",
    "question_posts = []\n",
    "\n",
    "curr_page = 0\n",
    "curr_page_min_date = None\n",
    "while (curr_page < MAX_PAST_PAGES and (curr_page_min_date == None or curr_page_min_date >= from_date)):\n",
    "    try:\n",
    "        response = requests.get('https://discuss.aerospike.com/latest.json?page='+str(curr_page))\n",
    "\n",
    "        response.raise_for_status()\n",
    "        # access JSOn content\n",
    "        jsonResponse = response.json()\n",
    "        #parsed = json.loads(jsonResponse)\n",
    "        #print(\"Entire JSON response\")\n",
    "        #pp = pprint.PrettyPrinter(indent=1)\n",
    "        #pp.pprint(jsonResponse)\n",
    "        #print(json.dumps(parsed))\n",
    "\n",
    "    except HTTPError as http_err:\n",
    "        print(f'HTTP error occurred: {http_err}')\n",
    "    except Exception as err:\n",
    "        print(f'Other error occurred: {err}')\n",
    "    \n",
    "    topics = jsonResponse['topic_list']['topics']\n",
    "    \n",
    "    # relevant fields and formats: \n",
    "    #      'bumped_at': '2022-01-29T12:58:04.851Z', 'category_id': 152, 'id': 9090\n",
    "    #.     'slug': 'aerospike-rest-client-release-1-9-1-december-16-2021',\n",
    "    #.     'last_poster_username': 'Aerospike_Knowledge'\n",
    "    #      'title': 'How to add a new node to a cluster approaching utilisation limits (HWM or stop-writes)'\n",
    "\n",
    "    for topic in topics:\n",
    "        topic_id = topic['id']\n",
    "        topic_date = topic['bumped_at'][:10]\n",
    "        #print('topic date: ', topic_date)\n",
    "        \n",
    "        if topic_id != 4526: # reposted old announcement\n",
    "            if curr_page_min_date == None or topic_date < curr_page_min_date:\n",
    "                curr_page_min_date = topic_date\n",
    "\n",
    "            if topic_date > to_date or topic_date < from_date:\n",
    "                continue\n",
    "            \n",
    "        topic_info = { 'id': topic['id'], 'date': topic['bumped_at'][:10], 'title': topic['title'], \n",
    "                               'url': URL_PREFIX+topic['slug']+'/'+str(topic['id']) }\n",
    "        #print(\"topic info: \", topic_info)\n",
    "\n",
    "        #.    if category_id == 152 -> process release\n",
    "        if topic['category_id'] == 152:\n",
    "            release_posts.append(topic_info)\n",
    "            continue\n",
    "\n",
    "        #.    else if category_id == 3 -> process announcements (ignore)\n",
    "        if topic['category_id'] == 3:\n",
    "            announce_posts.append(topic_info)\n",
    "            continue\n",
    "\n",
    "        #.    else if last_poster_username == Aerospike_Knowledge -> process knowledgebase\n",
    "        if topic['last_poster_username'] == 'Aerospike_Knowledge':\n",
    "            kb_posts.append(topic_info)\n",
    "            continue\n",
    "\n",
    "        #.    else process questions (may need to check against negative conditions)\n",
    "        question_posts.append(topic_info)\n",
    "        \n",
    "    print('curr_page: {}, curr-page-min-date: {}'.format(curr_page, curr_page_min_date))\n",
    "    curr_page += 1\n",
    "print('Done.')"
   ]
  },
  {
   "cell_type": "markdown",
   "metadata": {},
   "source": [
    "# Capture Markdown Report\n",
    "The following cell captures the print output in the variable \"activity_report\" which is used later."
   ]
  },
  {
   "cell_type": "code",
   "execution_count": 33,
   "metadata": {},
   "outputs": [],
   "source": [
    "%%capture activity_report\n",
    "\n",
    "print('# Forum Activity Report From {} To {}'.format(from_date, to_date))\n",
    "print('\\n## Questions from the Community')\n",
    "#pp.pprint(question_posts)\n",
    "for p in sorted(question_posts, key=lambda x: x['date']+str(x['id']), reverse=True):\n",
    "    print('- [{}]({})'.format(p['title'], p['url']))\n",
    "\n",
    "print('\\n## Knowledgebase Articles')\n",
    "#pp.pprint(kb_posts)\n",
    "for p in sorted(kb_posts, key=lambda x: x['date']+str(x['id']), reverse=True):\n",
    "    print('- [{}]({})'.format(p['title'], p['url']))\n",
    "\n",
    "print('\\n## Release Notes', end='')\n",
    "#pp.pprint(release_posts)\n",
    "from datetime import date\n",
    "import re\n",
    "# extract product and version info\n",
    "prev_date = None\n",
    "prev_prod = None\n",
    "for p in sorted(release_posts, key=lambda x: x['date']+x['title']+str(x['id']), reverse=True):\n",
    "    #print(p['title'])\n",
    "    prod_ver = re.match('Aerospike\\W*(\\D+)([0-9.]\\S*)', re.sub('version|Release', '', p['title']))\n",
    "    if not prod_ver:\n",
    "        continue\n",
    "    pv_info = prod_ver.groups()\n",
    "    prod = pv_info[0].rstrip()\n",
    "    version = pv_info[1]\n",
    "    if prev_date != p['date']:\n",
    "        print('\\n- {}'.format(date.fromisoformat(p['date']).strftime(\"%B %d\")), end='')\n",
    "    if prev_prod == prod:\n",
    "        print(', [{}]({})'.format(version, p['url']), end='')\n",
    "    else:   \n",
    "        print('\\n\\t- {} [{}]({})'.format(prod, version, p['url']), end='')\n",
    "    prev_date = p['date']\n",
    "    prev_prod = prod\n",
    "    \n",
    "print('\\n\\n## Announcements')\n",
    "#pp.pprint(announce_posts)\n",
    "for p in sorted(announce_posts, key=lambda x: x['date']+str(x['id']), reverse=True):\n",
    "    print('- [{}]({})'.format(p['title'], p['url']))\n"
   ]
  },
  {
   "cell_type": "markdown",
   "metadata": {},
   "source": [
    "# Place Activity Report in Markdown Cell \n",
    "Place the \"activity_report\" above in a new cell. From the menu, change the type of the new cell to Markdown, and run the cell to view the report."
   ]
  },
  {
   "cell_type": "code",
   "execution_count": 34,
   "metadata": {},
   "outputs": [
    {
     "data": {
      "text/markdown": [
       "# Forum Activity Report From 2022-03-01 To 2022-04-01\n",
       "\n",
       "## Questions from the Community\n",
       "- [Unable to launch GKE cluster](https://discuss.aerospike.com/t/unable-to-launch-gke-cluster/9056)\n",
       "- [Java Client Error Message : Error -3,1,0,30000,0,2: Cluster is empty](https://discuss.aerospike.com/t/java-client-error-message-error-3-1-0-30000-0-2-cluster-is-empty/9289)\n",
       "- [Multiple FilterExp query with aggregation](https://discuss.aerospike.com/t/multiple-filterexp-query-with-aggregation/9281)\n",
       "- [Truncate set by mistake,how to quickly restore data?](https://discuss.aerospike.com/t/truncate-set-by-mistake-how-to-quickly-restore-data/9292)\n",
       "- [EAGAIN (Resource temporarily unavailable) error during asrestore](https://discuss.aerospike.com/t/eagain-resource-temporarily-unavailable-error-during-asrestore/9273)\n",
       "- [UDF problem with maps](https://discuss.aerospike.com/t/udf-problem-with-maps/9270)\n",
       "- [Bin convergence and Support of multiple counters in XDR](https://discuss.aerospike.com/t/bin-convergence-and-support-of-multiple-counters-in-xdr/9267)\n",
       "- [How to stream UDF result to client to reduce memory CPU consuption](https://discuss.aerospike.com/t/how-to-stream-udf-result-to-client-to-reduce-memory-cpu-consuption/9097)\n",
       "- [Any way return csv or at lest plain text from the AQL?](https://discuss.aerospike.com/t/any-way-return-csv-or-at-lest-plain-text-from-the-aql/9083)\n",
       "- [Unexpected stop-writes](https://discuss.aerospike.com/t/unexpected-stop-writes/9278)\n",
       "- [Is there a way to reset the evit counter on the stats?](https://discuss.aerospike.com/t/is-there-a-way-to-reset-the-evit-counter-on-the-stats/9272)\n",
       "- [Copy bins between records in place](https://discuss.aerospike.com/t/copy-bins-between-records-in-place/9276)\n",
       "- [Data loss when used asbackup during migrations](https://discuss.aerospike.com/t/data-loss-when-used-asbackup-during-migrations/9274)\n",
       "- [Aerospike tries to connect to dead node](https://discuss.aerospike.com/t/aerospike-tries-to-connect-to-dead-node/8609)\n",
       "- [Expiration of records is late only on one node (out of six)](https://discuss.aerospike.com/t/expiration-of-records-is-late-only-on-one-node-out-of-six/9266)\n",
       "- [Move data from mem backed namespace to disk backed namespace based on ttl](https://discuss.aerospike.com/t/move-data-from-mem-backed-namespace-to-disk-backed-namespace-based-on-ttl/9256)\n",
       "- [Ranking using score and pagination support in Aerospike](https://discuss.aerospike.com/t/ranking-using-score-and-pagination-support-in-aerospike/9250)\n",
       "\n",
       "## Knowledgebase Articles\n",
       "- [Node Not Found For Partition error after a full restart of strongly consistent namespace](https://discuss.aerospike.com/t/node-not-found-for-partition-error-after-a-full-restart-of-strongly-consistent-namespace/9225)\n",
       "\n",
       "## Release Notes\n",
       "- April 01\n",
       "\t- Java Client [6.0.0](https://discuss.aerospike.com/t/aerospike-java-client-release-6-0-0-march-31-2022/9308)\n",
       "\t- C# Client [5.0.0](https://discuss.aerospike.com/t/aerospike-c-client-release-5-0-0-march-31-2022/9307)\n",
       "\t- C Client [6.0.0](https://discuss.aerospike.com/t/aerospike-c-client-release-6-0-0-march-31-2022/9306)\n",
       "- March 31\n",
       "\t- Database [5.7.0.15](https://discuss.aerospike.com/t/aerospike-database-5-7-0-15-march-31-2022/9304), [5.5.0.25,](https://discuss.aerospike.com/t/aerospike-database-5-5-0-25-5-6-0-19-march-30-2022/9303)\n",
       "- March 22, [5.5.0.23,](https://discuss.aerospike.com/t/aerospike-database-5-5-0-23-5-6-0-17-5-7-0-12-march-21-2022/9298)\n",
       "- March 15\n",
       "\t- Node.js Client [4.0.0](https://discuss.aerospike.com/t/aerospike-node-js-client-release-4-0-0-march-14-2022/9285)\n",
       "- March 14\n",
       "\t- Monitoring Stack [1.4.0](https://discuss.aerospike.com/t/aerospike-monitoring-stack-release-1-4-0-march-14-2022/9284)\n",
       "- March 09\n",
       "\t- Database [5.5.0.22,](https://discuss.aerospike.com/t/aerospike-database-5-5-0-22-5-6-0-16-5-7-0-11-march-8-2022/9269)\n",
       "- March 03\n",
       "\t- Connect for Presto - Trino [3.1.0](https://discuss.aerospike.com/t/aerospike-connect-for-presto-trino-3-1-0-march-3-2022/9254), [1.8.0](https://discuss.aerospike.com/t/aerospike-connect-for-presto-trino-1-8-0-march-3-2022/9253)\n",
       "\t- C Client [5.2.8](https://discuss.aerospike.com/t/aerospike-c-client-release-5-2-8-march-3-2022/9252)\n",
       "\n",
       "## Announcements\n",
       "- [Cross posting to/from other sites (such as Stack Overflow)](https://discuss.aerospike.com/t/cross-posting-to-from-other-sites-such-as-stack-overflow/4526)\n"
      ],
      "text/plain": [
       "<IPython.core.display.Markdown object>"
      ]
     },
     "metadata": {},
     "output_type": "display_data"
    }
   ],
   "source": [
    "from IPython.display import display, Markdown\n",
    "display(Markdown(activity_report.stdout))\n",
    "get_ipython().set_next_input(activity_report.stdout)"
   ]
  },
  {
   "cell_type": "code",
   "execution_count": null,
   "metadata": {},
   "outputs": [],
   "source": [
    "# Forum Activity Report From 2022-03-01 To 2022-04-01\n",
    "\n",
    "## Questions from the Community\n",
    "- [Unable to launch GKE cluster](https://discuss.aerospike.com/t/unable-to-launch-gke-cluster/9056)\n",
    "- [Java Client Error Message : Error -3,1,0,30000,0,2: Cluster is empty](https://discuss.aerospike.com/t/java-client-error-message-error-3-1-0-30000-0-2-cluster-is-empty/9289)\n",
    "- [Multiple FilterExp query with aggregation](https://discuss.aerospike.com/t/multiple-filterexp-query-with-aggregation/9281)\n",
    "- [Truncate set by mistake,how to quickly restore data?](https://discuss.aerospike.com/t/truncate-set-by-mistake-how-to-quickly-restore-data/9292)\n",
    "- [EAGAIN (Resource temporarily unavailable) error during asrestore](https://discuss.aerospike.com/t/eagain-resource-temporarily-unavailable-error-during-asrestore/9273)\n",
    "- [UDF problem with maps](https://discuss.aerospike.com/t/udf-problem-with-maps/9270)\n",
    "- [Bin convergence and Support of multiple counters in XDR](https://discuss.aerospike.com/t/bin-convergence-and-support-of-multiple-counters-in-xdr/9267)\n",
    "- [How to stream UDF result to client to reduce memory CPU consuption](https://discuss.aerospike.com/t/how-to-stream-udf-result-to-client-to-reduce-memory-cpu-consuption/9097)\n",
    "- [Any way return csv or at lest plain text from the AQL?](https://discuss.aerospike.com/t/any-way-return-csv-or-at-lest-plain-text-from-the-aql/9083)\n",
    "- [Unexpected stop-writes](https://discuss.aerospike.com/t/unexpected-stop-writes/9278)\n",
    "- [Is there a way to reset the evit counter on the stats?](https://discuss.aerospike.com/t/is-there-a-way-to-reset-the-evit-counter-on-the-stats/9272)\n",
    "- [Copy bins between records in place](https://discuss.aerospike.com/t/copy-bins-between-records-in-place/9276)\n",
    "- [Data loss when used asbackup during migrations](https://discuss.aerospike.com/t/data-loss-when-used-asbackup-during-migrations/9274)\n",
    "- [Aerospike tries to connect to dead node](https://discuss.aerospike.com/t/aerospike-tries-to-connect-to-dead-node/8609)\n",
    "- [Expiration of records is late only on one node (out of six)](https://discuss.aerospike.com/t/expiration-of-records-is-late-only-on-one-node-out-of-six/9266)\n",
    "- [Move data from mem backed namespace to disk backed namespace based on ttl](https://discuss.aerospike.com/t/move-data-from-mem-backed-namespace-to-disk-backed-namespace-based-on-ttl/9256)\n",
    "- [Ranking using score and pagination support in Aerospike](https://discuss.aerospike.com/t/ranking-using-score-and-pagination-support-in-aerospike/9250)\n",
    "\n",
    "## Knowledgebase Articles\n",
    "- [Node Not Found For Partition error after a full restart of strongly consistent namespace](https://discuss.aerospike.com/t/node-not-found-for-partition-error-after-a-full-restart-of-strongly-consistent-namespace/9225)\n",
    "\n",
    "## Release Notes\n",
    "- April 01\n",
    "\t- Java Client [6.0.0](https://discuss.aerospike.com/t/aerospike-java-client-release-6-0-0-march-31-2022/9308)\n",
    "\t- C# Client [5.0.0](https://discuss.aerospike.com/t/aerospike-c-client-release-5-0-0-march-31-2022/9307)\n",
    "\t- C Client [6.0.0](https://discuss.aerospike.com/t/aerospike-c-client-release-6-0-0-march-31-2022/9306)\n",
    "- March 31\n",
    "\t- Database [5.7.0.15](https://discuss.aerospike.com/t/aerospike-database-5-7-0-15-march-31-2022/9304), [5.5.0.25,](https://discuss.aerospike.com/t/aerospike-database-5-5-0-25-5-6-0-19-march-30-2022/9303)\n",
    "- March 22, [5.5.0.23,](https://discuss.aerospike.com/t/aerospike-database-5-5-0-23-5-6-0-17-5-7-0-12-march-21-2022/9298)\n",
    "- March 15\n",
    "\t- Node.js Client [4.0.0](https://discuss.aerospike.com/t/aerospike-node-js-client-release-4-0-0-march-14-2022/9285)\n",
    "- March 14\n",
    "\t- Monitoring Stack [1.4.0](https://discuss.aerospike.com/t/aerospike-monitoring-stack-release-1-4-0-march-14-2022/9284)\n",
    "- March 09\n",
    "\t- Database [5.5.0.22,](https://discuss.aerospike.com/t/aerospike-database-5-5-0-22-5-6-0-16-5-7-0-11-march-8-2022/9269)\n",
    "- March 03\n",
    "\t- Connect for Presto - Trino [3.1.0](https://discuss.aerospike.com/t/aerospike-connect-for-presto-trino-3-1-0-march-3-2022/9254), [1.8.0](https://discuss.aerospike.com/t/aerospike-connect-for-presto-trino-1-8-0-march-3-2022/9253)\n",
    "\t- C Client [5.2.8](https://discuss.aerospike.com/t/aerospike-c-client-release-5-2-8-march-3-2022/9252)\n",
    "\n",
    "## Announcements\n",
    "- [Cross posting to/from other sites (such as Stack Overflow)](https://discuss.aerospike.com/t/cross-posting-to-from-other-sites-such-as-stack-overflow/4526)\n"
   ]
  },
  {
   "cell_type": "code",
   "execution_count": null,
   "metadata": {},
   "outputs": [],
   "source": []
  }
 ],
 "metadata": {
  "file_extension": ".py",
  "kernelspec": {
   "display_name": "Python 3",
   "language": "python",
   "name": "python3"
  },
  "language_info": {
   "codemirror_mode": {
    "name": "ipython",
    "version": 3
   },
   "file_extension": ".py",
   "mimetype": "text/x-python",
   "name": "python",
   "nbconvert_exporter": "python",
   "pygments_lexer": "ipython3",
   "version": "3.8.6"
  },
  "mimetype": "text/x-python",
  "name": "python",
  "npconvert_exporter": "python",
  "pygments_lexer": "ipython3",
  "toc": {
   "base_numbering": 1,
   "nav_menu": {},
   "number_sections": true,
   "sideBar": true,
   "skip_h1_title": false,
   "title_cell": "Table of Contents",
   "title_sidebar": "Contents",
   "toc_cell": true,
   "toc_position": {},
   "toc_section_display": true,
   "toc_window_display": false
  },
  "version": 3
 },
 "nbformat": 4,
 "nbformat_minor": 2
}
