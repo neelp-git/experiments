{
 "cells": [
  {
   "cell_type": "markdown",
   "metadata": {},
   "source": [
    "# Deployment Insights ETL and SQL\n",
    "\n",
    "ETL for the Deployment Insights database with sample SQL queries using Trino and the Aerospike Trino Connector."
   ]
  },
  {
   "cell_type": "markdown",
   "metadata": {},
   "source": [
    "### Ensure that the Aerospike Database is running"
   ]
  },
  {
   "cell_type": "code",
   "execution_count": 67,
   "metadata": {
    "scrolled": true
   },
   "outputs": [
    {
     "name": "stdout",
     "output_type": "stream",
     "text": [
      "Aerospike database is running!\r\n"
     ]
    }
   ],
   "source": [
    "!asd >& /dev/null\n",
    "!pgrep -x asd >/dev/null && echo \"Aerospike database is running!\" || echo \"**Aerospike database is not running!**\""
   ]
  },
  {
   "cell_type": "markdown",
   "metadata": {},
   "source": [
    "### Initialize Client\n",
    "Initialize Python Client used to access features stored in the Aerospike feature store."
   ]
  },
  {
   "cell_type": "code",
   "execution_count": 77,
   "metadata": {},
   "outputs": [
    {
     "name": "stdout",
     "output_type": "stream",
     "text": [
      "Client initialized and connected to database\n"
     ]
    }
   ],
   "source": [
    "import aerospike\n",
    "import sys\n",
    "# connect to the database\n",
    "config = {\n",
    "  'hosts': [ ('127.0.0.1', 3000) ]\n",
    "}\n",
    "try:\n",
    "  client = aerospike.client(config).connect('pensive','p3n$1v3')\n",
    "except:\n",
    "  print(\"failed to connect to the cluster with\", config['hosts'])\n",
    "  sys.exit(1)\n",
    "print('Client initialized and connected to database')"
   ]
  },
  {
   "cell_type": "markdown",
   "metadata": {},
   "source": [
    "# Extract Insights from Collect-Info Documents\n",
    "A Support case has attachments that are produced by the collect-info tool. The tgz archive of the attachments consists of many files, of which we use the following to extract insights:\n",
    "- [timestamp]_ascinfo.json\n",
    "- [timestamp]_ascollectinfo.log\n",
    "\n",
    "In the future we will also use this source from the archive:\n",
    "- [timestamp]_summary.log\n",
    "\n",
    "Extract the case tgz archives that you want to process, and upload the above files into a directory. Set `DATA_DIR` to this directory below. The notebook uses one json file as an example to illistrate the ETL process in the first part. Pick one json file and assign it to `EXAMPLE_JSON_FILE`.\n",
    "\n",
    "In the later part, all the files in the `DATA_DIR` directory are batch processed."
   ]
  },
  {
   "cell_type": "code",
   "execution_count": 33,
   "metadata": {},
   "outputs": [],
   "source": [
    "DATA_DIR = '../data'\n",
    "EXAMPLE_JSON_FILE = '20220115_004012_ascinfo.json'"
   ]
  },
  {
   "cell_type": "code",
   "execution_count": 34,
   "metadata": {},
   "outputs": [
    {
     "name": "stdout",
     "output_type": "stream",
     "text": [
      "Read ascinfo json file: ../data/20220115_004012_ascinfo.json\n"
     ]
    }
   ],
   "source": [
    "import json\n",
    "\n",
    "def readJsonDataFromFile(jsonFile):  \n",
    "    # JSON file\n",
    "    f = open (jsonFile, \"r\")\n",
    "    # Reading from file\n",
    "    data = json.loads(f.read())\n",
    "    # Closing file\n",
    "    f.close()\n",
    "    return data\n",
    "\n",
    "json_file =  DATA_DIR + '/' + EXAMPLE_JSON_FILE    #example json file path\n",
    "ascinfo_json = readJsonDataFromFile(json_file)\n",
    "print('Read ascinfo json file:', json_file)"
   ]
  },
  {
   "cell_type": "code",
   "execution_count": 35,
   "metadata": {},
   "outputs": [
    {
     "name": "stdout",
     "output_type": "stream",
     "text": [
      "timestamp: 2022-01-15 00:40:12 UTC\n",
      "cluster name: conv-euw1\n",
      "number of nodes: 6\n"
     ]
    }
   ],
   "source": [
    "# extract top level info: timestamp and cluster\n",
    "def get_timestamp(json):\n",
    "    timestamp = list(json.keys())[0]\n",
    "    return timestamp\n",
    "\n",
    "def get_cluster_items(json):\n",
    "    ts_items = list(json.items())\n",
    "    cluster_items = list(ts_items[0][1].items())\n",
    "    return cluster_items\n",
    "\n",
    "def get_node_items(cluster_items):\n",
    "    return list(cluster_items[0][1].items())\n",
    "\n",
    "timestamp = get_timestamp(ascinfo_json)\n",
    "print('timestamp:', timestamp)\n",
    "\n",
    "cluster_itmes = get_cluster_items(ascinfo_json)\n",
    "cluster_name = cluster_itmes[0][0]\n",
    "print('cluster name:', cluster_name)\n",
    "\n",
    "node_items = get_node_items(cluster_itmes)\n",
    "num_nodes = len(node_items)\n",
    "print('number of nodes:', num_nodes)"
   ]
  },
  {
   "cell_type": "markdown",
   "metadata": {},
   "source": [
    "# Collect Insights\n",
    "Collect the following cluster insights:\n",
    "\n",
    "- name\n",
    "- timestamp\n",
    "- num_nodes \n",
    "- num_ns\n",
    "- features: List (xdr, strong_consistency, single_bin, data_in_index, ...)\n",
    "- num_objects\n",
    "- storage_engines\n",
    "- num_device_bytes\n",
    "- num_memory bytes\n",
    "\n",
    "Collect the following namespace insights:\n",
    "- name\n",
    "- strong_consistency\n",
    "- num_secondary_indices\n",
    "- num_sets\n",
    "- num_bins\n",
    "- num_device_bytes\n",
    "- num_memory_bytes\n",
    "- num_objects\n",
    "- replication_factor\n",
    "- single_bin (true/false)\n",
    "- data_in_index (true/false)\n",
    "- storage_engine\n"
   ]
  },
  {
   "cell_type": "markdown",
   "metadata": {},
   "source": [
    "### Namespace Info\n",
    "\n",
    "Collect features for each distinct namespace from each node and aggregate stats (device/mem_bytes, objects, storage_engines):\n",
    "```\n",
    "for each node:\n",
    "    for each namespace:\n",
    "        if new, \n",
    "            add namespace to namespaces map\n",
    "            copy features\n",
    "        # else: ensure settings are same\n",
    "        Aggregate stats      \n",
    "```"
   ]
  },
  {
   "cell_type": "code",
   "execution_count": 36,
   "metadata": {},
   "outputs": [
    {
     "name": "stdout",
     "output_type": "stream",
     "text": [
      "{'memory': {'name': 'memory', 'num_bins': '5', 'num_sets': 2, 'num_sindex': 0, 'replication_factor': '3', 'storage_engine': 'memory', 'ns_cluster_size': '6', 'master_objects': '226', 'objects': '604', 'single_bin': 'false', 'strong_consistency': 'false', 'data_in_index': 'false'}}\n"
     ]
    }
   ],
   "source": [
    "def get_namespace_info(node_items):\n",
    "    # Potential future additions:\n",
    "                #Secondary index #, types?\n",
    "                #Total device bytes + total memory bytes - aggregate from sets    namespace_info = {}\n",
    "    namespace_info = {}\n",
    "    for node, node_subtree in node_items:\n",
    "        for ns, ns_subtree in node_subtree['as_stat']['statistics']['namespace'].items():\n",
    "            if ns not in namespace_info:\n",
    "                nsinfo = {}\n",
    "                nsinfo['name'] = ns\n",
    "                nsinfo['num_bins'] = ns_subtree['bin'].get('bin_names', 0) \n",
    "                nsinfo['num_sets'] = len(ns_subtree['set'])\n",
    "                nsinfo['num_sindex'] = len(ns_subtree['sindex'])\n",
    "                nsinfo['replication_factor'] = ns_subtree['service'].get('replication-factor', 0) \n",
    "                nsinfo['storage_engine'] = ns_subtree['service']['storage-engine']\n",
    "                nsinfo['ns_cluster_size'] = ns_subtree['service'].get('ns_cluster_size', 0)\n",
    "                nsinfo['master_objects'] = ns_subtree['service']['master_objects']\n",
    "                nsinfo['objects'] = ns_subtree['service']['objects']\n",
    "                nsinfo['single_bin'] = ns_subtree['service']['single-bin']\n",
    "                nsinfo['strong_consistency'] = ns_subtree['service'].get('strong-consistency', 'false')\n",
    "                nsinfo['data_in_index'] = ns_subtree['service']['data-in-index']\n",
    "                namespace_info[ns] = nsinfo\n",
    "    return namespace_info\n",
    "\n",
    "namespace_info = get_namespace_info(node_items)\n",
    "print(namespace_info)"
   ]
  },
  {
   "cell_type": "markdown",
   "metadata": {},
   "source": [
    "### Cluster Info\n",
    "\n",
    "Collect features at the cluster level:\n",
    "\n",
    "- Case, customer, timestamp, num_nodes\n",
    "- edition, asd-build\n",
    "- Aggregated from namespaces: num_ns, features, device/mem bytes, objects, storage engines.\n"
   ]
  },
  {
   "cell_type": "code",
   "execution_count": 37,
   "metadata": {},
   "outputs": [
    {
     "name": "stdout",
     "output_type": "stream",
     "text": [
      "ascollectinfo log file: ../data/20220115_004012_ascollectinfo.log\n",
      "features read: ['KVS', 'TLS (FABRIC)', 'TLS (SERVICE)']\n",
      "cluster info: {'timestamp': '2022-01-15 00:40:12 UTC', 'cluster_name': 'conv-euw1', 'cluster_size': 6, 'server_release': '5.5.0.9', 'total_objects': 604, 'storage_engines': ['memory'], 'features': ['kvs', 'tls_service', 'tls_fabric']}\n"
     ]
    }
   ],
   "source": [
    "def get_cluster_info(timestamp, cluster_name, node_items, namespace_info):\n",
    "    cluster_info = {}\n",
    "    cluster_info['timestamp'] = timestamp\n",
    "    cluster_info['cluster_name'] = cluster_name \n",
    "    cluster_info['cluster_size'] = len(node_items)\n",
    "    #cluster_info['edition'] = node_items[0][1]['as_stat']['meta_data'].get('edition', 'unspecified')\n",
    "    cluster_info['server_release'] = node_items[0][1]['as_stat']['meta_data']['asd_build']\n",
    "    #cluster_info['num_namespaces'] = len(namespace_info)\n",
    "\n",
    "    cluster_info['total_objects'] = 0\n",
    "    cluster_info['storage_engines'] = set()\n",
    "    for nsinfo in namespace_info.values():\n",
    "        cluster_info['total_objects'] = cluster_info['total_objects'] + int(nsinfo['objects']) \n",
    "        cluster_info['storage_engines'] |= set([nsinfo['storage_engine']]) \n",
    "        #cluster_info['features_in_use'] |= set(['single_bin'] if nsinfo['single_bin'] == 'true' else [])\n",
    "        #cluster_info['features_in_use'] |= set(['strong_consistency'] if nsinfo['strong_consistency'] == 'true' else [])\n",
    "        #cluster_info['features_in_use'] |= set(['data_in_index'] if nsinfo['data_in_index'] == 'true' else [])\n",
    "    cluster_info['storage_engines'] = list(cluster_info['storage_engines'])\n",
    "    return cluster_info\n",
    "\n",
    "FEATURE_KEY_MAP = {\n",
    "    'AGGREGATION' : 'aggregation',\n",
    "    'BATCH' : 'batch',\n",
    "    'INDEX-ON-DEVICE' : 'index_on_device',\n",
    "    'INDEX-ON-PMEM' : 'index_on_pmem',\n",
    "    'KVS' : 'kvs',\n",
    "    'LDT' : 'ldt',\n",
    "    'QUERY' : 'query',\n",
    "    'RACK-AWARE' : 'rack_aware',\n",
    "    'SC' : 'sc',\n",
    "    'SCAN' : 'scan',\n",
    "    'SECURITY' : 'security',\n",
    "    'SINDEX' : 'sindex',\n",
    "    'TLS (FABRIC)' : 'tls_fabric',\n",
    "    'TLS (HEARTBEAT)' : 'tls_heartbeat',\n",
    "    'TLS (SERVICE)' : 'tls_service',\n",
    "    'UDF' : 'udf',\n",
    "    'XDR DESTINATION' : 'xdr_dest',\n",
    "    'XDR SOURCE' : 'xdr_src'\n",
    "}\n",
    "\n",
    "def set_features_in_use(json_path, cluster_info):\n",
    "    '''\n",
    "    for node, node_subtree in node_items:\n",
    "        cluster_info['features_in_use'] |= set(['xdr'] if len(node_subtree['as_stat']['config'].get('xdr', {})) > 0 else [])\n",
    "        # infer other features\n",
    "    cluster_info['features_in_use'] = list(cluster_info['features_in_use'])\n",
    "    '''\n",
    "    log_file = json_path[:-12] + 'ascollectinfo.log'\n",
    "    print ('ascollectinfo log file:', log_file)\n",
    "    # sed -n '/Features/,/ASCOLLECTINFO/p' 20220115_004012_ascollectinfo.log | grep YES | sed 's/[ \\t]*:.*//'\n",
    "    import os\n",
    "    stream = os.popen(\"sed -n '/Features/,/ASCOLLECTINFO/p' \" + log_file +  \" | grep ' YES' | sed 's/[ \\t]*:.*//'\")\n",
    "    features = stream.read().strip().split('\\n')\n",
    "    print('features read:', features)\n",
    "    cluster_info['features'] = set()  \n",
    "    for feature in features:\n",
    "        if feature not in FEATURE_KEY_MAP:\n",
    "            continue\n",
    "        cluster_info['features'] |= set([FEATURE_KEY_MAP[feature]])\n",
    "    cluster_info['features'] = list(cluster_info['features'])\n",
    "    return cluster_info\n",
    "    \n",
    "cluster_info = get_cluster_info(timestamp, cluster_name, node_items, namespace_info)\n",
    "cluster_info = set_features_in_use(json_file, cluster_info)\n",
    "print('cluster info:', cluster_info)\n"
   ]
  },
  {
   "cell_type": "markdown",
   "metadata": {},
   "source": [
    "# Load Into Database\n",
    "Insert the case record with case-number as the (user) key, and bins: timestamp, customer, cluster, and namespaces."
   ]
  },
  {
   "cell_type": "code",
   "execution_count": 38,
   "metadata": {},
   "outputs": [
    {
     "name": "stdout",
     "output_type": "stream",
     "text": [
      "record inserted into the database\n"
     ]
    }
   ],
   "source": [
    "NAMESPACE = 'test'\n",
    "SET = 'insights'\n",
    "def load(case_num, customer, timestamp, cluster_info, namespace_info):\n",
    "    client.put((NAMESPACE, SET, case_num), \n",
    "               {'case_num': case_num,\n",
    "                'customer': customer,\n",
    "                **cluster_info,\n",
    "               'namespaces':list(namespace_info.values())})\n",
    "    return\n",
    "\n",
    "CASE_NUM = 100\n",
    "CUST_NAME = 'Widgets, Inc.'\n",
    "load(CASE_NUM, CUST_NAME, timestamp, cluster_info, namespace_info)\n",
    "print('record inserted into the database')"
   ]
  },
  {
   "cell_type": "markdown",
   "metadata": {},
   "source": [
    "## Validate Data in Database"
   ]
  },
  {
   "cell_type": "code",
   "execution_count": 39,
   "metadata": {},
   "outputs": [
    {
     "name": "stdout",
     "output_type": "stream",
     "text": [
      "set output raw\n",
      "OUTPUT = RAW\n",
      "select * from test.insights\n",
      "*************************** 1. row ***************************\n",
      "case_num: 100\n",
      "customer: \"Widgets, Inc.\"\n",
      "timestamp: \"2022-01-15 00:40:12 UTC\"\n",
      "cluster_name: \"conv-euw1\"\n",
      "cluster_size: 6\n",
      "server_release: \"5.5.0.9\"\n",
      "total_objects: 604\n",
      "storage_engines: LIST('[\"memory\"]')\n",
      "features: LIST('[\"kvs\", \"tls_service\", \"tls_fabric\"]')\n",
      "namespaces: LIST('[{\"ns_cluster_size\":\"6\", \"replication_factor\":\"3\", \"num_bins\":\"5\", \"storage_engine\":\"memory\", \"num_sets\":2, \"name\":\"memory\", \"data_in_index\":\"false\", \"single_bin\":\"false\", \"objects\":\"604\", \"master_objects\":\"226\", \"num_sindex\":0, \"strong_consistency\":\"false\"}]')\n",
      "\n",
      "1 row in set (0.246 secs)\n",
      "\n",
      "OK\n",
      "\n",
      "\n"
     ]
    }
   ],
   "source": [
    "!aql -c \"set output raw; select * from test.insights\""
   ]
  },
  {
   "cell_type": "markdown",
   "metadata": {},
   "source": [
    "# Batch ETL: Process All Files\n",
    "Now we ETL all ascinfo.json and ascollectinfo.log files in the `DATA_DIR` directory.\n",
    "\n",
    "We assign fictious case numbers and customer names for now to the data (later to be obtained from the Support database). We sequentially assign case numbers starting at `CASE_NUM`, and rotate customer names from the `CUST_NAMES` array."
   ]
  },
  {
   "cell_type": "code",
   "execution_count": 40,
   "metadata": {},
   "outputs": [],
   "source": [
    "CASE_NUM_START = 200\n",
    "CUST_NAMES = ['Widgets, Inc','Wares Corp','Parts Ltd','Component Factory','Modular Design','We Assemble']"
   ]
  },
  {
   "cell_type": "code",
   "execution_count": 41,
   "metadata": {},
   "outputs": [
    {
     "name": "stdout",
     "output_type": "stream",
     "text": [
      "Read ascinfo json file: ../data/20190315_203751_ascinfo.json\n",
      "timestamp: 2019-03-15 20:39:59 UTC\n",
      "cluster name: null\n",
      "number of nodes: 34\n",
      "{'users': {'name': 'users', 'num_bins': '9', 'num_sets': 2, 'num_sindex': 0, 'replication_factor': 0, 'storage_engine': 'device', 'ns_cluster_size': 0, 'master_objects': '1377143747', 'objects': '2361400096', 'single_bin': 'false', 'strong_consistency': 'false', 'data_in_index': 'false'}, 'context': {'name': 'context', 'num_bins': '14', 'num_sets': 1, 'num_sindex': 0, 'replication_factor': 0, 'storage_engine': 'device', 'ns_cluster_size': 0, 'master_objects': '111906126', 'objects': '221789094', 'single_bin': 'false', 'strong_consistency': 'false', 'data_in_index': 'false'}}\n",
      "ascollectinfo log file: ../data/20190315_203751_ascollectinfo.log\n",
      "features read: ['BATCH', 'KVS', 'SCAN']\n",
      "{'timestamp': '2019-03-15 20:39:59 UTC', 'cluster_name': 'null', 'cluster_size': 34, 'server_release': '3.13.0.11', 'total_objects': 2583189190, 'storage_engines': ['device'], 'features': ['batch', 'kvs', 'scan']}\n",
      "record inserted into the database\n",
      "\n",
      "\n",
      "Read ascinfo json file: ../data/20220115_004012_ascinfo.json\n",
      "timestamp: 2022-01-15 00:40:12 UTC\n",
      "cluster name: conv-euw1\n",
      "number of nodes: 6\n",
      "{'memory': {'name': 'memory', 'num_bins': '5', 'num_sets': 2, 'num_sindex': 0, 'replication_factor': '3', 'storage_engine': 'memory', 'ns_cluster_size': '6', 'master_objects': '226', 'objects': '604', 'single_bin': 'false', 'strong_consistency': 'false', 'data_in_index': 'false'}}\n",
      "ascollectinfo log file: ../data/20220115_004012_ascollectinfo.log\n",
      "features read: ['KVS', 'TLS (FABRIC)', 'TLS (SERVICE)']\n",
      "{'timestamp': '2022-01-15 00:40:12 UTC', 'cluster_name': 'conv-euw1', 'cluster_size': 6, 'server_release': '5.5.0.9', 'total_objects': 604, 'storage_engines': ['memory'], 'features': ['kvs', 'tls_service', 'tls_fabric']}\n",
      "record inserted into the database\n",
      "\n",
      "\n",
      "Read ascinfo json file: ../data/20210419_030003_ascinfo.json\n",
      "timestamp: 2021-04-19 03:00:03 UTC\n",
      "cluster name: aeroscluster-newprod\n",
      "number of nodes: 6\n",
      "{'sample': {'name': 'sample', 'num_bins': '0', 'num_sets': 0, 'num_sindex': 0, 'replication_factor': '2', 'storage_engine': 'device', 'ns_cluster_size': '6', 'master_objects': '0', 'objects': '0', 'single_bin': 'false', 'strong_consistency': 'false', 'data_in_index': 'false'}, 'apiyugasg': {'name': 'apiyugasg', 'num_bins': '20', 'num_sets': 31, 'num_sindex': 10, 'replication_factor': '2', 'storage_engine': 'device', 'ns_cluster_size': '6', 'master_objects': '50493942', 'objects': '100994165', 'single_bin': 'false', 'strong_consistency': 'false', 'data_in_index': 'false'}}\n",
      "ascollectinfo log file: ../data/20210419_030003_ascollectinfo.log\n",
      "features read: ['BATCH', 'KVS', 'QUERY', 'RACK-AWARE', 'SCAN', 'SECURITY', 'SINDEX', 'TLS (SERVICE)']\n",
      "{'timestamp': '2021-04-19 03:00:03 UTC', 'cluster_name': 'aeroscluster-newprod', 'cluster_size': 6, 'server_release': '4.9.0.26', 'total_objects': 100994165, 'storage_engines': ['device'], 'features': ['kvs', 'query', 'scan', 'batch', 'rack_aware', 'tls_service', 'sindex', 'security']}\n",
      "record inserted into the database\n",
      "\n",
      "\n",
      "Read ascinfo json file: ../data/20201110_112338_ascinfo.json\n",
      "timestamp: 2020-11-10 11:23:38 UTC\n",
      "cluster name: userstory-aerospike-us-central1-prod\n",
      "number of nodes: 120\n",
      "{'memory': {'name': 'memory', 'num_bins': '13', 'num_sets': 3, 'num_sindex': 0, 'replication_factor': '6', 'storage_engine': 'device', 'ns_cluster_size': '120', 'master_objects': '1762591', 'objects': '10580533', 'single_bin': 'false', 'strong_consistency': 'false', 'data_in_index': 'false'}}\n",
      "ascollectinfo log file: ../data/20201110_112338_ascollectinfo.log\n",
      "features read: ['BATCH', 'KVS', 'RACK-AWARE', 'XDR DESTINATION']\n",
      "{'timestamp': '2020-11-10 11:23:38 UTC', 'cluster_name': 'userstory-aerospike-us-central1-prod', 'cluster_size': 120, 'server_release': '5.1.0.10', 'total_objects': 10580533, 'storage_engines': ['device'], 'features': ['batch', 'kvs', 'rack_aware', 'xdr_dest']}\n",
      "record inserted into the database\n",
      "\n",
      "\n",
      "Read ascinfo json file: ../data/20211210_185029_ascinfo.json\n",
      "timestamp: 2021-12-10 18:50:29 UTC\n",
      "cluster name: aerospike-atlas_users-dedi_us-east-1_prod\n",
      "number of nodes: 99\n",
      "{'memory': {'name': 'memory', 'num_bins': '1', 'num_sets': 8, 'num_sindex': 0, 'replication_factor': '3', 'storage_engine': 'memory', 'ns_cluster_size': '99', 'master_objects': '32896435', 'objects': '101421923', 'single_bin': 'false', 'strong_consistency': 'true', 'data_in_index': 'false'}}\n",
      "ascollectinfo log file: ../data/20211210_185029_ascollectinfo.log\n",
      "features read: ['']\n",
      "{'timestamp': '2021-12-10 18:50:29 UTC', 'cluster_name': 'aerospike-atlas_users-dedi_us-east-1_prod', 'cluster_size': 99, 'server_release': '5.5.0.9', 'total_objects': 101421923, 'storage_engines': ['memory'], 'features': []}\n",
      "record inserted into the database\n",
      "\n",
      "\n",
      "Read ascinfo json file: ../data/20201227_171847_ascinfo.json\n",
      "timestamp: 2020-12-27 17:18:47 UTC\n",
      "cluster name: aerospike-clicks-pointers-036-eu1\n",
      "number of nodes: 39\n",
      "{'clicks-pointers': {'name': 'clicks-pointers', 'num_bins': 0, 'num_sets': 3, 'num_sindex': 0, 'replication_factor': '2', 'storage_engine': 'device', 'ns_cluster_size': '39', 'master_objects': '8428991267', 'objects': '15512101854', 'single_bin': 'true', 'strong_consistency': 'false', 'data_in_index': 'false'}}\n",
      "ascollectinfo log file: ../data/20201227_171847_ascollectinfo.log\n",
      "features read: ['BATCH', 'INDEX-ON-DEVICE', 'KVS', 'SCAN', 'SECURITY']\n",
      "{'timestamp': '2020-12-27 17:18:47 UTC', 'cluster_name': 'aerospike-clicks-pointers-036-eu1', 'cluster_size': 39, 'server_release': '4.8.0.9', 'total_objects': 15512101854, 'storage_engines': ['device'], 'features': ['kvs', 'scan', 'batch', 'security', 'index_on_device']}\n",
      "record inserted into the database\n",
      "\n",
      "\n",
      "Read ascinfo json file: ../data/20210126_093908_ascinfo.json\n",
      "timestamp: 2021-01-26 09:39:08 UTC\n",
      "cluster name: as-userdata-cluster\n",
      "number of nodes: 17\n",
      "{'userdata': {'name': 'userdata', 'num_bins': '6', 'num_sets': 106, 'num_sindex': 0, 'replication_factor': '2', 'storage_engine': 'device', 'ns_cluster_size': '17', 'master_objects': '2414700055', 'objects': '4829413640', 'single_bin': 'false', 'strong_consistency': 'false', 'data_in_index': 'false'}}\n",
      "ascollectinfo log file: ../data/20210126_093908_ascollectinfo.log\n",
      "features read: ['BATCH', 'KVS', 'SCAN', 'XDR DESTINATION']\n",
      "{'timestamp': '2021-01-26 09:39:08 UTC', 'cluster_name': 'as-userdata-cluster', 'cluster_size': 17, 'server_release': '5.1.0.7', 'total_objects': 4829413640, 'storage_engines': ['device'], 'features': ['batch', 'kvs', 'xdr_dest', 'scan']}\n",
      "record inserted into the database\n",
      "\n",
      "\n",
      "Read ascinfo json file: ../data/20210122_102631_ascinfo.json\n",
      "timestamp: 2021-01-22 10:26:31 UTC\n",
      "cluster name: vpt-aerospike-node\n",
      "number of nodes: 21\n",
      "{'profiles-1M-ephemeral': {'name': 'profiles-1M-ephemeral', 'num_bins': '237', 'num_sets': 27, 'num_sindex': 0, 'replication_factor': '2', 'storage_engine': 'device', 'ns_cluster_size': '21', 'master_objects': '190506862', 'objects': '378092961', 'single_bin': 'false', 'strong_consistency': 'true', 'data_in_index': 'false'}}\n",
      "ascollectinfo log file: ../data/20210122_102631_ascollectinfo.log\n",
      "features read: ['BATCH', 'KVS', 'RACK-AWARE', 'TLS (FABRIC)', 'TLS (SERVICE)']\n",
      "{'timestamp': '2021-01-22 10:26:31 UTC', 'cluster_name': 'vpt-aerospike-node', 'cluster_size': 21, 'server_release': '4.8.0.6', 'total_objects': 378092961, 'storage_engines': ['device'], 'features': ['kvs', 'batch', 'rack_aware', 'tls_service', 'tls_fabric']}\n",
      "record inserted into the database\n",
      "\n",
      "\n",
      "Read ascinfo json file: ../data/20200901_215141_ascinfo.json\n",
      "timestamp: 2020-09-01 21:51:41 UTC\n",
      "cluster name: na_test\n",
      "number of nodes: 6\n",
      "{'experian': {'name': 'experian', 'num_bins': '28', 'num_sets': 8, 'num_sindex': 0, 'replication_factor': '2', 'storage_engine': 'device', 'ns_cluster_size': '6', 'master_objects': '24688834', 'objects': '49349854', 'single_bin': 'false', 'strong_consistency': 'false', 'data_in_index': 'false'}}\n",
      "ascollectinfo log file: ../data/20200901_215141_ascollectinfo.log\n",
      "features read: ['BATCH', 'KVS', 'TLS (FABRIC)', 'TLS (SERVICE)']\n",
      "{'timestamp': '2020-09-01 21:51:41 UTC', 'cluster_name': 'na_test', 'cluster_size': 6, 'server_release': '5.1.0.5', 'total_objects': 49349854, 'storage_engines': ['device'], 'features': ['batch', 'kvs', 'tls_service', 'tls_fabric']}\n",
      "record inserted into the database\n",
      "\n",
      "\n",
      "batch etl done.\n"
     ]
    }
   ],
   "source": [
    "import glob\n",
    "def process_batch_etl():\n",
    "    case_num = CASE_NUM_START\n",
    "    for json_file in glob.glob(DATA_DIR + '/*_ascinfo.json'):\n",
    "        json_info = readJsonDataFromFile(json_file)\n",
    "        print('Read ascinfo json file:', json_file)\n",
    "        \n",
    "        timestamp = get_timestamp(json_info)\n",
    "        print('timestamp:', timestamp)\n",
    "\n",
    "        cluster_itmes = get_cluster_items(json_info)\n",
    "        cluster_name = cluster_itmes[0][0]\n",
    "        print('cluster name:', cluster_name)\n",
    "\n",
    "        node_items = get_node_items(cluster_itmes)\n",
    "        num_nodes = len(node_items)\n",
    "        print('number of nodes:', num_nodes)\n",
    "\n",
    "        namespace_info = get_namespace_info(node_items)\n",
    "        print(namespace_info)\n",
    "        \n",
    "        cluster_info = get_cluster_info(timestamp, cluster_name, node_items, namespace_info)\n",
    "        cluster_info = set_features_in_use(json_file, cluster_info)\n",
    "        print(cluster_info)\n",
    "\n",
    "        cust_name = CUST_NAMES[case_num % len(CUST_NAMES)]\n",
    "        load(case_num, cust_name, timestamp, cluster_info, namespace_info)\n",
    "        case_num += 1\n",
    "        print('record inserted into the database')        \n",
    "        \n",
    "        print('\\n')\n",
    "    return\n",
    "    \n",
    "process_batch_etl()\n",
    "print('batch etl done.')"
   ]
  },
  {
   "cell_type": "markdown",
   "metadata": {},
   "source": [
    "## Examine Database"
   ]
  },
  {
   "cell_type": "code",
   "execution_count": 42,
   "metadata": {},
   "outputs": [
    {
     "name": "stdout",
     "output_type": "stream",
     "text": [
      "set output raw\n",
      "OUTPUT = RAW\n",
      "select * from test.insights\n",
      "*************************** 1. row ***************************\n",
      "case_num: 201\n",
      "customer: \"Component Factory\"\n",
      "timestamp: \"2022-01-15 00:40:12 UTC\"\n",
      "cluster_name: \"conv-euw1\"\n",
      "cluster_size: 6\n",
      "server_release: \"5.5.0.9\"\n",
      "total_objects: 604\n",
      "storage_engines: LIST('[\"memory\"]')\n",
      "features: LIST('[\"kvs\", \"tls_service\", \"tls_fabric\"]')\n",
      "namespaces: LIST('[{\"ns_cluster_size\":\"6\", \"replication_factor\":\"3\", \"num_bins\":\"5\", \"storage_engine\":\"memory\", \"num_sets\":2, \"name\":\"memory\", \"data_in_index\":\"false\", \"single_bin\":\"false\", \"objects\":\"604\", \"master_objects\":\"226\", \"num_sindex\":0, \"strong_consistency\":\"false\"}]')\n",
      "*************************** 2. row ***************************\n",
      "case_num: 200\n",
      "customer: \"Parts Ltd\"\n",
      "timestamp: \"2019-03-15 20:39:59 UTC\"\n",
      "cluster_name: \"null\"\n",
      "cluster_size: 34\n",
      "server_release: \"3.13.0.11\"\n",
      "total_objects: 2583189190\n",
      "storage_engines: LIST('[\"device\"]')\n",
      "features: LIST('[\"batch\", \"kvs\", \"scan\"]')\n",
      "namespaces: LIST('[{\"ns_cluster_size\":0, \"replication_factor\":0, \"num_bins\":\"9\", \"storage_engine\":\"device\", \"num_sets\":2, \"name\":\"users\", \"data_in_index\":\"false\", \"single_bin\":\"false\", \"objects\":\"2361400096\", \"master_objects\":\"1377143747\", \"num_sindex\":0, \"strong_consistency\":\"false\"}, {\"ns_cluster_size\":0, \"replication_factor\":0, \"num_bins\":\"14\", \"storage_engine\":\"device\", \"num_sets\":1, \"name\":\"context\", \"data_in_index\":\"false\", \"single_bin\":\"false\", \"objects\":\"221789094\", \"master_objects\":\"111906126\", \"num_sindex\":0, \"strong_consistency\":\"false\"}]')\n",
      "*************************** 3. row ***************************\n",
      "case_num: 100\n",
      "customer: \"Widgets, Inc.\"\n",
      "timestamp: \"2022-01-15 00:40:12 UTC\"\n",
      "cluster_name: \"conv-euw1\"\n",
      "cluster_size: 6\n",
      "server_release: \"5.5.0.9\"\n",
      "total_objects: 604\n",
      "storage_engines: LIST('[\"memory\"]')\n",
      "features: LIST('[\"kvs\", \"tls_service\", \"tls_fabric\"]')\n",
      "namespaces: LIST('[{\"ns_cluster_size\":\"6\", \"replication_factor\":\"3\", \"num_bins\":\"5\", \"storage_engine\":\"memory\", \"num_sets\":2, \"name\":\"memory\", \"data_in_index\":\"false\", \"single_bin\":\"false\", \"objects\":\"604\", \"master_objects\":\"226\", \"num_sindex\":0, \"strong_consistency\":\"false\"}]')\n",
      "*************************** 4. row ***************************\n",
      "case_num: 205\n",
      "customer: \"Wares Corp\"\n",
      "timestamp: \"2020-12-27 17:18:47 UTC\"\n",
      "cluster_name: \"aerospike-clicks-pointers-036-eu1\"\n",
      "cluster_size: 39\n",
      "server_release: \"4.8.0.9\"\n",
      "total_objects: 15512101854\n",
      "storage_engines: LIST('[\"device\"]')\n",
      "features: LIST('[\"kvs\", \"scan\", \"batch\", \"security\", \"index_on_device\"]')\n",
      "namespaces: LIST('[{\"ns_cluster_size\":\"39\", \"replication_factor\":\"2\", \"num_bins\":0, \"storage_engine\":\"device\", \"num_sets\":3, \"name\":\"clicks-pointers\", \"data_in_index\":\"false\", \"single_bin\":\"true\", \"objects\":\"15512101854\", \"master_objects\":\"8428991267\", \"num_sindex\":0, \"strong_consistency\":\"false\"}]')\n",
      "*************************** 5. row ***************************\n",
      "case_num: 202\n",
      "customer: \"Modular Design\"\n",
      "timestamp: \"2021-04-19 03:00:03 UTC\"\n",
      "cluster_name: \"aeroscluster-newprod\"\n",
      "cluster_size: 6\n",
      "server_release: \"4.9.0.26\"\n",
      "total_objects: 100994165\n",
      "storage_engines: LIST('[\"device\"]')\n",
      "features: LIST('[\"kvs\", \"query\", \"scan\", \"batch\", \"rack_aware\", \"tls_service\", \"sindex\", \"security\"]')\n",
      "namespaces: LIST('[{\"ns_cluster_size\":\"6\", \"replication_factor\":\"2\", \"num_bins\":\"0\", \"storage_engine\":\"device\", \"num_sets\":0, \"name\":\"sample\", \"data_in_index\":\"false\", \"single_bin\":\"false\", \"objects\":\"0\", \"master_objects\":\"0\", \"num_sindex\":0, \"strong_consistency\":\"false\"}, {\"ns_cluster_size\":\"6\", \"replication_factor\":\"2\", \"num_bins\":\"20\", \"storage_engine\":\"device\", \"num_sets\":31, \"name\":\"apiyugasg\", \"data_in_index\":\"false\", \"single_bin\":\"false\", \"objects\":\"100994165\", \"master_objects\":\"50493942\", \"num_sindex\":10, \"strong_consistency\":\"false\"}]')\n",
      "*************************** 6. row ***************************\n",
      "case_num: 208\n",
      "customer: \"Modular Design\"\n",
      "timestamp: \"2020-09-01 21:51:41 UTC\"\n",
      "cluster_name: \"na_test\"\n",
      "cluster_size: 6\n",
      "server_release: \"5.1.0.5\"\n",
      "total_objects: 49349854\n",
      "storage_engines: LIST('[\"device\"]')\n",
      "features: LIST('[\"batch\", \"kvs\", \"tls_service\", \"tls_fabric\"]')\n",
      "namespaces: LIST('[{\"ns_cluster_size\":\"6\", \"replication_factor\":\"2\", \"num_bins\":\"28\", \"storage_engine\":\"device\", \"num_sets\":8, \"name\":\"experian\", \"data_in_index\":\"false\", \"single_bin\":\"false\", \"objects\":\"49349854\", \"master_objects\":\"24688834\", \"num_sindex\":0, \"strong_consistency\":\"false\"}]')\n",
      "*************************** 7. row ***************************\n",
      "case_num: 207\n",
      "customer: \"Component Factory\"\n",
      "timestamp: \"2021-01-22 10:26:31 UTC\"\n",
      "cluster_name: \"vpt-aerospike-node\"\n",
      "cluster_size: 21\n",
      "server_release: \"4.8.0.6\"\n",
      "total_objects: 378092961\n",
      "storage_engines: LIST('[\"device\"]')\n",
      "features: LIST('[\"kvs\", \"batch\", \"rack_aware\", \"tls_service\", \"tls_fabric\"]')\n",
      "namespaces: LIST('[{\"ns_cluster_size\":\"21\", \"replication_factor\":\"2\", \"num_bins\":\"237\", \"storage_engine\":\"device\", \"num_sets\":27, \"name\":\"profiles-1M-ephemeral\", \"data_in_index\":\"false\", \"single_bin\":\"false\", \"objects\":\"378092961\", \"master_objects\":\"190506862\", \"num_sindex\":0, \"strong_consistency\":\"true\"}]')\n",
      "*************************** 8. row ***************************\n",
      "case_num: 206\n",
      "customer: \"Parts Ltd\"\n",
      "timestamp: \"2021-01-26 09:39:08 UTC\"\n",
      "cluster_name: \"as-userdata-cluster\"\n",
      "cluster_size: 17\n",
      "server_release: \"5.1.0.7\"\n",
      "total_objects: 4829413640\n",
      "storage_engines: LIST('[\"device\"]')\n",
      "features: LIST('[\"batch\", \"kvs\", \"xdr_dest\", \"scan\"]')\n",
      "namespaces: LIST('[{\"ns_cluster_size\":\"17\", \"replication_factor\":\"2\", \"num_bins\":\"6\", \"storage_engine\":\"device\", \"num_sets\":106, \"name\":\"userdata\", \"data_in_index\":\"false\", \"single_bin\":\"false\", \"objects\":\"4829413640\", \"master_objects\":\"2414700055\", \"num_sindex\":0, \"strong_consistency\":\"false\"}]')\n",
      "*************************** 9. row ***************************\n",
      "case_num: 203\n",
      "customer: \"We Assemble\"\n",
      "timestamp: \"2020-11-10 11:23:38 UTC\"\n",
      "cluster_name: \"userstory-aerospike-us-central1-prod\"\n",
      "cluster_size: 120\n",
      "server_release: \"5.1.0.10\"\n",
      "total_objects: 10580533\n",
      "storage_engines: LIST('[\"device\"]')\n",
      "features: LIST('[\"batch\", \"kvs\", \"rack_aware\", \"xdr_dest\"]')\n",
      "namespaces: LIST('[{\"ns_cluster_size\":\"120\", \"replication_factor\":\"6\", \"num_bins\":\"13\", \"storage_engine\":\"device\", \"num_sets\":3, \"name\":\"memory\", \"data_in_index\":\"false\", \"single_bin\":\"false\", \"objects\":\"10580533\", \"master_objects\":\"1762591\", \"num_sindex\":0, \"strong_consistency\":\"false\"}]')\n",
      "*************************** 10. row ***************************\n",
      "case_num: 204\n",
      "customer: \"Widgets, Inc\"\n",
      "timestamp: \"2021-12-10 18:50:29 UTC\"\n",
      "cluster_name: \"aerospike-atlas_users-dedi_us-east-1_prod\"\n",
      "cluster_size: 99\n",
      "server_release: \"5.5.0.9\"\n",
      "total_objects: 101421923\n",
      "storage_engines: LIST('[\"memory\"]')\n",
      "features: LIST('[]')\n",
      "namespaces: LIST('[{\"ns_cluster_size\":\"99\", \"replication_factor\":\"3\", \"num_bins\":\"1\", \"storage_engine\":\"memory\", \"num_sets\":8, \"name\":\"memory\", \"data_in_index\":\"false\", \"single_bin\":\"false\", \"objects\":\"101421923\", \"master_objects\":\"32896435\", \"num_sindex\":0, \"strong_consistency\":\"true\"}]')\n",
      "\n",
      "10 rows in set (0.274 secs)\n",
      "\n",
      "OK\n",
      "\n",
      "\n"
     ]
    }
   ],
   "source": [
    "!aql -c \"set output raw; select * from test.insights\""
   ]
  },
  {
   "cell_type": "markdown",
   "metadata": {},
   "source": [
    "# Trino SQL Queries\n",
    "For the following queries to exexute in the notebook, you must have a Trino server running at port 8080 of the host, connected to this container's Aerospike database via the Aerospike Trino Connector."
   ]
  },
  {
   "cell_type": "markdown",
   "metadata": {},
   "source": [
    "## Trino Setup\n",
    "1. Make sure the port of the Aerospike server (typically 3000) running in this notebook's container is exposed to host. \n",
    "2. [Use these instruactions](https://github.com/citrusleaf/aerospike-connect-trino#run-on-docker) to run Trino and the Aerospike Trino Connector in a docker container on the host machine. Make sure the Trino Connector can access the Aerospike server in this container.\n",
    "3. [Install the Trino Client](https://trino.io/docs/current/installation/cli.html) in this container. The following cells assume it is installed in the parent directory."
   ]
  },
  {
   "cell_type": "markdown",
   "metadata": {},
   "source": [
    "## Trino Command\n",
    "Define the environment variable for short form of the Trino command. \n",
    "\n",
    "You can also run the Trino command line tool in a separate shell tab."
   ]
  },
  {
   "cell_type": "code",
   "execution_count": 2,
   "metadata": {},
   "outputs": [
    {
     "name": "stdout",
     "output_type": "stream",
     "text": [
      "env: TRINO=../trino --server host.docker.internal:8080 --catalog aerospike --schema test --output-format=TSV_HEADER\n",
      "env: TRINO_VERTICAL=../trino --server host.docker.internal:8080 --catalog aerospike --schema test --output-format=VERTICAL\n"
     ]
    }
   ],
   "source": [
    "%env TRINO=../trino --server host.docker.internal:8080 --catalog aerospike --schema test --output-format=TSV_HEADER\n",
    "%env TRINO_VERTICAL=../trino --server host.docker.internal:8080 --catalog aerospike --schema test --output-format=VERTICAL"
   ]
  },
  {
   "cell_type": "markdown",
   "metadata": {},
   "source": [
    "## Examples"
   ]
  },
  {
   "cell_type": "markdown",
   "metadata": {},
   "source": [
    "Show schemas (namespaces)."
   ]
  },
  {
   "cell_type": "code",
   "execution_count": 9,
   "metadata": {},
   "outputs": [
    {
     "name": "stdout",
     "output_type": "stream",
     "text": [
      "Schema\r\n",
      "bar\r\n",
      "information_schema\r\n",
      "test\r\n"
     ]
    }
   ],
   "source": [
    "!$TRINO --execute \"show schemas\";"
   ]
  },
  {
   "cell_type": "markdown",
   "metadata": {},
   "source": [
    "Show tables (sets)."
   ]
  },
  {
   "cell_type": "code",
   "execution_count": 12,
   "metadata": {},
   "outputs": [
    {
     "name": "stdout",
     "output_type": "stream",
     "text": [
      "Table\r\n",
      "__default\r\n",
      "insights\r\n"
     ]
    }
   ],
   "source": [
    "!$TRINO --execute \"show tables\";"
   ]
  },
  {
   "cell_type": "markdown",
   "metadata": {},
   "source": [
    "Show a sample record."
   ]
  },
  {
   "cell_type": "code",
   "execution_count": 13,
   "metadata": {},
   "outputs": [
    {
     "name": "stdout",
     "output_type": "stream",
     "text": [
      "-[ RECORD 1 ]---+-------------------------------------------------------------------------------------------------------------------------------------------------------------------------------------------------------------------------------------------------------------------------\r\n",
      "__key           | NULL\r\n",
      "case_num        | 25488\r\n",
      "cluster_name    | userprofile-aerospike-us-central1-prod\r\n",
      "cluster_size    | 9\r\n",
      "customer        | Snapchat (Snap, Inc.)\r\n",
      "features        | [\"batch\",\"scan\",\"rack_aware\",\"security\",\"kvs\"]\r\n",
      "namespaces      | [{\"num_sets\":5,\"replication_factor\":\"3\",\"num_sindex\":0,\"data_in_index\":\"false\",\"num_bins\":\"15\",\"objects\":\"759044874\",\"name\":\"persistent\",\"single_bin\":\"false\",\"ns_cluster_size\":\"9\",\"storage_engine\":\"device\",\"master_objects\":\"61328743\",\"strong_consistency\":\"false\"}]\r\n",
      "server_release  | 5.2.0.4\r\n",
      "storage_engines | [\"device\"]\r\n",
      "timestamp       | 2021-11-12 17:45:59 UTC\r\n",
      "total_objects   | 759044874\r\n"
     ]
    }
   ],
   "source": [
    "!$TRINO_VERTICAL --execute \"select * from test.insights limit 1\" ;\n"
   ]
  },
  {
   "cell_type": "markdown",
   "metadata": {},
   "source": [
    "Get customers using feature 'index_on_device'."
   ]
  },
  {
   "cell_type": "markdown",
   "metadata": {},
   "source": [
    "Get customers using feature 'index_on_device'.\n",
    "```\n",
    "select customer, cluster_name, features \n",
    "from insights \n",
    "where contains(cast(features as array(VARCHAR)),'index_on_device')\n",
    "```"
   ]
  },
  {
   "cell_type": "code",
   "execution_count": 14,
   "metadata": {},
   "outputs": [
    {
     "name": "stdout",
     "output_type": "stream",
     "text": [
      "customer\tcluster_name\tfeatures\r\n",
      "LexisNexis Risk Solutions Inc. (ThreatMetrix)\tEASTUS2non\t[\"udf\",\"security\",\"xdr_dest\",\"xdr_src\",\"batch\",\"index_on_device\",\"kvs\"]\r\n",
      "Charles Schwab\tTIGER-QA1\t[\"tls_service\",\"query\",\"index_on_device\",\"kvs\",\"tls_fabric\",\"sindex\",\"scan\",\"batch\",\"rack_aware\"]\r\n",
      "Charles Schwab\tTIGER-PDC3\t[\"tls_fabric\",\"kvs\",\"udf\",\"sindex\",\"index_on_device\",\"batch\",\"tls_service\",\"rack_aware\",\"xdr_dest\"]\r\n"
     ]
    }
   ],
   "source": [
    "!$TRINO --execute \"select customer, cluster_name, features from insights where contains(cast(features as array(VARCHAR)),'index_on_device')\" ;\n"
   ]
  },
  {
   "cell_type": "markdown",
   "metadata": {},
   "source": [
    "Get customers using feature 'xdr_dest' and release after 5.x\n",
    "```\n",
    "select customer, features, server_release \n",
    "from insights \n",
    "where contains(cast(features as array(VARCHAR)),'xdr_dest') and regexp_like(server_release, '^5.*')\n",
    "```"
   ]
  },
  {
   "cell_type": "code",
   "execution_count": 16,
   "metadata": {},
   "outputs": [
    {
     "name": "stdout",
     "output_type": "stream",
     "text": [
      "customer\tfeatures\tserver_release\r\n",
      "DoubleVerify\t[\"udf\",\"xdr_dest\",\"kvs\"]\t5.2.0.6\r\n",
      "Nokia Solutions and Networks OY (Channels Account)\t[\"query\",\"scan\",\"tls_fabric\",\"kvs\",\"aggregation\",\"sindex\",\"tls_service\",\"rack_aware\",\"xdr_dest\"]\t5.6.0.4\r\n",
      "Charles Schwab\t[\"tls_fabric\",\"kvs\",\"udf\",\"sindex\",\"index_on_device\",\"batch\",\"tls_service\",\"rack_aware\",\"xdr_dest\"]\t5.2.0.21\r\n",
      "DoubleVerify\t[\"kvs\",\"udf\",\"xdr_dest\",\"scan\"]\t5.2.0.6\r\n",
      "Nokia Solutions and Networks OY (Channels Account)\t[\"kvs\",\"sindex\",\"query\",\"xdr_dest\",\"aggregation\",\"rack_aware\"]\t5.6.0.4\r\n"
     ]
    }
   ],
   "source": [
    "!$TRINO --execute \"select customer, features, server_release from insights where contains(cast(features as array(VARCHAR)),'xdr_dest') and regexp_like(server_release, '^5.*');\" ;\n"
   ]
  },
  {
   "cell_type": "markdown",
   "metadata": {},
   "source": [
    "Get the largest deployed cluster by each customer.\n",
    "```\n",
    "select customer, max(cluster_size) as max_cluster_size\n",
    "rom insights\n",
    "group by customer\n",
    "```"
   ]
  },
  {
   "cell_type": "code",
   "execution_count": 17,
   "metadata": {},
   "outputs": [
    {
     "name": "stdout",
     "output_type": "stream",
     "text": [
      "customer\tmax_cluster_size\r\n",
      "Barclays PLC\t78\r\n",
      "Adobe Systems Incorporated\t12\r\n",
      "VPBank SMBC Finance Company Limited\t4\r\n",
      "Passendo ApS\t12\r\n",
      "Express (Hangzhou) Technology Service Company Limited\t3\r\n",
      "Charles Schwab\t9\r\n",
      "Supermarket Grocery Supplies Pvt Ltd (BigBasket.com)\t24\r\n",
      "PingAn Bank\t5\r\n",
      "LexisNexis Risk Solutions Inc. (ThreatMetrix)\t22\r\n",
      "Deqwas, Inc.\t14\r\n",
      "Phonepe Private Limited (FX Mart Pvt. Ltd.)\t10\r\n",
      "Aerospike Cloud Managed Service\t3\r\n",
      "Federal Reserve Bank of Boston\t3\r\n",
      "Verizon Media\t102\r\n",
      "Clinch Labs Ltd\t4\r\n",
      "PubMatic\t8\r\n",
      "Cybereason Inc\t14\r\n",
      "DoubleVerify\t12\r\n",
      "Starkware Industries Ltd\t31\r\n",
      "Bombinate Technologies Pvt Ltd.\t16\r\n",
      "Affle International Pte Ltd\t14\r\n",
      "Sovrn Holdings\t5\r\n",
      "Quantcast Corporation\t28\r\n",
      "Ping An Bank\t7\r\n",
      "Amdocs Development Limited (Channels Account)\t18\r\n",
      "PayPal, Inc.\t30\r\n",
      "YouAppi INC\t3\r\n",
      "PT GoTo Gojek Tokopedia\t12\r\n",
      "AdTalos  - 新义互联科技有限公司\t10\r\n",
      "AppsFlyer\t74\r\n",
      "IDFC First Bank Ltd\t3\r\n",
      "Verizon Media (Dublin Ireland)\t127\r\n",
      "WalkMe LTD\t15\r\n",
      "Neustar, Inc. - San Diego\t14\r\n",
      "StackAdapt\t5\r\n",
      "ironSource Ltd\t25\r\n",
      "Wayfair LLC\t36\r\n",
      "Knorex Pte Ltd\t2\r\n",
      "PVR Limited\t3\r\n",
      "Fidelity Investments\t4\r\n",
      "Airtel - airtelbank.com\t8\r\n",
      "Koddi\t3\r\n",
      "Gamma Gaana Ltd\t4\r\n",
      "AppLovin\t27\r\n",
      "The Trade Desk Inc\t112\r\n",
      "SpringServe LLC\t14\r\n",
      "Persona.ly\t5\r\n",
      "BTB Betlab Holdings Ltd\t15\r\n",
      "Sporta Technologies Private Limited (Formerly Dream11 Fantasy Private Limited)\t13\r\n",
      "Snapchat (Snap, Inc.)\t174\r\n",
      "Globe Telecom\t8\r\n",
      "Nativo\t32\r\n",
      "Ringba Ireland Limited\t4\r\n",
      "Riskified\t6\r\n",
      "Nokia Solutions and Networks OY (Channels Account)\t5\r\n",
      "Red Sift\t3\r\n",
      "Bharti Airtel Limited\t12\r\n",
      "Tubi.tv\t6\r\n",
      "Early Warning Services, LLC\t6\r\n",
      "Wix.Com Inc\t6\r\n",
      "MediaMath, Inc.\t19\r\n"
     ]
    }
   ],
   "source": [
    "!$TRINO --execute \"select customer, max(cluster_size) as max_cluster_size from insights group by customer\" ;\n"
   ]
  },
  {
   "cell_type": "markdown",
   "metadata": {},
   "source": [
    "Get the largest namespace by objects for each customer.\n",
    "```\n",
    "select customer, max(transform(cast(namespaces as array<map<varchar, varchar>>), entry->entry['objects'])) \n",
    "                 as max_ns_objects\n",
    "from insights \n",
    "group by customer\n",
    "```"
   ]
  },
  {
   "cell_type": "code",
   "execution_count": 18,
   "metadata": {},
   "outputs": [
    {
     "name": "stdout",
     "output_type": "stream",
     "text": [
      "customer\tmax_ns_objects\r\n",
      "Express (Hangzhou) Technology Service Company Limited\t[6785]\r\n",
      "Charles Schwab\t[81530124, 285080914, 6952935208, 67966191]\r\n",
      "PingAn Bank\t[0, 99596584, 2057268387, 116092797, 0]\r\n",
      "Supermarket Grocery Supplies Pvt Ltd (BigBasket.com)\t[145423600, 9863061]\r\n",
      "Barclays PLC\t[682387527]\r\n",
      "Adobe Systems Incorporated\t[680914382, 0]\r\n",
      "VPBank SMBC Finance Company Limited\t[23839637, 74399476]\r\n",
      "Phonepe Private Limited (FX Mart Pvt. Ltd.)\t[6835608, 121806857]\r\n",
      "LexisNexis Risk Solutions Inc. (ThreatMetrix)\t[9202388756]\r\n",
      "Deqwas, Inc.\t[857023949]\r\n",
      "Aerospike Cloud Managed Service\t[119, 111655]\r\n",
      "Federal Reserve Bank of Boston\t[0]\r\n",
      "Passendo ApS\t[68659919, 1353548]\r\n",
      "Starkware Industries Ltd\t[89491151]\r\n",
      "Affle International Pte Ltd\t[23973843, 0, 3630870, 16815037, 11905, 9694699, 372875238, 5981, 3710680]\r\n",
      "Sovrn Holdings\t[2121633662]\r\n",
      "Quantcast Corporation\t[29031, 571591753, 32006, 11773679, 1795895755, 573178]\r\n",
      "Bombinate Technologies Pvt Ltd.\t[2700172909]\r\n",
      "YouAppi INC\t[15642113, 10422573, 0]\r\n",
      "PayPal, Inc.\t[7296224808, 186]\r\n",
      "AppsFlyer\t[3301561375]\r\n",
      "AdTalos  - 新义互联科技有限公司\t[66213755, 15415591, 1108531469, 2206806773, 29437913]\r\n",
      "PT GoTo Gojek Tokopedia\t[67851434, 24258]\r\n",
      "Ping An Bank\t[110626977, 0, 0, 1081060166, 68246076]\r\n",
      "Amdocs Development Limited (Channels Account)\t[37752273]\r\n",
      "Snapchat (Snap, Inc.)\t[759044874]\r\n",
      "Globe Telecom\t[341239973, 142711796]\r\n",
      "Sporta Technologies Private Limited (Formerly Dream11 Fantasy Private Limited)\t[378060450]\r\n",
      "BTB Betlab Holdings Ltd\t[98564530]\r\n",
      "Neustar, Inc. - San Diego\t[457325809]\r\n",
      "StackAdapt\t[5390061, 47259699]\r\n",
      "Nokia Solutions and Networks OY (Channels Account)\t[4854, 634, 17725, 0, 942, 7575]\r\n",
      "Wix.Com Inc\t[53715435]\r\n",
      "MediaMath, Inc.\t[7042071344]\r\n",
      "Bharti Airtel Limited\t[7635136]\r\n",
      "Tubi.tv\t[3326753, 0, 89920256]\r\n",
      "Early Warning Services, LLC\t[0, 0, 0]\r\n",
      "Red Sift\t[843831405, 0]\r\n",
      "Verizon Media\t[88612072, 5, 109, 1212073, 719238568, 546414097, 635967749, 13349290, 0, 833314383, 10607]\r\n",
      "Clinch Labs Ltd\t[76278262]\r\n",
      "PubMatic\t[620377899, 613308, 722236616, 23679]\r\n",
      "Cybereason Inc\t[223387657, 4442]\r\n",
      "DoubleVerify\t[182977318, 0]\r\n",
      "Gamma Gaana Ltd\t[3777769]\r\n",
      "AppLovin\t[2033349, 286949781, 747056298]\r\n",
      "The Trade Desk Inc\t[98308, 1245984557, 69882827, 226280677, 0, 3222996, 0]\r\n",
      "Koddi\t[57, 8905046]\r\n",
      "SpringServe LLC\t[243758853]\r\n",
      "Persona.ly\t[841903, 69076794, 12953620, 56959838, 83387890]\r\n",
      "Riskified\t[500234284]\r\n",
      "Nativo\t[18154540, 625615383]\r\n",
      "Ringba Ireland Limited\t[153152898]\r\n",
      "WalkMe LTD\t[445375428]\r\n",
      "Verizon Media (Dublin Ireland)\t[2071565390]\r\n",
      "IDFC First Bank Ltd\t[4476365, 9635082, 98020, 936, 5, 27, 18749061, 0]\r\n",
      "Fidelity Investments\t[1, 0, 0]\r\n",
      "Knorex Pte Ltd\t[362388933]\r\n",
      "ironSource Ltd\t[9368059]\r\n",
      "Wayfair LLC\t[629530683, 238, 0, 105120, 83199948, 114331948, 876897]\r\n",
      "Airtel - airtelbank.com\t[836959110, 13]\r\n",
      "PVR Limited\t[65604573]\r\n"
     ]
    }
   ],
   "source": [
    "!$TRINO --execute \"select customer, max(transform(cast(namespaces as array<map<varchar, varchar>>), entry->entry['objects'])) as max_ns_objects from insights group by customer\" ;\n"
   ]
  },
  {
   "cell_type": "markdown",
   "metadata": {},
   "source": [
    "Get customers having namespaces configured with:\n",
    "    storage-engine: data-in-memory AND \n",
    "    single-bin\n",
    "    Include enable-xdr if present (dropped in later versions).\n",
    "`\n",
    "    select customer, transform(cast(namespaces as array<map<varchar, varchar>>), entry->(entry['single_bin'], entry['storage_engine'])) as single_bin_device \n",
    "    from insights\n",
    "    where single_bin_device = {true, memory}\n",
    "`"
   ]
  },
  {
   "cell_type": "markdown",
   "metadata": {},
   "source": [
    "Get customers that have single-bin in-memory namespaces.\n",
    "\n",
    "`\n",
    "select customer, single_bin_mem_ns from (\n",
    "    select customer,  \n",
    "      filter(\n",
    "        transform(cast(namespaces as array<map<varchar,varchar>>), \n",
    "                  ns->map_filter(ns,(k,v)->k in ('name','single_bin','storage_engine'))), \n",
    "        ns->ns['single_bin']='true' and ns['storage_engine'] = 'memory') \n",
    "        as single_bin_mem_ns \n",
    "from insights) \n",
    "where single_bin_mem_ns != Array[]\";\n",
    "`"
   ]
  },
  {
   "cell_type": "code",
   "execution_count": 23,
   "metadata": {},
   "outputs": [
    {
     "name": "stdout",
     "output_type": "stream",
     "text": [
      "customer\tsingle_bin_mem_ns\r\n",
      "Quantcast Corporation\t[{name=in-memory-rtff, single_bin=true, storage_engine=memory}]\r\n"
     ]
    }
   ],
   "source": [
    "!$TRINO --execute \"select customer, single_bin_mem_ns from (select customer, filter(transform(cast(namespaces as array<map<varchar,varchar>>), ns->map_filter(ns,(k,v)->k in ('name','single_bin','storage_engine'))), ns->ns['single_bin']='true' and ns['storage_engine'] = 'memory') as single_bin_mem_ns from insights) where single_bin_mem_ns != Array[]\";\n"
   ]
  },
  {
   "cell_type": "markdown",
   "metadata": {},
   "source": [
    "Get customers that have single-bin in-memory namespaces, with XDR flag to indicate use of XDR.\n",
    "\n",
    "`\n",
    "select customer, xdr, single_bin_mem_ns from (\n",
    "    select customer, contains(cast(features as array<varchar>), 'xdr') as xdr, \n",
    "      filter(\n",
    "        transform(cast(namespaces as array<map<varchar,varchar>>), \n",
    "                  ns->map_filter(ns,(k,v)->k in ('name','single_bin','storage_engine'))), \n",
    "        ns->ns['single_bin']='true' and ns['storage_engine'] = 'memory') \n",
    "        as single_bin_mem_ns \n",
    "from insights) \n",
    "where single_bin_mem_ns != Array[]\";\n",
    "`"
   ]
  },
  {
   "cell_type": "code",
   "execution_count": 24,
   "metadata": {},
   "outputs": [
    {
     "name": "stdout",
     "output_type": "stream",
     "text": [
      "customer\txdr\tsingle_bin_ns\r\n",
      "Quantcast Corporation\tfalse\t[{name=in-memory-rtff, single_bin=true, storage_engine=memory}]\r\n"
     ]
    }
   ],
   "source": [
    "!$TRINO --execute \"select customer, xdr, single_bin_ns from (select customer, contains(cast(features as array<varchar>), 'xdr') as xdr, filter(transform(cast(namespaces as array<map<varchar,varchar>>), ns->map_filter(ns,(k,v)->k in ('name','single_bin','storage_engine'))), ns->ns['single_bin']='true' and ns['storage_engine'] = 'memory') as single_bin_ns from insights) where single_bin_ns != Array[]\";\n"
   ]
  },
  {
   "cell_type": "markdown",
   "metadata": {},
   "source": [
    "# Programmatic Access via Trino\n",
    "Install the trino package if not already installed to enable Python access by running the following cell."
   ]
  },
  {
   "cell_type": "code",
   "execution_count": 51,
   "metadata": {},
   "outputs": [],
   "source": [
    "#!pip install trino\n"
   ]
  },
  {
   "cell_type": "code",
   "execution_count": 52,
   "metadata": {},
   "outputs": [
    {
     "name": "stdout",
     "output_type": "stream",
     "text": [
      "[[None, 205, 'aerospike-clicks-pointers-036-eu1', 39, 'Wares Corp', '[\"kvs\",\"scan\",\"batch\",\"security\",\"index_on_device\"]', '[{\"num_sets\":3,\"replication_factor\":\"2\",\"num_sindex\":0,\"data_in_index\":\"false\",\"num_bins\":0,\"objects\":\"15512101854\",\"name\":\"clicks-pointers\",\"single_bin\":\"true\",\"ns_cluster_size\":\"39\",\"storage_engine\":\"device\",\"master_objects\":\"8428991267\",\"strong_consistency\":\"false\"}]', '4.8.0.9', '[\"device\"]', '2020-12-27 17:18:47 UTC', 15512101854]]\n"
     ]
    }
   ],
   "source": [
    "import trino\n",
    "conn = trino.dbapi.connect(\n",
    "    host='host.docker.internal',\n",
    "    port=8080,\n",
    "    user='admin',\n",
    "    catalog='aerospike',\n",
    "    schema='test'\n",
    ")\n",
    "cur = conn.cursor()\n",
    "cur.execute('select * from insights limit 1')\n",
    "rows = cur.fetchall()\n",
    "print(rows)"
   ]
  },
  {
   "cell_type": "markdown",
   "metadata": {},
   "source": [
    "# Cleanup\n",
    "Run the following cell to truncate the data."
   ]
  },
  {
   "cell_type": "code",
   "execution_count": 53,
   "metadata": {},
   "outputs": [
    {
     "name": "stdout",
     "output_type": "stream",
     "text": [
      "truncate test.insights\r\n",
      "OK\r\n",
      "\r\n",
      "\r\n"
     ]
    }
   ],
   "source": [
    "!aql -c \"truncate test.insights\""
   ]
  },
  {
   "cell_type": "code",
   "execution_count": 75,
   "metadata": {},
   "outputs": [],
   "source": [
    "client.close()"
   ]
  },
  {
   "cell_type": "code",
   "execution_count": null,
   "metadata": {},
   "outputs": [],
   "source": []
  }
 ],
 "metadata": {
  "kernelspec": {
   "display_name": "Python 3",
   "language": "python",
   "name": "python3"
  },
  "language_info": {
   "codemirror_mode": {
    "name": "ipython",
    "version": 3
   },
   "file_extension": ".py",
   "mimetype": "text/x-python",
   "name": "python",
   "nbconvert_exporter": "python",
   "pygments_lexer": "ipython3",
   "version": "3.8.6"
  },
  "toc": {
   "base_numbering": 1,
   "nav_menu": {},
   "number_sections": true,
   "sideBar": true,
   "skip_h1_title": false,
   "title_cell": "Table of Contents",
   "title_sidebar": "Contents",
   "toc_cell": false,
   "toc_position": {},
   "toc_section_display": true,
   "toc_window_display": false
  }
 },
 "nbformat": 4,
 "nbformat_minor": 4
}
