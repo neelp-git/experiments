{
 "cells": [
  {
   "cell_type": "markdown",
   "metadata": {},
   "source": [
    "# Deployment Insights: Access via Trino\n",
    "\n",
    "The easy way to access the deployment access database is through this notebook that connects to the Trino instance hosted in AWS. Please update the first cell with appropriate config details."
   ]
  },
  {
   "cell_type": "markdown",
   "metadata": {},
   "source": [
    "# Trino Setup\n",
    "For the SQL queries to exexute in this notebook, you must have a Trino server running, connected to the Aerospike database via the Aerospike Trino Connector. \n",
    "\n",
    "Set the following Trino server parameters."
   ]
  },
  {
   "cell_type": "code",
   "execution_count": 11,
   "metadata": {
    "scrolled": true
   },
   "outputs": [],
   "source": [
    "TRINO_IP = \"<IP>\"\n",
    "TRINO_PORT = \"<port>\"\n",
    "TRINO_USER = \"<user>\"\n",
    "TRINO_PASSWORD = \"<password>\""
   ]
  },
  {
   "cell_type": "markdown",
   "metadata": {},
   "source": [
    "## Install Trino Client"
   ]
  },
  {
   "cell_type": "code",
   "execution_count": 4,
   "metadata": {},
   "outputs": [
    {
     "name": "stderr",
     "output_type": "stream",
     "text": [
      "2022-05-06 00:23:01 URL:https://repo1.maven.org/maven2/io/trino/trino-cli/379/trino-cli-379-executable.jar [10238827/10238827] -> \"trino-cli-379-executable.jar\" [1]\n"
     ]
    }
   ],
   "source": [
    "%%sh\n",
    "wget -nc -nv https://repo1.maven.org/maven2/io/trino/trino-cli/379/trino-cli-379-executable.jar\n",
    "mv trino-cli-379-executable.jar trino\n",
    "chmod +x trino"
   ]
  },
  {
   "cell_type": "markdown",
   "metadata": {},
   "source": [
    "## Trino Command\n",
    "Define the environment variable for short form of the Trino command. \n",
    "\n",
    "You can also run the Trino command line tool in a separate shell tab."
   ]
  },
  {
   "cell_type": "code",
   "execution_count": null,
   "metadata": {},
   "outputs": [],
   "source": [
    "%env TRINO=./trino --server $TRINO_IP:$TRINO_PORT --catalog aerospike --schema test --output-format=TSV_HEADER\n",
    "%env TRINO_VERTICAL=./trino --server $TRINO_IP:$TRINO_PORT --catalog aerospike --schema test --output-format=VERTICAL"
   ]
  },
  {
   "cell_type": "markdown",
   "metadata": {},
   "source": [
    "# Trino SQL Queries"
   ]
  },
  {
   "cell_type": "markdown",
   "metadata": {},
   "source": [
    "Show schemas (namespaces)."
   ]
  },
  {
   "cell_type": "code",
   "execution_count": 34,
   "metadata": {},
   "outputs": [
    {
     "name": "stdout",
     "output_type": "stream",
     "text": [
      "Schema\r\n",
      "bar\r\n",
      "information_schema\r\n",
      "test\r\n"
     ]
    }
   ],
   "source": [
    "!$TRINO --execute \"show schemas\";"
   ]
  },
  {
   "cell_type": "markdown",
   "metadata": {},
   "source": [
    "Show tables (sets)."
   ]
  },
  {
   "cell_type": "code",
   "execution_count": 35,
   "metadata": {},
   "outputs": [
    {
     "name": "stdout",
     "output_type": "stream",
     "text": [
      "Table\r\n",
      "__default\r\n",
      "insights\r\n"
     ]
    }
   ],
   "source": [
    "!$TRINO --execute \"show tables\";"
   ]
  },
  {
   "cell_type": "markdown",
   "metadata": {},
   "source": [
    "Get the range of case numbers and timeframe in the database.\n",
    "\n",
    "`\n",
    "select min(case_num) as from_case, max(case_num) as to_case, \n",
    "       substr(min(timestamp),1,10) as from_date, substr(max(timestamp),1,10) as to_date \n",
    "from insights\n",
    "`\n"
   ]
  },
  {
   "cell_type": "code",
   "execution_count": null,
   "metadata": {},
   "outputs": [],
   "source": [
    "!$TRINO --execute \"select min(case_num) as from_case, max(case_num) as to_case, substr(min(timestamp),1,10) as from_date, substr(max(timestamp),1,10) as to_date from insights\";\n"
   ]
  },
  {
   "cell_type": "markdown",
   "metadata": {},
   "source": [
    "Show a sample record."
   ]
  },
  {
   "cell_type": "code",
   "execution_count": null,
   "metadata": {},
   "outputs": [],
   "source": [
    "!$TRINO_VERTICAL --execute \"select * from test.insights limit 1\" ;\n"
   ]
  },
  {
   "cell_type": "markdown",
   "metadata": {},
   "source": [
    "Get customers using feature 'index_on_device'.\n",
    "```\n",
    "select customer, cluster_name, features \n",
    "from insights \n",
    "where contains(cast(features as array(VARCHAR)),'index_on_device')\n",
    "```"
   ]
  },
  {
   "cell_type": "code",
   "execution_count": null,
   "metadata": {},
   "outputs": [],
   "source": [
    "!$TRINO --execute \"select customer, cluster_name, features from insights where contains(cast(features as array(VARCHAR)),'index_on_device')\" ;\n"
   ]
  },
  {
   "cell_type": "markdown",
   "metadata": {},
   "source": [
    "Get customers using feature 'xdr_dest' and release after 5.x\n",
    "```\n",
    "select customer, features, server_release \n",
    "from insights \n",
    "where contains(cast(features as array(VARCHAR)),'xdr_dest') and regexp_like(server_release, '^5.*')\n",
    "```"
   ]
  },
  {
   "cell_type": "code",
   "execution_count": null,
   "metadata": {},
   "outputs": [],
   "source": [
    "!$TRINO --execute \"select customer, features, server_release from insights where contains(cast(features as array(VARCHAR)),'xdr_dest') and regexp_like(server_release, '^5.*');\" ;\n"
   ]
  },
  {
   "cell_type": "markdown",
   "metadata": {},
   "source": [
    "Get the largest deployed cluster by each customer.\n",
    "```\n",
    "select customer, max(cluster_size) as max_cluster_size\n",
    "rom insights\n",
    "group by customer\n",
    "```"
   ]
  },
  {
   "cell_type": "code",
   "execution_count": null,
   "metadata": {},
   "outputs": [],
   "source": [
    "!$TRINO --execute \"select customer, max(cluster_size) as max_cluster_size from insights group by customer\" ;\n"
   ]
  },
  {
   "cell_type": "markdown",
   "metadata": {},
   "source": [
    "Get the largest namespace by objects for each customer.\n",
    "```\n",
    "select customer, max(transform(cast(namespaces as array<map<varchar, varchar>>), entry->entry['objects'])) \n",
    "                 as max_ns_objects\n",
    "from insights \n",
    "group by customer\n",
    "```"
   ]
  },
  {
   "cell_type": "code",
   "execution_count": null,
   "metadata": {},
   "outputs": [],
   "source": [
    "!$TRINO --execute \"select customer, max(transform(cast(namespaces as array<map<varchar, varchar>>), entry->entry['objects'])) as max_ns_objects from insights group by customer\" ;\n"
   ]
  },
  {
   "cell_type": "markdown",
   "metadata": {},
   "source": [
    "Get customers with single-bin namespaces. Also get (name, storage, data_in_index) for each single-bin namespace.\n",
    "\n",
    "`\n",
    "select customer, case_num, single_bin_ns from (\n",
    "    select customer, transform(\n",
    "        filter(cast(namespaces as array<map<varchar,varchar>>), \n",
    "               ns->ns['single_bin']='true'),\n",
    "        ns->(ns['name'],ns['storage_engine'],ns['data_in_index']) \n",
    "        ) as single_bin_ns \n",
    "    from insights)\n",
    "where single_bin_ns != Array[]\n",
    "order by customer, case_num desc;\n",
    "`"
   ]
  },
  {
   "cell_type": "code",
   "execution_count": null,
   "metadata": {},
   "outputs": [],
   "source": [
    "!$TRINO_VERTICAL --execute \"select customer, case_num, cluster_name, single_bin_ns from (select customer, case_num,  cluster_name, transform(filter(cast(namespaces as array<map<varchar,varchar>>), ns->ns['single_bin']='true'),ns->(ns['name'],ns['storage_engine'],ns['data_in_index']) ) as single_bin_ns from insights) where single_bin_ns != Array[] order by customer, case_num desc;\"\n"
   ]
  },
  {
   "cell_type": "markdown",
   "metadata": {},
   "source": [
    "Get customers that have single-bin in-memory namespaces.\n",
    "\n",
    "`\n",
    "select customer, case_num, cluster_name, single_bin_mem_ns from (\n",
    "    select customer,  case_num, cluster_name, \n",
    "      filter(\n",
    "        transform(cast(namespaces as array<map<varchar,varchar>>), \n",
    "                  ns->map_filter(ns,(k,v)->k in \n",
    "                  ('name','single_bin','storage_engine','data_in_index','enable_xdr'))), \n",
    "                   ns->ns['single_bin']='true' and (ns['storage_engine'] = 'memory' \n",
    "                                                    or ns['data_in_index'] = 'true'))\n",
    "        as single_bin_mem_ns \n",
    "    from insights) \n",
    "where single_bin_mem_ns != Array[]\n",
    "order by customer, case_num desc;\n",
    "`"
   ]
  },
  {
   "cell_type": "code",
   "execution_count": null,
   "metadata": {},
   "outputs": [],
   "source": [
    "!$TRINO --execute \"select customer, case_num, cluster_name, single_bin_mem_ns from (select customer, case_num, cluster_name, filter(transform(cast(namespaces as array<map<varchar,varchar>>), ns->map_filter(ns,(k,v)->k in ('name','single_bin','storage_engine','data_in_index','enable_xdr'))), ns->ns['single_bin']='true' and (ns['storage_engine'] = 'memory' or  ns['data_in_index'] = 'true')) as single_bin_mem_ns from insights) where single_bin_mem_ns != Array[] order by customer, case_num desc\";\n"
   ]
  },
  {
   "cell_type": "markdown",
   "metadata": {},
   "source": [
    "Get customers that have single-bin in-memory namespaces, with xdr_src flag to indicate use of XDR.\n",
    "\n",
    "`\n",
    "select customer, case_num, cluster_name, xdr_src, single_bin_mem_ns from (\n",
    "    select customer, case_num, cluster_name, contains(cast(features as array<varchar>), \n",
    "                                                     'xdr_src') as xdr_src, \n",
    "      filter(\n",
    "        transform(cast(namespaces as array<map<varchar,varchar>>), \n",
    "                  ns->map_filter(ns,(k,v)->k in \n",
    "                  ('name','single_bin','storage_engine','enable_xdr','data_in_index))), \n",
    "                    ns->ns['single_bin']='true' and (ns['storage_engine'] = 'memory' or \n",
    "                                                     ns['data_in_index'] = 'true' ))\n",
    "        as single_bin_mem_ns \n",
    "    from insights) \n",
    "where single_bin_mem_ns != Array[]\n",
    "order by customer, case_num desc;\n",
    "`"
   ]
  },
  {
   "cell_type": "code",
   "execution_count": null,
   "metadata": {},
   "outputs": [],
   "source": [
    "!$TRINO --execute \"select case_num, customer, cluster_name, xdr_src, single_bin_ns from (select case_num, customer, cluster_name, contains(cast(features as array<varchar>), 'xdr_src') as xdr_src, filter(transform(cast(namespaces as array<map<varchar,varchar>>), ns->map_filter(ns,(k,v)->k in ('name','single_bin','storage_engine','enable_xdr','data_in_index'))), ns->ns['single_bin']='true' and (ns['storage_engine'] = 'memory' or ns['data_in_index'] = 'true')) as single_bin_ns from insights) where single_bin_ns != Array[] order by customer, case_num desc\";\n"
   ]
  },
  {
   "cell_type": "markdown",
   "metadata": {},
   "source": [
    "Get features used in each deployed cluster.\n",
    "\n",
    "`\n",
    "select customer, cluster_name, max(timestamp) as last, features \n",
    "from insights \n",
    "group by customer, cluster_name, timestamp, features \n",
    "order by customer, cluster_name;\n",
    "`\n"
   ]
  },
  {
   "cell_type": "code",
   "execution_count": null,
   "metadata": {},
   "outputs": [],
   "source": [
    "!$TRINO --execute \"select customer, cluster_name, max(timestamp) as last, features from insights group by customer, cluster_name, timestamp, features order by customer, cluster_name;\"\n"
   ]
  },
  {
   "cell_type": "markdown",
   "metadata": {},
   "source": [
    "# Programmatic Access via Trino\n",
    "Install the trino package if not already installed to enable Python access by running the following cell."
   ]
  },
  {
   "cell_type": "code",
   "execution_count": 46,
   "metadata": {},
   "outputs": [],
   "source": [
    "#!pip install trino\n"
   ]
  },
  {
   "cell_type": "code",
   "execution_count": null,
   "metadata": {},
   "outputs": [],
   "source": [
    "import trino\n",
    "conn = trino.dbapi.connect(\n",
    "    host=TRINO_IP,\n",
    "    port=TRINO_PORT,\n",
    "    user='admin',\n",
    "    catalog='aerospike',\n",
    "    schema='test'\n",
    ")\n",
    "cur = conn.cursor()\n",
    "cur.execute('select * from insights limit 1')\n",
    "rows = cur.fetchall()\n",
    "print(rows)"
   ]
  }
 ],
 "metadata": {
  "kernelspec": {
   "display_name": "Python 3",
   "language": "python",
   "name": "python3"
  },
  "language_info": {
   "codemirror_mode": {
    "name": "ipython",
    "version": 3
   },
   "file_extension": ".py",
   "mimetype": "text/x-python",
   "name": "python",
   "nbconvert_exporter": "python",
   "pygments_lexer": "ipython3",
   "version": "3.8.6"
  },
  "toc": {
   "base_numbering": 1,
   "nav_menu": {},
   "number_sections": true,
   "sideBar": true,
   "skip_h1_title": false,
   "title_cell": "Table of Contents",
   "title_sidebar": "Contents",
   "toc_cell": false,
   "toc_position": {},
   "toc_section_display": true,
   "toc_window_display": false
  }
 },
 "nbformat": 4,
 "nbformat_minor": 4
}
