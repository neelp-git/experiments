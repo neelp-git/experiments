{
 "cells": [
  {
   "cell_type": "markdown",
   "metadata": {},
   "source": [
    "# Deployment Insights ETL and SQL\n",
    "\n",
    "ETL for the Deployment Insights database with sample SQL queries using Trino and the Aerospike Trino Connector."
   ]
  },
  {
   "cell_type": "markdown",
   "metadata": {},
   "source": [
    "### Ensure that the Aerospike Database is running"
   ]
  },
  {
   "cell_type": "code",
   "execution_count": 58,
   "metadata": {
    "scrolled": true
   },
   "outputs": [
    {
     "name": "stdout",
     "output_type": "stream",
     "text": [
      "Aerospike database is running!\r\n"
     ]
    }
   ],
   "source": [
    "!asd >& /dev/null\n",
    "!pgrep -x asd >/dev/null && echo \"Aerospike database is running!\" || echo \"**Aerospike database is not running!**\""
   ]
  },
  {
   "cell_type": "markdown",
   "metadata": {},
   "source": [
    "### Initialize Client\n",
    "Initialize Python Client used to access features stored in the Aerospike feature store."
   ]
  },
  {
   "cell_type": "code",
   "execution_count": 59,
   "metadata": {},
   "outputs": [
    {
     "name": "stdout",
     "output_type": "stream",
     "text": [
      "Client initialized and connected to database\n"
     ]
    }
   ],
   "source": [
    "import aerospike\n",
    "import sys\n",
    "# connect to the database\n",
    "config = {\n",
    "  'hosts': [ ('127.0.0.1', 3000) ]\n",
    "}\n",
    "try:\n",
    "  client = aerospike.client(config).connect()\n",
    "except:\n",
    "  print(\"failed to connect to the cluster with\", config['hosts'])\n",
    "  sys.exit(1)\n",
    "print('Client initialized and connected to database')"
   ]
  },
  {
   "cell_type": "markdown",
   "metadata": {},
   "source": [
    "# Extract Insights from Collect-Info Documents\n",
    "A Support case has attachments that are produced by the collect-info tool. The tgz archive of the attachments consists of many files, of which we use the following to extract insights:\n",
    "- [timestamp]_ascinfo.json\n",
    "- [timestamp]_ascollectinfo.log\n",
    "\n",
    "In the future we will also use this source from the archive:\n",
    "- [timestamp]_summary.log\n",
    "\n",
    "Extract the case tgz archives that you want to process, and upload the above files into a directory. Set `DATA_DIR` to this directory below. The notebook uses one json file as an example to illistrate the ETL process in the first part. Pick one json file and assign it to `EXAMPLE_JSON_FILE`.\n",
    "\n",
    "In the later part, all the files in the `DATA_DIR` directory are batch processed."
   ]
  },
  {
   "cell_type": "code",
   "execution_count": 60,
   "metadata": {},
   "outputs": [],
   "source": [
    "DATA_DIR = '../data'\n",
    "EXAMPLE_JSON_FILE = '20220115_004012_ascinfo.json'"
   ]
  },
  {
   "cell_type": "code",
   "execution_count": 61,
   "metadata": {},
   "outputs": [
    {
     "name": "stdout",
     "output_type": "stream",
     "text": [
      "Read ascinfo json file: ../data/20220115_004012_ascinfo.json\n"
     ]
    }
   ],
   "source": [
    "import json\n",
    "\n",
    "def readJsonDataFromFile(jsonFile):  \n",
    "    # JSON file\n",
    "    f = open (jsonFile, \"r\")\n",
    "    # Reading from file\n",
    "    data = json.loads(f.read())\n",
    "    # Closing file\n",
    "    f.close()\n",
    "    return data\n",
    "\n",
    "json_file =  DATA_DIR + '/' + EXAMPLE_JSON_FILE    #example json file path\n",
    "ascinfo_json = readJsonDataFromFile(json_file)\n",
    "print('Read ascinfo json file:', json_file)"
   ]
  },
  {
   "cell_type": "code",
   "execution_count": 62,
   "metadata": {},
   "outputs": [
    {
     "name": "stdout",
     "output_type": "stream",
     "text": [
      "timestamp: 2022-01-15 00:40:12 UTC\n",
      "cluster name: conv-euw1\n",
      "number of nodes: 6\n"
     ]
    }
   ],
   "source": [
    "# extract top level info: timestamp and cluster\n",
    "def get_timestamp(json):\n",
    "    timestamp = list(json.keys())[0]\n",
    "    return timestamp\n",
    "\n",
    "def get_cluster_items(json):\n",
    "    ts_items = list(json.items())\n",
    "    cluster_items = list(ts_items[0][1].items())\n",
    "    return cluster_items\n",
    "\n",
    "def get_node_items(cluster_items):\n",
    "    return list(cluster_items[0][1].items())\n",
    "\n",
    "timestamp = get_timestamp(ascinfo_json)\n",
    "print('timestamp:', timestamp)\n",
    "\n",
    "cluster_itmes = get_cluster_items(ascinfo_json)\n",
    "cluster_name = cluster_itmes[0][0]\n",
    "print('cluster name:', cluster_name)\n",
    "\n",
    "node_items = get_node_items(cluster_itmes)\n",
    "num_nodes = len(node_items)\n",
    "print('number of nodes:', num_nodes)"
   ]
  },
  {
   "cell_type": "markdown",
   "metadata": {},
   "source": [
    "# Collect Insights\n",
    "Collect the following cluster insights:\n",
    "\n",
    "- name\n",
    "- timestamp\n",
    "- num_nodes \n",
    "- num_ns\n",
    "- features: List (xdr, strong_consistency, single_bin, data_in_index, ...)\n",
    "- num_objects\n",
    "- storage_engines\n",
    "- num_device_bytes\n",
    "- num_memory bytes\n",
    "\n",
    "Collect the following namespace insights:\n",
    "- name\n",
    "- strong_consistency\n",
    "- num_secondary_indices\n",
    "- num_sets\n",
    "- num_bins\n",
    "- num_device_bytes\n",
    "- num_memory_bytes\n",
    "- num_objects\n",
    "- replication_factor\n",
    "- single_bin (true/false)\n",
    "- data_in_index (true/false)\n",
    "- storage_engine\n"
   ]
  },
  {
   "cell_type": "markdown",
   "metadata": {},
   "source": [
    "### Namespace Info\n",
    "\n",
    "Collect features for each distinct namespace from each node and aggregate stats (device/mem_bytes, objects, storage_engines):\n",
    "```\n",
    "for each node:\n",
    "    for each namespace:\n",
    "        if new, \n",
    "            add namespace to namespaces map\n",
    "            copy features\n",
    "        # else: ensure settings are same\n",
    "        Aggregate stats      \n",
    "```"
   ]
  },
  {
   "cell_type": "code",
   "execution_count": 63,
   "metadata": {},
   "outputs": [
    {
     "name": "stdout",
     "output_type": "stream",
     "text": [
      "{'memory': {'name': 'memory', 'num_bins': '5', 'num_sets': 2, 'num_sindex': 0, 'replication_factor': '3', 'storage_engine': 'memory', 'ns_cluster_size': '6', 'master_objects': '226', 'objects': '604', 'single_bin': 'false', 'strong_consistency': 'false', 'data_in_index': 'false'}}\n"
     ]
    }
   ],
   "source": [
    "def get_namespace_info(node_items):\n",
    "    # Potential future additions:\n",
    "                #Secondary index #, types?\n",
    "                #Total device bytes + total memory bytes - aggregate from sets    namespace_info = {}\n",
    "    namespace_info = {}\n",
    "    for node, node_subtree in node_items:\n",
    "        for ns, ns_subtree in node_subtree['as_stat']['statistics']['namespace'].items():\n",
    "            if ns not in namespace_info:\n",
    "                nsinfo = {}\n",
    "                nsinfo['name'] = ns\n",
    "                nsinfo['num_bins'] = ns_subtree['bin'].get('bin_names', 0) \n",
    "                nsinfo['num_sets'] = len(ns_subtree['set'])\n",
    "                nsinfo['num_sindex'] = len(ns_subtree['sindex'])\n",
    "                nsinfo['replication_factor'] = ns_subtree['service'].get('replication-factor', 0) \n",
    "                nsinfo['storage_engine'] = ns_subtree['service']['storage-engine']\n",
    "                nsinfo['ns_cluster_size'] = ns_subtree['service'].get('ns_cluster_size', 0)\n",
    "                nsinfo['master_objects'] = ns_subtree['service']['master_objects']\n",
    "                nsinfo['objects'] = ns_subtree['service']['objects']\n",
    "                nsinfo['single_bin'] = ns_subtree['service']['single-bin']\n",
    "                nsinfo['strong_consistency'] = ns_subtree['service'].get('strong-consistency', 'false')\n",
    "                nsinfo['data_in_index'] = ns_subtree['service']['data-in-index']\n",
    "                namespace_info[ns] = nsinfo\n",
    "    return namespace_info\n",
    "\n",
    "namespace_info = get_namespace_info(node_items)\n",
    "print(namespace_info)"
   ]
  },
  {
   "cell_type": "markdown",
   "metadata": {},
   "source": [
    "### Cluster Info\n",
    "\n",
    "Collect features at the cluster level:\n",
    "\n",
    "- Case, customer, timestamp, num_nodes\n",
    "- edition, asd-build\n",
    "- Aggregated from namespaces: num_ns, features, device/mem bytes, objects, storage engines.\n"
   ]
  },
  {
   "cell_type": "code",
   "execution_count": 64,
   "metadata": {},
   "outputs": [
    {
     "name": "stdout",
     "output_type": "stream",
     "text": [
      "ascollectinfo log file: ../data/20220115_004012_ascollectinfo.log\n",
      "features read: ['KVS', 'TLS (FABRIC)', 'TLS (SERVICE)']\n",
      "cluster info: {'timestamp': '2022-01-15 00:40:12 UTC', 'cluster_name': 'conv-euw1', 'cluster_size': 6, 'server_release': '5.5.0.9', 'total_objects': 604, 'storage_engines': ['memory'], 'features': ['kvs', 'tls_service', 'tls_fabric']}\n"
     ]
    }
   ],
   "source": [
    "def get_cluster_info(timestamp, cluster_name, node_items, namespace_info):\n",
    "    cluster_info = {}\n",
    "    cluster_info['timestamp'] = timestamp\n",
    "    cluster_info['cluster_name'] = cluster_name \n",
    "    cluster_info['cluster_size'] = len(node_items)\n",
    "    #cluster_info['edition'] = node_items[0][1]['as_stat']['meta_data'].get('edition', 'unspecified')\n",
    "    cluster_info['server_release'] = node_items[0][1]['as_stat']['meta_data']['asd_build']\n",
    "    #cluster_info['num_namespaces'] = len(namespace_info)\n",
    "\n",
    "    cluster_info['total_objects'] = 0\n",
    "    cluster_info['storage_engines'] = set()\n",
    "    for nsinfo in namespace_info.values():\n",
    "        cluster_info['total_objects'] = cluster_info['total_objects'] + int(nsinfo['objects']) \n",
    "        cluster_info['storage_engines'] |= set([nsinfo['storage_engine']]) \n",
    "        #cluster_info['features_in_use'] |= set(['single_bin'] if nsinfo['single_bin'] == 'true' else [])\n",
    "        #cluster_info['features_in_use'] |= set(['strong_consistency'] if nsinfo['strong_consistency'] == 'true' else [])\n",
    "        #cluster_info['features_in_use'] |= set(['data_in_index'] if nsinfo['data_in_index'] == 'true' else [])\n",
    "    cluster_info['storage_engines'] = list(cluster_info['storage_engines'])\n",
    "    return cluster_info\n",
    "\n",
    "FEATURE_KEY_MAP = {\n",
    "    'AGGREGATION' : 'aggregation',\n",
    "    'BATCH' : 'batch',\n",
    "    'INDEX-ON-DEVICE' : 'index_on_device',\n",
    "    'INDEX-ON-PMEM' : 'index_on_pmem',\n",
    "    'KVS' : 'kvs',\n",
    "    'LDT' : 'ldt',\n",
    "    'QUERY' : 'query',\n",
    "    'RACK-AWARE' : 'rack_aware',\n",
    "    'SC' : 'sc',\n",
    "    'SCAN' : 'scan',\n",
    "    'SECURITY' : 'security',\n",
    "    'SINDEX' : 'sindex',\n",
    "    'TLS (FABRIC)' : 'tls_fabric',\n",
    "    'TLS (HEARTBEAT)' : 'tls_heartbeat',\n",
    "    'TLS (SERVICE)' : 'tls_service',\n",
    "    'UDF' : 'udf',\n",
    "    'XDR DESTINATION' : 'xdr_dest',\n",
    "    'XDR SOURCE' : 'xdr_src'\n",
    "}\n",
    "\n",
    "def set_features_in_use(json_path, cluster_info):\n",
    "    '''\n",
    "    for node, node_subtree in node_items:\n",
    "        cluster_info['features_in_use'] |= set(['xdr'] if len(node_subtree['as_stat']['config'].get('xdr', {})) > 0 else [])\n",
    "        # infer other features\n",
    "    cluster_info['features_in_use'] = list(cluster_info['features_in_use'])\n",
    "    '''\n",
    "    log_file = json_path[:-12] + 'ascollectinfo.log'\n",
    "    print ('ascollectinfo log file:', log_file)\n",
    "    # sed -n '/Features/,/ASCOLLECTINFO/p' 20220115_004012_ascollectinfo.log | grep YES | sed 's/[ \\t]*:.*//'\n",
    "    import os\n",
    "    stream = os.popen(\"sed -n '/Features/,/ASCOLLECTINFO/p' \" + log_file +  \" | grep ' YES' | sed 's/[ \\t]*:.*//'\")\n",
    "    features = stream.read().strip().split('\\n')\n",
    "    print('features read:', features)\n",
    "    cluster_info['features'] = set()  \n",
    "    for feature in features:\n",
    "        if feature not in FEATURE_KEY_MAP:\n",
    "            continue\n",
    "        cluster_info['features'] |= set([FEATURE_KEY_MAP[feature]])\n",
    "    cluster_info['features'] = list(cluster_info['features'])\n",
    "    return cluster_info\n",
    "    \n",
    "cluster_info = get_cluster_info(timestamp, cluster_name, node_items, namespace_info)\n",
    "cluster_info = set_features_in_use(json_file, cluster_info)\n",
    "print('cluster info:', cluster_info)\n"
   ]
  },
  {
   "cell_type": "markdown",
   "metadata": {},
   "source": [
    "# Load Into Database\n",
    "Insert the case record with case-number as the (user) key, and bins: timestamp, customer, cluster, and namespaces."
   ]
  },
  {
   "cell_type": "code",
   "execution_count": 65,
   "metadata": {},
   "outputs": [
    {
     "name": "stdout",
     "output_type": "stream",
     "text": [
      "record inserted into the database\n"
     ]
    }
   ],
   "source": [
    "NAMESPACE = 'test'\n",
    "SET = 'insights'\n",
    "def load(case_num, customer, timestamp, cluster_info, namespace_info):\n",
    "    client.put((NAMESPACE, SET, case_num), \n",
    "               {'case_num': case_num,\n",
    "                'customer': customer,\n",
    "                **cluster_info,\n",
    "               'namespaces':list(namespace_info.values())})\n",
    "    return\n",
    "\n",
    "CASE_NUM = 100\n",
    "CUST_NAME = 'Widgets, Inc.'\n",
    "load(CASE_NUM, CUST_NAME, timestamp, cluster_info, namespace_info)\n",
    "print('record inserted into the database')"
   ]
  },
  {
   "cell_type": "markdown",
   "metadata": {},
   "source": [
    "## Validate Data in Database"
   ]
  },
  {
   "cell_type": "code",
   "execution_count": 66,
   "metadata": {},
   "outputs": [
    {
     "name": "stdout",
     "output_type": "stream",
     "text": [
      "set output raw\n",
      "OUTPUT = RAW\n",
      "select * from test.insights\n",
      "*************************** 1. row ***************************\n",
      "case_num: 100\n",
      "customer: \"Widgets, Inc.\"\n",
      "timestamp: \"2022-01-15 00:40:12 UTC\"\n",
      "cluster_name: \"conv-euw1\"\n",
      "cluster_size: 6\n",
      "server_release: \"5.5.0.9\"\n",
      "total_objects: 604\n",
      "storage_engines: LIST('[\"memory\"]')\n",
      "features: LIST('[\"kvs\", \"tls_service\", \"tls_fabric\"]')\n",
      "namespaces: LIST('[{\"ns_cluster_size\":\"6\", \"replication_factor\":\"3\", \"num_bins\":\"5\", \"storage_engine\":\"memory\", \"num_sets\":2, \"name\":\"memory\", \"data_in_index\":\"false\", \"single_bin\":\"false\", \"objects\":\"604\", \"master_objects\":\"226\", \"num_sindex\":0, \"strong_consistency\":\"false\"}]')\n",
      "\n",
      "1 row in set (0.252 secs)\n",
      "\n",
      "OK\n",
      "\n",
      "\n"
     ]
    }
   ],
   "source": [
    "!aql -c \"set output raw; select * from test.insights\""
   ]
  },
  {
   "cell_type": "markdown",
   "metadata": {},
   "source": [
    "# Batch ETL: Process All Files\n",
    "Now we ETL all ascinfo.json and ascollectinfo.log files in the `DATA_DIR` directory.\n",
    "\n",
    "We assign fictious case numbers and customer names for now to the data (later to be obtained from the Support database). We sequentially assign case numbers starting at `CASE_NUM`, and rotate customer names from the `CUST_NAMES` array."
   ]
  },
  {
   "cell_type": "code",
   "execution_count": 67,
   "metadata": {},
   "outputs": [],
   "source": [
    "CASE_NUM_START = 200\n",
    "CUST_NAMES = ['Widgets, Inc','Wares Corp','Parts Ltd','Component Factory','Modular Design','We Assemble']"
   ]
  },
  {
   "cell_type": "code",
   "execution_count": 68,
   "metadata": {},
   "outputs": [
    {
     "name": "stdout",
     "output_type": "stream",
     "text": [
      "Read ascinfo json file: ../data/20190315_203751_ascinfo.json\n",
      "timestamp: 2019-03-15 20:39:59 UTC\n",
      "cluster name: null\n",
      "number of nodes: 34\n",
      "{'users': {'name': 'users', 'num_bins': '9', 'num_sets': 2, 'num_sindex': 0, 'replication_factor': 0, 'storage_engine': 'device', 'ns_cluster_size': 0, 'master_objects': '1377143747', 'objects': '2361400096', 'single_bin': 'false', 'strong_consistency': 'false', 'data_in_index': 'false'}, 'context': {'name': 'context', 'num_bins': '14', 'num_sets': 1, 'num_sindex': 0, 'replication_factor': 0, 'storage_engine': 'device', 'ns_cluster_size': 0, 'master_objects': '111906126', 'objects': '221789094', 'single_bin': 'false', 'strong_consistency': 'false', 'data_in_index': 'false'}}\n",
      "ascollectinfo log file: ../data/20190315_203751_ascollectinfo.log\n",
      "features read: ['BATCH', 'KVS', 'SCAN']\n",
      "{'timestamp': '2019-03-15 20:39:59 UTC', 'cluster_name': 'null', 'cluster_size': 34, 'server_release': '3.13.0.11', 'total_objects': 2583189190, 'storage_engines': ['device'], 'features': ['kvs', 'batch', 'scan']}\n",
      "record inserted into the database\n",
      "\n",
      "\n",
      "Read ascinfo json file: ../data/20220115_004012_ascinfo.json\n",
      "timestamp: 2022-01-15 00:40:12 UTC\n",
      "cluster name: conv-euw1\n",
      "number of nodes: 6\n",
      "{'memory': {'name': 'memory', 'num_bins': '5', 'num_sets': 2, 'num_sindex': 0, 'replication_factor': '3', 'storage_engine': 'memory', 'ns_cluster_size': '6', 'master_objects': '226', 'objects': '604', 'single_bin': 'false', 'strong_consistency': 'false', 'data_in_index': 'false'}}\n",
      "ascollectinfo log file: ../data/20220115_004012_ascollectinfo.log\n",
      "features read: ['KVS', 'TLS (FABRIC)', 'TLS (SERVICE)']\n",
      "{'timestamp': '2022-01-15 00:40:12 UTC', 'cluster_name': 'conv-euw1', 'cluster_size': 6, 'server_release': '5.5.0.9', 'total_objects': 604, 'storage_engines': ['memory'], 'features': ['kvs', 'tls_service', 'tls_fabric']}\n",
      "record inserted into the database\n",
      "\n",
      "\n",
      "Read ascinfo json file: ../data/20210419_030003_ascinfo.json\n",
      "timestamp: 2021-04-19 03:00:03 UTC\n",
      "cluster name: aeroscluster-newprod\n",
      "number of nodes: 6\n",
      "{'sample': {'name': 'sample', 'num_bins': '0', 'num_sets': 0, 'num_sindex': 0, 'replication_factor': '2', 'storage_engine': 'device', 'ns_cluster_size': '6', 'master_objects': '0', 'objects': '0', 'single_bin': 'false', 'strong_consistency': 'false', 'data_in_index': 'false'}, 'apiyugasg': {'name': 'apiyugasg', 'num_bins': '20', 'num_sets': 31, 'num_sindex': 10, 'replication_factor': '2', 'storage_engine': 'device', 'ns_cluster_size': '6', 'master_objects': '50493942', 'objects': '100994165', 'single_bin': 'false', 'strong_consistency': 'false', 'data_in_index': 'false'}}\n",
      "ascollectinfo log file: ../data/20210419_030003_ascollectinfo.log\n",
      "features read: ['BATCH', 'KVS', 'QUERY', 'RACK-AWARE', 'SCAN', 'SECURITY', 'SINDEX', 'TLS (SERVICE)']\n",
      "{'timestamp': '2021-04-19 03:00:03 UTC', 'cluster_name': 'aeroscluster-newprod', 'cluster_size': 6, 'server_release': '4.9.0.26', 'total_objects': 100994165, 'storage_engines': ['device'], 'features': ['kvs', 'security', 'query', 'sindex', 'tls_service', 'batch', 'scan', 'rack_aware']}\n",
      "record inserted into the database\n",
      "\n",
      "\n",
      "Read ascinfo json file: ../data/20201110_112338_ascinfo.json\n",
      "timestamp: 2020-11-10 11:23:38 UTC\n",
      "cluster name: userstory-aerospike-us-central1-prod\n",
      "number of nodes: 120\n",
      "{'memory': {'name': 'memory', 'num_bins': '13', 'num_sets': 3, 'num_sindex': 0, 'replication_factor': '6', 'storage_engine': 'device', 'ns_cluster_size': '120', 'master_objects': '1762591', 'objects': '10580533', 'single_bin': 'false', 'strong_consistency': 'false', 'data_in_index': 'false'}}\n",
      "ascollectinfo log file: ../data/20201110_112338_ascollectinfo.log\n",
      "features read: ['BATCH', 'KVS', 'RACK-AWARE', 'XDR DESTINATION']\n",
      "{'timestamp': '2020-11-10 11:23:38 UTC', 'cluster_name': 'userstory-aerospike-us-central1-prod', 'cluster_size': 120, 'server_release': '5.1.0.10', 'total_objects': 10580533, 'storage_engines': ['device'], 'features': ['kvs', 'batch', 'rack_aware', 'xdr_dest']}\n",
      "record inserted into the database\n",
      "\n",
      "\n",
      "Read ascinfo json file: ../data/20211210_185029_ascinfo.json\n",
      "timestamp: 2021-12-10 18:50:29 UTC\n",
      "cluster name: aerospike-atlas_users-dedi_us-east-1_prod\n",
      "number of nodes: 99\n",
      "{'memory': {'name': 'memory', 'num_bins': '1', 'num_sets': 8, 'num_sindex': 0, 'replication_factor': '3', 'storage_engine': 'memory', 'ns_cluster_size': '99', 'master_objects': '32896435', 'objects': '101421923', 'single_bin': 'false', 'strong_consistency': 'true', 'data_in_index': 'false'}}\n",
      "ascollectinfo log file: ../data/20211210_185029_ascollectinfo.log\n",
      "features read: ['']\n",
      "{'timestamp': '2021-12-10 18:50:29 UTC', 'cluster_name': 'aerospike-atlas_users-dedi_us-east-1_prod', 'cluster_size': 99, 'server_release': '5.5.0.9', 'total_objects': 101421923, 'storage_engines': ['memory'], 'features': []}\n",
      "record inserted into the database\n",
      "\n",
      "\n",
      "Read ascinfo json file: ../data/20201227_171847_ascinfo.json\n",
      "timestamp: 2020-12-27 17:18:47 UTC\n",
      "cluster name: aerospike-clicks-pointers-036-eu1\n",
      "number of nodes: 39\n",
      "{'clicks-pointers': {'name': 'clicks-pointers', 'num_bins': 0, 'num_sets': 3, 'num_sindex': 0, 'replication_factor': '2', 'storage_engine': 'device', 'ns_cluster_size': '39', 'master_objects': '8428991267', 'objects': '15512101854', 'single_bin': 'true', 'strong_consistency': 'false', 'data_in_index': 'false'}}\n",
      "ascollectinfo log file: ../data/20201227_171847_ascollectinfo.log\n",
      "features read: ['BATCH', 'INDEX-ON-DEVICE', 'KVS', 'SCAN', 'SECURITY']\n",
      "{'timestamp': '2020-12-27 17:18:47 UTC', 'cluster_name': 'aerospike-clicks-pointers-036-eu1', 'cluster_size': 39, 'server_release': '4.8.0.9', 'total_objects': 15512101854, 'storage_engines': ['device'], 'features': ['kvs', 'security', 'index_on_device', 'batch', 'scan']}\n",
      "record inserted into the database\n",
      "\n",
      "\n",
      "Read ascinfo json file: ../data/20210126_093908_ascinfo.json\n",
      "timestamp: 2021-01-26 09:39:08 UTC\n",
      "cluster name: as-userdata-cluster\n",
      "number of nodes: 17\n",
      "{'userdata': {'name': 'userdata', 'num_bins': '6', 'num_sets': 106, 'num_sindex': 0, 'replication_factor': '2', 'storage_engine': 'device', 'ns_cluster_size': '17', 'master_objects': '2414700055', 'objects': '4829413640', 'single_bin': 'false', 'strong_consistency': 'false', 'data_in_index': 'false'}}\n",
      "ascollectinfo log file: ../data/20210126_093908_ascollectinfo.log\n",
      "features read: ['BATCH', 'KVS', 'SCAN', 'XDR DESTINATION']\n",
      "{'timestamp': '2021-01-26 09:39:08 UTC', 'cluster_name': 'as-userdata-cluster', 'cluster_size': 17, 'server_release': '5.1.0.7', 'total_objects': 4829413640, 'storage_engines': ['device'], 'features': ['kvs', 'batch', 'scan', 'xdr_dest']}\n",
      "record inserted into the database\n",
      "\n",
      "\n",
      "Read ascinfo json file: ../data/20210122_102631_ascinfo.json\n",
      "timestamp: 2021-01-22 10:26:31 UTC\n",
      "cluster name: vpt-aerospike-node\n",
      "number of nodes: 21\n",
      "{'profiles-1M-ephemeral': {'name': 'profiles-1M-ephemeral', 'num_bins': '237', 'num_sets': 27, 'num_sindex': 0, 'replication_factor': '2', 'storage_engine': 'device', 'ns_cluster_size': '21', 'master_objects': '190506862', 'objects': '378092961', 'single_bin': 'false', 'strong_consistency': 'true', 'data_in_index': 'false'}}\n",
      "ascollectinfo log file: ../data/20210122_102631_ascollectinfo.log\n",
      "features read: ['BATCH', 'KVS', 'RACK-AWARE', 'TLS (FABRIC)', 'TLS (SERVICE)']\n",
      "{'timestamp': '2021-01-22 10:26:31 UTC', 'cluster_name': 'vpt-aerospike-node', 'cluster_size': 21, 'server_release': '4.8.0.6', 'total_objects': 378092961, 'storage_engines': ['device'], 'features': ['kvs', 'tls_service', 'tls_fabric', 'batch', 'rack_aware']}\n",
      "record inserted into the database\n",
      "\n",
      "\n",
      "Read ascinfo json file: ../data/20200901_215141_ascinfo.json\n",
      "timestamp: 2020-09-01 21:51:41 UTC\n",
      "cluster name: na_test\n",
      "number of nodes: 6\n",
      "{'experian': {'name': 'experian', 'num_bins': '28', 'num_sets': 8, 'num_sindex': 0, 'replication_factor': '2', 'storage_engine': 'device', 'ns_cluster_size': '6', 'master_objects': '24688834', 'objects': '49349854', 'single_bin': 'false', 'strong_consistency': 'false', 'data_in_index': 'false'}}\n",
      "ascollectinfo log file: ../data/20200901_215141_ascollectinfo.log\n",
      "features read: ['BATCH', 'KVS', 'TLS (FABRIC)', 'TLS (SERVICE)']\n",
      "{'timestamp': '2020-09-01 21:51:41 UTC', 'cluster_name': 'na_test', 'cluster_size': 6, 'server_release': '5.1.0.5', 'total_objects': 49349854, 'storage_engines': ['device'], 'features': ['kvs', 'batch', 'tls_service', 'tls_fabric']}\n",
      "record inserted into the database\n",
      "\n",
      "\n",
      "batch etl done.\n"
     ]
    }
   ],
   "source": [
    "import glob\n",
    "def process_batch_etl():\n",
    "    case_num = CASE_NUM_START\n",
    "    for json_file in glob.glob(DATA_DIR + '/*_ascinfo.json'):\n",
    "        json_info = readJsonDataFromFile(json_file)\n",
    "        print('Read ascinfo json file:', json_file)\n",
    "        \n",
    "        timestamp = get_timestamp(json_info)\n",
    "        print('timestamp:', timestamp)\n",
    "\n",
    "        cluster_itmes = get_cluster_items(json_info)\n",
    "        cluster_name = cluster_itmes[0][0]\n",
    "        print('cluster name:', cluster_name)\n",
    "\n",
    "        node_items = get_node_items(cluster_itmes)\n",
    "        num_nodes = len(node_items)\n",
    "        print('number of nodes:', num_nodes)\n",
    "\n",
    "        namespace_info = get_namespace_info(node_items)\n",
    "        print(namespace_info)\n",
    "        \n",
    "        cluster_info = get_cluster_info(timestamp, cluster_name, node_items, namespace_info)\n",
    "        cluster_info = set_features_in_use(json_file, cluster_info)\n",
    "        print(cluster_info)\n",
    "\n",
    "        cust_name = CUST_NAMES[case_num % len(CUST_NAMES)]\n",
    "        load(case_num, cust_name, timestamp, cluster_info, namespace_info)\n",
    "        case_num += 1\n",
    "        print('record inserted into the database')        \n",
    "        \n",
    "        print('\\n')\n",
    "    return\n",
    "    \n",
    "process_batch_etl()\n",
    "print('batch etl done.')"
   ]
  },
  {
   "cell_type": "markdown",
   "metadata": {},
   "source": [
    "## Examine Database"
   ]
  },
  {
   "cell_type": "code",
   "execution_count": 69,
   "metadata": {},
   "outputs": [
    {
     "name": "stdout",
     "output_type": "stream",
     "text": [
      "set output raw\n",
      "OUTPUT = RAW\n",
      "select * from test.insights\n",
      "*************************** 1. row ***************************\n",
      "case_num: 201\n",
      "customer: \"Component Factory\"\n",
      "timestamp: \"2022-01-15 00:40:12 UTC\"\n",
      "cluster_name: \"conv-euw1\"\n",
      "cluster_size: 6\n",
      "server_release: \"5.5.0.9\"\n",
      "total_objects: 604\n",
      "storage_engines: LIST('[\"memory\"]')\n",
      "features: LIST('[\"kvs\", \"tls_service\", \"tls_fabric\"]')\n",
      "namespaces: LIST('[{\"ns_cluster_size\":\"6\", \"replication_factor\":\"3\", \"num_bins\":\"5\", \"storage_engine\":\"memory\", \"num_sets\":2, \"name\":\"memory\", \"data_in_index\":\"false\", \"single_bin\":\"false\", \"objects\":\"604\", \"master_objects\":\"226\", \"num_sindex\":0, \"strong_consistency\":\"false\"}]')\n",
      "*************************** 2. row ***************************\n",
      "case_num: 200\n",
      "customer: \"Parts Ltd\"\n",
      "timestamp: \"2019-03-15 20:39:59 UTC\"\n",
      "cluster_name: \"null\"\n",
      "cluster_size: 34\n",
      "server_release: \"3.13.0.11\"\n",
      "total_objects: 2583189190\n",
      "storage_engines: LIST('[\"device\"]')\n",
      "features: LIST('[\"kvs\", \"batch\", \"scan\"]')\n",
      "namespaces: LIST('[{\"ns_cluster_size\":0, \"replication_factor\":0, \"num_bins\":\"9\", \"storage_engine\":\"device\", \"num_sets\":2, \"name\":\"users\", \"data_in_index\":\"false\", \"single_bin\":\"false\", \"objects\":\"2361400096\", \"master_objects\":\"1377143747\", \"num_sindex\":0, \"strong_consistency\":\"false\"}, {\"ns_cluster_size\":0, \"replication_factor\":0, \"num_bins\":\"14\", \"storage_engine\":\"device\", \"num_sets\":1, \"name\":\"context\", \"data_in_index\":\"false\", \"single_bin\":\"false\", \"objects\":\"221789094\", \"master_objects\":\"111906126\", \"num_sindex\":0, \"strong_consistency\":\"false\"}]')\n",
      "*************************** 3. row ***************************\n",
      "case_num: 100\n",
      "customer: \"Widgets, Inc.\"\n",
      "timestamp: \"2022-01-15 00:40:12 UTC\"\n",
      "cluster_name: \"conv-euw1\"\n",
      "cluster_size: 6\n",
      "server_release: \"5.5.0.9\"\n",
      "total_objects: 604\n",
      "storage_engines: LIST('[\"memory\"]')\n",
      "features: LIST('[\"kvs\", \"tls_service\", \"tls_fabric\"]')\n",
      "namespaces: LIST('[{\"ns_cluster_size\":\"6\", \"replication_factor\":\"3\", \"num_bins\":\"5\", \"storage_engine\":\"memory\", \"num_sets\":2, \"name\":\"memory\", \"data_in_index\":\"false\", \"single_bin\":\"false\", \"objects\":\"604\", \"master_objects\":\"226\", \"num_sindex\":0, \"strong_consistency\":\"false\"}]')\n",
      "*************************** 4. row ***************************\n",
      "case_num: 205\n",
      "customer: \"Wares Corp\"\n",
      "timestamp: \"2020-12-27 17:18:47 UTC\"\n",
      "cluster_name: \"aerospike-clicks-pointers-036-eu1\"\n",
      "cluster_size: 39\n",
      "server_release: \"4.8.0.9\"\n",
      "total_objects: 15512101854\n",
      "storage_engines: LIST('[\"device\"]')\n",
      "features: LIST('[\"kvs\", \"security\", \"index_on_device\", \"batch\", \"scan\"]')\n",
      "namespaces: LIST('[{\"ns_cluster_size\":\"39\", \"replication_factor\":\"2\", \"num_bins\":0, \"storage_engine\":\"device\", \"num_sets\":3, \"name\":\"clicks-pointers\", \"data_in_index\":\"false\", \"single_bin\":\"true\", \"objects\":\"15512101854\", \"master_objects\":\"8428991267\", \"num_sindex\":0, \"strong_consistency\":\"false\"}]')\n",
      "*************************** 5. row ***************************\n",
      "case_num: 202\n",
      "customer: \"Modular Design\"\n",
      "timestamp: \"2021-04-19 03:00:03 UTC\"\n",
      "cluster_name: \"aeroscluster-newprod\"\n",
      "cluster_size: 6\n",
      "server_release: \"4.9.0.26\"\n",
      "total_objects: 100994165\n",
      "storage_engines: LIST('[\"device\"]')\n",
      "features: LIST('[\"kvs\", \"security\", \"query\", \"sindex\", \"tls_service\", \"batch\", \"scan\", \"rack_aware\"]')\n",
      "namespaces: LIST('[{\"ns_cluster_size\":\"6\", \"replication_factor\":\"2\", \"num_bins\":\"0\", \"storage_engine\":\"device\", \"num_sets\":0, \"name\":\"sample\", \"data_in_index\":\"false\", \"single_bin\":\"false\", \"objects\":\"0\", \"master_objects\":\"0\", \"num_sindex\":0, \"strong_consistency\":\"false\"}, {\"ns_cluster_size\":\"6\", \"replication_factor\":\"2\", \"num_bins\":\"20\", \"storage_engine\":\"device\", \"num_sets\":31, \"name\":\"apiyugasg\", \"data_in_index\":\"false\", \"single_bin\":\"false\", \"objects\":\"100994165\", \"master_objects\":\"50493942\", \"num_sindex\":10, \"strong_consistency\":\"false\"}]')\n",
      "*************************** 6. row ***************************\n",
      "case_num: 208\n",
      "customer: \"Modular Design\"\n",
      "timestamp: \"2020-09-01 21:51:41 UTC\"\n",
      "cluster_name: \"na_test\"\n",
      "cluster_size: 6\n",
      "server_release: \"5.1.0.5\"\n",
      "total_objects: 49349854\n",
      "storage_engines: LIST('[\"device\"]')\n",
      "features: LIST('[\"kvs\", \"batch\", \"tls_service\", \"tls_fabric\"]')\n",
      "namespaces: LIST('[{\"ns_cluster_size\":\"6\", \"replication_factor\":\"2\", \"num_bins\":\"28\", \"storage_engine\":\"device\", \"num_sets\":8, \"name\":\"experian\", \"data_in_index\":\"false\", \"single_bin\":\"false\", \"objects\":\"49349854\", \"master_objects\":\"24688834\", \"num_sindex\":0, \"strong_consistency\":\"false\"}]')\n",
      "*************************** 7. row ***************************\n",
      "case_num: 207\n",
      "customer: \"Component Factory\"\n",
      "timestamp: \"2021-01-22 10:26:31 UTC\"\n",
      "cluster_name: \"vpt-aerospike-node\"\n",
      "cluster_size: 21\n",
      "server_release: \"4.8.0.6\"\n",
      "total_objects: 378092961\n",
      "storage_engines: LIST('[\"device\"]')\n",
      "features: LIST('[\"kvs\", \"tls_service\", \"tls_fabric\", \"batch\", \"rack_aware\"]')\n",
      "namespaces: LIST('[{\"ns_cluster_size\":\"21\", \"replication_factor\":\"2\", \"num_bins\":\"237\", \"storage_engine\":\"device\", \"num_sets\":27, \"name\":\"profiles-1M-ephemeral\", \"data_in_index\":\"false\", \"single_bin\":\"false\", \"objects\":\"378092961\", \"master_objects\":\"190506862\", \"num_sindex\":0, \"strong_consistency\":\"true\"}]')\n",
      "*************************** 8. row ***************************\n",
      "case_num: 206\n",
      "customer: \"Parts Ltd\"\n",
      "timestamp: \"2021-01-26 09:39:08 UTC\"\n",
      "cluster_name: \"as-userdata-cluster\"\n",
      "cluster_size: 17\n",
      "server_release: \"5.1.0.7\"\n",
      "total_objects: 4829413640\n",
      "storage_engines: LIST('[\"device\"]')\n",
      "features: LIST('[\"kvs\", \"batch\", \"scan\", \"xdr_dest\"]')\n",
      "namespaces: LIST('[{\"ns_cluster_size\":\"17\", \"replication_factor\":\"2\", \"num_bins\":\"6\", \"storage_engine\":\"device\", \"num_sets\":106, \"name\":\"userdata\", \"data_in_index\":\"false\", \"single_bin\":\"false\", \"objects\":\"4829413640\", \"master_objects\":\"2414700055\", \"num_sindex\":0, \"strong_consistency\":\"false\"}]')\n",
      "*************************** 9. row ***************************\n",
      "case_num: 203\n",
      "customer: \"We Assemble\"\n",
      "timestamp: \"2020-11-10 11:23:38 UTC\"\n",
      "cluster_name: \"userstory-aerospike-us-central1-prod\"\n",
      "cluster_size: 120\n",
      "server_release: \"5.1.0.10\"\n",
      "total_objects: 10580533\n",
      "storage_engines: LIST('[\"device\"]')\n",
      "features: LIST('[\"kvs\", \"batch\", \"rack_aware\", \"xdr_dest\"]')\n",
      "namespaces: LIST('[{\"ns_cluster_size\":\"120\", \"replication_factor\":\"6\", \"num_bins\":\"13\", \"storage_engine\":\"device\", \"num_sets\":3, \"name\":\"memory\", \"data_in_index\":\"false\", \"single_bin\":\"false\", \"objects\":\"10580533\", \"master_objects\":\"1762591\", \"num_sindex\":0, \"strong_consistency\":\"false\"}]')\n",
      "*************************** 10. row ***************************\n",
      "case_num: 204\n",
      "customer: \"Widgets, Inc\"\n",
      "timestamp: \"2021-12-10 18:50:29 UTC\"\n",
      "cluster_name: \"aerospike-atlas_users-dedi_us-east-1_prod\"\n",
      "cluster_size: 99\n",
      "server_release: \"5.5.0.9\"\n",
      "total_objects: 101421923\n",
      "storage_engines: LIST('[\"memory\"]')\n",
      "features: LIST('[]')\n",
      "namespaces: LIST('[{\"ns_cluster_size\":\"99\", \"replication_factor\":\"3\", \"num_bins\":\"1\", \"storage_engine\":\"memory\", \"num_sets\":8, \"name\":\"memory\", \"data_in_index\":\"false\", \"single_bin\":\"false\", \"objects\":\"101421923\", \"master_objects\":\"32896435\", \"num_sindex\":0, \"strong_consistency\":\"true\"}]')\n",
      "\n",
      "10 rows in set (0.260 secs)\n",
      "\n",
      "OK\n",
      "\n",
      "\n"
     ]
    }
   ],
   "source": [
    "!aql -c \"set output raw; select * from test.insights\""
   ]
  },
  {
   "cell_type": "markdown",
   "metadata": {},
   "source": [
    "# Trino SQL Queries\n",
    "For the following queries to exexute in the notebook, you must have a Trino server running at port 8080 of the host, connected to this container's Aerospike database via the Aerospike Trino Connector."
   ]
  },
  {
   "cell_type": "markdown",
   "metadata": {},
   "source": [
    "## Trino Setup\n",
    "1. Make sure the port of the Aerospike server (typically 3000) running in this notebook's container is exposed to host. \n",
    "2. [Use these instruactions](https://github.com/citrusleaf/aerospike-connect-trino#run-on-docker) to run Trino and the Aerospike Trino Connector in a docker container on the host machine. Make sure the Trino Connector can access the Aerospike server in this container.\n",
    "3. [Install the Trino Client](https://trino.io/docs/current/installation/cli.html) in this container. The following cells assume it is installed in the parent directory."
   ]
  },
  {
   "cell_type": "markdown",
   "metadata": {},
   "source": [
    "## Trino Command\n",
    "Define the environment variable for short form of the Trino command. \n",
    "\n",
    "You can also run the Trino command line tool in a separate shell tab."
   ]
  },
  {
   "cell_type": "code",
   "execution_count": 70,
   "metadata": {},
   "outputs": [
    {
     "name": "stdout",
     "output_type": "stream",
     "text": [
      "env: TRINO=../trino --server host.docker.internal:8080 --catalog aerospike --schema test --output-format=TSV_HEADER\n",
      "env: TRINO_VERTICAL=../trino --server host.docker.internal:8080 --catalog aerospike --schema test --output-format=VERTICAL\n"
     ]
    }
   ],
   "source": [
    "%env TRINO=../trino --server host.docker.internal:8080 --catalog aerospike --schema test --output-format=TSV_HEADER\n",
    "%env TRINO_VERTICAL=../trino --server host.docker.internal:8080 --catalog aerospike --schema test --output-format=VERTICAL"
   ]
  },
  {
   "cell_type": "markdown",
   "metadata": {},
   "source": [
    "## Examples"
   ]
  },
  {
   "cell_type": "markdown",
   "metadata": {},
   "source": [
    "Show schemas (namespaces)."
   ]
  },
  {
   "cell_type": "code",
   "execution_count": 71,
   "metadata": {},
   "outputs": [
    {
     "name": "stdout",
     "output_type": "stream",
     "text": [
      "Schema\r\n",
      "information_schema\r\n",
      "test\r\n"
     ]
    }
   ],
   "source": [
    "!$TRINO --execute \"show schemas\""
   ]
  },
  {
   "cell_type": "markdown",
   "metadata": {},
   "source": [
    "Show tables (sets)."
   ]
  },
  {
   "cell_type": "code",
   "execution_count": 72,
   "metadata": {},
   "outputs": [
    {
     "name": "stdout",
     "output_type": "stream",
     "text": [
      "Table\r\n",
      "__default\r\n",
      "insights\r\n"
     ]
    }
   ],
   "source": [
    "!$TRINO --execute \"show tables\""
   ]
  },
  {
   "cell_type": "markdown",
   "metadata": {},
   "source": [
    "Show a sample record."
   ]
  },
  {
   "cell_type": "code",
   "execution_count": 73,
   "metadata": {},
   "outputs": [
    {
     "name": "stdout",
     "output_type": "stream",
     "text": [
      "-[ RECORD 1 ]---+---------------------------------------------------------------------------------------------------------------------------------------------------------------------------------------------------------------------------------------------------------\r\n",
      "__key           | NULL\r\n",
      "case_num        | 201\r\n",
      "cluster_name    | conv-euw1\r\n",
      "cluster_size    | 6\r\n",
      "customer        | Component Factory\r\n",
      "features        | [\"kvs\",\"tls_service\",\"tls_fabric\"]\r\n",
      "namespaces      | [{\"num_sets\":2,\"replication_factor\":\"3\",\"num_sindex\":0,\"data_in_index\":\"false\",\"num_bins\":\"5\",\"objects\":\"604\",\"name\":\"memory\",\"single_bin\":\"false\",\"ns_cluster_size\":\"6\",\"storage_engine\":\"memory\",\"master_objects\":\"226\",\"strong_consistency\":\"false\"}]\r\n",
      "server_release  | 5.5.0.9\r\n",
      "storage_engines | [\"memory\"]\r\n",
      "timestamp       | 2022-01-15 00:40:12 UTC\r\n",
      "total_objects   | 604\r\n"
     ]
    }
   ],
   "source": [
    "!$TRINO_VERTICAL --execute \"select * from test.insights limit 1\" ;\n"
   ]
  },
  {
   "cell_type": "markdown",
   "metadata": {},
   "source": [
    "Get customers using feature 'index_on_device'."
   ]
  },
  {
   "cell_type": "markdown",
   "metadata": {},
   "source": [
    "Get customers using feature 'index_on_device'.\n",
    "```\n",
    "select customer, cluster_name, features \n",
    "from insights \n",
    "where contains(cast(features as array(VARCHAR)),'index_on_device')\n",
    "```"
   ]
  },
  {
   "cell_type": "code",
   "execution_count": 74,
   "metadata": {},
   "outputs": [
    {
     "name": "stdout",
     "output_type": "stream",
     "text": [
      "customer\tcluster_name\tfeatures\r\n",
      "Wares Corp\taerospike-clicks-pointers-036-eu1\t[\"kvs\",\"security\",\"index_on_device\",\"batch\",\"scan\"]\r\n"
     ]
    }
   ],
   "source": [
    "!$TRINO --execute \"select customer, cluster_name, features from insights where contains(cast(features as array(VARCHAR)),'index_on_device')\" ;\n"
   ]
  },
  {
   "cell_type": "markdown",
   "metadata": {},
   "source": [
    "Get customers using feature 'xdr_dest' and release after 5.x\n",
    "```\n",
    "select customer, features, server_release \n",
    "from insights \n",
    "where contains(cast(features as array(VARCHAR)),'xdr_dest') and regexp_like(server_release, '5.*')\n",
    "```"
   ]
  },
  {
   "cell_type": "code",
   "execution_count": 75,
   "metadata": {},
   "outputs": [
    {
     "name": "stdout",
     "output_type": "stream",
     "text": [
      "customer\tfeatures\tserver_release\r\n",
      "We Assemble\t[\"kvs\",\"batch\",\"rack_aware\",\"xdr_dest\"]\t5.1.0.10\r\n",
      "Parts Ltd\t[\"kvs\",\"batch\",\"scan\",\"xdr_dest\"]\t5.1.0.7\r\n"
     ]
    }
   ],
   "source": [
    "!$TRINO --execute \"select customer, features, server_release from insights where contains(cast(features as array(VARCHAR)),'xdr_dest') and regexp_like(server_release, '5.*');\" ;\n"
   ]
  },
  {
   "cell_type": "markdown",
   "metadata": {},
   "source": [
    "Get the largest deployed cluster by each customer.\n",
    "```\n",
    "select customer, max(cluster_size) as max_cluster_size\n",
    "rom insights\n",
    "group by customer\n",
    "```"
   ]
  },
  {
   "cell_type": "code",
   "execution_count": 76,
   "metadata": {},
   "outputs": [
    {
     "name": "stdout",
     "output_type": "stream",
     "text": [
      "customer\tmax_cluster_size\r\n",
      "Widgets, Inc.\t6\r\n",
      "Widgets, Inc\t99\r\n",
      "Parts Ltd\t34\r\n",
      "We Assemble\t120\r\n",
      "Modular Design\t6\r\n",
      "Wares Corp\t39\r\n",
      "Component Factory\t21\r\n"
     ]
    }
   ],
   "source": [
    "!$TRINO --execute \"select customer, max(cluster_size) as max_cluster_size from insights group by customer\" ;\n"
   ]
  },
  {
   "cell_type": "markdown",
   "metadata": {},
   "source": [
    "Get the largest namespace by objects for each customer.\n",
    "```\n",
    "select customer, max(transform(cast(namespaces as array<map<varchar, varchar>>), entry->entry['objects'])) \n",
    "                 as max_ns_objects\n",
    "from insights \n",
    "group by customer\n",
    "```"
   ]
  },
  {
   "cell_type": "code",
   "execution_count": 77,
   "metadata": {},
   "outputs": [
    {
     "name": "stdout",
     "output_type": "stream",
     "text": [
      "customer\tmax_ns_objects\r\n",
      "Widgets, Inc.\t[604]\r\n",
      "Parts Ltd\t[4829413640]\r\n",
      "Widgets, Inc\t[101421923]\r\n",
      "Wares Corp\t[15512101854]\r\n",
      "We Assemble\t[10580533]\r\n",
      "Modular Design\t[49349854]\r\n",
      "Component Factory\t[604]\r\n"
     ]
    }
   ],
   "source": [
    "!$TRINO --execute \"select customer, max(transform(cast(namespaces as array<map<varchar, varchar>>), entry->entry['objects'])) as max_ns_objects from insights group by customer\" ;\n"
   ]
  },
  {
   "cell_type": "code",
   "execution_count": 78,
   "metadata": {},
   "outputs": [
    {
     "name": "stdout",
     "output_type": "stream",
     "text": [
      "truncate test.insights\r\n",
      "OK\r\n",
      "\r\n",
      "\r\n"
     ]
    }
   ],
   "source": [
    "!aql -c \"truncate test.insights\""
   ]
  },
  {
   "cell_type": "code",
   "execution_count": null,
   "metadata": {},
   "outputs": [],
   "source": []
  }
 ],
 "metadata": {
  "kernelspec": {
   "display_name": "Python 3",
   "language": "python",
   "name": "python3"
  },
  "language_info": {
   "codemirror_mode": {
    "name": "ipython",
    "version": 3
   },
   "file_extension": ".py",
   "mimetype": "text/x-python",
   "name": "python",
   "nbconvert_exporter": "python",
   "pygments_lexer": "ipython3",
   "version": "3.8.6"
  },
  "toc": {
   "base_numbering": 1,
   "nav_menu": {},
   "number_sections": true,
   "sideBar": true,
   "skip_h1_title": false,
   "title_cell": "Table of Contents",
   "title_sidebar": "Contents",
   "toc_cell": false,
   "toc_position": {},
   "toc_section_display": true,
   "toc_window_display": false
  }
 },
 "nbformat": 4,
 "nbformat_minor": 4
}
