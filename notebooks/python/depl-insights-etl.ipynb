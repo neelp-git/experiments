{
 "cells": [
  {
   "cell_type": "markdown",
   "metadata": {},
   "source": [
    "# Deployment Insights ETL\n",
    "\n",
    "ETL for the Deployment Insights database."
   ]
  },
  {
   "cell_type": "markdown",
   "metadata": {},
   "source": [
    "### Ensure that the Aerospike Database is running"
   ]
  },
  {
   "cell_type": "code",
   "execution_count": 1,
   "metadata": {
    "scrolled": true
   },
   "outputs": [
    {
     "name": "stdout",
     "output_type": "stream",
     "text": [
      "Aerospike database is running!\r\n"
     ]
    }
   ],
   "source": [
    "!asd >& /dev/null\n",
    "!pgrep -x asd >/dev/null && echo \"Aerospike database is running!\" || echo \"**Aerospike database is not running!**\""
   ]
  },
  {
   "cell_type": "markdown",
   "metadata": {},
   "source": [
    "### Initialize Client\n",
    "Initialize Python Client used to access features stored in the Aerospike feature store."
   ]
  },
  {
   "cell_type": "code",
   "execution_count": 2,
   "metadata": {},
   "outputs": [
    {
     "name": "stdout",
     "output_type": "stream",
     "text": [
      "Client initialized and connected to database\n"
     ]
    }
   ],
   "source": [
    "import aerospike\n",
    "import sys\n",
    "# connect to the database\n",
    "config = {\n",
    "  'hosts': [ ('127.0.0.1', 3000) ]\n",
    "}\n",
    "try:\n",
    "  client = aerospike.client(config).connect()\n",
    "except:\n",
    "  print(\"failed to connect to the cluster with\", config['hosts'])\n",
    "  sys.exit(1)\n",
    "print('Client initialized and connected to database')"
   ]
  },
  {
   "cell_type": "markdown",
   "metadata": {},
   "source": [
    "# Read JSON Documents"
   ]
  },
  {
   "cell_type": "code",
   "execution_count": 3,
   "metadata": {},
   "outputs": [
    {
     "name": "stdout",
     "output_type": "stream",
     "text": [
      "Read ascinfo json file: ../data/20220115_004012_ascinfo.json\n"
     ]
    }
   ],
   "source": [
    "import json\n",
    "\n",
    "def readJsonDataFromFile(jsonFile):  \n",
    "    # JSON file\n",
    "    f = open (jsonFile, \"r\")\n",
    "    # Reading from file\n",
    "    data = json.loads(f.read())\n",
    "    # Closing file\n",
    "    f.close()\n",
    "    return data\n",
    "\n",
    "json_file = '../data/20220115_004012_ascinfo.json' # example json file\n",
    "ascinfo_json = readJsonDataFromFile(json_file)\n",
    "print('Read ascinfo json file:', json_file)"
   ]
  },
  {
   "cell_type": "code",
   "execution_count": 4,
   "metadata": {},
   "outputs": [
    {
     "name": "stdout",
     "output_type": "stream",
     "text": [
      "timestamp: 2022-01-15 00:40:12 UTC\n",
      "cluster name: conv-euw1\n",
      "number of nodes: 6\n"
     ]
    }
   ],
   "source": [
    "# extract top level info: timestamp and cluster\n",
    "def get_timestamp(json):\n",
    "    timestamp = list(json.keys())[0]\n",
    "    return timestamp\n",
    "\n",
    "def get_cluster_items(json):\n",
    "    ts_items = list(json.items())\n",
    "    cluster_items = list(ts_items[0][1].items())\n",
    "    return cluster_items\n",
    "\n",
    "def get_node_items(cluster_items):\n",
    "    return list(cluster_items[0][1].items())\n",
    "\n",
    "timestamp = get_timestamp(ascinfo_json)\n",
    "print('timestamp:', timestamp)\n",
    "\n",
    "cluster_itmes = get_cluster_items(ascinfo_json)\n",
    "cluster_name = cluster_itmes[0][0]\n",
    "print('cluster name:', cluster_name)\n",
    "\n",
    "node_items = get_node_items(cluster_itmes)\n",
    "num_nodes = len(node_items)\n",
    "print('number of nodes:', num_nodes)"
   ]
  },
  {
   "cell_type": "markdown",
   "metadata": {},
   "source": [
    "# Collect Insights\n",
    "Collect the following cluster insights:\n",
    "\n",
    "- name\n",
    "- timestamp\n",
    "- num_nodes \n",
    "- num_ns\n",
    "- features: List (xdr, strong_consistency, single_bin, data_in_index, ...)\n",
    "- num_objects\n",
    "- storage_engines\n",
    "- num_device_bytes\n",
    "- num_memory bytes\n",
    "\n",
    "Collect the following namespace insights:\n",
    "- name\n",
    "- strong_consistency\n",
    "- num_secondary_indices\n",
    "- num_sets\n",
    "- num_bins\n",
    "- num_device_bytes\n",
    "- num_memory_bytes\n",
    "- num_objects\n",
    "- replication_factor\n",
    "- single_bin (true/false)\n",
    "- data_in_index (true/false)\n",
    "- storage_engine\n"
   ]
  },
  {
   "cell_type": "markdown",
   "metadata": {},
   "source": [
    "### Namespace Info\n",
    "\n",
    "Collect features for each distinct namespace from each node and aggregate stats (device/mem_bytes, objects, storage_engines):\n",
    "```\n",
    "for each node:\n",
    "    for each namespace:\n",
    "        if new, \n",
    "            add namespace to namespaces map\n",
    "            copy features\n",
    "        # else: ensure settings are same\n",
    "        Aggregate stats      \n",
    "```"
   ]
  },
  {
   "cell_type": "code",
   "execution_count": 5,
   "metadata": {},
   "outputs": [
    {
     "name": "stdout",
     "output_type": "stream",
     "text": [
      "{'memory': {'name': 'memory', 'num_bins': '5', 'num_sets': 2, 'num_sindex': 0, 'replication_factor': '3', 'storage_engine': 'memory', 'ns_cluster_size': '6', 'master_objects': '226', 'objects': '604', 'single_bin': 'false', 'strong_consistency': 'false', 'data_in_index': 'false'}}\n"
     ]
    }
   ],
   "source": [
    "def get_namespace_info(node_items):\n",
    "    # Potential future additions:\n",
    "                #Secondary index #, types?\n",
    "                #Total device bytes + total memory bytes - aggregate from sets    namespace_info = {}\n",
    "    namespace_info = {}\n",
    "    for node, node_subtree in node_items:\n",
    "        for ns, ns_subtree in node_subtree['as_stat']['statistics']['namespace'].items():\n",
    "            if ns not in namespace_info:\n",
    "                nsinfo = {}\n",
    "                nsinfo['name'] = ns\n",
    "                nsinfo['num_bins'] = ns_subtree['bin'].get('bin_names', 0) \n",
    "                nsinfo['num_sets'] = len(ns_subtree['set'])\n",
    "                nsinfo['num_sindex'] = len(ns_subtree['sindex'])\n",
    "                nsinfo['replication_factor'] = ns_subtree['service'].get('replication-factor', 0) \n",
    "                nsinfo['storage_engine'] = ns_subtree['service']['storage-engine']\n",
    "                nsinfo['ns_cluster_size'] = ns_subtree['service'].get('ns_cluster_size', 0)\n",
    "                nsinfo['master_objects'] = ns_subtree['service']['master_objects']\n",
    "                nsinfo['objects'] = ns_subtree['service']['objects']\n",
    "                nsinfo['single_bin'] = ns_subtree['service']['single-bin']\n",
    "                nsinfo['strong_consistency'] = ns_subtree['service'].get('strong-consistency', 'false')\n",
    "                nsinfo['data_in_index'] = ns_subtree['service']['data-in-index']\n",
    "                namespace_info[ns] = nsinfo\n",
    "    return namespace_info\n",
    "\n",
    "namespace_info = get_namespace_info(node_items)\n",
    "print(namespace_info)"
   ]
  },
  {
   "cell_type": "markdown",
   "metadata": {},
   "source": [
    "### Cluster Info\n",
    "\n",
    "Collect features at the cluster level:\n",
    "\n",
    "- Case, customer, timestamp, num_nodes\n",
    "- edition, asd-build\n",
    "- Aggregated from namespaces: num_ns, features, device/mem bytes, objects, storage engines.\n"
   ]
  },
  {
   "cell_type": "code",
   "execution_count": 6,
   "metadata": {},
   "outputs": [
    {
     "name": "stdout",
     "output_type": "stream",
     "text": [
      "{'timestamp': '2022-01-15 00:40:12 UTC', 'name': 'conv-euw1', 'num_nodes': 6, 'edition': 'Aerospike Enterprise Edition build 5.5.0.9', 'asd_build': '5.5.0.9', 'num_namespaces': 1, 'num_objects': 604, 'storage_engines': ['memory'], 'features_in_use': []}\n"
     ]
    }
   ],
   "source": [
    "def get_cluster_info(timestamp, cluster_name, node_items, namespace_info):\n",
    "    cluster_info = {}\n",
    "    cluster_info['timestamp'] = timestamp\n",
    "    cluster_info['name'] = cluster_name \n",
    "    cluster_info['num_nodes'] = len(node_items)\n",
    "    cluster_info['edition'] = node_items[0][1]['as_stat']['meta_data'].get('edition', 'unspecified')\n",
    "    cluster_info['asd_build'] = node_items[0][1]['as_stat']['meta_data']['asd_build']\n",
    "\n",
    "    cluster_info['num_namespaces'] = len(namespace_info)\n",
    "\n",
    "    cluster_info['num_objects'] = 0\n",
    "    cluster_info['storage_engines'] = set()\n",
    "    cluster_info['features_in_use'] = set()\n",
    "    for nsinfo in namespace_info.values():\n",
    "        cluster_info['num_objects'] = cluster_info['num_objects'] + int(nsinfo['objects']) \n",
    "        cluster_info['storage_engines'] |= set([nsinfo['storage_engine']]) \n",
    "        cluster_info['features_in_use'] |= set(['single_bin'] if nsinfo['single_bin'] == 'true' else [])\n",
    "        cluster_info['features_in_use'] |= set(['strong_consistency'] if nsinfo['strong_consistency'] == 'true' else [])\n",
    "        cluster_info['features_in_use'] |= set(['data_in_index'] if nsinfo['data_in_index'] == 'true' else [])\n",
    "    cluster_info['storage_engines'] = list(cluster_info['storage_engines'])\n",
    "    return cluster_info\n",
    "\n",
    "def set_features_in_use(node_items, cluster_info):\n",
    "    for node, node_subtree in node_items:\n",
    "        cluster_info['features_in_use'] |= set(['xdr'] if len(node_subtree['as_stat']['config'].get('xdr', {})) > 0 else [])\n",
    "        # infer other features\n",
    "    cluster_info['features_in_use'] = list(cluster_info['features_in_use'])\n",
    "    return cluster_info\n",
    "    \n",
    "cluster_info = get_cluster_info(timestamp, cluster_name, node_items, namespace_info)\n",
    "cluster_info = set_features_in_use(node_items, cluster_info)\n",
    "print(cluster_info)\n"
   ]
  },
  {
   "cell_type": "markdown",
   "metadata": {},
   "source": [
    "# Load Into Database\n",
    "Insert the case record with case-number as the (user) key, and bins: timestamp, customer, cluster, and namespaces."
   ]
  },
  {
   "cell_type": "code",
   "execution_count": 7,
   "metadata": {},
   "outputs": [
    {
     "name": "stdout",
     "output_type": "stream",
     "text": [
      "record inserted into the database\n"
     ]
    }
   ],
   "source": [
    "NAMESPACE = 'test'\n",
    "SET = 'insights'\n",
    "def load(case_num, customer, timestamp, cluster_info, namespace_info):\n",
    "    client.put((NAMESPACE, SET, case_num), \n",
    "               {'case_num': case_num,\n",
    "                'customer': customer,\n",
    "                'timestamp': timestamp,\n",
    "                'clusters':cluster_info, \n",
    "                'namespaces':namespace_info})\n",
    "    return\n",
    "\n",
    "CASE_NUM = 100\n",
    "CUST_NAME = 'Widgets, Inc.'\n",
    "load(CASE_NUM, CUST_NAME, timestamp, cluster_info, namespace_info)\n",
    "print('record inserted into the database')"
   ]
  },
  {
   "cell_type": "markdown",
   "metadata": {},
   "source": [
    "## Validate Data in Database"
   ]
  },
  {
   "cell_type": "code",
   "execution_count": 8,
   "metadata": {},
   "outputs": [
    {
     "name": "stdout",
     "output_type": "stream",
     "text": [
      "set output raw\n",
      "OUTPUT = RAW\n",
      "select * from test.insights\n",
      "*************************** 1. row ***************************\n",
      "case_num: 100\n",
      "customer: \"Widgets, Inc.\"\n",
      "timestamp: \"2022-01-15 00:40:12 UTC\"\n",
      "clusters: MAP('{\"asd_build\":\"5.5.0.9\", \"name\":\"conv-euw1\", \"storage_engines\":[\"memory\"], \"features_in_use\":[], \"num_namespaces\":1, \"timestamp\":\"2022-01-15 00:40:12 UTC\", \"num_nodes\":6, \"num_objects\":604, \"edition\":\"Aerospike Enterprise Edition build 5.5.0.9\"}')\n",
      "namespaces: MAP('{\"memory\":{\"ns_cluster_size\":\"6\", \"replication_factor\":\"3\", \"num_bins\":\"5\", \"storage_engine\":\"memory\", \"num_sets\":2, \"name\":\"memory\", \"data_in_index\":\"false\", \"single_bin\":\"false\", \"objects\":\"604\", \"master_objects\":\"226\", \"num_sindex\":0, \"strong_consistency\":\"false\"}}')\n",
      "\n",
      "1 row in set (0.249 secs)\n",
      "\n",
      "OK\n",
      "\n",
      "\n"
     ]
    }
   ],
   "source": [
    "!aql -c \"set output raw; select * from test.insights\""
   ]
  },
  {
   "cell_type": "markdown",
   "metadata": {},
   "source": [
    "# Batch ETL \n",
    "Now we ETL all ascinfo.json files in the \"data\" directory."
   ]
  },
  {
   "cell_type": "code",
   "execution_count": 9,
   "metadata": {},
   "outputs": [
    {
     "name": "stdout",
     "output_type": "stream",
     "text": [
      "Read ascinfo json file: ../data/20190315_203751_ascinfo.json\n",
      "timestamp: 2019-03-15 20:39:59 UTC\n",
      "cluster name: null\n",
      "number of nodes: 34\n",
      "{'users': {'name': 'users', 'num_bins': '9', 'num_sets': 2, 'num_sindex': 0, 'replication_factor': 0, 'storage_engine': 'device', 'ns_cluster_size': 0, 'master_objects': '1377143747', 'objects': '2361400096', 'single_bin': 'false', 'strong_consistency': 'false', 'data_in_index': 'false'}, 'context': {'name': 'context', 'num_bins': '14', 'num_sets': 1, 'num_sindex': 0, 'replication_factor': 0, 'storage_engine': 'device', 'ns_cluster_size': 0, 'master_objects': '111906126', 'objects': '221789094', 'single_bin': 'false', 'strong_consistency': 'false', 'data_in_index': 'false'}}\n",
      "{'timestamp': '2019-03-15 20:39:59 UTC', 'name': 'null', 'num_nodes': 34, 'edition': 'unspecified', 'asd_build': '3.13.0.11', 'num_namespaces': 2, 'num_objects': 2583189190, 'storage_engines': ['device'], 'features_in_use': ['xdr']}\n",
      "record inserted into the database\n",
      "\n",
      "\n",
      "Read ascinfo json file: ../data/20220115_004012_ascinfo.json\n",
      "timestamp: 2022-01-15 00:40:12 UTC\n",
      "cluster name: conv-euw1\n",
      "number of nodes: 6\n",
      "{'memory': {'name': 'memory', 'num_bins': '5', 'num_sets': 2, 'num_sindex': 0, 'replication_factor': '3', 'storage_engine': 'memory', 'ns_cluster_size': '6', 'master_objects': '226', 'objects': '604', 'single_bin': 'false', 'strong_consistency': 'false', 'data_in_index': 'false'}}\n",
      "{'timestamp': '2022-01-15 00:40:12 UTC', 'name': 'conv-euw1', 'num_nodes': 6, 'edition': 'Aerospike Enterprise Edition build 5.5.0.9', 'asd_build': '5.5.0.9', 'num_namespaces': 1, 'num_objects': 604, 'storage_engines': ['memory'], 'features_in_use': []}\n",
      "record inserted into the database\n",
      "\n",
      "\n",
      "Read ascinfo json file: ../data/20210419_030003_ascinfo.json\n",
      "timestamp: 2021-04-19 03:00:03 UTC\n",
      "cluster name: aeroscluster-newprod\n",
      "number of nodes: 6\n",
      "{'sample': {'name': 'sample', 'num_bins': '0', 'num_sets': 0, 'num_sindex': 0, 'replication_factor': '2', 'storage_engine': 'device', 'ns_cluster_size': '6', 'master_objects': '0', 'objects': '0', 'single_bin': 'false', 'strong_consistency': 'false', 'data_in_index': 'false'}, 'apiyugasg': {'name': 'apiyugasg', 'num_bins': '20', 'num_sets': 31, 'num_sindex': 10, 'replication_factor': '2', 'storage_engine': 'device', 'ns_cluster_size': '6', 'master_objects': '50493942', 'objects': '100994165', 'single_bin': 'false', 'strong_consistency': 'false', 'data_in_index': 'false'}}\n",
      "{'timestamp': '2021-04-19 03:00:03 UTC', 'name': 'aeroscluster-newprod', 'num_nodes': 6, 'edition': 'Aerospike Enterprise Edition build 4.9.0.26', 'asd_build': '4.9.0.26', 'num_namespaces': 2, 'num_objects': 100994165, 'storage_engines': ['device'], 'features_in_use': ['xdr']}\n",
      "record inserted into the database\n",
      "\n",
      "\n",
      "Read ascinfo json file: ../data/20201110_112338_ascinfo.json\n",
      "timestamp: 2020-11-10 11:23:38 UTC\n",
      "cluster name: userstory-aerospike-us-central1-prod\n",
      "number of nodes: 120\n",
      "{'memory': {'name': 'memory', 'num_bins': '13', 'num_sets': 3, 'num_sindex': 0, 'replication_factor': '6', 'storage_engine': 'device', 'ns_cluster_size': '120', 'master_objects': '1762591', 'objects': '10580533', 'single_bin': 'false', 'strong_consistency': 'false', 'data_in_index': 'false'}}\n",
      "{'timestamp': '2020-11-10 11:23:38 UTC', 'name': 'userstory-aerospike-us-central1-prod', 'num_nodes': 120, 'edition': 'Aerospike Enterprise Edition build 5.1.0.10', 'asd_build': '5.1.0.10', 'num_namespaces': 1, 'num_objects': 10580533, 'storage_engines': ['device'], 'features_in_use': ['xdr']}\n",
      "record inserted into the database\n",
      "\n",
      "\n",
      "Read ascinfo json file: ../data/20211210_185029_ascinfo.json\n",
      "timestamp: 2021-12-10 18:50:29 UTC\n",
      "cluster name: aerospike-atlas_users-dedi_us-east-1_prod\n",
      "number of nodes: 99\n",
      "{'memory': {'name': 'memory', 'num_bins': '1', 'num_sets': 8, 'num_sindex': 0, 'replication_factor': '3', 'storage_engine': 'memory', 'ns_cluster_size': '99', 'master_objects': '32896435', 'objects': '101421923', 'single_bin': 'false', 'strong_consistency': 'true', 'data_in_index': 'false'}}\n",
      "{'timestamp': '2021-12-10 18:50:29 UTC', 'name': 'aerospike-atlas_users-dedi_us-east-1_prod', 'num_nodes': 99, 'edition': 'Aerospike Enterprise Edition build 5.5.0.9', 'asd_build': '5.5.0.9', 'num_namespaces': 1, 'num_objects': 101421923, 'storage_engines': ['memory'], 'features_in_use': ['strong_consistency']}\n",
      "record inserted into the database\n",
      "\n",
      "\n",
      "Read ascinfo json file: ../data/20201227_171847_ascinfo.json\n",
      "timestamp: 2020-12-27 17:18:47 UTC\n",
      "cluster name: aerospike-clicks-pointers-036-eu1\n",
      "number of nodes: 39\n",
      "{'clicks-pointers': {'name': 'clicks-pointers', 'num_bins': 0, 'num_sets': 3, 'num_sindex': 0, 'replication_factor': '2', 'storage_engine': 'device', 'ns_cluster_size': '39', 'master_objects': '8428991267', 'objects': '15512101854', 'single_bin': 'true', 'strong_consistency': 'false', 'data_in_index': 'false'}}\n",
      "{'timestamp': '2020-12-27 17:18:47 UTC', 'name': 'aerospike-clicks-pointers-036-eu1', 'num_nodes': 39, 'edition': 'Aerospike Enterprise Edition build 4.8.0.9', 'asd_build': '4.8.0.9', 'num_namespaces': 1, 'num_objects': 15512101854, 'storage_engines': ['device'], 'features_in_use': ['xdr', 'single_bin']}\n",
      "record inserted into the database\n",
      "\n",
      "\n",
      "Read ascinfo json file: ../data/20210126_093908_ascinfo.json\n",
      "timestamp: 2021-01-26 09:39:08 UTC\n",
      "cluster name: as-userdata-cluster\n",
      "number of nodes: 17\n",
      "{'userdata': {'name': 'userdata', 'num_bins': '6', 'num_sets': 106, 'num_sindex': 0, 'replication_factor': '2', 'storage_engine': 'device', 'ns_cluster_size': '17', 'master_objects': '2414700055', 'objects': '4829413640', 'single_bin': 'false', 'strong_consistency': 'false', 'data_in_index': 'false'}}\n",
      "{'timestamp': '2021-01-26 09:39:08 UTC', 'name': 'as-userdata-cluster', 'num_nodes': 17, 'edition': 'Aerospike Enterprise Edition build 5.1.0.7', 'asd_build': '5.1.0.7', 'num_namespaces': 1, 'num_objects': 4829413640, 'storage_engines': ['device'], 'features_in_use': ['xdr']}\n",
      "record inserted into the database\n",
      "\n",
      "\n",
      "Read ascinfo json file: ../data/20210122_102631_ascinfo.json\n",
      "timestamp: 2021-01-22 10:26:31 UTC\n",
      "cluster name: vpt-aerospike-node\n",
      "number of nodes: 21\n",
      "{'profiles-1M-ephemeral': {'name': 'profiles-1M-ephemeral', 'num_bins': '237', 'num_sets': 27, 'num_sindex': 0, 'replication_factor': '2', 'storage_engine': 'device', 'ns_cluster_size': '21', 'master_objects': '190506862', 'objects': '378092961', 'single_bin': 'false', 'strong_consistency': 'true', 'data_in_index': 'false'}}\n",
      "{'timestamp': '2021-01-22 10:26:31 UTC', 'name': 'vpt-aerospike-node', 'num_nodes': 21, 'edition': 'Aerospike Enterprise Edition build 4.8.0.6', 'asd_build': '4.8.0.6', 'num_namespaces': 1, 'num_objects': 378092961, 'storage_engines': ['device'], 'features_in_use': ['xdr', 'strong_consistency']}\n",
      "record inserted into the database\n",
      "\n",
      "\n",
      "Read ascinfo json file: ../data/20200901_215141_ascinfo.json\n",
      "timestamp: 2020-09-01 21:51:41 UTC\n",
      "cluster name: na_test\n",
      "number of nodes: 6\n",
      "{'experian': {'name': 'experian', 'num_bins': '28', 'num_sets': 8, 'num_sindex': 0, 'replication_factor': '2', 'storage_engine': 'device', 'ns_cluster_size': '6', 'master_objects': '24688834', 'objects': '49349854', 'single_bin': 'false', 'strong_consistency': 'false', 'data_in_index': 'false'}}\n",
      "{'timestamp': '2020-09-01 21:51:41 UTC', 'name': 'na_test', 'num_nodes': 6, 'edition': 'Aerospike Enterprise Edition build 5.1.0.5', 'asd_build': '5.1.0.5', 'num_namespaces': 1, 'num_objects': 49349854, 'storage_engines': ['device'], 'features_in_use': []}\n",
      "record inserted into the database\n",
      "\n",
      "\n",
      "batch etl done.\n"
     ]
    }
   ],
   "source": [
    "import glob\n",
    "def process_batch_etl():\n",
    "    CASE_NUM = 200\n",
    "    CUST_NAMES = ['Widgets, Inc','Wares Corp','Parts Ltd','Component Factory','Modular Design','We Assemble']\n",
    "    for json_file in glob.glob('../data/*_ascinfo.json'):\n",
    "        json_info = readJsonDataFromFile(json_file)\n",
    "        print('Read ascinfo json file:', json_file)\n",
    "        \n",
    "        timestamp = get_timestamp(json_info)\n",
    "        print('timestamp:', timestamp)\n",
    "\n",
    "        cluster_itmes = get_cluster_items(json_info)\n",
    "        cluster_name = cluster_itmes[0][0]\n",
    "        print('cluster name:', cluster_name)\n",
    "\n",
    "        node_items = get_node_items(cluster_itmes)\n",
    "        num_nodes = len(node_items)\n",
    "        print('number of nodes:', num_nodes)\n",
    "\n",
    "        namespace_info = get_namespace_info(node_items)\n",
    "        print(namespace_info)\n",
    "        \n",
    "        cluster_info = get_cluster_info(timestamp, cluster_name, node_items, namespace_info)\n",
    "        cluster_info = set_features_in_use(node_items, cluster_info)\n",
    "        print(cluster_info)\n",
    "\n",
    "        CASE_NUM += 1\n",
    "        CUST_NAME = CUST_NAMES[CASE_NUM%len(CUST_NAMES)]\n",
    "        load(CASE_NUM, CUST_NAME, timestamp, cluster_info, namespace_info)\n",
    "        print('record inserted into the database')        \n",
    "        \n",
    "        print('\\n')\n",
    "    return\n",
    "    \n",
    "process_batch_etl()\n",
    "print('batch etl done.')"
   ]
  },
  {
   "cell_type": "code",
   "execution_count": 10,
   "metadata": {},
   "outputs": [
    {
     "name": "stdout",
     "output_type": "stream",
     "text": [
      "set output raw\n",
      "OUTPUT = RAW\n",
      "select * from test.insights\n",
      "*************************** 1. row ***************************\n",
      "case_num: 201\n",
      "customer: \"Component Factory\"\n",
      "timestamp: \"2019-03-15 20:39:59 UTC\"\n",
      "clusters: MAP('{\"asd_build\":\"3.13.0.11\", \"name\":\"null\", \"storage_engines\":[\"device\"], \"features_in_use\":[\"xdr\"], \"num_namespaces\":2, \"timestamp\":\"2019-03-15 20:39:59 UTC\", \"num_nodes\":34, \"num_objects\":2583189190, \"edition\":\"unspecified\"}')\n",
      "namespaces: MAP('{\"users\":{\"ns_cluster_size\":0, \"replication_factor\":0, \"num_bins\":\"9\", \"storage_engine\":\"device\", \"num_sets\":2, \"name\":\"users\", \"data_in_index\":\"false\", \"single_bin\":\"false\", \"objects\":\"2361400096\", \"master_objects\":\"1377143747\", \"num_sindex\":0, \"strong_consistency\":\"false\"}, \"context\":{\"ns_cluster_size\":0, \"replication_factor\":0, \"num_bins\":\"14\", \"storage_engine\":\"device\", \"num_sets\":1, \"name\":\"context\", \"data_in_index\":\"false\", \"single_bin\":\"false\", \"objects\":\"221789094\", \"master_objects\":\"111906126\", \"num_sindex\":0, \"strong_consistency\":\"false\"}}')\n",
      "*************************** 2. row ***************************\n",
      "case_num: 100\n",
      "customer: \"Widgets, Inc.\"\n",
      "timestamp: \"2022-01-15 00:40:12 UTC\"\n",
      "clusters: MAP('{\"asd_build\":\"5.5.0.9\", \"name\":\"conv-euw1\", \"storage_engines\":[\"memory\"], \"features_in_use\":[], \"num_namespaces\":1, \"timestamp\":\"2022-01-15 00:40:12 UTC\", \"num_nodes\":6, \"num_objects\":604, \"edition\":\"Aerospike Enterprise Edition build 5.5.0.9\"}')\n",
      "namespaces: MAP('{\"memory\":{\"ns_cluster_size\":\"6\", \"replication_factor\":\"3\", \"num_bins\":\"5\", \"storage_engine\":\"memory\", \"num_sets\":2, \"name\":\"memory\", \"data_in_index\":\"false\", \"single_bin\":\"false\", \"objects\":\"604\", \"master_objects\":\"226\", \"num_sindex\":0, \"strong_consistency\":\"false\"}}')\n",
      "*************************** 3. row ***************************\n",
      "case_num: 205\n",
      "customer: \"Wares Corp\"\n",
      "timestamp: \"2021-12-10 18:50:29 UTC\"\n",
      "clusters: MAP('{\"asd_build\":\"5.5.0.9\", \"name\":\"aerospike-atlas_users-dedi_us-east-1_prod\", \"storage_engines\":[\"memory\"], \"features_in_use\":[\"strong_consistency\"], \"num_namespaces\":1, \"timestamp\":\"2021-12-10 18:50:29 UTC\", \"num_nodes\":99, \"num_objects\":101421923, \"edition\":\"Aerospike Enterprise Edition build 5.5.0.9\"}')\n",
      "namespaces: MAP('{\"memory\":{\"ns_cluster_size\":\"99\", \"replication_factor\":\"3\", \"num_bins\":\"1\", \"storage_engine\":\"memory\", \"num_sets\":8, \"name\":\"memory\", \"data_in_index\":\"false\", \"single_bin\":\"false\", \"objects\":\"101421923\", \"master_objects\":\"32896435\", \"num_sindex\":0, \"strong_consistency\":\"true\"}}')\n",
      "*************************** 4. row ***************************\n",
      "case_num: 202\n",
      "customer: \"Modular Design\"\n",
      "timestamp: \"2022-01-15 00:40:12 UTC\"\n",
      "clusters: MAP('{\"asd_build\":\"5.5.0.9\", \"name\":\"conv-euw1\", \"storage_engines\":[\"memory\"], \"features_in_use\":[], \"num_namespaces\":1, \"timestamp\":\"2022-01-15 00:40:12 UTC\", \"num_nodes\":6, \"num_objects\":604, \"edition\":\"Aerospike Enterprise Edition build 5.5.0.9\"}')\n",
      "namespaces: MAP('{\"memory\":{\"ns_cluster_size\":\"6\", \"replication_factor\":\"3\", \"num_bins\":\"5\", \"storage_engine\":\"memory\", \"num_sets\":2, \"name\":\"memory\", \"data_in_index\":\"false\", \"single_bin\":\"false\", \"objects\":\"604\", \"master_objects\":\"226\", \"num_sindex\":0, \"strong_consistency\":\"false\"}}')\n",
      "*************************** 5. row ***************************\n",
      "case_num: 208\n",
      "customer: \"Modular Design\"\n",
      "timestamp: \"2021-01-22 10:26:31 UTC\"\n",
      "clusters: MAP('{\"asd_build\":\"4.8.0.6\", \"name\":\"vpt-aerospike-node\", \"storage_engines\":[\"device\"], \"features_in_use\":[\"xdr\", \"strong_consistency\"], \"num_namespaces\":1, \"timestamp\":\"2021-01-22 10:26:31 UTC\", \"num_nodes\":21, \"num_objects\":378092961, \"edition\":\"Aerospike Enterprise Edition build 4.8.0.6\"}')\n",
      "namespaces: MAP('{\"profiles-1M-ephemeral\":{\"ns_cluster_size\":\"21\", \"replication_factor\":\"2\", \"num_bins\":\"237\", \"storage_engine\":\"device\", \"num_sets\":27, \"name\":\"profiles-1M-ephemeral\", \"data_in_index\":\"false\", \"single_bin\":\"false\", \"objects\":\"378092961\", \"master_objects\":\"190506862\", \"num_sindex\":0, \"strong_consistency\":\"true\"}}')\n",
      "*************************** 6. row ***************************\n",
      "case_num: 207\n",
      "customer: \"Component Factory\"\n",
      "timestamp: \"2021-01-26 09:39:08 UTC\"\n",
      "clusters: MAP('{\"asd_build\":\"5.1.0.7\", \"name\":\"as-userdata-cluster\", \"storage_engines\":[\"device\"], \"features_in_use\":[\"xdr\"], \"num_namespaces\":1, \"timestamp\":\"2021-01-26 09:39:08 UTC\", \"num_nodes\":17, \"num_objects\":4829413640, \"edition\":\"Aerospike Enterprise Edition build 5.1.0.7\"}')\n",
      "namespaces: MAP('{\"userdata\":{\"ns_cluster_size\":\"17\", \"replication_factor\":\"2\", \"num_bins\":\"6\", \"storage_engine\":\"device\", \"num_sets\":106, \"name\":\"userdata\", \"data_in_index\":\"false\", \"single_bin\":\"false\", \"objects\":\"4829413640\", \"master_objects\":\"2414700055\", \"num_sindex\":0, \"strong_consistency\":\"false\"}}')\n",
      "*************************** 7. row ***************************\n",
      "case_num: 209\n",
      "customer: \"We Assemble\"\n",
      "timestamp: \"2020-09-01 21:51:41 UTC\"\n",
      "clusters: MAP('{\"asd_build\":\"5.1.0.5\", \"name\":\"na_test\", \"storage_engines\":[\"device\"], \"features_in_use\":[], \"num_namespaces\":1, \"timestamp\":\"2020-09-01 21:51:41 UTC\", \"num_nodes\":6, \"num_objects\":49349854, \"edition\":\"Aerospike Enterprise Edition build 5.1.0.5\"}')\n",
      "namespaces: MAP('{\"experian\":{\"ns_cluster_size\":\"6\", \"replication_factor\":\"2\", \"num_bins\":\"28\", \"storage_engine\":\"device\", \"num_sets\":8, \"name\":\"experian\", \"data_in_index\":\"false\", \"single_bin\":\"false\", \"objects\":\"49349854\", \"master_objects\":\"24688834\", \"num_sindex\":0, \"strong_consistency\":\"false\"}}')\n",
      "*************************** 8. row ***************************\n",
      "case_num: 206\n",
      "customer: \"Parts Ltd\"\n",
      "timestamp: \"2020-12-27 17:18:47 UTC\"\n",
      "clusters: MAP('{\"asd_build\":\"4.8.0.9\", \"name\":\"aerospike-clicks-pointers-036-eu1\", \"storage_engines\":[\"device\"], \"features_in_use\":[\"xdr\", \"single_bin\"], \"num_namespaces\":1, \"timestamp\":\"2020-12-27 17:18:47 UTC\", \"num_nodes\":39, \"num_objects\":15512101854, \"edition\":\"Aerospike Enterprise Edition build 4.8.0.9\"}')\n",
      "namespaces: MAP('{\"clicks-pointers\":{\"ns_cluster_size\":\"39\", \"replication_factor\":\"2\", \"num_bins\":0, \"storage_engine\":\"device\", \"num_sets\":3, \"name\":\"clicks-pointers\", \"data_in_index\":\"false\", \"single_bin\":\"true\", \"objects\":\"15512101854\", \"master_objects\":\"8428991267\", \"num_sindex\":0, \"strong_consistency\":\"false\"}}')\n",
      "*************************** 9. row ***************************\n",
      "case_num: 203\n",
      "customer: \"We Assemble\"\n",
      "timestamp: \"2021-04-19 03:00:03 UTC\"\n",
      "clusters: MAP('{\"asd_build\":\"4.9.0.26\", \"name\":\"aeroscluster-newprod\", \"storage_engines\":[\"device\"], \"features_in_use\":[\"xdr\"], \"num_namespaces\":2, \"timestamp\":\"2021-04-19 03:00:03 UTC\", \"num_nodes\":6, \"num_objects\":100994165, \"edition\":\"Aerospike Enterprise Edition build 4.9.0.26\"}')\n",
      "namespaces: MAP('{\"apiyugasg\":{\"ns_cluster_size\":\"6\", \"replication_factor\":\"2\", \"num_bins\":\"20\", \"storage_engine\":\"device\", \"num_sets\":31, \"name\":\"apiyugasg\", \"data_in_index\":\"false\", \"single_bin\":\"false\", \"objects\":\"100994165\", \"master_objects\":\"50493942\", \"num_sindex\":10, \"strong_consistency\":\"false\"}, \"sample\":{\"ns_cluster_size\":\"6\", \"replication_factor\":\"2\", \"num_bins\":\"0\", \"storage_engine\":\"device\", \"num_sets\":0, \"name\":\"sample\", \"data_in_index\":\"false\", \"single_bin\":\"false\", \"objects\":\"0\", \"master_objects\":\"0\", \"num_sindex\":0, \"strong_consistency\":\"false\"}}')\n",
      "*************************** 10. row ***************************\n",
      "case_num: 204\n",
      "customer: \"Widgets, Inc\"\n",
      "timestamp: \"2020-11-10 11:23:38 UTC\"\n",
      "clusters: MAP('{\"asd_build\":\"5.1.0.10\", \"name\":\"userstory-aerospike-us-central1-prod\", \"storage_engines\":[\"device\"], \"features_in_use\":[\"xdr\"], \"num_namespaces\":1, \"timestamp\":\"2020-11-10 11:23:38 UTC\", \"num_nodes\":120, \"num_objects\":10580533, \"edition\":\"Aerospike Enterprise Edition build 5.1.0.10\"}')\n",
      "namespaces: MAP('{\"memory\":{\"ns_cluster_size\":\"120\", \"replication_factor\":\"6\", \"num_bins\":\"13\", \"storage_engine\":\"device\", \"num_sets\":3, \"name\":\"memory\", \"data_in_index\":\"false\", \"single_bin\":\"false\", \"objects\":\"10580533\", \"master_objects\":\"1762591\", \"num_sindex\":0, \"strong_consistency\":\"false\"}}')\n",
      "\n",
      "10 rows in set (0.207 secs)\n",
      "\n",
      "OK\n",
      "\n",
      "\n"
     ]
    }
   ],
   "source": [
    "!aql -c \"set output raw; select * from test.insights\""
   ]
  },
  {
   "cell_type": "markdown",
   "metadata": {},
   "source": [
    "# Trino SQL Queries\n",
    "For the following queries to exexute in the notebook, you must have a Trino server running at port 8080 of the host, connected to this container's Aerospike database via the Aerospike Trino Connector."
   ]
  },
  {
   "cell_type": "code",
   "execution_count": 11,
   "metadata": {},
   "outputs": [
    {
     "name": "stdout",
     "output_type": "stream",
     "text": [
      "\"information_schema\"\r\n",
      "\"test\"\r\n"
     ]
    }
   ],
   "source": [
    "# show schemas (namespaces)\n",
    "!../trino --server host.docker.internal:8080 --catalog aerospike --schema test --execute 'show schemas';\n"
   ]
  },
  {
   "cell_type": "code",
   "execution_count": 12,
   "metadata": {},
   "outputs": [
    {
     "name": "stdout",
     "output_type": "stream",
     "text": [
      "\"__default\"\r\n",
      "\"insights\"\r\n",
      "\"redis\"\r\n"
     ]
    }
   ],
   "source": [
    "# show tables (sets)\n",
    "!../trino --server host.docker.internal:8080 --catalog aerospike --schema test --execute 'show tables';"
   ]
  },
  {
   "cell_type": "code",
   "execution_count": 13,
   "metadata": {},
   "outputs": [
    {
     "name": "stdout",
     "output_type": "stream",
     "text": [
      "\"Parts Ltd\"\r\n"
     ]
    }
   ],
   "source": [
    "# get customer name for customers using feature 'single_bin'\n",
    "!../trino --server host.docker.internal:8080 --catalog aerospike --schema test --execute \"select customer from insights where contains(cast(json_extract(clusters, '$.features_in_use') as array(VARCHAR)),'single_bin')\" ;\n"
   ]
  },
  {
   "cell_type": "code",
   "execution_count": 14,
   "metadata": {},
   "outputs": [
    {
     "name": "stdout",
     "output_type": "stream",
     "text": [
      "\"Widgets, Inc\",\"\"\"5.1.0.10\"\"\"\r\n",
      "\"Component Factory\",\"\"\"5.1.0.7\"\"\"\r\n"
     ]
    }
   ],
   "source": [
    "# get customer name and release for customers using feature 'xdr' and release after 5.x\n",
    "!../trino --server host.docker.internal:8080 --catalog aerospike --schema test --execute \"select customer, json_extract(clusters, '$.asd_build') as release from insights where contains(cast(json_extract(clusters, '$.features_in_use') as array(VARCHAR)),'xdr')  and regexp_like(cast(json_extract(clusters, '$.asd_build') as VARCHAR), '5.*');\" ;\n"
   ]
  },
  {
   "cell_type": "code",
   "execution_count": 15,
   "metadata": {},
   "outputs": [
    {
     "name": "stdout",
     "output_type": "stream",
     "text": [
      "truncate test.insights\r\n",
      "OK\r\n",
      "\r\n",
      "\r\n"
     ]
    }
   ],
   "source": [
    "!aql -c \"truncate test.insights\""
   ]
  }
 ],
 "metadata": {
  "kernelspec": {
   "display_name": "Python 3",
   "language": "python",
   "name": "python3"
  },
  "language_info": {
   "codemirror_mode": {
    "name": "ipython",
    "version": 3
   },
   "file_extension": ".py",
   "mimetype": "text/x-python",
   "name": "python",
   "nbconvert_exporter": "python",
   "pygments_lexer": "ipython3",
   "version": "3.8.6"
  },
  "toc": {
   "base_numbering": 1,
   "nav_menu": {},
   "number_sections": true,
   "sideBar": true,
   "skip_h1_title": false,
   "title_cell": "Table of Contents",
   "title_sidebar": "Contents",
   "toc_cell": false,
   "toc_position": {},
   "toc_section_display": true,
   "toc_window_display": false
  }
 },
 "nbformat": 4,
 "nbformat_minor": 4
}
