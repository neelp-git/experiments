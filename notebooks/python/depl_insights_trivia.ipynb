{
 "cells": [
  {
   "cell_type": "markdown",
   "metadata": {},
   "source": [
    "# Deployment Insights Trivia\n",
    "\n",
    "Make sure to update the first cell with appropriate config details."
   ]
  },
  {
   "cell_type": "markdown",
   "metadata": {},
   "source": [
    "# Trino Setup\n",
    "For the SQL queries to exexute in this notebook, you must have a Trino server running, connected to the Aerospike database via the Aerospike Trino Connector. \n",
    "\n",
    "Set the following Trino server parameters."
   ]
  },
  {
   "cell_type": "code",
   "execution_count": 149,
   "metadata": {
    "scrolled": true
   },
   "outputs": [],
   "source": [
    "TRINO_IP = \"<IP>\"\n",
    "TRINO_PORT = \"<port>\"\n",
    "TRINO_USER = \"<user>\"\n",
    "TRINO_PASSWORD = \"<password>\""
   ]
  },
  {
   "cell_type": "markdown",
   "metadata": {},
   "source": [
    "## Install Trino Client"
   ]
  },
  {
   "cell_type": "code",
   "execution_count": null,
   "metadata": {},
   "outputs": [],
   "source": [
    "%%sh\n",
    "wget -nc -nv https://repo1.maven.org/maven2/io/trino/trino-cli/379/trino-cli-379-executable.jar \n",
    "mv trino-cli-379-executable.jar trino\n",
    "chmod +x trino"
   ]
  },
  {
   "cell_type": "markdown",
   "metadata": {},
   "source": [
    "## Trino Command\n",
    "Define the environment variable for short form of the Trino command. \n",
    "\n",
    "You can also run the Trino command line tool in a separate shell tab."
   ]
  },
  {
   "cell_type": "code",
   "execution_count": 150,
   "metadata": {},
   "outputs": [
    {
     "name": "stdout",
     "output_type": "stream",
     "text": [
      "env: TRINO=./trino --server 184.169.149.193:8080 --catalog aerospike --schema test --output-format=TSV_HEADER\n",
      "env: TRINO_VERTICAL=./trino --server 184.169.149.193:8080 --catalog aerospike --schema test --output-format=VERTICAL\n"
     ]
    }
   ],
   "source": [
    "%env TRINO=./trino --server $TRINO_IP:$TRINO_PORT --catalog aerospike --schema test --output-format=TSV_HEADER\n",
    "%env TRINO_VERTICAL=./trino --server $TRINO_IP:$TRINO_PORT --catalog aerospike --schema test --output-format=VERTICAL"
   ]
  },
  {
   "cell_type": "markdown",
   "metadata": {},
   "source": [
    "# Trino SQL Queries"
   ]
  },
  {
   "cell_type": "markdown",
   "metadata": {},
   "source": [
    "## Get the range of case numbers and timeframe in the database.\n",
    "\n",
    "`\n",
    "select min(case_num) as from_case, max(case_num) as to_case, \n",
    "       substr(min(timestamp),1,10) as from_date, substr(max(timestamp),1,10) as to_date \n",
    "from insights\n",
    "`\n"
   ]
  },
  {
   "cell_type": "code",
   "execution_count": 151,
   "metadata": {},
   "outputs": [
    {
     "name": "stdout",
     "output_type": "stream",
     "text": [
      "from_case\tto_case\tfrom_date\tto_date\r\n",
      "20564\t26997\t2019-04-08\t2022-05-06\r\n"
     ]
    }
   ],
   "source": [
    "!$TRINO --execute \"select min(case_num) as from_case, max(case_num) as to_case, substr(min(timestamp),1,10) as from_date, substr(max(timestamp),1,10) as to_date from insights\";\n"
   ]
  },
  {
   "cell_type": "markdown",
   "metadata": {},
   "source": [
    "## Show the top 10 customers that have the largest clusters by the number of nodes.\n",
    "\n",
    "`\n",
    "select customer, max(cluster_size) as largest_cluster \n",
    "from insights \n",
    "group by customer \n",
    "order by largest_cluster desc \n",
    "limit 10\n",
    "`\n"
   ]
  },
  {
   "cell_type": "code",
   "execution_count": 136,
   "metadata": {},
   "outputs": [
    {
     "name": "stdout",
     "output_type": "stream",
     "text": [
      "anonymized\tlargest_cluster\r\n",
      "1111028921\t236\r\n",
      "1137622643\t154\r\n",
      "4096821281\t128\r\n",
      "3112961089\t110\r\n",
      "1090175353\t105\r\n",
      "3871927074\t78\r\n",
      "427820430\t76\r\n",
      "1710688683\t75\r\n",
      "1816270098\t63\r\n",
      "4004477108\t54\r\n"
     ]
    }
   ],
   "source": [
    "!$TRINO --execute \"select crc32(cast(customer as varbinary)) as anonymized, max(cluster_size) as largest_cluster from insights group by customer order by largest_cluster desc limit 10\" ;\n"
   ]
  },
  {
   "cell_type": "markdown",
   "metadata": {},
   "source": [
    "## Show the top 10 customers that have the largest clusters by the number of records.\n",
    "\n",
    "`\n",
    "select customer, round(max(total_objects)/pow(10,9),1) as billion_records \n",
    "from insights  \n",
    "group by customer  \n",
    "order by billion_records desc \n",
    "limit 10\";\n",
    "`"
   ]
  },
  {
   "cell_type": "code",
   "execution_count": 137,
   "metadata": {},
   "outputs": [
    {
     "name": "stdout",
     "output_type": "stream",
     "text": [
      "anonymized\tbillion_records\r\n",
      "1816270098\t1123.5\r\n",
      "3112961089\t759.6\r\n",
      "2658734021\t600.6\r\n",
      "1090175353\t352.7\r\n",
      "4096821281\t273.7\r\n",
      "1137622643\t234.6\r\n",
      "1347477773\t211.5\r\n",
      "1322757265\t208.5\r\n",
      "2789728449\t197.2\r\n",
      "877719067\t128.3\r\n"
     ]
    }
   ],
   "source": [
    "!$TRINO --execute \"select crc32(cast(customer as varbinary)) as anonymized, round(max(total_objects)/pow(10,9),1) as billion_records from insights  group by customer  order by billion_records desc limit 10\";\n"
   ]
  },
  {
   "cell_type": "markdown",
   "metadata": {},
   "source": [
    "## Show the top features in use by the number of customers using them.\n",
    "`\n",
    "select feature, count(*) as num_customers \n",
    "from (\n",
    "    select distinct customer, feature \n",
    "    from insights \n",
    "        cross join \n",
    "            unnest(cast(features as array(VARCHAR))) as t(feature)) \n",
    "group by feature \n",
    "order by num_customers desc;\n",
    "`\n"
   ]
  },
  {
   "cell_type": "code",
   "execution_count": 138,
   "metadata": {},
   "outputs": [
    {
     "name": "stdout",
     "output_type": "stream",
     "text": [
      "feature\tnum_customers\r\n",
      "kvs            \t174\r\n",
      "scan           \t153\r\n",
      "batch          \t124\r\n",
      "query          \t96\r\n",
      "xdr_src        \t83\r\n",
      "xdr_dest       \t79\r\n",
      "sindex         \t76\r\n",
      "security       \t64\r\n",
      "rack_aware     \t61\r\n",
      "udf            \t44\r\n",
      "tls_service    \t38\r\n",
      "err_format     \t30\r\n",
      "tls_fabric     \t30\r\n",
      "sc             \t23\r\n",
      "index_on_device\t16\r\n",
      "aggregation    \t11\r\n",
      "index_on_pmem  \t7\r\n"
     ]
    }
   ],
   "source": [
    "!$TRINO --execute \"select rpad(feature, 15, ' ') as feature, count(*) as num_customers from (select distinct customer, feature from insights cross join unnest(cast(features as array(VARCHAR))) as t(feature)) group by feature order by num_customers desc\";\n"
   ]
  },
  {
   "cell_type": "markdown",
   "metadata": {},
   "source": [
    "## Show the top dot releases by the number of customers using them.\n",
    "\n",
    "`\n",
    "select substr(a.server_release,1,3) as dot_release, count(a.customer) as num_customers from insights a, (\n",
    "    select customer, cluster_name, max(timestamp) as latest \n",
    "    from insights \n",
    "    group by customer, cluster_name) b \n",
    "where a.customer = b.customer and \n",
    "    a.cluster_name = b.cluster_name and \n",
    "    a.timestamp = b.latest \n",
    "group by substr(a.server_release,1,3) \n",
    "order by num_customers desc\n",
    "`\n"
   ]
  },
  {
   "cell_type": "code",
   "execution_count": 157,
   "metadata": {},
   "outputs": [
    {
     "name": "stdout",
     "output_type": "stream",
     "text": [
      "dot_release\tnum_customers\r\n",
      "4.5\t188\r\n",
      "4.9\t125\r\n",
      "5.5\t105\r\n",
      "4.8\t98\r\n",
      "5.6\t96\r\n",
      "5.7\t66\r\n",
      "5.2\t59\r\n",
      "5.0\t53\r\n",
      "5.1\t52\r\n",
      "4.7\t48\r\n",
      "3.1\t46\r\n",
      "5.3\t28\r\n",
      "4.0\t23\r\n",
      "4.3\t20\r\n",
      "4.4\t14\r\n",
      "4.2\t12\r\n",
      "5.4\t8\r\n",
      "4.1\t6\r\n",
      "4.6\t4\r\n"
     ]
    }
   ],
   "source": [
    "!$TRINO --execute \"select substr(a.server_release,1,3) as dot_release, count(a.customer) as num_customers from insights a, (select customer, cluster_name, max(timestamp) as latest from insights group by customer, cluster_name) b where a.customer = b.customer and a.cluster_name = b.cluster_name and a.timestamp = b.latest group by substr(a.server_release,1,3) order by num_customers desc\";\n"
   ]
  }
 ],
 "metadata": {
  "kernelspec": {
   "display_name": "Python 3",
   "language": "python",
   "name": "python3"
  },
  "language_info": {
   "codemirror_mode": {
    "name": "ipython",
    "version": 3
   },
   "file_extension": ".py",
   "mimetype": "text/x-python",
   "name": "python",
   "nbconvert_exporter": "python",
   "pygments_lexer": "ipython3",
   "version": "3.8.6"
  },
  "toc": {
   "base_numbering": 1,
   "nav_menu": {},
   "number_sections": true,
   "sideBar": true,
   "skip_h1_title": false,
   "title_cell": "Table of Contents",
   "title_sidebar": "Contents",
   "toc_cell": false,
   "toc_position": {},
   "toc_section_display": true,
   "toc_window_display": false
  }
 },
 "nbformat": 4,
 "nbformat_minor": 4
}
