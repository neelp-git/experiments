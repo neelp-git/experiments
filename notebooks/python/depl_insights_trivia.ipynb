{
 "cells": [
  {
   "cell_type": "markdown",
   "metadata": {},
   "source": [
    "# Deployment Insights Trivia\n",
    "\n",
    "Make sure to update the first cell with appropriate config details."
   ]
  },
  {
   "cell_type": "markdown",
   "metadata": {},
   "source": [
    "# Trino Setup\n",
    "For the SQL queries to exexute in this notebook, you must have a Trino server running, connected to the Aerospike database via the Aerospike Trino Connector. \n",
    "\n",
    "Set the following Trino server parameters."
   ]
  },
  {
   "cell_type": "code",
   "execution_count": null,
   "metadata": {
    "scrolled": true
   },
   "outputs": [],
   "source": [
    "TRINO_IP = \"<IP>\"\n",
    "TRINO_PORT = \"<port>\"\n",
    "TRINO_USER = \"<user>\"\n",
    "TRINO_PASSWORD = \"<password>\""
   ]
  },
  {
   "cell_type": "markdown",
   "metadata": {},
   "source": [
    "## Install Trino Client"
   ]
  },
  {
   "cell_type": "code",
   "execution_count": null,
   "metadata": {},
   "outputs": [],
   "source": [
    "%%sh\n",
    "wget -nc -nv https://repo1.maven.org/maven2/io/trino/trino-cli/379/trino-cli-379-executable.jar \n",
    "mv trino-cli-379-executable.jar trino\n",
    "chmod +x trino"
   ]
  },
  {
   "cell_type": "markdown",
   "metadata": {},
   "source": [
    "## Trino Command\n",
    "Define the environment variable for short form of the Trino command. \n",
    "\n",
    "You can also run the Trino command line tool in a separate shell tab."
   ]
  },
  {
   "cell_type": "code",
   "execution_count": null,
   "metadata": {},
   "outputs": [],
   "source": [
    "%env TRINO=./trino --server $TRINO_IP:$TRINO_PORT --catalog aerospike --schema test --output-format=TSV_HEADER\n",
    "%env TRINO_VERTICAL=./trino --server $TRINO_IP:$TRINO_PORT --catalog aerospike --schema test --output-format=VERTICAL"
   ]
  },
  {
   "cell_type": "markdown",
   "metadata": {},
   "source": [
    "# Trino SQL Queries"
   ]
  },
  {
   "cell_type": "markdown",
   "metadata": {},
   "source": [
    "## Get the range of case numbers and timeframe in the database.\n",
    "\n",
    "`\n",
    "select min(case_num) as from_case, max(case_num) as to_case, \n",
    "       substr(min(timestamp),1,10) as from_date, substr(max(timestamp),1,10) as to_date \n",
    "from insights\n",
    "`\n"
   ]
  },
  {
   "cell_type": "code",
   "execution_count": null,
   "metadata": {},
   "outputs": [],
   "source": [
    "!$TRINO --execute \"select min(case_num) as from_case, max(case_num) as to_case, substr(min(timestamp),1,10) as from_date, substr(max(timestamp),1,10) as to_date from insights\";\n"
   ]
  },
  {
   "cell_type": "markdown",
   "metadata": {},
   "source": [
    "## Show the top 10 customers that have the largest clusters by the number of nodes.\n",
    "\n",
    "`\n",
    "select customer, max(cluster_size) as largest_cluster \n",
    "from insights \n",
    "group by customer \n",
    "order by largest_cluster desc \n",
    "limit 10\n",
    "`\n"
   ]
  },
  {
   "cell_type": "code",
   "execution_count": null,
   "metadata": {},
   "outputs": [],
   "source": [
    "!$TRINO --execute \"select crc32(cast(customer as varbinary)) as anonymized, max(cluster_size) as largest_cluster from insights group by customer order by largest_cluster desc limit 10\" ;\n"
   ]
  },
  {
   "cell_type": "markdown",
   "metadata": {},
   "source": [
    "## Show the top 10 customers that have the largest clusters by the number of records.\n",
    "\n",
    "`\n",
    "select customer, round(max(total_objects)/pow(10,9),1) as billion_records \n",
    "from insights  \n",
    "group by customer  \n",
    "order by billion_records desc \n",
    "limit 10\";\n",
    "`"
   ]
  },
  {
   "cell_type": "code",
   "execution_count": null,
   "metadata": {},
   "outputs": [],
   "source": [
    "!$TRINO --execute \"select crc32(cast(customer as varbinary)) as anonymized, round(max(total_objects)/pow(10,9),1) as billion_records from insights  group by customer  order by billion_records desc limit 10\";\n"
   ]
  },
  {
   "cell_type": "markdown",
   "metadata": {},
   "source": [
    "## Show the top features in use by the number of customers using them.\n",
    "`\n",
    "select feature, count(*) as num_customers \n",
    "from (\n",
    "    select distinct customer, feature \n",
    "    from insights \n",
    "        cross join \n",
    "            unnest(cast(features as array(VARCHAR))) as t(feature)) \n",
    "group by feature \n",
    "order by num_customers desc;\n",
    "`\n"
   ]
  },
  {
   "cell_type": "code",
   "execution_count": null,
   "metadata": {},
   "outputs": [],
   "source": [
    "!$TRINO --execute \"select rpad(feature, 15, ' ') as feature, count(*) as num_customers from (select distinct customer, feature from insights cross join unnest(cast(features as array(VARCHAR))) as t(feature)) group by feature order by num_customers desc\";\n"
   ]
  },
  {
   "cell_type": "markdown",
   "metadata": {},
   "source": [
    "## Show the top dot releases by the number of customers using them.\n",
    "\n",
    "`\n",
    "select substr(a.server_release,1,3) as dot_release, count(a.customer) as num_customers from insights a, (\n",
    "    select customer, cluster_name, max(timestamp) as latest \n",
    "    from insights \n",
    "    group by customer, cluster_name) b \n",
    "where a.customer = b.customer and \n",
    "    a.cluster_name = b.cluster_name and \n",
    "    a.timestamp = b.latest \n",
    "group by substr(a.server_release,1,3) \n",
    "order by num_customers desc\n",
    "`\n"
   ]
  },
  {
   "cell_type": "code",
   "execution_count": null,
   "metadata": {},
   "outputs": [],
   "source": [
    "!$TRINO --execute \"select substr(a.server_release,1,3) as dot_release, count(a.customer) as num_customers from insights a, (select customer, cluster_name, max(timestamp) as latest from insights group by customer, cluster_name) b where a.customer = b.customer and a.cluster_name = b.cluster_name and a.timestamp = b.latest group by substr(a.server_release,1,3) order by num_customers desc\";\n"
   ]
  }
 ],
 "metadata": {
  "kernelspec": {
   "display_name": "Python 3",
   "language": "python",
   "name": "python3"
  },
  "language_info": {
   "codemirror_mode": {
    "name": "ipython",
    "version": 3
   },
   "file_extension": ".py",
   "mimetype": "text/x-python",
   "name": "python",
   "nbconvert_exporter": "python",
   "pygments_lexer": "ipython3",
   "version": "3.8.6"
  },
  "toc": {
   "base_numbering": 1,
   "nav_menu": {},
   "number_sections": true,
   "sideBar": true,
   "skip_h1_title": false,
   "title_cell": "Table of Contents",
   "title_sidebar": "Contents",
   "toc_cell": false,
   "toc_position": {},
   "toc_section_display": true,
   "toc_window_display": false
  }
 },
 "nbformat": 4,
 "nbformat_minor": 4
}
